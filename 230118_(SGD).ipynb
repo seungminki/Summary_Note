{
  "nbformat": 4,
  "nbformat_minor": 0,
  "metadata": {
    "colab": {
      "provenance": []
    },
    "kernelspec": {
      "name": "python3",
      "display_name": "Python 3"
    },
    "language_info": {
      "name": "python"
    },
    "widgets": {
      "application/vnd.jupyter.widget-state+json": {
        "b7d27617be2d4dbdbca0ec89c4430d8d": {
          "model_module": "@jupyter-widgets/controls",
          "model_name": "HBoxModel",
          "model_module_version": "1.5.0",
          "state": {
            "_dom_classes": [],
            "_model_module": "@jupyter-widgets/controls",
            "_model_module_version": "1.5.0",
            "_model_name": "HBoxModel",
            "_view_count": null,
            "_view_module": "@jupyter-widgets/controls",
            "_view_module_version": "1.5.0",
            "_view_name": "HBoxView",
            "box_style": "",
            "children": [
              "IPY_MODEL_15efaefcfd5a46319bb42eca09375890",
              "IPY_MODEL_dc46e73834ef41009288e5639c978492",
              "IPY_MODEL_05bb16db14a44dddb9152dc330037228"
            ],
            "layout": "IPY_MODEL_9d23596e99d542ccbf3652ecbcc17c36"
          }
        },
        "15efaefcfd5a46319bb42eca09375890": {
          "model_module": "@jupyter-widgets/controls",
          "model_name": "HTMLModel",
          "model_module_version": "1.5.0",
          "state": {
            "_dom_classes": [],
            "_model_module": "@jupyter-widgets/controls",
            "_model_module_version": "1.5.0",
            "_model_name": "HTMLModel",
            "_view_count": null,
            "_view_module": "@jupyter-widgets/controls",
            "_view_module_version": "1.5.0",
            "_view_name": "HTMLView",
            "description": "",
            "description_tooltip": null,
            "layout": "IPY_MODEL_5e94a9774bd4464489e403417d8ce987",
            "placeholder": "​",
            "style": "IPY_MODEL_ccbdb77c138f4928a8637b52dbf41308",
            "value": "100%"
          }
        },
        "dc46e73834ef41009288e5639c978492": {
          "model_module": "@jupyter-widgets/controls",
          "model_name": "FloatProgressModel",
          "model_module_version": "1.5.0",
          "state": {
            "_dom_classes": [],
            "_model_module": "@jupyter-widgets/controls",
            "_model_module_version": "1.5.0",
            "_model_name": "FloatProgressModel",
            "_view_count": null,
            "_view_module": "@jupyter-widgets/controls",
            "_view_module_version": "1.5.0",
            "_view_name": "ProgressView",
            "bar_style": "success",
            "description": "",
            "description_tooltip": null,
            "layout": "IPY_MODEL_fa95704f72ed41c39d992cac7ad78d14",
            "max": 50,
            "min": 0,
            "orientation": "horizontal",
            "style": "IPY_MODEL_2b0db5111a31402d8fe069b7ec83ad19",
            "value": 50
          }
        },
        "05bb16db14a44dddb9152dc330037228": {
          "model_module": "@jupyter-widgets/controls",
          "model_name": "HTMLModel",
          "model_module_version": "1.5.0",
          "state": {
            "_dom_classes": [],
            "_model_module": "@jupyter-widgets/controls",
            "_model_module_version": "1.5.0",
            "_model_name": "HTMLModel",
            "_view_count": null,
            "_view_module": "@jupyter-widgets/controls",
            "_view_module_version": "1.5.0",
            "_view_name": "HTMLView",
            "description": "",
            "description_tooltip": null,
            "layout": "IPY_MODEL_4b957ab8f47c4c18825586f46764652b",
            "placeholder": "​",
            "style": "IPY_MODEL_15ef1df09d3044b99f764a876461b577",
            "value": " 50/50 [00:01&lt;00:00, 29.05it/s]"
          }
        },
        "9d23596e99d542ccbf3652ecbcc17c36": {
          "model_module": "@jupyter-widgets/base",
          "model_name": "LayoutModel",
          "model_module_version": "1.2.0",
          "state": {
            "_model_module": "@jupyter-widgets/base",
            "_model_module_version": "1.2.0",
            "_model_name": "LayoutModel",
            "_view_count": null,
            "_view_module": "@jupyter-widgets/base",
            "_view_module_version": "1.2.0",
            "_view_name": "LayoutView",
            "align_content": null,
            "align_items": null,
            "align_self": null,
            "border": null,
            "bottom": null,
            "display": null,
            "flex": null,
            "flex_flow": null,
            "grid_area": null,
            "grid_auto_columns": null,
            "grid_auto_flow": null,
            "grid_auto_rows": null,
            "grid_column": null,
            "grid_gap": null,
            "grid_row": null,
            "grid_template_areas": null,
            "grid_template_columns": null,
            "grid_template_rows": null,
            "height": null,
            "justify_content": null,
            "justify_items": null,
            "left": null,
            "margin": null,
            "max_height": null,
            "max_width": null,
            "min_height": null,
            "min_width": null,
            "object_fit": null,
            "object_position": null,
            "order": null,
            "overflow": null,
            "overflow_x": null,
            "overflow_y": null,
            "padding": null,
            "right": null,
            "top": null,
            "visibility": null,
            "width": null
          }
        },
        "5e94a9774bd4464489e403417d8ce987": {
          "model_module": "@jupyter-widgets/base",
          "model_name": "LayoutModel",
          "model_module_version": "1.2.0",
          "state": {
            "_model_module": "@jupyter-widgets/base",
            "_model_module_version": "1.2.0",
            "_model_name": "LayoutModel",
            "_view_count": null,
            "_view_module": "@jupyter-widgets/base",
            "_view_module_version": "1.2.0",
            "_view_name": "LayoutView",
            "align_content": null,
            "align_items": null,
            "align_self": null,
            "border": null,
            "bottom": null,
            "display": null,
            "flex": null,
            "flex_flow": null,
            "grid_area": null,
            "grid_auto_columns": null,
            "grid_auto_flow": null,
            "grid_auto_rows": null,
            "grid_column": null,
            "grid_gap": null,
            "grid_row": null,
            "grid_template_areas": null,
            "grid_template_columns": null,
            "grid_template_rows": null,
            "height": null,
            "justify_content": null,
            "justify_items": null,
            "left": null,
            "margin": null,
            "max_height": null,
            "max_width": null,
            "min_height": null,
            "min_width": null,
            "object_fit": null,
            "object_position": null,
            "order": null,
            "overflow": null,
            "overflow_x": null,
            "overflow_y": null,
            "padding": null,
            "right": null,
            "top": null,
            "visibility": null,
            "width": null
          }
        },
        "ccbdb77c138f4928a8637b52dbf41308": {
          "model_module": "@jupyter-widgets/controls",
          "model_name": "DescriptionStyleModel",
          "model_module_version": "1.5.0",
          "state": {
            "_model_module": "@jupyter-widgets/controls",
            "_model_module_version": "1.5.0",
            "_model_name": "DescriptionStyleModel",
            "_view_count": null,
            "_view_module": "@jupyter-widgets/base",
            "_view_module_version": "1.2.0",
            "_view_name": "StyleView",
            "description_width": ""
          }
        },
        "fa95704f72ed41c39d992cac7ad78d14": {
          "model_module": "@jupyter-widgets/base",
          "model_name": "LayoutModel",
          "model_module_version": "1.2.0",
          "state": {
            "_model_module": "@jupyter-widgets/base",
            "_model_module_version": "1.2.0",
            "_model_name": "LayoutModel",
            "_view_count": null,
            "_view_module": "@jupyter-widgets/base",
            "_view_module_version": "1.2.0",
            "_view_name": "LayoutView",
            "align_content": null,
            "align_items": null,
            "align_self": null,
            "border": null,
            "bottom": null,
            "display": null,
            "flex": null,
            "flex_flow": null,
            "grid_area": null,
            "grid_auto_columns": null,
            "grid_auto_flow": null,
            "grid_auto_rows": null,
            "grid_column": null,
            "grid_gap": null,
            "grid_row": null,
            "grid_template_areas": null,
            "grid_template_columns": null,
            "grid_template_rows": null,
            "height": null,
            "justify_content": null,
            "justify_items": null,
            "left": null,
            "margin": null,
            "max_height": null,
            "max_width": null,
            "min_height": null,
            "min_width": null,
            "object_fit": null,
            "object_position": null,
            "order": null,
            "overflow": null,
            "overflow_x": null,
            "overflow_y": null,
            "padding": null,
            "right": null,
            "top": null,
            "visibility": null,
            "width": null
          }
        },
        "2b0db5111a31402d8fe069b7ec83ad19": {
          "model_module": "@jupyter-widgets/controls",
          "model_name": "ProgressStyleModel",
          "model_module_version": "1.5.0",
          "state": {
            "_model_module": "@jupyter-widgets/controls",
            "_model_module_version": "1.5.0",
            "_model_name": "ProgressStyleModel",
            "_view_count": null,
            "_view_module": "@jupyter-widgets/base",
            "_view_module_version": "1.2.0",
            "_view_name": "StyleView",
            "bar_color": null,
            "description_width": ""
          }
        },
        "4b957ab8f47c4c18825586f46764652b": {
          "model_module": "@jupyter-widgets/base",
          "model_name": "LayoutModel",
          "model_module_version": "1.2.0",
          "state": {
            "_model_module": "@jupyter-widgets/base",
            "_model_module_version": "1.2.0",
            "_model_name": "LayoutModel",
            "_view_count": null,
            "_view_module": "@jupyter-widgets/base",
            "_view_module_version": "1.2.0",
            "_view_name": "LayoutView",
            "align_content": null,
            "align_items": null,
            "align_self": null,
            "border": null,
            "bottom": null,
            "display": null,
            "flex": null,
            "flex_flow": null,
            "grid_area": null,
            "grid_auto_columns": null,
            "grid_auto_flow": null,
            "grid_auto_rows": null,
            "grid_column": null,
            "grid_gap": null,
            "grid_row": null,
            "grid_template_areas": null,
            "grid_template_columns": null,
            "grid_template_rows": null,
            "height": null,
            "justify_content": null,
            "justify_items": null,
            "left": null,
            "margin": null,
            "max_height": null,
            "max_width": null,
            "min_height": null,
            "min_width": null,
            "object_fit": null,
            "object_position": null,
            "order": null,
            "overflow": null,
            "overflow_x": null,
            "overflow_y": null,
            "padding": null,
            "right": null,
            "top": null,
            "visibility": null,
            "width": null
          }
        },
        "15ef1df09d3044b99f764a876461b577": {
          "model_module": "@jupyter-widgets/controls",
          "model_name": "DescriptionStyleModel",
          "model_module_version": "1.5.0",
          "state": {
            "_model_module": "@jupyter-widgets/controls",
            "_model_module_version": "1.5.0",
            "_model_name": "DescriptionStyleModel",
            "_view_count": null,
            "_view_module": "@jupyter-widgets/base",
            "_view_module_version": "1.2.0",
            "_view_name": "StyleView",
            "description_width": ""
          }
        }
      }
    }
  },
  "cells": [
    {
      "cell_type": "markdown",
      "source": [
        "## SGD"
      ],
      "metadata": {
        "id": "0P9XE6qjAj7S"
      }
    },
    {
      "cell_type": "code",
      "execution_count": 1,
      "metadata": {
        "colab": {
          "base_uri": "https://localhost:8080/",
          "height": 35
        },
        "id": "AeoLAmrqgAwX",
        "outputId": "b7fcc8d5-ae52-432b-eef8-e7c8876dc199"
      },
      "outputs": [
        {
          "output_type": "execute_result",
          "data": {
            "text/plain": [
              "'1.21.6'"
            ],
            "application/vnd.google.colaboratory.intrinsic+json": {
              "type": "string"
            }
          },
          "metadata": {},
          "execution_count": 1
        }
      ],
      "source": [
        "import numpy as np\n",
        "np.__version__"
      ]
    },
    {
      "cell_type": "code",
      "source": [
        "from google.colab import drive\n",
        "drive.mount(\"/content/drive\")"
      ],
      "metadata": {
        "colab": {
          "base_uri": "https://localhost:8080/"
        },
        "id": "HYyG5O-GgKm9",
        "outputId": "6c779299-5319-4825-ce6c-fedf08c5dd7c"
      },
      "execution_count": 2,
      "outputs": [
        {
          "output_type": "stream",
          "name": "stdout",
          "text": [
            "Mounted at /content/drive\n"
          ]
        }
      ]
    },
    {
      "cell_type": "code",
      "source": [
        "data = np.loadtxt(\"/content/sample_data/training.txt\")\n",
        "data.shape"
      ],
      "metadata": {
        "colab": {
          "base_uri": "https://localhost:8080/"
        },
        "id": "JHPTe2upgclM",
        "outputId": "3416ba03-609f-4654-f096-51eaa14f2de2"
      },
      "execution_count": 25,
      "outputs": [
        {
          "output_type": "execute_result",
          "data": {
            "text/plain": [
              "(1000, 3)"
            ]
          },
          "metadata": {},
          "execution_count": 25
        }
      ]
    },
    {
      "cell_type": "code",
      "source": [
        "data[:, :2]"
      ],
      "metadata": {
        "colab": {
          "base_uri": "https://localhost:8080/"
        },
        "id": "ZPTz9QfvhY_k",
        "outputId": "f7fc7408-aec5-4f53-e4be-2087973650b1"
      },
      "execution_count": 4,
      "outputs": [
        {
          "output_type": "execute_result",
          "data": {
            "text/plain": [
              "array([[19.410541 , 11.45899  ],\n",
              "       [23.765585 , 13.972661 ],\n",
              "       [10.719978 ,  8.8566508],\n",
              "       ...,\n",
              "       [ 8.8913669, 12.265898 ],\n",
              "       [14.197481 , 10.280842 ],\n",
              "       [ 6.7481281, 10.253769 ]])"
            ]
          },
          "metadata": {},
          "execution_count": 4
        }
      ]
    },
    {
      "cell_type": "code",
      "source": [
        "data[:, 2]"
      ],
      "metadata": {
        "colab": {
          "base_uri": "https://localhost:8080/"
        },
        "id": "WMhLIF13iRqa",
        "outputId": "8a4c2372-21c2-445f-fdde-3edc853c17cf"
      },
      "execution_count": 7,
      "outputs": [
        {
          "output_type": "execute_result",
          "data": {
            "text/plain": [
              "array([0., 0., 0., 0., 0., 0., 0., 0., 0., 0., 0., 0., 0., 0., 0., 0., 0.,\n",
              "       0., 0., 0., 0., 0., 0., 0., 0., 0., 0., 0., 0., 0., 0., 0., 0., 0.,\n",
              "       0., 0., 0., 0., 0., 0., 0., 0., 0., 0., 0., 0., 0., 0., 0., 0., 0.,\n",
              "       0., 0., 0., 0., 0., 0., 0., 0., 0., 0., 0., 0., 0., 0., 0., 0., 0.,\n",
              "       0., 0., 0., 0., 0., 0., 0., 0., 0., 0., 0., 0., 0., 0., 0., 0., 0.,\n",
              "       0., 0., 0., 0., 0., 0., 0., 0., 0., 0., 0., 0., 0., 0., 0., 0., 0.,\n",
              "       0., 0., 0., 0., 0., 0., 0., 0., 0., 0., 0., 0., 0., 0., 0., 0., 0.,\n",
              "       0., 0., 0., 0., 0., 0., 0., 0., 0., 0., 0., 0., 0., 0., 0., 0., 0.,\n",
              "       0., 0., 0., 0., 0., 0., 0., 0., 0., 0., 0., 0., 0., 0., 0., 0., 0.,\n",
              "       0., 0., 0., 0., 0., 0., 0., 0., 0., 0., 0., 0., 0., 0., 0., 0., 0.,\n",
              "       0., 0., 0., 0., 0., 0., 0., 0., 0., 0., 0., 0., 0., 0., 0., 0., 0.,\n",
              "       0., 0., 0., 0., 0., 0., 0., 0., 0., 0., 0., 0., 0., 0., 0., 0., 0.,\n",
              "       0., 0., 0., 0., 0., 0., 0., 0., 0., 0., 0., 0., 0., 0., 0., 0., 0.,\n",
              "       0., 0., 0., 0., 0., 0., 0., 0., 0., 0., 0., 0., 0., 0., 0., 0., 0.,\n",
              "       0., 0., 0., 0., 0., 0., 0., 0., 0., 0., 0., 0., 0., 0., 0., 0., 0.,\n",
              "       0., 0., 0., 0., 0., 0., 0., 0., 0., 0., 0., 0., 0., 0., 0., 0., 0.,\n",
              "       0., 0., 0., 0., 0., 0., 0., 0., 0., 0., 0., 0., 0., 0., 0., 0., 0.,\n",
              "       0., 0., 0., 0., 0., 0., 0., 0., 0., 0., 0., 0., 0., 0., 0., 0., 0.,\n",
              "       0., 0., 0., 0., 0., 0., 0., 0., 0., 0., 0., 0., 0., 0., 0., 0., 0.,\n",
              "       0., 0., 0., 0., 0., 0., 0., 0., 0., 0., 0., 0., 0., 0., 0., 0., 0.,\n",
              "       0., 0., 0., 0., 0., 0., 0., 0., 0., 0., 0., 0., 0., 0., 0., 0., 0.,\n",
              "       0., 0., 0., 0., 0., 0., 0., 0., 0., 0., 0., 0., 0., 0., 0., 0., 0.,\n",
              "       0., 0., 0., 0., 0., 0., 0., 0., 0., 0., 0., 0., 0., 0., 0., 0., 0.,\n",
              "       0., 0., 0., 0., 0., 0., 0., 0., 0., 0., 0., 0., 0., 0., 0., 0., 0.,\n",
              "       0., 0., 0., 0., 0., 0., 0., 0., 0., 0., 0., 0., 0., 0., 0., 0., 0.,\n",
              "       0., 0., 0., 0., 0., 0., 0., 0., 0., 0., 0., 0., 0., 0., 0., 0., 0.,\n",
              "       0., 0., 0., 0., 0., 0., 0., 0., 0., 0., 0., 0., 0., 0., 0., 0., 0.,\n",
              "       0., 0., 0., 0., 0., 0., 0., 0., 0., 0., 0., 0., 0., 0., 0., 0., 0.,\n",
              "       0., 0., 0., 0., 0., 0., 0., 0., 0., 0., 0., 0., 0., 0., 0., 0., 0.,\n",
              "       0., 0., 0., 0., 0., 0., 0., 0., 0., 0., 0., 0., 0., 0., 0., 0., 0.,\n",
              "       0., 0., 0., 0., 0., 0., 0., 0., 0., 0., 0., 0., 0., 0., 0., 0., 0.,\n",
              "       0., 0., 0., 0., 0., 0., 0., 0., 0., 0., 0., 0., 0., 0., 0., 0., 0.,\n",
              "       0., 0., 0., 0., 0., 0., 0., 0., 0., 0., 0., 0., 0., 0., 0., 0., 0.,\n",
              "       0., 0., 0., 0., 0., 0., 0., 0., 0., 0., 0., 0., 0., 0., 0., 0., 0.,\n",
              "       0., 0., 0., 0., 0., 0., 0., 0., 0., 0., 0., 0., 0., 0., 0., 0., 0.,\n",
              "       0., 0., 0., 0., 0., 1., 1., 1., 1., 1., 1., 1., 1., 1., 1., 1., 1.,\n",
              "       1., 1., 1., 1., 1., 1., 1., 1., 1., 1., 1., 1., 1., 1., 1., 1., 1.,\n",
              "       1., 1., 1., 1., 1., 1., 1., 1., 1., 1., 1., 1., 1., 1., 1., 1., 1.,\n",
              "       1., 1., 1., 1., 1., 1., 1., 1., 1., 1., 1., 1., 1., 1., 1., 1., 1.,\n",
              "       1., 1., 1., 1., 1., 1., 1., 1., 1., 1., 1., 1., 1., 1., 1., 1., 1.,\n",
              "       1., 1., 1., 1., 1., 1., 1., 1., 1., 1., 1., 1., 1., 1., 1., 1., 1.,\n",
              "       1., 1., 1., 1., 1., 1., 1., 1., 1., 1., 1., 1., 1., 1., 1., 1., 1.,\n",
              "       1., 1., 1., 1., 1., 1., 1., 1., 1., 1., 1., 1., 1., 1., 1., 1., 1.,\n",
              "       1., 1., 1., 1., 1., 1., 1., 1., 1., 1., 1., 1., 1., 1., 1., 1., 1.,\n",
              "       1., 1., 1., 1., 1., 1., 1., 1., 1., 1., 1., 1., 1., 1., 1., 1., 1.,\n",
              "       1., 1., 1., 1., 1., 1., 1., 1., 1., 1., 1., 1., 1., 1., 1., 1., 1.,\n",
              "       1., 1., 1., 1., 1., 1., 1., 1., 1., 1., 1., 1., 1., 1., 1., 1., 1.,\n",
              "       1., 1., 1., 1., 1., 1., 1., 1., 1., 1., 1., 1., 1., 1., 1., 1., 1.,\n",
              "       1., 1., 1., 1., 1., 1., 1., 1., 1., 1., 1., 1., 1., 1., 1., 1., 1.,\n",
              "       1., 1., 1., 1., 1., 1., 1., 1., 1., 1., 1., 1., 1., 1., 1., 1., 1.,\n",
              "       1., 1., 1., 1., 1., 1., 1., 1., 1., 1., 1., 1., 1., 1., 1., 1., 1.,\n",
              "       1., 1., 1., 1., 1., 1., 1., 1., 1., 1., 1., 1., 1., 1., 1., 1., 1.,\n",
              "       1., 1., 1., 1., 1., 1., 1., 1., 1., 1., 1., 1., 1., 1., 1., 1., 1.,\n",
              "       1., 1., 1., 1., 1., 1., 1., 1., 1., 1., 1., 1., 1., 1., 1., 1., 1.,\n",
              "       1., 1., 1., 1., 1., 1., 1., 1., 1., 1., 1., 1., 1., 1., 1., 1., 1.,\n",
              "       1., 1., 1., 1., 1., 1., 1., 1., 1., 1., 1., 1., 1., 1., 1., 1., 1.,\n",
              "       1., 1., 1., 1., 1., 1., 1., 1., 1., 1., 1., 1., 1., 1., 1., 1., 1.,\n",
              "       1., 1., 1., 1., 1., 1., 1., 1., 1., 1., 1., 1., 1., 1., 1., 1., 1.,\n",
              "       1., 1., 1., 1., 1., 1., 1., 1., 1., 1., 1., 1., 1., 1.])"
            ]
          },
          "metadata": {},
          "execution_count": 7
        }
      ]
    },
    {
      "cell_type": "code",
      "source": [
        "SEED_NUMBER = 42\n",
        "\n",
        "np.random.seed(SEED_NUMBER)\n",
        "np.random.shuffle(data)"
      ],
      "metadata": {
        "id": "Q47cNACniTer"
      },
      "execution_count": 26,
      "outputs": []
    },
    {
      "cell_type": "code",
      "source": [
        "data[:, 2]"
      ],
      "metadata": {
        "colab": {
          "base_uri": "https://localhost:8080/"
        },
        "id": "ea59PsfkitXr",
        "outputId": "1d87c68d-6bfa-4581-cac7-9e8622eb9abf"
      },
      "execution_count": 10,
      "outputs": [
        {
          "output_type": "execute_result",
          "data": {
            "text/plain": [
              "array([0., 1., 1., 1., 0., 1., 1., 0., 1., 0., 1., 0., 1., 1., 1., 1., 0.,\n",
              "       1., 1., 0., 0., 0., 0., 0., 0., 0., 0., 1., 1., 1., 0., 0., 1., 0.,\n",
              "       0., 0., 1., 0., 1., 0., 0., 0., 0., 1., 0., 0., 1., 1., 0., 1., 0.,\n",
              "       1., 0., 0., 0., 0., 1., 0., 0., 1., 0., 0., 0., 0., 1., 1., 1., 1.,\n",
              "       0., 0., 0., 0., 0., 1., 0., 0., 1., 0., 0., 0., 1., 0., 0., 0., 0.,\n",
              "       0., 1., 1., 1., 0., 0., 0., 0., 0., 1., 0., 1., 0., 0., 1., 1., 0.,\n",
              "       1., 0., 1., 1., 0., 1., 0., 1., 0., 1., 1., 1., 0., 0., 0., 1., 0.,\n",
              "       0., 1., 0., 1., 0., 0., 0., 0., 0., 1., 1., 0., 1., 0., 1., 0., 0.,\n",
              "       0., 0., 0., 0., 0., 0., 1., 0., 1., 1., 1., 0., 1., 0., 1., 0., 1.,\n",
              "       0., 1., 0., 0., 1., 0., 1., 0., 1., 1., 1., 1., 1., 0., 1., 0., 0.,\n",
              "       0., 0., 0., 1., 0., 0., 0., 0., 1., 1., 0., 1., 0., 0., 1., 0., 0.,\n",
              "       0., 1., 1., 1., 1., 1., 0., 0., 0., 0., 0., 1., 0., 0., 0., 1., 0.,\n",
              "       1., 0., 0., 1., 0., 1., 0., 0., 1., 1., 1., 0., 1., 0., 1., 1., 0.,\n",
              "       1., 1., 0., 1., 0., 0., 0., 1., 0., 0., 1., 0., 0., 0., 0., 0., 1.,\n",
              "       0., 0., 0., 0., 0., 1., 0., 0., 0., 0., 0., 0., 0., 1., 1., 1., 0.,\n",
              "       0., 0., 1., 1., 0., 1., 0., 0., 0., 0., 1., 1., 0., 1., 0., 0., 0.,\n",
              "       1., 0., 0., 0., 0., 1., 0., 1., 0., 1., 0., 0., 0., 1., 0., 0., 0.,\n",
              "       1., 1., 1., 0., 0., 0., 0., 1., 0., 0., 0., 0., 0., 0., 0., 1., 1.,\n",
              "       0., 0., 1., 0., 0., 0., 0., 1., 0., 0., 0., 0., 1., 0., 0., 0., 0.,\n",
              "       1., 1., 0., 0., 0., 1., 0., 1., 0., 1., 1., 0., 0., 1., 0., 1., 0.,\n",
              "       0., 0., 0., 0., 0., 0., 0., 1., 0., 1., 0., 0., 1., 0., 0., 0., 0.,\n",
              "       0., 0., 0., 0., 0., 0., 0., 0., 0., 1., 0., 0., 1., 0., 1., 0., 0.,\n",
              "       0., 1., 0., 0., 1., 1., 0., 0., 1., 0., 0., 1., 0., 0., 1., 1., 0.,\n",
              "       0., 1., 0., 0., 0., 0., 0., 1., 1., 0., 0., 0., 0., 1., 1., 1., 0.,\n",
              "       0., 0., 0., 1., 1., 0., 1., 1., 1., 1., 0., 0., 0., 1., 0., 0., 0.,\n",
              "       0., 0., 0., 1., 0., 0., 0., 0., 0., 0., 0., 0., 0., 1., 1., 0., 0.,\n",
              "       1., 1., 0., 0., 1., 0., 1., 1., 0., 1., 0., 0., 0., 1., 1., 1., 0.,\n",
              "       0., 0., 0., 0., 1., 0., 0., 0., 0., 0., 0., 0., 0., 1., 0., 0., 1.,\n",
              "       1., 1., 1., 0., 1., 0., 0., 0., 0., 0., 0., 0., 0., 0., 1., 0., 1.,\n",
              "       0., 0., 0., 0., 0., 1., 1., 1., 0., 0., 1., 1., 1., 1., 0., 1., 1.,\n",
              "       0., 0., 0., 0., 0., 1., 0., 0., 1., 0., 0., 1., 1., 0., 0., 0., 1.,\n",
              "       0., 1., 0., 0., 0., 1., 0., 1., 0., 0., 0., 1., 0., 0., 0., 0., 0.,\n",
              "       0., 1., 0., 1., 0., 0., 0., 0., 1., 0., 1., 1., 0., 0., 0., 0., 0.,\n",
              "       1., 1., 1., 0., 0., 1., 0., 0., 1., 0., 0., 1., 0., 0., 1., 0., 0.,\n",
              "       0., 1., 0., 0., 1., 1., 1., 0., 0., 1., 0., 0., 0., 1., 1., 1., 1.,\n",
              "       0., 0., 1., 0., 1., 0., 0., 0., 0., 1., 1., 0., 0., 1., 1., 0., 0.,\n",
              "       1., 1., 1., 1., 1., 0., 1., 0., 1., 0., 1., 0., 0., 0., 0., 1., 1.,\n",
              "       0., 1., 0., 0., 1., 1., 0., 0., 1., 0., 1., 0., 0., 0., 1., 0., 0.,\n",
              "       1., 1., 1., 1., 0., 1., 1., 0., 1., 1., 0., 1., 0., 1., 0., 1., 1.,\n",
              "       1., 0., 0., 1., 0., 0., 0., 1., 0., 1., 1., 0., 0., 0., 0., 1., 0.,\n",
              "       1., 1., 1., 0., 1., 0., 0., 1., 0., 0., 1., 0., 1., 1., 1., 0., 1.,\n",
              "       0., 0., 0., 1., 1., 1., 0., 1., 0., 0., 0., 1., 1., 1., 1., 0., 0.,\n",
              "       0., 0., 0., 1., 1., 0., 1., 0., 1., 0., 0., 0., 0., 0., 0., 0., 0.,\n",
              "       0., 1., 1., 1., 1., 1., 0., 1., 0., 1., 1., 1., 1., 0., 1., 1., 1.,\n",
              "       1., 1., 1., 1., 1., 0., 1., 0., 0., 1., 0., 0., 0., 1., 0., 1., 1.,\n",
              "       1., 0., 1., 1., 0., 1., 1., 0., 1., 0., 1., 1., 0., 0., 1., 1., 1.,\n",
              "       0., 0., 0., 0., 1., 1., 0., 0., 0., 1., 1., 1., 1., 1., 1., 1., 1.,\n",
              "       1., 0., 1., 0., 1., 0., 0., 1., 0., 0., 0., 0., 0., 1., 1., 1., 1.,\n",
              "       1., 1., 0., 0., 0., 1., 0., 1., 0., 0., 1., 0., 0., 1., 0., 1., 1.,\n",
              "       0., 0., 1., 1., 1., 1., 1., 0., 1., 1., 0., 1., 1., 0., 0., 0., 0.,\n",
              "       0., 1., 1., 0., 0., 0., 1., 0., 0., 1., 0., 0., 0., 1., 0., 0., 0.,\n",
              "       0., 0., 0., 1., 0., 1., 0., 1., 1., 0., 1., 0., 0., 0., 0., 0., 0.,\n",
              "       1., 0., 1., 0., 1., 0., 1., 1., 1., 0., 1., 0., 1., 0., 0., 1., 1.,\n",
              "       1., 0., 0., 0., 0., 1., 0., 1., 0., 1., 1., 0., 0., 0., 0., 1., 1.,\n",
              "       0., 0., 0., 0., 1., 0., 0., 0., 0., 0., 0., 1., 0., 0., 1., 0., 0.,\n",
              "       0., 1., 0., 0., 0., 1., 1., 1., 1., 0., 1., 0., 1., 0., 0., 1., 0.,\n",
              "       1., 0., 1., 1., 0., 1., 0., 0., 0., 0., 1., 1., 0., 0., 0., 0., 0.,\n",
              "       0., 1., 0., 0., 1., 0., 0., 0., 1., 0., 1., 0., 1., 1., 0., 0., 0.,\n",
              "       0., 0., 0., 0., 0., 1., 0., 1., 0., 0., 0., 1., 0., 0.])"
            ]
          },
          "metadata": {},
          "execution_count": 10
        }
      ]
    },
    {
      "cell_type": "code",
      "source": [
        "TEST_RATIO = 0.3\n",
        "\n",
        "test_idx = sorted(\n",
        "    np.random.choice(len(data), int(len(data) * TEST_RATIO), replace = False)\n",
        ")\n",
        "\n",
        "train_idx = np.array(list(\n",
        "    set([i for i in range(len(data))]) - set(test_idx)\n",
        "))\n",
        "\n",
        "\n",
        "len(train_idx), len(test_idx)"
      ],
      "metadata": {
        "colab": {
          "base_uri": "https://localhost:8080/"
        },
        "id": "uHoi15-Ciy8q",
        "outputId": "0997377c-964b-45d2-bbd1-9d065f00a64d"
      },
      "execution_count": 36,
      "outputs": [
        {
          "output_type": "execute_result",
          "data": {
            "text/plain": [
              "(700, 300)"
            ]
          },
          "metadata": {},
          "execution_count": 36
        }
      ]
    },
    {
      "cell_type": "code",
      "source": [
        "set(train_idx) & set(test_idx)"
      ],
      "metadata": {
        "colab": {
          "base_uri": "https://localhost:8080/"
        },
        "id": "G0YD--Osjb3D",
        "outputId": "7acc551f-a30a-44df-dad1-bbf58c56ad42"
      },
      "execution_count": 37,
      "outputs": [
        {
          "output_type": "execute_result",
          "data": {
            "text/plain": [
              "set()"
            ]
          },
          "metadata": {},
          "execution_count": 37
        }
      ]
    },
    {
      "cell_type": "code",
      "source": [
        "train_data = data[train_idx]\n",
        "test_data = data[test_idx]\n",
        "\n",
        "train_data.shape, test_data.shape"
      ],
      "metadata": {
        "colab": {
          "base_uri": "https://localhost:8080/"
        },
        "id": "uElUD493nrFU",
        "outputId": "83b4442e-3f4d-41a3-846e-ed277c4a19b1"
      },
      "execution_count": 38,
      "outputs": [
        {
          "output_type": "execute_result",
          "data": {
            "text/plain": [
              "((700, 3), (300, 3))"
            ]
          },
          "metadata": {},
          "execution_count": 38
        }
      ]
    },
    {
      "cell_type": "code",
      "source": [
        "X_train, y_train = train_data[:, :2], train_data[:, -1]\n",
        "X_test, y_test = test_data[:, :2], test_data[:, -1]\n",
        "\n",
        "X_train.shape, y_train.shape, X_test.shape, y_test.shape"
      ],
      "metadata": {
        "colab": {
          "base_uri": "https://localhost:8080/"
        },
        "id": "CGB0kw24n8YU",
        "outputId": "cd672d6e-adb5-4868-a763-48281f2e97d4"
      },
      "execution_count": 39,
      "outputs": [
        {
          "output_type": "execute_result",
          "data": {
            "text/plain": [
              "((700, 2), (700,), (300, 2), (300,))"
            ]
          },
          "metadata": {},
          "execution_count": 39
        }
      ]
    },
    {
      "cell_type": "code",
      "source": [
        "y_train = y_train[:, np.newaxis]\n",
        "y_test = y_test[:, np.newaxis]"
      ],
      "metadata": {
        "id": "kkGoJRXZowG0"
      },
      "execution_count": 40,
      "outputs": []
    },
    {
      "cell_type": "code",
      "source": [
        "X_train.shape, y_train.shape, X_test.shape, y_test.shape"
      ],
      "metadata": {
        "colab": {
          "base_uri": "https://localhost:8080/"
        },
        "id": "D4jKAE9oo7LU",
        "outputId": "25a6eb0d-6b4f-4338-bcfe-33eafaf05d8d"
      },
      "execution_count": 41,
      "outputs": [
        {
          "output_type": "execute_result",
          "data": {
            "text/plain": [
              "((700, 2), (700, 1), (300, 2), (300, 1))"
            ]
          },
          "metadata": {},
          "execution_count": 41
        }
      ]
    },
    {
      "cell_type": "code",
      "source": [
        "def sigmoid(x):\n",
        "    return 1.0 / (1.0 + np.exp(-x))\n",
        "\n",
        "def binary_cross_entropy_error(y_true, y_pred):\n",
        "    y_pred = np.clip(y_pred, 1e-7, 1 - 1e-7)\n",
        "    term_0 = (1-y_true) * np.log(1-y_pred + 1e-7)\n",
        "    term_1 = y_true * np.log(y_pred + 1e-7)\n",
        "    return -np.mean(term_0 + term_1, axis=0)"
      ],
      "metadata": {
        "id": "VW8aUdLtpCgc"
      },
      "execution_count": 42,
      "outputs": []
    },
    {
      "cell_type": "code",
      "source": [
        "class SGD:\n",
        "  def __init__(self, learning_rate = 0.01):\n",
        "    self.lr = learning_rate\n",
        "\n",
        "  def update(self, weight, grad):\n",
        "    weight -= self.lr * grad\n",
        "    return weight\n",
        "\n",
        "class Dense:\n",
        "  def __init__(self, input_size : int, output_size : int, **kwargs):\n",
        "    self.optimizerW = SGD(kwargs.get(\"learning_rate\", 0.01))\n",
        "    self.optimizerB = SGD(kwargs.get(\"learning_rate\", 0.01))\n",
        "    self.W = 0.1 * np.random.rand(input_size, output_size)\n",
        "    self.b = np.zeros(output_size)\n",
        "    self.x = None\n",
        "    self.y = None\n",
        "    self.dW = None\n",
        "    self.db = None\n",
        "\n",
        "  def forward(self, x):\n",
        "    self.x = x\n",
        "    self.y = np.dot(self.x, self.W) + self.b\n",
        "    return self.y\n",
        "\n",
        "  def backward(self, dout, learning_rate = 0.01):\n",
        "    self.dW = np.dot(self.x.T, dout)\n",
        "    self.db = np.sum(dout, axis = 0)\n",
        "    dx = np.dot(dout, self.W.T)\n",
        "    self.optimizerW.update(self.W, self.dW)\n",
        "    self.optimizerB.update(self.b, self.db)\n",
        "\n",
        "    return dx\n",
        "\n",
        "\n",
        "class Sigmoid:\n",
        "  def __init__(self):\n",
        "    self.y = None\n",
        "\n",
        "  def forward(self, x):\n",
        "    self.y = sigmoid(x)\n",
        "    return self.y\n",
        "\n",
        "  def backward(self, dout, learning_rate = 0.01):\n",
        "    return dout * (1.0 - self.y) * self.y\n",
        "\n",
        "\n",
        "class SigmoidWithLoss:\n",
        "  def __init__(self):\n",
        "    self.error = None\n",
        "    self.y = None\n",
        "    self.t = None\n",
        "\n",
        "  def forward(self, x):\n",
        "    self.y = sigmoid(x)\n",
        "    return self.y\n",
        "\n",
        "  def loss(self, t):\n",
        "    self.t = t\n",
        "    self.error = binary_cross_entropy_error(self.t, self.y)\n",
        "    return self.error\n",
        "\n",
        "  def backward(self, dout, learning_rate = 0.01):\n",
        "    batch_size = self.t.shape[0]\n",
        "    dx = (self.y - self.t) / batch_size\n",
        "    return dx"
      ],
      "metadata": {
        "id": "QynoY9wHzFFi"
      },
      "execution_count": 68,
      "outputs": []
    },
    {
      "cell_type": "code",
      "source": [
        "import math\n",
        "from tqdm.auto import tqdm\n",
        "class Network:\n",
        "  \n",
        "  def __init__(self):\n",
        "    self.layers = list()\n",
        "\n",
        "  def add(self, layer):\n",
        "    self.layers.append(layer)\n",
        "\n",
        "  def predict(self, x):\n",
        "    for layer in self.layers:\n",
        "      x = layer.forward(x)\n",
        "    return x\n",
        "\n",
        "  def loss(self, t):\n",
        "    return self.layers[-1].loss(t)\n",
        "\n",
        "  def accuracy(self, x, y_true):\n",
        "    y_pred = self.predict(x)\n",
        "    \n",
        "    y_pred = np.array(\n",
        "        [1 if elem[0] >= 0.5 else 0 for elem in y_pred]\n",
        "    )\n",
        "    \n",
        "    y_true = np.array([int(elem[0]) for elem in y_true])\n",
        "    return np.sum(y_pred == y_true) / float(x.shape[0])\n",
        "  \n",
        "  def forward_pass(self, x):\n",
        "    self.predict(x)\n",
        "\n",
        "  def backward_pass(self, learning_rate):\n",
        "    dout = 1\n",
        "    \n",
        "    # reversed(self.layers)\n",
        "    # self.layers[::1]\n",
        "    \n",
        "    for layer in reversed(self.layers) :\n",
        "      dout = layer.backward(dout, learning_rate)\n",
        "\n",
        "  def evaluate(self, x_test, t_test):\n",
        "    test_acc = self.accuracy(x_test, t_test)\n",
        "    test_acc = \"%.4f\" % test_acc\n",
        "    print(f'test_acc : {test_acc}')\n",
        "\n",
        "\n",
        "  def fit(\n",
        "      self,\n",
        "      X_train,\n",
        "      t_train,\n",
        "      X_test = None,\n",
        "      y_test = None,\n",
        "      batch_size = 10,\n",
        "      epochs = 20,\n",
        "      learning_rate = 0.001):\n",
        "    \n",
        "    train_size = X_train.shape[0]\n",
        "    history = dict(\n",
        "        train_acc= list(),\n",
        "        train_loss = list(),\n",
        "        test_acc = list(),\n",
        "        test_loss = list()\n",
        "        )\n",
        "    \n",
        "    iter_per_epoch = int(math.ceil(train_size / batch_size))\n",
        "\n",
        "    for epoch in tqdm(range(1, epochs + 1)):\n",
        "      print(f'Epoch {epoch} / {epochs}')\n",
        "      loss_sum = 0\n",
        "      train_sum = 0\n",
        "      for _ in range(iter_per_epoch):\n",
        "        batch_mask = np.random.choice(train_size, batch_size)\n",
        "        X_batch = X_train[batch_mask]\n",
        "        y_batch = y_train[batch_mask]\n",
        "\n",
        "        self.forward_pass(X_batch)\n",
        "        loss_sum += self.loss(y_batch)\n",
        "        train_sum += self.accuracy(X_batch,y_batch)\n",
        "        self.backward_pass(X_batch)\n",
        "\n",
        "      loss_sum /= iter_per_epoch\n",
        "      train_sum /= iter_per_epoch\n",
        "      str_train_sum = '%.4f' % train_sum\n",
        "      print(f'train_sum: {str_train_sum}')\n",
        "\n",
        "      history[\"train_loss\"].append(loss_sum)\n",
        "      history['train_acc'].append(train_sum)\n",
        "\n",
        "      test_acc = self.accuracy(X_test, y_test)\n",
        "      history['test_acc'].append(test_acc)\n",
        "\n",
        "      self.forward_pass(X_test)\n",
        "      test_loss = self.loss(y_test)\n",
        "      history[\"test_loss\"].append(test_loss)\n",
        "\n",
        "    return history\n"
      ],
      "metadata": {
        "id": "c7O64sTxFBUE"
      },
      "execution_count": 61,
      "outputs": []
    },
    {
      "cell_type": "code",
      "source": [
        "alist = [1, 2, 3, 4, 5]\n",
        "print(alist)\n",
        "alist[::-1]"
      ],
      "metadata": {
        "colab": {
          "base_uri": "https://localhost:8080/"
        },
        "id": "8uRI9ST5FDEM",
        "outputId": "ddef455c-f263-434d-d584-b1f19c948981"
      },
      "execution_count": 45,
      "outputs": [
        {
          "output_type": "stream",
          "name": "stdout",
          "text": [
            "[1, 2, 3, 4, 5]\n"
          ]
        },
        {
          "output_type": "execute_result",
          "data": {
            "text/plain": [
              "[5, 4, 3, 2, 1]"
            ]
          },
          "metadata": {},
          "execution_count": 45
        }
      ]
    },
    {
      "cell_type": "code",
      "source": [
        "blist = alist\n",
        "blist"
      ],
      "metadata": {
        "colab": {
          "base_uri": "https://localhost:8080/"
        },
        "id": "FiuLclCgH9KG",
        "outputId": "5a93852f-3fac-47f6-89d1-ac653e5b60cf"
      },
      "execution_count": 46,
      "outputs": [
        {
          "output_type": "execute_result",
          "data": {
            "text/plain": [
              "[1, 2, 3, 4, 5]"
            ]
          },
          "metadata": {},
          "execution_count": 46
        }
      ]
    },
    {
      "cell_type": "code",
      "source": [
        "blist[3] = -999"
      ],
      "metadata": {
        "id": "6DMncLVXIUs1"
      },
      "execution_count": 47,
      "outputs": []
    },
    {
      "cell_type": "code",
      "source": [
        "blist = alist[:]\n",
        "blist"
      ],
      "metadata": {
        "colab": {
          "base_uri": "https://localhost:8080/"
        },
        "id": "Kn4cgBusIXDt",
        "outputId": "c2587724-95d9-41be-b87e-cf54e4d19cca"
      },
      "execution_count": 48,
      "outputs": [
        {
          "output_type": "execute_result",
          "data": {
            "text/plain": [
              "[1, 2, 3, -999, 5]"
            ]
          },
          "metadata": {},
          "execution_count": 48
        }
      ]
    },
    {
      "cell_type": "code",
      "source": [
        "blist[3] = 23425492\n",
        "alist, blist"
      ],
      "metadata": {
        "colab": {
          "base_uri": "https://localhost:8080/"
        },
        "id": "dyIVkKWxIagk",
        "outputId": "ad2e244f-3c66-4acb-8a67-cc3b87f12dc4"
      },
      "execution_count": 49,
      "outputs": [
        {
          "output_type": "execute_result",
          "data": {
            "text/plain": [
              "([1, 2, 3, -999, 5], [1, 2, 3, 23425492, 5])"
            ]
          },
          "metadata": {},
          "execution_count": 49
        }
      ]
    },
    {
      "cell_type": "code",
      "source": [
        "network = Network()\n",
        "network.add(Dense(X_train.shape[-1], 8))\n",
        "network.add(Sigmoid())\n",
        "network.add(Dense(8, 1))\n",
        "network.add(SigmoidWithLoss())"
      ],
      "metadata": {
        "id": "JcO1S4mNe-Xn"
      },
      "execution_count": 70,
      "outputs": []
    },
    {
      "cell_type": "code",
      "source": [
        "batch_size = 5\n",
        "epochs = 50\n",
        "learning_rate = 0.01\n",
        "\n",
        "history = network.fit(\n",
        "    X_train,\n",
        "    y_train,\n",
        "    X_test,\n",
        "    y_test,\n",
        "    batch_size=batch_size,\n",
        "    epochs=epochs,\n",
        "    learning_rate=learning_rate,    \n",
        ")"
      ],
      "metadata": {
        "colab": {
          "base_uri": "https://localhost:8080/",
          "height": 1000,
          "referenced_widgets": [
            "b7d27617be2d4dbdbca0ec89c4430d8d",
            "15efaefcfd5a46319bb42eca09375890",
            "dc46e73834ef41009288e5639c978492",
            "05bb16db14a44dddb9152dc330037228",
            "9d23596e99d542ccbf3652ecbcc17c36",
            "5e94a9774bd4464489e403417d8ce987",
            "ccbdb77c138f4928a8637b52dbf41308",
            "fa95704f72ed41c39d992cac7ad78d14",
            "2b0db5111a31402d8fe069b7ec83ad19",
            "4b957ab8f47c4c18825586f46764652b",
            "15ef1df09d3044b99f764a876461b577"
          ]
        },
        "id": "9pH9_ct5e__n",
        "outputId": "c5474053-1491-4fba-e215-2e790a1752cd"
      },
      "execution_count": 71,
      "outputs": [
        {
          "output_type": "display_data",
          "data": {
            "text/plain": [
              "  0%|          | 0/50 [00:00<?, ?it/s]"
            ],
            "application/vnd.jupyter.widget-view+json": {
              "version_major": 2,
              "version_minor": 0,
              "model_id": "b7d27617be2d4dbdbca0ec89c4430d8d"
            }
          },
          "metadata": {}
        },
        {
          "output_type": "stream",
          "name": "stdout",
          "text": [
            "Epoch 1 / 50\n",
            "train_sum: 0.5771\n",
            "Epoch 2 / 50\n",
            "train_sum: 0.6300\n",
            "Epoch 3 / 50\n",
            "train_sum: 0.6314\n",
            "Epoch 4 / 50\n",
            "train_sum: 0.5986\n",
            "Epoch 5 / 50\n",
            "train_sum: 0.5943\n",
            "Epoch 6 / 50\n",
            "train_sum: 0.6714\n",
            "Epoch 7 / 50\n",
            "train_sum: 0.7414\n",
            "Epoch 8 / 50\n",
            "train_sum: 0.8186\n",
            "Epoch 9 / 50\n",
            "train_sum: 0.8429\n",
            "Epoch 10 / 50\n",
            "train_sum: 0.8857\n",
            "Epoch 11 / 50\n",
            "train_sum: 0.8757\n",
            "Epoch 12 / 50\n",
            "train_sum: 0.8829\n",
            "Epoch 13 / 50\n",
            "train_sum: 0.8814\n",
            "Epoch 14 / 50\n",
            "train_sum: 0.8800\n",
            "Epoch 15 / 50\n",
            "train_sum: 0.8729\n",
            "Epoch 16 / 50\n",
            "train_sum: 0.8771\n",
            "Epoch 17 / 50\n",
            "train_sum: 0.8871\n",
            "Epoch 18 / 50\n",
            "train_sum: 0.8914\n",
            "Epoch 19 / 50\n",
            "train_sum: 0.9071\n",
            "Epoch 20 / 50\n",
            "train_sum: 0.8829\n",
            "Epoch 21 / 50\n",
            "train_sum: 0.9057\n",
            "Epoch 22 / 50\n",
            "train_sum: 0.8857\n",
            "Epoch 23 / 50\n",
            "train_sum: 0.8929\n",
            "Epoch 24 / 50\n",
            "train_sum: 0.8957\n",
            "Epoch 25 / 50\n",
            "train_sum: 0.9186\n",
            "Epoch 26 / 50\n",
            "train_sum: 0.8814\n",
            "Epoch 27 / 50\n",
            "train_sum: 0.8800\n",
            "Epoch 28 / 50\n",
            "train_sum: 0.8929\n",
            "Epoch 29 / 50\n",
            "train_sum: 0.8900\n",
            "Epoch 30 / 50\n",
            "train_sum: 0.8814\n",
            "Epoch 31 / 50\n",
            "train_sum: 0.8986\n",
            "Epoch 32 / 50\n",
            "train_sum: 0.8843\n",
            "Epoch 33 / 50\n",
            "train_sum: 0.9000\n",
            "Epoch 34 / 50\n",
            "train_sum: 0.9071\n",
            "Epoch 35 / 50\n",
            "train_sum: 0.9014\n",
            "Epoch 36 / 50\n",
            "train_sum: 0.8914\n",
            "Epoch 37 / 50\n",
            "train_sum: 0.8829\n",
            "Epoch 38 / 50\n",
            "train_sum: 0.8957\n",
            "Epoch 39 / 50\n",
            "train_sum: 0.8814\n",
            "Epoch 40 / 50\n",
            "train_sum: 0.9043\n",
            "Epoch 41 / 50\n",
            "train_sum: 0.8986\n",
            "Epoch 42 / 50\n",
            "train_sum: 0.9014\n",
            "Epoch 43 / 50\n",
            "train_sum: 0.9057\n",
            "Epoch 44 / 50\n",
            "train_sum: 0.9071\n",
            "Epoch 45 / 50\n",
            "train_sum: 0.8871\n",
            "Epoch 46 / 50\n",
            "train_sum: 0.8943\n",
            "Epoch 47 / 50\n",
            "train_sum: 0.8971\n",
            "Epoch 48 / 50\n",
            "train_sum: 0.8986\n",
            "Epoch 49 / 50\n",
            "train_sum: 0.9100\n",
            "Epoch 50 / 50\n",
            "train_sum: 0.8914\n"
          ]
        }
      ]
    },
    {
      "cell_type": "code",
      "source": [
        "import matplotlib.pyplot as plt"
      ],
      "metadata": {
        "id": "LgHgvd1XVHoW"
      },
      "execution_count": 50,
      "outputs": []
    },
    {
      "cell_type": "code",
      "source": [
        "x = np.arange(len(history[\"train_acc\"]))\n",
        "\n",
        "plt.plot(x, history[\"train_acc\"], label=\"train_acc\")\n",
        "plt.plot(x, history[\"test_acc\"], label=\"test_acc\")\n",
        "# plt.plot(x, history[\"train_loss\"], label=\"train_loss\")\n",
        "# plt.plot(x, history[\"test_loss\"], label=\"test_loss\")\n",
        "\n",
        "plt.xlabel(\"epochs\")\n",
        "plt.ylabel(\"acc/loss\")\n",
        "plt.ylim(0, 1.0)\n",
        "\n",
        "plt.legend(loc=\"lower left\")\n",
        "\n",
        "plt.show()"
      ],
      "metadata": {
        "colab": {
          "base_uri": "https://localhost:8080/",
          "height": 283
        },
        "id": "kX83BQqETtzg",
        "outputId": "fac91b5f-959a-4512-f35b-26217119893b"
      },
      "execution_count": 72,
      "outputs": [
        {
          "output_type": "display_data",
          "data": {
            "text/plain": [
              "<Figure size 432x288 with 1 Axes>"
            ],
            "image/png": "[encoded data removed]"
          },
          "metadata": {
            "needs_background": "light"
          }
        }
      ]
    },
    {
      "cell_type": "code",
      "source": [
        "plt.plot(history['train_loss'])\n",
        "plt.plot(history['test_loss'])"
      ],
      "metadata": {
        "colab": {
          "base_uri": "https://localhost:8080/",
          "height": 284
        },
        "id": "cnVBNz9b0Y1B",
        "outputId": "fbe50ca0-a85f-41ec-c604-d537b2d1da20"
      },
      "execution_count": 73,
      "outputs": [
        {
          "output_type": "execute_result",
          "data": {
            "text/plain": [
              "[<matplotlib.lines.Line2D at 0x7ff754075130>]"
            ]
          },
          "metadata": {},
          "execution_count": 73
        },
        {
          "output_type": "display_data",
          "data": {
            "text/plain": [
              "<Figure size 432x288 with 1 Axes>"
            ],
            "image/png": "[encoded data removed]"
          },
          "metadata": {
            "needs_background": "light"
          }
        }
      ]
    },
    {
      "cell_type": "markdown",
      "source": [
        "## Keras"
      ],
      "metadata": {
        "id": "cxW4-WUBAqG5"
      }
    },
    {
      "cell_type": "code",
      "source": [
        "import tensorflow as tf\n",
        "\n",
        "tf.__version__"
      ],
      "metadata": {
        "colab": {
          "base_uri": "https://localhost:8080/",
          "height": 35
        },
        "id": "-EOLCq6jmJJY",
        "outputId": "4670dd59-df56-432c-c4a1-edac7e9d7e6f"
      },
      "execution_count": 93,
      "outputs": [
        {
          "output_type": "execute_result",
          "data": {
            "text/plain": [
              "'2.9.2'"
            ],
            "application/vnd.google.colaboratory.intrinsic+json": {
              "type": "string"
            }
          },
          "metadata": {},
          "execution_count": 93
        }
      ]
    },
    {
      "cell_type": "code",
      "source": [
        "tf.config.list_physical_devices(\"GPU\")"
      ],
      "metadata": {
        "colab": {
          "base_uri": "https://localhost:8080/"
        },
        "id": "OgFAruiQAwGB",
        "outputId": "f3f6ef92-a392-4426-e689-69979b5f17d2"
      },
      "execution_count": 94,
      "outputs": [
        {
          "output_type": "execute_result",
          "data": {
            "text/plain": [
              "[]"
            ]
          },
          "metadata": {},
          "execution_count": 94
        }
      ]
    },
    {
      "cell_type": "code",
      "source": [
        "import numpy as np\n",
        "\n",
        "np.__version__"
      ],
      "metadata": {
        "colab": {
          "base_uri": "https://localhost:8080/",
          "height": 35
        },
        "id": "08mwF0qRAzE5",
        "outputId": "8d3d80b1-98cc-44c4-d962-cf9668c5b360"
      },
      "execution_count": 95,
      "outputs": [
        {
          "output_type": "execute_result",
          "data": {
            "text/plain": [
              "'1.21.6'"
            ],
            "application/vnd.google.colaboratory.intrinsic+json": {
              "type": "string"
            }
          },
          "metadata": {},
          "execution_count": 95
        }
      ]
    },
    {
      "cell_type": "code",
      "source": [
        "from tensorflow.keras.datasets import mnist\n",
        "\n",
        "(X_train, y_train), (X_test, y_test) = mnist.load_data()\n",
        "\n",
        "X_train.shape, y_train.shape, X_test.shape, y_test.shape"
      ],
      "metadata": {
        "colab": {
          "base_uri": "https://localhost:8080/"
        },
        "id": "nhHQbwXvmN2P",
        "outputId": "a7d47925-20da-4c8f-f524-546ce9107214"
      },
      "execution_count": 96,
      "outputs": [
        {
          "output_type": "stream",
          "name": "stdout",
          "text": [
            "Downloading data from https://storage.googleapis.com/tensorflow/tf-keras-datasets/mnist.npz\n",
            "11490434/11490434 [==============================] - 0s 0us/step\n"
          ]
        },
        {
          "output_type": "execute_result",
          "data": {
            "text/plain": [
              "((60000, 28, 28), (60000,), (10000, 28, 28), (10000,))"
            ]
          },
          "metadata": {},
          "execution_count": 96
        }
      ]
    },
    {
      "cell_type": "code",
      "source": [
        "help(mnist)"
      ],
      "metadata": {
        "colab": {
          "base_uri": "https://localhost:8080/"
        },
        "id": "Dpf8oL0fA6Vr",
        "outputId": "72379ac7-a114-4b23-f640-b41c374069f4"
      },
      "execution_count": 97,
      "outputs": [
        {
          "output_type": "stream",
          "name": "stdout",
          "text": [
            "Help on package keras.api._v2.keras.datasets.mnist in keras.api._v2.keras.datasets:\n",
            "\n",
            "NAME\n",
            "    keras.api._v2.keras.datasets.mnist - MNIST handwritten digits dataset.\n",
            "\n",
            "PACKAGE CONTENTS\n",
            "\n",
            "\n",
            "FILE\n",
            "    /usr/local/lib/python3.8/dist-packages/keras/api/_v2/keras/datasets/mnist/__init__.py\n",
            "\n",
            "\n"
          ]
        }
      ]
    },
    {
      "cell_type": "code",
      "source": [
        "X_train, X_test = X_train / 255., X_test / 255."
      ],
      "metadata": {
        "id": "1H3qViZSA9MB"
      },
      "execution_count": 98,
      "outputs": []
    },
    {
      "cell_type": "code",
      "source": [
        "sample = X_train[2580]\n",
        "\n",
        "print(\"answer: \", y_train[2580])\n",
        "for i in range(sample.shape[0]): # 28\n",
        "    print(\n",
        "        \"\".join([\"1\" if elem > 0 else \"0\" for elem in sample[i]])\n",
        "    )"
      ],
      "metadata": {
        "colab": {
          "base_uri": "https://localhost:8080/"
        },
        "id": "iaj5cYAHBAiy",
        "outputId": "dc288449-5992-45b9-c733-bcd07df670eb"
      },
      "execution_count": 99,
      "outputs": [
        {
          "output_type": "stream",
          "name": "stdout",
          "text": [
            "answer:  3\n",
            "0000000000000000000000000000\n",
            "0000000000000000000000000000\n",
            "0000000000000000000000000000\n",
            "0000000000000000000000000000\n",
            "0000000000000000000000000000\n",
            "0000000000000001111000000000\n",
            "0000000000000111111000000000\n",
            "0000000001111111111000000000\n",
            "0000000001111111111000000000\n",
            "0000000001111001111000000000\n",
            "0000000000000111110000000000\n",
            "0000000000001111100000000000\n",
            "0000000000001111100000000000\n",
            "0000000000001111000000000000\n",
            "0000000000000111100000000000\n",
            "0000000000000111100000000000\n",
            "0000000000000011100000000000\n",
            "0000000000000111100000000000\n",
            "0000000000000111100000000000\n",
            "0000000000001111000000000000\n",
            "0000000000001111000000000000\n",
            "0000000000011110000000000000\n",
            "0000000001111110000000000000\n",
            "0000000011111100000000000000\n",
            "0000000111111000000000000000\n",
            "0000000000000000000000000000\n",
            "0000000000000000000000000000\n",
            "0000000000000000000000000000\n"
          ]
        }
      ]
    },
    {
      "cell_type": "code",
      "source": [
        "import matplotlib.pyplot as plt\n",
        "\n",
        "plt.imshow(X_train[2580], cmap=\"gray\")\n",
        "\n",
        "plt.show()"
      ],
      "metadata": {
        "colab": {
          "base_uri": "https://localhost:8080/",
          "height": 265
        },
        "id": "38HOT_POBAla",
        "outputId": "fbfca268-44c5-419d-cfde-5e11b44c8232"
      },
      "execution_count": 100,
      "outputs": [
        {
          "output_type": "display_data",
          "data": {
            "text/plain": [
              "<Figure size 432x288 with 1 Axes>"
            ],
            "image/png": "[encoded data removed]"
          },
          "metadata": {
            "needs_background": "light"
          }
        }
      ]
    },
    {
      "cell_type": "code",
      "source": [
        "X_train.shape[1:]"
      ],
      "metadata": {
        "colab": {
          "base_uri": "https://localhost:8080/"
        },
        "id": "uUdLMATTBAnZ",
        "outputId": "ecdfb53f-95fe-4215-85b7-7efa61ebec7f"
      },
      "execution_count": 101,
      "outputs": [
        {
          "output_type": "execute_result",
          "data": {
            "text/plain": [
              "(28, 28)"
            ]
          },
          "metadata": {},
          "execution_count": 101
        }
      ]
    },
    {
      "cell_type": "code",
      "source": [
        "100480 / 785"
      ],
      "metadata": {
        "colab": {
          "base_uri": "https://localhost:8080/"
        },
        "id": "hZeV8uzfBApi",
        "outputId": "32d27b3b-c098-4de5-b391-6951ff6e52d1"
      },
      "execution_count": 102,
      "outputs": [
        {
          "output_type": "execute_result",
          "data": {
            "text/plain": [
              "128.0"
            ]
          },
          "metadata": {},
          "execution_count": 102
        }
      ]
    },
    {
      "cell_type": "code",
      "source": [
        "from tensorflow.keras.models import Sequential\n",
        "from tensorflow.keras.layers import Flatten, Dense, Dropout\n",
        "\n",
        "model = Sequential([\n",
        "    Flatten(input_shape=X_train.shape[1:]),\n",
        "    Dense(1024, activation=\"relu\"),\n",
        "    # Dropout(0.2),\n",
        "    Dense(256, activation=\"relu\"),\n",
        "    Dense(16, activation=\"relu\"),\n",
        "    Dense(10, activation=\"softmax\")\n",
        "])\n",
        "\n",
        "model.summary()"
      ],
      "metadata": {
        "colab": {
          "base_uri": "https://localhost:8080/"
        },
        "id": "ev0svFdcBGEa",
        "outputId": "4bb25716-b964-4a74-f841-f2d41dd36a54"
      },
      "execution_count": 103,
      "outputs": [
        {
          "output_type": "stream",
          "name": "stdout",
          "text": [
            "Model: \"sequential_4\"\n",
            "_________________________________________________________________\n",
            " Layer (type)                Output Shape              Param #   \n",
            "=================================================================\n",
            " flatten (Flatten)           (None, 784)               0         \n",
            "                                                                 \n",
            " dense (Dense)               (None, 1024)              803840    \n",
            "                                                                 \n",
            " dense_1 (Dense)             (None, 256)               262400    \n",
            "                                                                 \n",
            " dense_2 (Dense)             (None, 16)                4112      \n",
            "                                                                 \n",
            " dense_3 (Dense)             (None, 10)                170       \n",
            "                                                                 \n",
            "=================================================================\n",
            "Total params: 1,070,522\n",
            "Trainable params: 1,070,522\n",
            "Non-trainable params: 0\n",
            "_________________________________________________________________\n"
          ]
        }
      ]
    },
    {
      "cell_type": "code",
      "source": [
        "model.compile(\n",
        "    optimizer=\"adam\",\n",
        "    loss=\"sparse_categorical_crossentropy\",\n",
        "    # loss=\"categorical_crossentropy\",\n",
        "    metrics=[\"accuracy\"],\n",
        ")"
      ],
      "metadata": {
        "id": "DPdwGUbzBGHI"
      },
      "execution_count": 104,
      "outputs": []
    },
    {
      "cell_type": "code",
      "source": [
        "history = model.fit(\n",
        "    X_train, y_train, \n",
        "    validation_split=0.25,\n",
        "    batch_size=600,\n",
        "    epochs=10\n",
        ")\n",
        "history"
      ],
      "metadata": {
        "colab": {
          "base_uri": "https://localhost:8080/"
        },
        "id": "EVhiQ23dBGLn",
        "outputId": "03724aaa-7d48-4d43-ced6-80928a061fdd"
      },
      "execution_count": 105,
      "outputs": [
        {
          "output_type": "stream",
          "name": "stdout",
          "text": [
            "Epoch 1/10\n",
            "75/75 [==============================] - 7s 85ms/step - loss: 0.5165 - accuracy: 0.8470 - val_loss: 0.2039 - val_accuracy: 0.9425\n",
            "Epoch 2/10\n",
            "75/75 [==============================] - 6s 80ms/step - loss: 0.1491 - accuracy: 0.9576 - val_loss: 0.1462 - val_accuracy: 0.9574\n",
            "Epoch 3/10\n",
            "75/75 [==============================] - 7s 92ms/step - loss: 0.0959 - accuracy: 0.9721 - val_loss: 0.1149 - val_accuracy: 0.9667\n",
            "Epoch 4/10\n",
            "75/75 [==============================] - 8s 108ms/step - loss: 0.0667 - accuracy: 0.9806 - val_loss: 0.1045 - val_accuracy: 0.9693\n",
            "Epoch 5/10\n",
            "75/75 [==============================] - 7s 100ms/step - loss: 0.0467 - accuracy: 0.9872 - val_loss: 0.0994 - val_accuracy: 0.9723\n",
            "Epoch 6/10\n",
            "75/75 [==============================] - 10s 139ms/step - loss: 0.0334 - accuracy: 0.9910 - val_loss: 0.0883 - val_accuracy: 0.9737\n",
            "Epoch 7/10\n",
            "75/75 [==============================] - 7s 93ms/step - loss: 0.0223 - accuracy: 0.9947 - val_loss: 0.0909 - val_accuracy: 0.9743\n",
            "Epoch 8/10\n",
            "75/75 [==============================] - 6s 75ms/step - loss: 0.0164 - accuracy: 0.9959 - val_loss: 0.0961 - val_accuracy: 0.9739\n",
            "Epoch 9/10\n",
            "75/75 [==============================] - 6s 74ms/step - loss: 0.0121 - accuracy: 0.9968 - val_loss: 0.0916 - val_accuracy: 0.9761\n",
            "Epoch 10/10\n",
            "75/75 [==============================] - 6s 79ms/step - loss: 0.0072 - accuracy: 0.9986 - val_loss: 0.0899 - val_accuracy: 0.9764\n"
          ]
        },
        {
          "output_type": "execute_result",
          "data": {
            "text/plain": [
              "<keras.callbacks.History at 0x7ff74ea654c0>"
            ]
          },
          "metadata": {},
          "execution_count": 105
        }
      ]
    },
    {
      "cell_type": "code",
      "source": [
        "model.evaluate(X_test, y_test)"
      ],
      "metadata": {
        "colab": {
          "base_uri": "https://localhost:8080/"
        },
        "id": "KllYDGBcBGOZ",
        "outputId": "9f9e5220-13c5-496d-ffc2-6860793d8dcf"
      },
      "execution_count": 106,
      "outputs": [
        {
          "output_type": "stream",
          "name": "stdout",
          "text": [
            "313/313 [==============================] - 2s 5ms/step - loss: 0.0759 - accuracy: 0.9785\n"
          ]
        },
        {
          "output_type": "execute_result",
          "data": {
            "text/plain": [
              "[0.07589514553546906, 0.9785000085830688]"
            ]
          },
          "metadata": {},
          "execution_count": 106
        }
      ]
    },
    {
      "cell_type": "code",
      "source": [
        "# history = model.fit(\n",
        "#     X_train, y_train, \n",
        "#     validation_data=(X_test, y_test),\n",
        "#     batch_size=600,\n",
        "#     epochs=100\n",
        "# )\n",
        "# history"
      ],
      "metadata": {
        "id": "QOuVXKbf7hoS"
      },
      "execution_count": 107,
      "outputs": []
    },
    {
      "cell_type": "code",
      "source": [
        "history.history"
      ],
      "metadata": {
        "colab": {
          "base_uri": "https://localhost:8080/"
        },
        "id": "BadRQWwZBOmB",
        "outputId": "d4884007-3503-43c6-aa71-1a4aafe9211b"
      },
      "execution_count": 108,
      "outputs": [
        {
          "output_type": "execute_result",
          "data": {
            "text/plain": [
              "{'loss': [0.5164889097213745,\n",
              "  0.14914202690124512,\n",
              "  0.09590694308280945,\n",
              "  0.06668926030397415,\n",
              "  0.04674834385514259,\n",
              "  0.033350810408592224,\n",
              "  0.022291064262390137,\n",
              "  0.016352592036128044,\n",
              "  0.012137509882450104,\n",
              "  0.007247342728078365],\n",
              " 'accuracy': [0.8470222353935242,\n",
              "  0.9576444625854492,\n",
              "  0.9721333384513855,\n",
              "  0.980555534362793,\n",
              "  0.9872000217437744,\n",
              "  0.9909555315971375,\n",
              "  0.9946666955947876,\n",
              "  0.9959333539009094,\n",
              "  0.9967777729034424,\n",
              "  0.9986222386360168],\n",
              " 'val_loss': [0.20393942296504974,\n",
              "  0.14622735977172852,\n",
              "  0.11487077176570892,\n",
              "  0.10449309647083282,\n",
              "  0.09941326826810837,\n",
              "  0.0882699266076088,\n",
              "  0.0909043624997139,\n",
              "  0.09609688818454742,\n",
              "  0.09156640619039536,\n",
              "  0.08989071100950241],\n",
              " 'val_accuracy': [0.942466676235199,\n",
              "  0.9574000239372253,\n",
              "  0.9666666388511658,\n",
              "  0.9692666530609131,\n",
              "  0.972266674041748,\n",
              "  0.9737333059310913,\n",
              "  0.9743333458900452,\n",
              "  0.9739333391189575,\n",
              "  0.9760666489601135,\n",
              "  0.9764000177383423]}"
            ]
          },
          "metadata": {},
          "execution_count": 108
        }
      ]
    },
    {
      "cell_type": "code",
      "source": [
        "import matplotlib.pyplot as plt\n",
        "\n",
        "length = len(history.history[\"accuracy\"])\n",
        "plt.plot(range(length), history.history[\"accuracy\"])\n",
        "plt.show()"
      ],
      "metadata": {
        "colab": {
          "base_uri": "https://localhost:8080/",
          "height": 265
        },
        "id": "fXwvLXWMBOog",
        "outputId": "e483afaa-bca1-4578-de2e-7fd32ec006a9"
      },
      "execution_count": 109,
      "outputs": [
        {
          "output_type": "display_data",
          "data": {
            "text/plain": [
              "<Figure size 432x288 with 1 Axes>"
            ],
            "image/png": "[encoded data removed]"
          },
          "metadata": {
            "needs_background": "light"
          }
        }
      ]
    },
    {
      "cell_type": "markdown",
      "source": [
        "## Sequential Model"
      ],
      "metadata": {
        "id": "b5hxVJoSBRAs"
      }
    },
    {
      "cell_type": "code",
      "source": [
        "x = tf.ones((3, 3))\n",
        "x"
      ],
      "metadata": {
        "colab": {
          "base_uri": "https://localhost:8080/"
        },
        "id": "ZEdDJ1BaBOqR",
        "outputId": "6311a0fb-279a-49cf-8f86-e847d65d0010"
      },
      "execution_count": 110,
      "outputs": [
        {
          "output_type": "execute_result",
          "data": {
            "text/plain": [
              "<tf.Tensor: shape=(3, 3), dtype=float32, numpy=\n",
              "array([[1., 1., 1.],\n",
              "       [1., 1., 1.],\n",
              "       [1., 1., 1.]], dtype=float32)>"
            ]
          },
          "metadata": {},
          "execution_count": 110
        }
      ]
    },
    {
      "cell_type": "code",
      "source": [
        "from tensorflow.keras import Sequential\n",
        "from tensorflow.keras import layers\n",
        "\n",
        "model = Sequential([\n",
        "    layers.Dense(2, activation=\"relu\", name=\"layer1\"),\n",
        "    layers.Dense(3, activation=\"sigmoid\", name=\"layer2\"),\n",
        "    layers.Dense(4, name=\"layer3\")\n",
        "])\n",
        "\n",
        "model"
      ],
      "metadata": {
        "colab": {
          "base_uri": "https://localhost:8080/"
        },
        "id": "EEpxocSX7iRf",
        "outputId": "03f84518-0a14-41fc-94a9-701c2ec107d8"
      },
      "execution_count": 74,
      "outputs": [
        {
          "output_type": "execute_result",
          "data": {
            "text/plain": [
              "<keras.engine.sequential.Sequential at 0x7ff75468ed60>"
            ]
          },
          "metadata": {},
          "execution_count": 74
        }
      ]
    },
    {
      "cell_type": "code",
      "source": [
        "dir(model)"
      ],
      "metadata": {
        "colab": {
          "base_uri": "https://localhost:8080/"
        },
        "id": "X7Ldivp18FPx",
        "outputId": "042dac2f-a2fa-4601-b2a7-a65e2b03c581"
      },
      "execution_count": 75,
      "outputs": [
        {
          "output_type": "execute_result",
          "data": {
            "text/plain": [
              "['_SCALAR_UPRANKING_ON',\n",
              " '_TF_MODULE_IGNORED_PROPERTIES',\n",
              " '__call__',\n",
              " '__class__',\n",
              " '__copy__',\n",
              " '__deepcopy__',\n",
              " '__delattr__',\n",
              " '__dict__',\n",
              " '__dir__',\n",
              " '__doc__',\n",
              " '__eq__',\n",
              " '__format__',\n",
              " '__ge__',\n",
              " '__getattribute__',\n",
              " '__getstate__',\n",
              " '__gt__',\n",
              " '__hash__',\n",
              " '__init__',\n",
              " '__init_subclass__',\n",
              " '__le__',\n",
              " '__lt__',\n",
              " '__module__',\n",
              " '__ne__',\n",
              " '__new__',\n",
              " '__reduce__',\n",
              " '__reduce_ex__',\n",
              " '__repr__',\n",
              " '__setattr__',\n",
              " '__setstate__',\n",
              " '__sizeof__',\n",
              " '__str__',\n",
              " '__subclasshook__',\n",
              " '__weakref__',\n",
              " '_activity_regularizer',\n",
              " '_add_trackable',\n",
              " '_add_trackable_child',\n",
              " '_add_variable_with_custom_getter',\n",
              " '_assert_compile_was_called',\n",
              " '_assert_weights_created',\n",
              " '_auto_track_sub_layers',\n",
              " '_autocast',\n",
              " '_autographed_call',\n",
              " '_base_model_initialized',\n",
              " '_build_graph_network_for_inferred_shape',\n",
              " '_build_input_shape',\n",
              " '_call_accepts_kwargs',\n",
              " '_call_arg_was_passed',\n",
              " '_call_fn_arg_defaults',\n",
              " '_call_fn_arg_positions',\n",
              " '_call_fn_args',\n",
              " '_call_full_argspec',\n",
              " '_callable_losses',\n",
              " '_captured_weight_regularizer',\n",
              " '_cast_single_input',\n",
              " '_check_call_args',\n",
              " '_check_sample_weight_warning',\n",
              " '_checkpoint',\n",
              " '_checkpoint_dependencies',\n",
              " '_clear_losses',\n",
              " '_cluster_coordinator',\n",
              " '_compile_was_called',\n",
              " '_compiled_trainable_state',\n",
              " '_compute_dtype',\n",
              " '_compute_dtype_object',\n",
              " '_compute_output_and_mask_jointly',\n",
              " '_compute_tensor_usage_count',\n",
              " '_configure_steps_per_execution',\n",
              " '_conform_to_reference_input',\n",
              " '_created_nodes',\n",
              " '_dedup_weights',\n",
              " '_default_training_arg',\n",
              " '_deferred_dependencies',\n",
              " '_delete_tracking',\n",
              " '_deserialization_dependencies',\n",
              " '_deserialize_from_proto',\n",
              " '_distribution_strategy',\n",
              " '_dtype',\n",
              " '_dtype_policy',\n",
              " '_dynamic',\n",
              " '_eager_losses',\n",
              " '_expects_mask_arg',\n",
              " '_expects_training_arg',\n",
              " '_export_to_saved_model_graph',\n",
              " '_flatten',\n",
              " '_flatten_layers',\n",
              " '_flatten_modules',\n",
              " '_flatten_to_reference_inputs',\n",
              " '_functional_construction_call',\n",
              " '_gather_children_attribute',\n",
              " '_gather_saveables_for_checkpoint',\n",
              " '_get_call_arg_value',\n",
              " '_get_callback_model',\n",
              " '_get_cell_name',\n",
              " '_get_compile_args',\n",
              " '_get_existing_metric',\n",
              " '_get_input_masks',\n",
              " '_get_legacy_saved_model_children',\n",
              " '_get_node_attribute_at_index',\n",
              " '_get_optimizer',\n",
              " '_get_save_spec',\n",
              " '_get_trainable_state',\n",
              " '_get_unnested_name_scope',\n",
              " '_graph_initialized',\n",
              " '_graph_network_add_loss',\n",
              " '_graph_network_add_metric',\n",
              " '_handle_activity_regularization',\n",
              " '_handle_deferred_dependencies',\n",
              " '_handle_deferred_layer_dependencies',\n",
              " '_handle_weight_regularization',\n",
              " '_has_explicit_input_shape',\n",
              " '_in_multi_worker_mode',\n",
              " '_inbound_nodes',\n",
              " '_inbound_nodes_value',\n",
              " '_infer_output_signature',\n",
              " '_inferred_input_shape',\n",
              " '_init_batch_counters',\n",
              " '_init_call_fn_args',\n",
              " '_init_graph_network',\n",
              " '_init_set_name',\n",
              " '_initial_weights',\n",
              " '_input_dtype',\n",
              " '_input_spec',\n",
              " '_insert_layers',\n",
              " '_instrument_layer_creation',\n",
              " '_instrumented_keras_api',\n",
              " '_instrumented_keras_layer_class',\n",
              " '_instrumented_keras_model_class',\n",
              " '_is_compiled',\n",
              " '_is_graph_network',\n",
              " '_is_layer',\n",
              " '_is_layer_name_unique',\n",
              " '_is_model_for_instrumentation',\n",
              " '_jit_compile',\n",
              " '_keras_api_names',\n",
              " '_keras_api_names_v1',\n",
              " '_keras_tensor_symbolic_call',\n",
              " '_layer_call_argspecs',\n",
              " '_layer_checkpoint_dependencies',\n",
              " '_layout_map',\n",
              " '_list_extra_dependencies_for_serialization',\n",
              " '_list_functions_for_serialization',\n",
              " '_lookup_dependency',\n",
              " '_losses',\n",
              " '_map_resources',\n",
              " '_maybe_build',\n",
              " '_maybe_cast_inputs',\n",
              " '_maybe_create_attribute',\n",
              " '_maybe_initialize_trackable',\n",
              " '_maybe_load_initial_epoch_from_ckpt',\n",
              " '_maybe_load_initial_step_from_ckpt',\n",
              " '_metrics',\n",
              " '_metrics_lock',\n",
              " '_must_restore_from_config',\n",
              " '_name',\n",
              " '_name_based_attribute_restore',\n",
              " '_name_based_restores',\n",
              " '_name_scope',\n",
              " '_name_scope_on_declaration',\n",
              " '_no_dependency',\n",
              " '_non_trainable_weights',\n",
              " '_obj_reference_counts',\n",
              " '_object_identifier',\n",
              " '_outbound_nodes',\n",
              " '_outbound_nodes_value',\n",
              " '_predict_counter',\n",
              " '_preload_simple_restoration',\n",
              " '_preserve_input_structure_in_config',\n",
              " '_reset_compile_cache',\n",
              " '_restore_from_checkpoint_position',\n",
              " '_restore_from_tensors',\n",
              " '_run_eagerly',\n",
              " '_run_internal_graph',\n",
              " '_saved_model_arg_spec',\n",
              " '_saved_model_inputs_spec',\n",
              " '_self_name_based_restores',\n",
              " '_self_saveable_object_factories',\n",
              " '_self_setattr_tracking',\n",
              " '_self_tracked_trackables',\n",
              " '_self_unconditional_checkpoint_dependencies',\n",
              " '_self_unconditional_deferred_dependencies',\n",
              " '_self_unconditional_dependency_names',\n",
              " '_self_update_uid',\n",
              " '_serialize_to_proto',\n",
              " '_serialize_to_tensors',\n",
              " '_set_call_arg_value',\n",
              " '_set_connectivity_metadata',\n",
              " '_set_dtype_policy',\n",
              " '_set_inputs',\n",
              " '_set_mask_keras_history_checked',\n",
              " '_set_mask_metadata',\n",
              " '_set_output_names',\n",
              " '_set_save_spec',\n",
              " '_set_trainable_state',\n",
              " '_set_training_mode',\n",
              " '_setattr_tracking',\n",
              " '_should_cast_single_input',\n",
              " '_should_compute_mask',\n",
              " '_should_eval',\n",
              " '_single_restoration_from_checkpoint_position',\n",
              " '_split_out_first_arg',\n",
              " '_stateful',\n",
              " '_steps_per_execution',\n",
              " '_supports_masking',\n",
              " '_test_counter',\n",
              " '_tf_api_names',\n",
              " '_tf_api_names_v1',\n",
              " '_thread_local',\n",
              " '_track_trackable',\n",
              " '_trackable_children',\n",
              " '_trackable_saved_model_saver',\n",
              " '_tracking_metadata',\n",
              " '_train_counter',\n",
              " '_trainable',\n",
              " '_trainable_weights',\n",
              " '_training_state',\n",
              " '_unconditional_checkpoint_dependencies',\n",
              " '_unconditional_dependency_names',\n",
              " '_undeduplicated_weights',\n",
              " '_update_uid',\n",
              " '_updated_config',\n",
              " '_updates',\n",
              " '_use_input_spec_as_call_signature',\n",
              " '_use_legacy_deferred_behavior',\n",
              " '_validate_compile',\n",
              " '_validate_graph_inputs_and_outputs',\n",
              " '_validate_target_and_loss',\n",
              " 'activity_regularizer',\n",
              " 'add',\n",
              " 'add_loss',\n",
              " 'add_metric',\n",
              " 'add_update',\n",
              " 'add_variable',\n",
              " 'add_weight',\n",
              " 'build',\n",
              " 'built',\n",
              " 'call',\n",
              " 'compile',\n",
              " 'compiled_loss',\n",
              " 'compiled_metrics',\n",
              " 'compute_dtype',\n",
              " 'compute_loss',\n",
              " 'compute_mask',\n",
              " 'compute_metrics',\n",
              " 'compute_output_shape',\n",
              " 'compute_output_signature',\n",
              " 'count_params',\n",
              " 'distribute_strategy',\n",
              " 'dtype',\n",
              " 'dtype_policy',\n",
              " 'dynamic',\n",
              " 'evaluate',\n",
              " 'evaluate_generator',\n",
              " 'finalize_state',\n",
              " 'fit',\n",
              " 'fit_generator',\n",
              " 'from_config',\n",
              " 'get_config',\n",
              " 'get_input_at',\n",
              " 'get_input_mask_at',\n",
              " 'get_input_shape_at',\n",
              " 'get_layer',\n",
              " 'get_output_at',\n",
              " 'get_output_mask_at',\n",
              " 'get_output_shape_at',\n",
              " 'get_weights',\n",
              " 'history',\n",
              " 'inbound_nodes',\n",
              " 'input',\n",
              " 'input_mask',\n",
              " 'input_names',\n",
              " 'input_shape',\n",
              " 'input_spec',\n",
              " 'inputs',\n",
              " 'layers',\n",
              " 'load_weights',\n",
              " 'losses',\n",
              " 'make_predict_function',\n",
              " 'make_test_function',\n",
              " 'make_train_function',\n",
              " 'metrics',\n",
              " 'metrics_names',\n",
              " 'name',\n",
              " 'name_scope',\n",
              " 'non_trainable_variables',\n",
              " 'non_trainable_weights',\n",
              " 'optimizer',\n",
              " 'outbound_nodes',\n",
              " 'output',\n",
              " 'output_mask',\n",
              " 'output_names',\n",
              " 'output_shape',\n",
              " 'outputs',\n",
              " 'pop',\n",
              " 'predict',\n",
              " 'predict_function',\n",
              " 'predict_generator',\n",
              " 'predict_on_batch',\n",
              " 'predict_step',\n",
              " 'reset_metrics',\n",
              " 'reset_states',\n",
              " 'run_eagerly',\n",
              " 'save',\n",
              " 'save_spec',\n",
              " 'save_weights',\n",
              " 'set_weights',\n",
              " 'state_updates',\n",
              " 'stateful',\n",
              " 'stop_training',\n",
              " 'submodules',\n",
              " 'summary',\n",
              " 'supports_masking',\n",
              " 'test_function',\n",
              " 'test_on_batch',\n",
              " 'test_step',\n",
              " 'to_json',\n",
              " 'to_yaml',\n",
              " 'train_function',\n",
              " 'train_on_batch',\n",
              " 'train_step',\n",
              " 'train_tf_function',\n",
              " 'trainable',\n",
              " 'trainable_variables',\n",
              " 'trainable_weights',\n",
              " 'updates',\n",
              " 'variable_dtype',\n",
              " 'variables',\n",
              " 'weights',\n",
              " 'with_name_scope']"
            ]
          },
          "metadata": {},
          "execution_count": 75
        }
      ]
    },
    {
      "cell_type": "code",
      "source": [
        "model.__call__"
      ],
      "metadata": {
        "colab": {
          "base_uri": "https://localhost:8080/"
        },
        "id": "n5wn-Dqn8J1p",
        "outputId": "e0ce2f6f-5e80-4a21-8984-b11068373e58"
      },
      "execution_count": 76,
      "outputs": [
        {
          "output_type": "execute_result",
          "data": {
            "text/plain": [
              "<bound method Model.__call__ of <keras.engine.sequential.Sequential object at 0x7ff75468ed60>>"
            ]
          },
          "metadata": {},
          "execution_count": 76
        }
      ]
    },
    {
      "cell_type": "code",
      "source": [
        "model(x)\n",
        "# 자동으로 forwarding"
      ],
      "metadata": {
        "colab": {
          "base_uri": "https://localhost:8080/"
        },
        "id": "R3OL39I68u84",
        "outputId": "14b3e516-8765-4ec3-b569-4da6a0620492"
      },
      "execution_count": 81,
      "outputs": [
        {
          "output_type": "execute_result",
          "data": {
            "text/plain": [
              "<tf.Tensor: shape=(3, 4), dtype=float32, numpy=\n",
              "array([[-0.4202936 , -0.54604775, -0.84012854, -0.13507698],\n",
              "       [-0.4202936 , -0.54604775, -0.84012854, -0.13507698],\n",
              "       [-0.4202936 , -0.54604775, -0.84012854, -0.13507698]],\n",
              "      dtype=float32)>"
            ]
          },
          "metadata": {},
          "execution_count": 81
        }
      ]
    },
    {
      "cell_type": "code",
      "source": [
        "x = tf.ones((3, 3))\n",
        "y = model(x)\n",
        "y"
      ],
      "metadata": {
        "colab": {
          "base_uri": "https://localhost:8080/"
        },
        "id": "55ecT1x27-np",
        "outputId": "c5ac1ace-3966-489f-9978-a7341c835d4b"
      },
      "execution_count": 80,
      "outputs": [
        {
          "output_type": "execute_result",
          "data": {
            "text/plain": [
              "<tf.Tensor: shape=(3, 4), dtype=float32, numpy=\n",
              "array([[-0.4202936 , -0.54604775, -0.84012854, -0.13507698],\n",
              "       [-0.4202936 , -0.54604775, -0.84012854, -0.13507698],\n",
              "       [-0.4202936 , -0.54604775, -0.84012854, -0.13507698]],\n",
              "      dtype=float32)>"
            ]
          },
          "metadata": {},
          "execution_count": 80
        }
      ]
    },
    {
      "cell_type": "code",
      "source": [
        "model = Sequential()\n",
        "\n",
        "model.add(layers.Dense(2, activation=\"relu\", name=\"layer1\"))\n",
        "model.add(layers.Dense(3, activation=\"sigmoid\", name=\"layer2\"))\n",
        "model.add(layers.Dense(4, name=\"layer3\"))\n",
        "\n",
        "model.pop()\n",
        "model.layers"
      ],
      "metadata": {
        "colab": {
          "base_uri": "https://localhost:8080/"
        },
        "id": "NSFw9_7Z83Qh",
        "outputId": "360b377d-8c3f-495b-b3f4-eee6b5f9de5d"
      },
      "execution_count": 83,
      "outputs": [
        {
          "output_type": "execute_result",
          "data": {
            "text/plain": [
              "[<keras.layers.core.dense.Dense at 0x7ff74f965ac0>,\n",
              " <keras.layers.core.dense.Dense at 0x7ff74f965460>]"
            ]
          },
          "metadata": {},
          "execution_count": 83
        }
      ]
    },
    {
      "cell_type": "code",
      "source": [
        "model = Sequential()\n",
        "\n",
        "model.add(layers.Dense(2, activation=\"relu\", name=\"layer1\"))\n",
        "model.add(layers.Dense(3, activation=\"sigmoid\", name=\"layer2\"))\n",
        "model.add(layers.Dense(4, name=\"layer3\"))\n",
        "\n",
        "model.pop()\n",
        "model.pop()\n",
        "model.pop() # layer 꺼내기\n",
        "model.layers"
      ],
      "metadata": {
        "colab": {
          "base_uri": "https://localhost:8080/"
        },
        "id": "WZ1ms92P9R_q",
        "outputId": "d95d1dc4-de26-44e1-ee70-0fb7530d5717"
      },
      "execution_count": 84,
      "outputs": [
        {
          "output_type": "execute_result",
          "data": {
            "text/plain": [
              "[]"
            ]
          },
          "metadata": {},
          "execution_count": 84
        }
      ]
    },
    {
      "cell_type": "code",
      "source": [
        "layer1 = layers.Dense(2, activation=\"relu\", name=\"layer1\")\n",
        "layer2 = layers.Dense(3, activation=\"sigmoid\", name=\"layer2\")\n",
        "layer3 = layers.Dense(4, name=\"layer3\")\n",
        "\n",
        "x = tf.ones((3, 3))\n",
        "l1_output = layer1(x)\n",
        "l2_output = layer2(l1_output)\n",
        "y = layer3(l2_output)\n",
        "y"
      ],
      "metadata": {
        "colab": {
          "base_uri": "https://localhost:8080/"
        },
        "id": "A_Y3gdT_-NJa",
        "outputId": "0fd9dfc3-349d-4a39-efda-37425636568c"
      },
      "execution_count": 85,
      "outputs": [
        {
          "output_type": "execute_result",
          "data": {
            "text/plain": [
              "<tf.Tensor: shape=(3, 4), dtype=float32, numpy=\n",
              "array([[-0.81743526,  0.05542231, -0.6130753 , -1.0599182 ],\n",
              "       [-0.81743526,  0.05542231, -0.6130753 , -1.0599182 ],\n",
              "       [-0.81743526,  0.05542231, -0.6130753 , -1.0599182 ]],\n",
              "      dtype=float32)>"
            ]
          },
          "metadata": {},
          "execution_count": 85
        }
      ]
    },
    {
      "cell_type": "code",
      "source": [
        "y = layer3(tf.sum(l1_output, l2_output))"
      ],
      "metadata": {
        "colab": {
          "base_uri": "https://localhost:8080/",
          "height": 174
        },
        "id": "VNBSSv2q-19h",
        "outputId": "95c73b43-792e-49b7-948f-bace6fe2c389"
      },
      "execution_count": 92,
      "outputs": [
        {
          "output_type": "error",
          "ename": "AttributeError",
          "evalue": "ignored",
          "traceback": [
            "\u001b[0;31m---------------------------------------------------------------------------\u001b[0m",
            "\u001b[0;31mAttributeError\u001b[0m                            Traceback (most recent call last)",
            "\u001b[0;32m<ipython-input-92-f0511b1bb3d5>\u001b[0m in \u001b[0;36m<module>\u001b[0;34m\u001b[0m\n\u001b[0;32m----> 1\u001b[0;31m \u001b[0my\u001b[0m \u001b[0;34m=\u001b[0m \u001b[0mlayer3\u001b[0m\u001b[0;34m(\u001b[0m\u001b[0mtf\u001b[0m\u001b[0;34m.\u001b[0m\u001b[0msum\u001b[0m\u001b[0;34m(\u001b[0m\u001b[0ml1_output\u001b[0m\u001b[0;34m,\u001b[0m \u001b[0ml2_output\u001b[0m\u001b[0;34m)\u001b[0m\u001b[0;34m)\u001b[0m\u001b[0;34m\u001b[0m\u001b[0;34m\u001b[0m\u001b[0m\n\u001b[0m",
            "\u001b[0;31mAttributeError\u001b[0m: module 'tensorflow' has no attribute 'sum'"
          ]
        }
      ]
    },
    {
      "cell_type": "code",
      "source": [
        "y = layer3(layer2(layer1(x)))\n",
        "y"
      ],
      "metadata": {
        "colab": {
          "base_uri": "https://localhost:8080/"
        },
        "id": "O5JQKiVO-rMo",
        "outputId": "437e0b9a-c9a7-4141-e6ab-961ec8b04d47"
      },
      "execution_count": 87,
      "outputs": [
        {
          "output_type": "execute_result",
          "data": {
            "text/plain": [
              "<tf.Tensor: shape=(3, 4), dtype=float32, numpy=\n",
              "array([[-0.81743526,  0.05542231, -0.6130753 , -1.0599182 ],\n",
              "       [-0.81743526,  0.05542231, -0.6130753 , -1.0599182 ],\n",
              "       [-0.81743526,  0.05542231, -0.6130753 , -1.0599182 ]],\n",
              "      dtype=float32)>"
            ]
          },
          "metadata": {},
          "execution_count": 87
        }
      ]
    }
  ]
}