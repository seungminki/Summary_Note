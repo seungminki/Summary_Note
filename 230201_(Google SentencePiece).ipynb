{
 "cells": [
  {
   "cell_type": "code",
   "execution_count": 48,
   "id": "ee900fbc",
   "metadata": {},
   "outputs": [],
   "source": [
    "import sentencepiece as spm\n",
    "import pandas as pd"
   ]
  },
  {
   "cell_type": "code",
   "execution_count": 49,
   "id": "9e4c27ba",
   "metadata": {},
   "outputs": [],
   "source": [
    "data = pd.read_csv(\"C:/Users/rltmdals/Downloads/ratings.txt\", sep='\\t', quoting=3)"
   ]
  },
  {
   "cell_type": "code",
   "execution_count": 50,
   "id": "5e48193a",
   "metadata": {},
   "outputs": [
    {
     "name": "stdout",
     "output_type": "stream",
     "text": [
      "(200000, 3)\n"
     ]
    },
    {
     "data": {
      "text/html": [
       "<div>\n",
       "<style scoped>\n",
       "    .dataframe tbody tr th:only-of-type {\n",
       "        vertical-align: middle;\n",
       "    }\n",
       "\n",
       "    .dataframe tbody tr th {\n",
       "        vertical-align: top;\n",
       "    }\n",
       "\n",
       "    .dataframe thead th {\n",
       "        text-align: right;\n",
       "    }\n",
       "</style>\n",
       "<table border=\"1\" class=\"dataframe\">\n",
       "  <thead>\n",
       "    <tr style=\"text-align: right;\">\n",
       "      <th></th>\n",
       "      <th>id</th>\n",
       "      <th>document</th>\n",
       "      <th>label</th>\n",
       "    </tr>\n",
       "  </thead>\n",
       "  <tbody>\n",
       "    <tr>\n",
       "      <th>0</th>\n",
       "      <td>8112052</td>\n",
       "      <td>어릴때보고 지금다시봐도 재밌어요ㅋㅋ</td>\n",
       "      <td>1</td>\n",
       "    </tr>\n",
       "    <tr>\n",
       "      <th>1</th>\n",
       "      <td>8132799</td>\n",
       "      <td>디자인을 배우는 학생으로, 외국디자이너와 그들이 일군 전통을 통해 발전해가는 문화산...</td>\n",
       "      <td>1</td>\n",
       "    </tr>\n",
       "    <tr>\n",
       "      <th>2</th>\n",
       "      <td>4655635</td>\n",
       "      <td>폴리스스토리 시리즈는 1부터 뉴까지 버릴께 하나도 없음.. 최고.</td>\n",
       "      <td>1</td>\n",
       "    </tr>\n",
       "    <tr>\n",
       "      <th>3</th>\n",
       "      <td>9251303</td>\n",
       "      <td>와.. 연기가 진짜 개쩔구나.. 지루할거라고 생각했는데 몰입해서 봤다.. 그래 이런...</td>\n",
       "      <td>1</td>\n",
       "    </tr>\n",
       "    <tr>\n",
       "      <th>4</th>\n",
       "      <td>10067386</td>\n",
       "      <td>안개 자욱한 밤하늘에 떠 있는 초승달 같은 영화.</td>\n",
       "      <td>1</td>\n",
       "    </tr>\n",
       "  </tbody>\n",
       "</table>\n",
       "</div>"
      ],
      "text/plain": [
       "         id                                           document  label\n",
       "0   8112052                                어릴때보고 지금다시봐도 재밌어요ㅋㅋ      1\n",
       "1   8132799  디자인을 배우는 학생으로, 외국디자이너와 그들이 일군 전통을 통해 발전해가는 문화산...      1\n",
       "2   4655635               폴리스스토리 시리즈는 1부터 뉴까지 버릴께 하나도 없음.. 최고.      1\n",
       "3   9251303  와.. 연기가 진짜 개쩔구나.. 지루할거라고 생각했는데 몰입해서 봤다.. 그래 이런...      1\n",
       "4  10067386                        안개 자욱한 밤하늘에 떠 있는 초승달 같은 영화.      1"
      ]
     },
     "execution_count": 50,
     "metadata": {},
     "output_type": "execute_result"
    }
   ],
   "source": [
    "print(data.shape)\n",
    "data.head()"
   ]
  },
  {
   "cell_type": "code",
   "execution_count": 51,
   "id": "e9fa7e31",
   "metadata": {},
   "outputs": [
    {
     "name": "stdout",
     "output_type": "stream",
     "text": [
      "nan unsupported operand type(s) for +: 'float' and 'str'\n",
      "nan unsupported operand type(s) for +: 'float' and 'str'\n",
      "nan unsupported operand type(s) for +: 'float' and 'str'\n",
      "nan unsupported operand type(s) for +: 'float' and 'str'\n",
      "nan unsupported operand type(s) for +: 'float' and 'str'\n",
      "nan unsupported operand type(s) for +: 'float' and 'str'\n",
      "nan unsupported operand type(s) for +: 'float' and 'str'\n",
      "nan unsupported operand type(s) for +: 'float' and 'str'\n"
     ]
    }
   ],
   "source": [
    "with open('./nsmc_text.txt', 'w', encoding='utf-8') as f:\n",
    "    for line in data.document.values:\n",
    "        try:\n",
    "            f.write(line+'\\n')\n",
    "        except TypeError as TE:\n",
    "            print(line, TE)"
   ]
  },
  {
   "cell_type": "code",
   "execution_count": 52,
   "id": "97198565",
   "metadata": {},
   "outputs": [
    {
     "name": "stdout",
     "output_type": "stream",
     "text": [
      "어릴때보고 지금다시봐도 재밌어요ㅋㅋ\n"
     ]
    }
   ],
   "source": [
    "with open('./nsmc_text.txt', 'r', encoding='utf-8') as f:\n",
    "    nsmc_text = f.read().split('\\n')\n",
    "print(nsmc_text[0])"
   ]
  },
  {
   "cell_type": "code",
   "execution_count": 56,
   "id": "1af81df1",
   "metadata": {},
   "outputs": [],
   "source": [
    "input_file = './nsmc_text.txt'\n",
    "vocab_size = 177536\n",
    "prefix = './nsmc'"
   ]
  },
  {
   "cell_type": "code",
   "execution_count": 57,
   "id": "8efd3c54",
   "metadata": {},
   "outputs": [
    {
     "data": {
      "text/plain": [
       "'--input=./nsmc_text.txt --model_prefix=./nsmc --vocab_size=177536'"
      ]
     },
     "execution_count": 57,
     "metadata": {},
     "output_type": "execute_result"
    }
   ],
   "source": [
    "templates = '--input={} --model_prefix={} --vocab_size={}'\n",
    "cmd = templates.format(input_file, prefix, vocab_size)\n",
    "cmd"
   ]
  },
  {
   "cell_type": "code",
   "execution_count": 55,
   "id": "81f67bde",
   "metadata": {},
   "outputs": [
    {
     "ename": "RuntimeError",
     "evalue": "Internal: C:\\ci\\sentencepiece_1635181348757\\work\\src\\trainer_interface.cc(579) [(trainer_spec_.vocab_size()) == (model_proto->pieces_size())] Vocabulary size too high (200000). Please set it to a value <= 177536.",
     "output_type": "error",
     "traceback": [
      "\u001b[1;31m---------------------------------------------------------------------------\u001b[0m",
      "\u001b[1;31mRuntimeError\u001b[0m                              Traceback (most recent call last)",
      "\u001b[1;32m<timed eval>\u001b[0m in \u001b[0;36m<module>\u001b[1;34m\u001b[0m\n",
      "\u001b[1;32m~\\anaconda3\\lib\\site-packages\\sentencepiece\\__init__.py\u001b[0m in \u001b[0;36mTrain\u001b[1;34m(arg, **kwargs)\u001b[0m\n\u001b[0;32m    405\u001b[0m       \u001b[1;34m\"\"\"Train Sentencepiece model. Accept both kwargs and legacy string arg.\"\"\"\u001b[0m\u001b[1;33m\u001b[0m\u001b[1;33m\u001b[0m\u001b[0m\n\u001b[0;32m    406\u001b[0m       \u001b[1;32mif\u001b[0m \u001b[0marg\u001b[0m \u001b[1;32mis\u001b[0m \u001b[1;32mnot\u001b[0m \u001b[1;32mNone\u001b[0m \u001b[1;32mand\u001b[0m \u001b[0mtype\u001b[0m\u001b[1;33m(\u001b[0m\u001b[0marg\u001b[0m\u001b[1;33m)\u001b[0m \u001b[1;32mis\u001b[0m \u001b[0mstr\u001b[0m\u001b[1;33m:\u001b[0m\u001b[1;33m\u001b[0m\u001b[1;33m\u001b[0m\u001b[0m\n\u001b[1;32m--> 407\u001b[1;33m         \u001b[1;32mreturn\u001b[0m \u001b[0mSentencePieceTrainer\u001b[0m\u001b[1;33m.\u001b[0m\u001b[0m_TrainFromString\u001b[0m\u001b[1;33m(\u001b[0m\u001b[0marg\u001b[0m\u001b[1;33m)\u001b[0m\u001b[1;33m\u001b[0m\u001b[1;33m\u001b[0m\u001b[0m\n\u001b[0m\u001b[0;32m    408\u001b[0m \u001b[1;33m\u001b[0m\u001b[0m\n\u001b[0;32m    409\u001b[0m       \u001b[1;32mdef\u001b[0m \u001b[0m_encode\u001b[0m\u001b[1;33m(\u001b[0m\u001b[0mvalue\u001b[0m\u001b[1;33m)\u001b[0m\u001b[1;33m:\u001b[0m\u001b[1;33m\u001b[0m\u001b[1;33m\u001b[0m\u001b[0m\n",
      "\u001b[1;32m~\\anaconda3\\lib\\site-packages\\sentencepiece\\__init__.py\u001b[0m in \u001b[0;36m_TrainFromString\u001b[1;34m(arg)\u001b[0m\n\u001b[0;32m    383\u001b[0m     \u001b[1;33m@\u001b[0m\u001b[0mstaticmethod\u001b[0m\u001b[1;33m\u001b[0m\u001b[1;33m\u001b[0m\u001b[0m\n\u001b[0;32m    384\u001b[0m     \u001b[1;32mdef\u001b[0m \u001b[0m_TrainFromString\u001b[0m\u001b[1;33m(\u001b[0m\u001b[0marg\u001b[0m\u001b[1;33m)\u001b[0m\u001b[1;33m:\u001b[0m\u001b[1;33m\u001b[0m\u001b[1;33m\u001b[0m\u001b[0m\n\u001b[1;32m--> 385\u001b[1;33m         \u001b[1;32mreturn\u001b[0m \u001b[0m_sentencepiece\u001b[0m\u001b[1;33m.\u001b[0m\u001b[0mSentencePieceTrainer__TrainFromString\u001b[0m\u001b[1;33m(\u001b[0m\u001b[0marg\u001b[0m\u001b[1;33m)\u001b[0m\u001b[1;33m\u001b[0m\u001b[1;33m\u001b[0m\u001b[0m\n\u001b[0m\u001b[0;32m    386\u001b[0m \u001b[1;33m\u001b[0m\u001b[0m\n\u001b[0;32m    387\u001b[0m     \u001b[1;33m@\u001b[0m\u001b[0mstaticmethod\u001b[0m\u001b[1;33m\u001b[0m\u001b[1;33m\u001b[0m\u001b[0m\n",
      "\u001b[1;31mRuntimeError\u001b[0m: Internal: C:\\ci\\sentencepiece_1635181348757\\work\\src\\trainer_interface.cc(579) [(trainer_spec_.vocab_size()) == (model_proto->pieces_size())] Vocabulary size too high (200000). Please set it to a value <= 177536."
     ]
    }
   ],
   "source": [
    "%%time\n",
    "spm.SentencePieceTrainer.Train(cmd)"
   ]
  },
  {
   "cell_type": "code",
   "execution_count": 58,
   "id": "8eadcf71",
   "metadata": {},
   "outputs": [
    {
     "name": "stdout",
     "output_type": "stream",
     "text": [
      "Wall time: 4.16 s\n"
     ]
    }
   ],
   "source": [
    "%%time\n",
    "spm.SentencePieceTrainer.Train(cmd)"
   ]
  },
  {
   "cell_type": "code",
   "execution_count": 59,
   "id": "72c702b7",
   "metadata": {},
   "outputs": [
    {
     "data": {
      "text/plain": [
       "True"
      ]
     },
     "execution_count": 59,
     "metadata": {},
     "output_type": "execute_result"
    }
   ],
   "source": [
    "sp = spm.SentencePieceProcessor()\n",
    "sp.Load('{}.model'.format(prefix))"
   ]
  },
  {
   "cell_type": "code",
   "execution_count": 60,
   "id": "4497d972",
   "metadata": {},
   "outputs": [
    {
     "name": "stdout",
     "output_type": "stream",
     "text": [
      "어릴때보고 지금다시봐도 재밌어요ㅋㅋ\n",
      "['▁어릴때', '보고', '▁', '지금다시봐도', '▁재밌어요ᄏᄏ']\n",
      "[715, 287, 4, 34410, 60978] \n",
      "\n",
      "디자인을 배우는 학생으로, 외국디자이너와 그들이 일군 전통을 통해 발전해가는 문화산업이 부러웠는데. 사실 우리나라에서도 그 어려운시절에 끝까지 열정을 지킨 노라노 같은 전통이있어 저와 같은 사람들이 꿈을 꾸고 이뤄나갈 수 있다는 것에 감사합니다.\n",
      "['▁디자인', '을', '▁배우는', '▁학생으로', ',', '▁외국', '디자이너', '와', '▁그들이', '▁일', '군', '▁전통', '을', '▁통해', '▁발전해가', '는', '▁문화산', '업이', '▁부러웠', '는데', '.', '▁사실', '▁우리나라에서', '도', '▁그', '▁어려운', '시절에', '▁끝까지', '▁열정을', '▁지킨', '▁노라', '노', '▁같은', '▁전통이', '있어', '▁저', '와', '▁같은', '▁사람들이', '▁꿈을', '▁꾸고', '▁이뤄', '나갈', '▁수', '▁있다는', '▁것에', '▁감사합니다', '.']\n",
      "[7825, 17, 2725, 75010, 8, 3325, 63150, 61, 3163, 670, 640, 9243, 17, 1088, 108255, 11, 119441, 62473, 61930, 205, 3, 723, 4566, 12, 36, 1602, 41220, 132, 10414, 42796, 23234, 1631, 130, 175954, 4587, 268, 61, 130, 499, 1706, 34411, 19487, 35084, 35, 1022, 2659, 982, 3] \n",
      "\n",
      "폴리스스토리 시리즈는 1부터 뉴까지 버릴께 하나도 없음.. 최고.\n",
      "['▁폴리스스토리', '▁시리즈는', '▁1', '부터', '▁뉴', '까지', '▁버릴', '께', '▁하나도', '▁없음', '..', '▁최고', '.']\n",
      "[16569, 2378, 27, 330, 8447, 144, 11298, 3107, 397, 302, 5, 81, 3] \n",
      "\n",
      "와.. 연기가 진짜 개쩔구나.. 지루할거라고 생각했는데 몰입해서 봤다.. 그래 이런게 진짜 영화지\n",
      "['▁와', '..', '▁연기가', '▁진짜', '▁개쩔', '구나', '..', '▁지루할거라', '고', '▁생각했는데', '▁몰입해서', '▁봤다', '..', '▁그래', '▁이런게', '▁진짜', '▁영화지']\n",
      "[160, 5, 188, 18, 32784, 618, 5, 118213, 24, 2233, 1715, 168, 5, 1307, 970, 18, 6653] \n",
      "\n",
      "안개 자욱한 밤하늘에 떠 있는 초승달 같은 영화.\n",
      "['▁안개', '▁자', '욱한', '▁밤하늘', '에', '▁떠', '▁있는', '▁초', '승', '달', '▁같은', '▁영화', '.']\n",
      "[15412, 879, 109121, 37257, 25, 4944, 76, 1153, 13172, 4505, 130, 7, 3] \n",
      "\n",
      "사랑을 해본사람이라면 처음부터 끝까지 웃을수 있는영화\n",
      "['▁사랑을', '▁해본사람이라', '면', '▁처음부터', '▁끝까지', '▁웃을수', '▁있는영화']\n",
      "[703, 58441, 104, 656, 132, 12790, 10049] \n",
      "\n",
      "완전 감동입니다 다시봐도 감동\n",
      "['▁완전', '▁감동입니다', '▁다시봐도', '▁감동']\n",
      "[69, 3739, 704, 146] \n",
      "\n",
      "개들의 전쟁2 나오나요? 나오면 1빠로 보고 싶음\n",
      "['▁개', '들의', '▁전쟁', '2', '▁나오나요', '?', '▁나오면', '▁1', '빠로', '▁보고', '▁싶음']\n",
      "[167, 474, 1054, 155, 18008, 10, 1735, 27, 170996, 44, 4518] \n",
      "\n",
      "굿\n",
      "['▁굿']\n",
      "[181] \n",
      "\n",
      "바보가 아니라 병 쉰 인듯\n",
      "['▁바보가', '▁아니라', '▁병', '▁쉰', '▁인듯']\n",
      "[8038, 196, 3703, 19758, 16157] \n",
      "\n"
     ]
    }
   ],
   "source": [
    "for t in data.document.values[:10]:\n",
    "    print(t)\n",
    "    print(sp.encode_as_pieces(t))\n",
    "    print(sp.encode_as_ids(t), '\\n')"
   ]
  },
  {
   "cell_type": "code",
   "execution_count": 35,
   "id": "63067f45",
   "metadata": {},
   "outputs": [
    {
     "name": "stdout",
     "output_type": "stream",
     "text": [
      "어릴때보고 지금다시봐도 재밌어요ㅋㅋ\n",
      "['▁어릴때', '보고', '▁지금', '다시', '봐도', '▁재밌어요', 'ᄏᄏ']\n",
      "[1965, 137, 277, 1627, 635, 828, 166] \n",
      "\n",
      "디자인을 배우는 학생으로, 외국디자이너와 그들이 일군 전통을 통해 발전해가는 문화산업이 부러웠는데. 사실 우리나라에서도 그 어려운시절에 끝까지 열정을 지킨 노라노 같은 전통이있어 저와 같은 사람들이 꿈을 꾸고 이뤄나갈 수 있다는 것에 감사합니다.\n",
      "['▁디', '자', '인', '을', '▁배우', '는', '▁', '학생', '으로', ',', '▁외국', '디', '자', '이', '너', '와', '▁그', '들이', '▁일', '군', '▁전', '통', '을', '▁통해', '▁발전', '해', '가', '는', '▁문화', '산', '업', '이', '▁부', '러', '웠', '는데', '.', '▁사실', '▁우리나라', '에서도', '▁그', '▁어려운', '시절', '에', '▁끝까지', '▁열정', '을', '▁지', '킨', '▁노', '라', '노', '▁같은', '▁전', '통', '이', '있어', '▁저', '와', '▁같은', '▁사람들이', '▁꿈', '을', '▁꾸', '고', '▁이', '뤄', '나', '갈', '▁수', '▁있다는', '▁것', '에', '▁감사합니다', '.']\n",
      "[1686, 45, 40, 13, 280, 12, 3, 1743, 48, 17, 2717, 249, 45, 5, 870, 57, 49, 130, 267, 259, 203, 702, 13, 2630, 3389, 44, 7, 12, 3311, 537, 675, 5, 263, 122, 1731, 90, 4, 848, 833, 2488, 49, 3435, 1984, 15, 419, 3370, 13, 192, 2641, 508, 36, 383, 430, 203, 702, 5, 2199, 209, 57, 430, 1457, 1219, 13, 3041, 14, 30, 4340, 26, 814, 66, 2221, 172, 15, 2726, 4] \n",
      "\n",
      "폴리스스토리 시리즈는 1부터 뉴까지 버릴께 하나도 없음.. 최고.\n",
      "['▁', '폴', '리스', '스토리', '▁시리즈', '는', '▁1', '부터', '▁', '뉴', '까지', '▁', '버릴', '께', '▁하나도', '▁없음', '..', '▁최고', '.']\n",
      "[3, 2618, 1904, 603, 773, 12, 64, 243, 3, 2586, 114, 3, 3976, 1105, 1182, 920, 6, 112, 4] \n",
      "\n",
      "와.. 연기가 진짜 개쩔구나.. 지루할거라고 생각했는데 몰입해서 봤다.. 그래 이런게 진짜 영화지\n",
      "['▁와', '..', '▁연기가', '▁진짜', '▁개', '쩔', '구나', '..', '▁지루할', '거', '라고', '▁생각', '했는데', '▁몰입해서', '▁봤다', '..', '▁그래', '▁이런게', '▁진짜', '▁영화', '지']\n",
      "[481, 6, 641, 39, 139, 2289, 428, 6, 3115, 63, 224, 147, 636, 3725, 459, 6, 2517, 2801, 39, 8, 19] \n",
      "\n",
      "안개 자욱한 밤하늘에 떠 있는 초승달 같은 영화.\n",
      "['▁안', '개', '▁자', '욱', '한', '▁밤', '하', '늘', '에', '▁떠', '▁있는', '▁초', '승', '달', '▁같은', '▁영화', '.']\n",
      "[43, 168, 296, 1857, 20, 2897, 60, 2927, 15, 1557, 160, 744, 503, 565, 430, 8, 4] \n",
      "\n",
      "사랑을 해본사람이라면 처음부터 끝까지 웃을수 있는영화\n",
      "['▁사랑을', '▁해', '본사람', '이라면', '▁처음부터', '▁끝까지', '▁웃', '을', '수', '▁있는', '영화']\n",
      "[2130, 450, 3760, 1478, 1810, 419, 715, 13, 58, 160, 28] \n",
      "\n",
      "완전 감동입니다 다시봐도 감동\n",
      "['▁완전', '▁감동', '입니다', '▁다시봐도', '▁감동']\n",
      "[164, 241, 199, 1994, 241] \n",
      "\n",
      "개들의 전쟁2 나오나요? 나오면 1빠로 보고 싶음\n",
      "['▁개', '들의', '▁전쟁', '2', '▁나오', '나요', '?', '▁나오면', '▁1', '빠', '로', '▁보고', '▁싶', '음']\n",
      "[139, 375, 909, 200, 527, 1111, 21, 3660, 64, 649, 23, 99, 640, 59] \n",
      "\n",
      "굿\n",
      "['▁굿']\n",
      "[423] \n",
      "\n",
      "바보가 아니라 병 쉰 인듯\n",
      "['▁바보', '가', '▁아니라', '▁병', '▁', '쉰', '▁', '인듯']\n",
      "[2138, 7, 491, 2721, 3, 4498, 3, 659] \n",
      "\n"
     ]
    }
   ],
   "source": [
    "for t in data.document.values[:10]:\n",
    "    print(t)\n",
    "    print(sp.encode_as_pieces(t))\n",
    "    print(sp.encode_as_ids(t), '\\n')"
   ]
  },
  {
   "cell_type": "code",
   "execution_count": 37,
   "id": "e041dbcb",
   "metadata": {},
   "outputs": [],
   "source": [
    "input_file = \"C:/Users/rltmdals/Desktop/botchan.txt\"\n",
    "vocab_size = 2000\n",
    "prefix = './m'\n",
    "\n",
    "templates = '--input={} --model_prefix={} --vocab_size={}'\n",
    "\n",
    "cmd = templates.format(input_file, prefix, vocab_size)\n",
    "spm.SentencePieceTrainer.Train(cmd)"
   ]
  },
  {
   "cell_type": "code",
   "execution_count": 38,
   "id": "f0393020",
   "metadata": {},
   "outputs": [
    {
     "data": {
      "text/plain": [
       "True"
      ]
     },
     "execution_count": 38,
     "metadata": {},
     "output_type": "execute_result"
    }
   ],
   "source": [
    "sp = spm.SentencePieceProcessor()\n",
    "sp.load('m.model')"
   ]
  },
  {
   "cell_type": "code",
   "execution_count": 42,
   "id": "5aa0acfa",
   "metadata": {},
   "outputs": [
    {
     "name": "stdout",
     "output_type": "stream",
     "text": [
      "Requirement already satisfied: protobuf in c:\\users\\rltmdals\\anaconda3\\lib\\site-packages (3.19.6)\n"
     ]
    }
   ],
   "source": [
    "!pip install protobuf"
   ]
  },
  {
   "cell_type": "code",
   "execution_count": 43,
   "id": "07d458bb",
   "metadata": {},
   "outputs": [
    {
     "name": "stdout",
     "output_type": "stream",
     "text": [
      "text: \"\\357\\275\\210\\357\\275\\205\\357\\275\\214\\357\\275\\214\\357\\275\\217\"\n",
      "pieces {\n",
      "  piece: \"\\342\\226\\201he\"\n",
      "  id: 29\n",
      "  surface: \"\\357\\275\\210\\357\\275\\205\"\n",
      "  begin: 0\n",
      "  end: 6\n",
      "}\n",
      "pieces {\n",
      "  piece: \"ll\"\n",
      "  id: 134\n",
      "  surface: \"\\357\\275\\214\\357\\275\\214\"\n",
      "  begin: 6\n",
      "  end: 12\n",
      "}\n",
      "pieces {\n",
      "  piece: \"o\"\n",
      "  id: 44\n",
      "  surface: \"\\357\\275\\217\"\n",
      "  begin: 12\n",
      "  end: 15\n",
      "}\n",
      "\n"
     ]
    },
    {
     "data": {
      "text/plain": [
       "492"
      ]
     },
     "execution_count": 43,
     "metadata": {},
     "output_type": "execute_result"
    }
   ],
   "source": [
    "from sentencepiece import sentencepiece_pb2\n",
    "# One best result\n",
    "spt = sentencepiece_pb2.SentencePieceText()\n",
    "spt.ParseFromString(sp.encode_as_serialized_proto('ｈｅｌｌｏ')) # Full width hello\n",
    "\n",
    "# begin/end (offsets) are pointing to the original input.\n",
    "print(spt)\n",
    "\n",
    "# Nbest results\n",
    "nspt = sentencepiece_pb2.NBestSentencePieceText()\n",
    "nspt.ParseFromString(sp.nbest_encode_as_serialized_proto('ｈｅｌｌｏ', 5))\n",
    "# print(nspt)"
   ]
  },
  {
   "cell_type": "markdown",
   "id": "08418903",
   "metadata": {},
   "source": [
    "* GO - the same as <start> on the picture below - the first token which is fed to the decoder along with the though vector in order to   start generating tokens of the answer  \n",
    "    \n",
    "* EOS - \"end of sentence\" - the same as <end> on the picture below - as soon as decoder generates this token we consider the answer to be complete (you can't use usual punctuation marks for this purpose cause their meaning can be different)  \n",
    "    \n",
    "* UNK - \"unknown token\" - is used to replace the rare words that did not fit in your vocabulary. So your sentence My name is guotong1988 will be translated into My name is _unk_.  \n",
    "    \n",
    "* PAD - your GPU (or CPU at worst) processes your training data in batches and all the sequences in your batch should have the same length. If the max length of your sequence is 8, your sentence My name is guotong1988 will be padded from either side to fit this length: My name is guotong1988 _pad_ _pad_ _pad_ _pad_"
   ]
  },
  {
   "cell_type": "markdown",
   "id": "d6fe8471",
   "metadata": {},
   "source": [
    "GO- 아래 그림과 동일 <start>- 답변의 토큰 생성을 시작하기 위해 스루 벡터와 함께 디코더에 공급되는 첫 번째 토큰\n",
    "EOS- \"문장 끝\" - <end>아래 그림과 동일 - 디코더가 이 토큰을 생성하는 즉시 답변이 완료된 것으로 간주합니다(의미가 다를 수 있으므로 이 목적을 위해 일반 구두점을 사용할 수 없습니다).\n",
    "UNK- \"알 수 없는 토큰\" - 귀하의 어휘에 맞지 않는 희귀 단어를 대체하는 데 사용됩니다. 따라서 귀하의 문장 My name is guotong1988은 로 번역됩니다 My name is _unk_.\n",
    "PAD- GPU(최악의 경우 CPU)는 훈련 데이터를 배치로 처리하고 배치의 모든 시퀀스는 동일한 길이를 가져야 합니다. 시퀀스의 최대 길이가 8인 경우 My name is guotong1988이 길이에 맞게 양쪽 문장이 채워집니다. My name is guotong1988 _pad_ _pad_ _pad_ _pad_"
   ]
  }
 ],
 "metadata": {
  "kernelspec": {
   "display_name": "Python 3 (ipykernel)",
   "language": "python",
   "name": "python3"
  },
  "language_info": {
   "codemirror_mode": {
    "name": "ipython",
    "version": 3
   },
   "file_extension": ".py",
   "mimetype": "text/x-python",
   "name": "python",
   "nbconvert_exporter": "python",
   "pygments_lexer": "ipython3",
   "version": "3.9.13"
  }
 },
 "nbformat": 4,
 "nbformat_minor": 5
}
