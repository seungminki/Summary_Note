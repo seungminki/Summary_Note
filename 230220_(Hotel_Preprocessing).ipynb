{
 "cells": [
  {
   "cell_type": "code",
   "execution_count": 1,
   "id": "9e426787",
   "metadata": {},
   "outputs": [
    {
     "data": {
      "text/plain": [
       "True"
      ]
     },
     "execution_count": 1,
     "metadata": {},
     "output_type": "execute_result"
    }
   ],
   "source": [
    "import pandas as pd\n",
    "import pymysql\n",
    "import boto3\n",
    "\n",
    "from smart_open import open as s_open\n",
    "from easydict import EasyDict\n",
    "from dotenv import load_dotenv\n",
    "\n",
    "from datetime import datetime\n",
    "import time\n",
    "import os\n",
    "\n",
    "load_dotenv()"
   ]
  },
  {
   "cell_type": "code",
   "execution_count": 2,
   "id": "db80ea46",
   "metadata": {},
   "outputs": [],
   "source": [
    "settings = EasyDict()\n",
    "\n",
    "settings.AWS_ACCESS_KEY_ID = os.getenv('settings.AWS_ACCESS_KEY_ID')\n",
    "settings.AWS_SECRET_ACCESS_KEY=os.getenv(\"settings.AWS_SECRET_ACCESS_KEY\")\n",
    "settings.AWS_REGION_NAME=os.getenv(\"settings.AWS_REGION_NAME\")\n",
    "settings.AWS_ACCOUNT_ID=os.getenv(\"settings.AWS_ACCOUNT_ID\")\n",
    "\n",
    "settings.DB_HOST=os.getenv(\"settings.DB_HOST\")\n",
    "settings.DB_USER=os.getenv(\"settings.DB_USER\")\n",
    "settings.DB_PASSWORD=os.getenv(\"settings.DB_PASSWORD\")\n",
    "settings.DB_NAME=os.getenv(\"settings.DB_NAME\")\n",
    "settings.DB_PORT=os.getenv(\"settings.DB_PORT\")\n",
    "\n",
    "settings.AWS_BUCKET_NAME=\"genia-bucket\"\n",
    "settings.AWS_ATHENA_OUTPUT_LOCATION=\"athena/quries\"\n",
    "settings.AWS_ATHENA_DATABASE=\"mini_db\""
   ]
  },
  {
   "cell_type": "code",
   "execution_count": 3,
   "id": "ad8782a0",
   "metadata": {},
   "outputs": [],
   "source": [
    "class Boto3Client(object):\n",
    "    aws_access_key_id = settings.AWS_ACCESS_KEY_ID\n",
    "    aws_secret_access_key = settings.AWS_SECRET_ACCESS_KEY\n",
    "    region_name = settings.AWS_REGION_NAME\n",
    "    bucket_name = settings.AWS_BUCKET_NAME\n",
    "    athena_database=settings.AWS_ATHENA_DATABASE\n",
    "    athena_output_location=settings.AWS_ATHENA_OUTPUT_LOCATION\n",
    "    \n",
    "    service_name = None\n",
    "    \n",
    "    @classmethod\n",
    "    def get_client(cls):\n",
    "        options = dict(\n",
    "            aws_access_key_id=Boto3Client.aws_access_key_id,\n",
    "            aws_secret_access_key=Boto3Client.aws_secret_access_key,\n",
    "            region_name=Boto3Client.region_name,\n",
    "        )\n",
    "        return boto3.client(cls.service_name, **options)"
   ]
  },
  {
   "cell_type": "code",
   "execution_count": 4,
   "id": "34ccc0fb",
   "metadata": {},
   "outputs": [],
   "source": [
    "class S3Client(Boto3Client):\n",
    "    service_name = \"s3\"\n",
    "    \n",
    "    @staticmethod\n",
    "    def get_s3_df(file_name: str):\n",
    "        \n",
    "        clnt = S3Client.get_client()\n",
    "        obj = clnt.get_object(\n",
    "                Bucket=S3Client.bucket_name,\n",
    "                Key=file_name\n",
    "            )\n",
    "        return pd.read_csv(obj[\"Body\"])\n",
    "    \n",
    "    @staticmethod\n",
    "    def upload_s3_df(df: pd.DataFrame, file_name: str):\n",
    "        try:\n",
    "            clnt = S3Client.get_client()\n",
    "            file_name = f\"s3://{S3Client.bucket_name}/{file_name}\"\n",
    "            with s_open(file_name, \"wb\", transport_params=dict(client=clnt)) as out_file:\n",
    "                df.to_parquet(out_file, engine=\"pyarrow\", compression=\"gzip\", index=False)\n",
    "            return True\n",
    "        except Exception as e:\n",
    "            print(\"Error occured: \", str(e))\n",
    "            return False"
   ]
  },
  {
   "cell_type": "code",
   "execution_count": 5,
   "id": "a14dbc0f",
   "metadata": {},
   "outputs": [],
   "source": [
    "class AthenaClient(Boto3Client):\n",
    "    \n",
    "    service_name = \"athena\"\n",
    "    \n",
    "    output_location = f\"s3://{Boto3Client.bucket_name}/{Boto3Client.athena_output_location}\"\n",
    "    \n",
    "    @staticmethod\n",
    "    def get_athena_query_exec_id(sql: str):\n",
    "        \n",
    "        clnt = AthenaClient.get_client()\n",
    "        response = clnt.start_query_execution(\n",
    "            QueryString=sql,\n",
    "            QueryExecutionContext={\"Database\": AthenaClient.athena_database},\n",
    "            ResultConfiguration={\"OutputLocation\": AthenaClient.output_location},\n",
    "        )\n",
    "        # response 내의 StatusCode == 200 확인\n",
    "        return response[\"QueryExecutionId\"]\n",
    "    \n",
    "    @staticmethod\n",
    "    def collect_query_result(query_exec_id: str):\n",
    "        \n",
    "        clnt = AthenaClient.get_client()\n",
    "        \n",
    "        WAIT = [\"QUEUED\", \"RUNNING\"]\n",
    "        SUCCESS = [\"SUCCEEDED\"]\n",
    "        FAILED = [\"FAILED\", \"CANCELLED\"]\n",
    "        \n",
    "        while True:\n",
    "            try:\n",
    "                result = clnt.get_query_execution(QueryExecutionId=query_exec_id)\n",
    "                status = result[\"QueryExecution\"][\"Status\"][\"State\"]\n",
    "\n",
    "                if status in SUCCESS:\n",
    "                    query_result_path = f\"{AthenaClient.output_location}/{query_exec_id}.csv\"\n",
    "                    query_result_path = query_result_path.replace(f\"s3://{AthenaClient.bucket_name}/\", \"\")\n",
    "                    return S3Client.get_s3_df(query_result_path)\n",
    "\n",
    "                if status in FAILED:\n",
    "                    print(f\"FAILED!!! -> {status}\")\n",
    "                    break\n",
    "\n",
    "                if status in WAIT:\n",
    "                    print(f\"Still Running... -> {status}\")\n",
    "                    time.sleep(0.5)\n",
    "                    continue\n",
    "\n",
    "                print(f\"unexpected status... -> {status}\")\n",
    "                break\n",
    "\n",
    "            except Exception as e:\n",
    "                print(str(e))\n",
    "                break\n",
    "        return False\n",
    "    \n",
    "    @staticmethod\n",
    "    def get_athena_sql(sql: str):\n",
    "        query_exec_id = AthenaClient.get_athena_query_exec_id(sample_sql)\n",
    "        return AthenaClient.collect_query_result(query_exec_id)"
   ]
  },
  {
   "cell_type": "code",
   "execution_count": 6,
   "id": "0b2f2b6d",
   "metadata": {},
   "outputs": [
    {
     "name": "stdout",
     "output_type": "stream",
     "text": [
      "Still Running... -> QUEUED\n",
      "Still Running... -> RUNNING\n",
      "Still Running... -> RUNNING\n",
      "Still Running... -> RUNNING\n",
      "Still Running... -> RUNNING\n",
      "Still Running... -> RUNNING\n"
     ]
    },
    {
     "data": {
      "text/html": [
       "<div>\n",
       "<style scoped>\n",
       "    .dataframe tbody tr th:only-of-type {\n",
       "        vertical-align: middle;\n",
       "    }\n",
       "\n",
       "    .dataframe tbody tr th {\n",
       "        vertical-align: top;\n",
       "    }\n",
       "\n",
       "    .dataframe thead th {\n",
       "        text-align: right;\n",
       "    }\n",
       "</style>\n",
       "<table border=\"1\" class=\"dataframe\">\n",
       "  <thead>\n",
       "    <tr style=\"text-align: right;\">\n",
       "      <th></th>\n",
       "      <th>hotel</th>\n",
       "      <th>is_canceled</th>\n",
       "      <th>lead_time</th>\n",
       "      <th>arrival_date_year</th>\n",
       "      <th>arrival_date_month</th>\n",
       "      <th>arrival_date_week_number</th>\n",
       "      <th>arrival_date_day_of_month</th>\n",
       "      <th>stays_in_weekend_nights</th>\n",
       "      <th>stays_in_week_nights</th>\n",
       "      <th>adults</th>\n",
       "      <th>...</th>\n",
       "      <th>company</th>\n",
       "      <th>days_in_waiting_list</th>\n",
       "      <th>customer_type</th>\n",
       "      <th>adr</th>\n",
       "      <th>required_car_parking_spaces</th>\n",
       "      <th>total_of_special_requests</th>\n",
       "      <th>reservation_status</th>\n",
       "      <th>reservation_status_date</th>\n",
       "      <th>yyyy</th>\n",
       "      <th>mm</th>\n",
       "    </tr>\n",
       "  </thead>\n",
       "  <tbody>\n",
       "    <tr>\n",
       "      <th>0</th>\n",
       "      <td>Resort Hotel</td>\n",
       "      <td>0</td>\n",
       "      <td>109</td>\n",
       "      <td>2016</td>\n",
       "      <td>January</td>\n",
       "      <td>1</td>\n",
       "      <td>1</td>\n",
       "      <td>0</td>\n",
       "      <td>1</td>\n",
       "      <td>2</td>\n",
       "      <td>...</td>\n",
       "      <td>NaN</td>\n",
       "      <td>0</td>\n",
       "      <td>Transient-Party</td>\n",
       "      <td>59.94</td>\n",
       "      <td>0</td>\n",
       "      <td>1</td>\n",
       "      <td>Check-Out</td>\n",
       "      <td>2016-01-02</td>\n",
       "      <td>2016</td>\n",
       "      <td>1</td>\n",
       "    </tr>\n",
       "    <tr>\n",
       "      <th>1</th>\n",
       "      <td>Resort Hotel</td>\n",
       "      <td>0</td>\n",
       "      <td>109</td>\n",
       "      <td>2016</td>\n",
       "      <td>January</td>\n",
       "      <td>1</td>\n",
       "      <td>1</td>\n",
       "      <td>0</td>\n",
       "      <td>1</td>\n",
       "      <td>2</td>\n",
       "      <td>...</td>\n",
       "      <td>NaN</td>\n",
       "      <td>0</td>\n",
       "      <td>Transient-Party</td>\n",
       "      <td>116.10</td>\n",
       "      <td>1</td>\n",
       "      <td>1</td>\n",
       "      <td>Check-Out</td>\n",
       "      <td>2016-01-02</td>\n",
       "      <td>2016</td>\n",
       "      <td>1</td>\n",
       "    </tr>\n",
       "    <tr>\n",
       "      <th>2</th>\n",
       "      <td>Resort Hotel</td>\n",
       "      <td>1</td>\n",
       "      <td>2</td>\n",
       "      <td>2016</td>\n",
       "      <td>January</td>\n",
       "      <td>1</td>\n",
       "      <td>1</td>\n",
       "      <td>0</td>\n",
       "      <td>1</td>\n",
       "      <td>2</td>\n",
       "      <td>...</td>\n",
       "      <td>NaN</td>\n",
       "      <td>0</td>\n",
       "      <td>Transient</td>\n",
       "      <td>89.00</td>\n",
       "      <td>0</td>\n",
       "      <td>1</td>\n",
       "      <td>No-Show</td>\n",
       "      <td>2016-01-01</td>\n",
       "      <td>2016</td>\n",
       "      <td>1</td>\n",
       "    </tr>\n",
       "    <tr>\n",
       "      <th>3</th>\n",
       "      <td>Resort Hotel</td>\n",
       "      <td>0</td>\n",
       "      <td>88</td>\n",
       "      <td>2016</td>\n",
       "      <td>January</td>\n",
       "      <td>1</td>\n",
       "      <td>1</td>\n",
       "      <td>0</td>\n",
       "      <td>2</td>\n",
       "      <td>2</td>\n",
       "      <td>...</td>\n",
       "      <td>NaN</td>\n",
       "      <td>0</td>\n",
       "      <td>Transient</td>\n",
       "      <td>73.46</td>\n",
       "      <td>0</td>\n",
       "      <td>2</td>\n",
       "      <td>Check-Out</td>\n",
       "      <td>2016-01-03</td>\n",
       "      <td>2016</td>\n",
       "      <td>1</td>\n",
       "    </tr>\n",
       "    <tr>\n",
       "      <th>4</th>\n",
       "      <td>Resort Hotel</td>\n",
       "      <td>1</td>\n",
       "      <td>20</td>\n",
       "      <td>2016</td>\n",
       "      <td>January</td>\n",
       "      <td>1</td>\n",
       "      <td>1</td>\n",
       "      <td>0</td>\n",
       "      <td>2</td>\n",
       "      <td>2</td>\n",
       "      <td>...</td>\n",
       "      <td>NaN</td>\n",
       "      <td>0</td>\n",
       "      <td>Transient</td>\n",
       "      <td>119.00</td>\n",
       "      <td>0</td>\n",
       "      <td>0</td>\n",
       "      <td>Canceled</td>\n",
       "      <td>2015-12-22</td>\n",
       "      <td>2016</td>\n",
       "      <td>1</td>\n",
       "    </tr>\n",
       "    <tr>\n",
       "      <th>...</th>\n",
       "      <td>...</td>\n",
       "      <td>...</td>\n",
       "      <td>...</td>\n",
       "      <td>...</td>\n",
       "      <td>...</td>\n",
       "      <td>...</td>\n",
       "      <td>...</td>\n",
       "      <td>...</td>\n",
       "      <td>...</td>\n",
       "      <td>...</td>\n",
       "      <td>...</td>\n",
       "      <td>...</td>\n",
       "      <td>...</td>\n",
       "      <td>...</td>\n",
       "      <td>...</td>\n",
       "      <td>...</td>\n",
       "      <td>...</td>\n",
       "      <td>...</td>\n",
       "      <td>...</td>\n",
       "      <td>...</td>\n",
       "      <td>...</td>\n",
       "    </tr>\n",
       "    <tr>\n",
       "      <th>114460</th>\n",
       "      <td>City Hotel</td>\n",
       "      <td>0</td>\n",
       "      <td>2</td>\n",
       "      <td>2017</td>\n",
       "      <td>March</td>\n",
       "      <td>10</td>\n",
       "      <td>9</td>\n",
       "      <td>8</td>\n",
       "      <td>19</td>\n",
       "      <td>0</td>\n",
       "      <td>...</td>\n",
       "      <td>NaN</td>\n",
       "      <td>0</td>\n",
       "      <td>Transient</td>\n",
       "      <td>0.00</td>\n",
       "      <td>0</td>\n",
       "      <td>0</td>\n",
       "      <td>Check-Out</td>\n",
       "      <td>2017-04-05</td>\n",
       "      <td>2017</td>\n",
       "      <td>3</td>\n",
       "    </tr>\n",
       "    <tr>\n",
       "      <th>114461</th>\n",
       "      <td>City Hotel</td>\n",
       "      <td>0</td>\n",
       "      <td>58</td>\n",
       "      <td>2017</td>\n",
       "      <td>March</td>\n",
       "      <td>13</td>\n",
       "      <td>29</td>\n",
       "      <td>2</td>\n",
       "      <td>7</td>\n",
       "      <td>2</td>\n",
       "      <td>...</td>\n",
       "      <td>NaN</td>\n",
       "      <td>0</td>\n",
       "      <td>Transient</td>\n",
       "      <td>80.76</td>\n",
       "      <td>0</td>\n",
       "      <td>0</td>\n",
       "      <td>Check-Out</td>\n",
       "      <td>2017-04-07</td>\n",
       "      <td>2017</td>\n",
       "      <td>3</td>\n",
       "    </tr>\n",
       "    <tr>\n",
       "      <th>114462</th>\n",
       "      <td>City Hotel</td>\n",
       "      <td>0</td>\n",
       "      <td>152</td>\n",
       "      <td>2017</td>\n",
       "      <td>March</td>\n",
       "      <td>12</td>\n",
       "      <td>25</td>\n",
       "      <td>4</td>\n",
       "      <td>10</td>\n",
       "      <td>2</td>\n",
       "      <td>...</td>\n",
       "      <td>NaN</td>\n",
       "      <td>0</td>\n",
       "      <td>Transient</td>\n",
       "      <td>120.90</td>\n",
       "      <td>0</td>\n",
       "      <td>2</td>\n",
       "      <td>Check-Out</td>\n",
       "      <td>2017-04-08</td>\n",
       "      <td>2017</td>\n",
       "      <td>3</td>\n",
       "    </tr>\n",
       "    <tr>\n",
       "      <th>114463</th>\n",
       "      <td>City Hotel</td>\n",
       "      <td>0</td>\n",
       "      <td>53</td>\n",
       "      <td>2017</td>\n",
       "      <td>March</td>\n",
       "      <td>13</td>\n",
       "      <td>29</td>\n",
       "      <td>2</td>\n",
       "      <td>8</td>\n",
       "      <td>2</td>\n",
       "      <td>...</td>\n",
       "      <td>NaN</td>\n",
       "      <td>0</td>\n",
       "      <td>Transient</td>\n",
       "      <td>80.80</td>\n",
       "      <td>0</td>\n",
       "      <td>0</td>\n",
       "      <td>Check-Out</td>\n",
       "      <td>2017-04-08</td>\n",
       "      <td>2017</td>\n",
       "      <td>3</td>\n",
       "    </tr>\n",
       "    <tr>\n",
       "      <th>114464</th>\n",
       "      <td>City Hotel</td>\n",
       "      <td>0</td>\n",
       "      <td>3</td>\n",
       "      <td>2017</td>\n",
       "      <td>March</td>\n",
       "      <td>13</td>\n",
       "      <td>31</td>\n",
       "      <td>4</td>\n",
       "      <td>10</td>\n",
       "      <td>1</td>\n",
       "      <td>...</td>\n",
       "      <td>153.0</td>\n",
       "      <td>0</td>\n",
       "      <td>Transient</td>\n",
       "      <td>110.00</td>\n",
       "      <td>0</td>\n",
       "      <td>0</td>\n",
       "      <td>Check-Out</td>\n",
       "      <td>2017-04-14</td>\n",
       "      <td>2017</td>\n",
       "      <td>3</td>\n",
       "    </tr>\n",
       "  </tbody>\n",
       "</table>\n",
       "<p>114465 rows × 34 columns</p>\n",
       "</div>"
      ],
      "text/plain": [
       "               hotel  is_canceled  lead_time  arrival_date_year  \\\n",
       "0       Resort Hotel            0        109               2016   \n",
       "1       Resort Hotel            0        109               2016   \n",
       "2       Resort Hotel            1          2               2016   \n",
       "3       Resort Hotel            0         88               2016   \n",
       "4       Resort Hotel            1         20               2016   \n",
       "...              ...          ...        ...                ...   \n",
       "114460    City Hotel            0          2               2017   \n",
       "114461    City Hotel            0         58               2017   \n",
       "114462    City Hotel            0        152               2017   \n",
       "114463    City Hotel            0         53               2017   \n",
       "114464    City Hotel            0          3               2017   \n",
       "\n",
       "       arrival_date_month  arrival_date_week_number  \\\n",
       "0                 January                         1   \n",
       "1                 January                         1   \n",
       "2                 January                         1   \n",
       "3                 January                         1   \n",
       "4                 January                         1   \n",
       "...                   ...                       ...   \n",
       "114460              March                        10   \n",
       "114461              March                        13   \n",
       "114462              March                        12   \n",
       "114463              March                        13   \n",
       "114464              March                        13   \n",
       "\n",
       "        arrival_date_day_of_month  stays_in_weekend_nights  \\\n",
       "0                               1                        0   \n",
       "1                               1                        0   \n",
       "2                               1                        0   \n",
       "3                               1                        0   \n",
       "4                               1                        0   \n",
       "...                           ...                      ...   \n",
       "114460                          9                        8   \n",
       "114461                         29                        2   \n",
       "114462                         25                        4   \n",
       "114463                         29                        2   \n",
       "114464                         31                        4   \n",
       "\n",
       "        stays_in_week_nights  adults  ...  company  days_in_waiting_list  \\\n",
       "0                          1       2  ...      NaN                     0   \n",
       "1                          1       2  ...      NaN                     0   \n",
       "2                          1       2  ...      NaN                     0   \n",
       "3                          2       2  ...      NaN                     0   \n",
       "4                          2       2  ...      NaN                     0   \n",
       "...                      ...     ...  ...      ...                   ...   \n",
       "114460                    19       0  ...      NaN                     0   \n",
       "114461                     7       2  ...      NaN                     0   \n",
       "114462                    10       2  ...      NaN                     0   \n",
       "114463                     8       2  ...      NaN                     0   \n",
       "114464                    10       1  ...    153.0                     0   \n",
       "\n",
       "          customer_type     adr required_car_parking_spaces  \\\n",
       "0       Transient-Party   59.94                           0   \n",
       "1       Transient-Party  116.10                           1   \n",
       "2             Transient   89.00                           0   \n",
       "3             Transient   73.46                           0   \n",
       "4             Transient  119.00                           0   \n",
       "...                 ...     ...                         ...   \n",
       "114460        Transient    0.00                           0   \n",
       "114461        Transient   80.76                           0   \n",
       "114462        Transient  120.90                           0   \n",
       "114463        Transient   80.80                           0   \n",
       "114464        Transient  110.00                           0   \n",
       "\n",
       "       total_of_special_requests  reservation_status  reservation_status_date  \\\n",
       "0                              1           Check-Out               2016-01-02   \n",
       "1                              1           Check-Out               2016-01-02   \n",
       "2                              1             No-Show               2016-01-01   \n",
       "3                              2           Check-Out               2016-01-03   \n",
       "4                              0            Canceled               2015-12-22   \n",
       "...                          ...                 ...                      ...   \n",
       "114460                         0           Check-Out               2017-04-05   \n",
       "114461                         0           Check-Out               2017-04-07   \n",
       "114462                         2           Check-Out               2017-04-08   \n",
       "114463                         0           Check-Out               2017-04-08   \n",
       "114464                         0           Check-Out               2017-04-14   \n",
       "\n",
       "        yyyy mm  \n",
       "0       2016  1  \n",
       "1       2016  1  \n",
       "2       2016  1  \n",
       "3       2016  1  \n",
       "4       2016  1  \n",
       "...      ... ..  \n",
       "114460  2017  3  \n",
       "114461  2017  3  \n",
       "114462  2017  3  \n",
       "114463  2017  3  \n",
       "114464  2017  3  \n",
       "\n",
       "[114465 rows x 34 columns]"
      ]
     },
     "execution_count": 6,
     "metadata": {},
     "output_type": "execute_result"
    }
   ],
   "source": [
    "sample_sql = 'SELECT * FROM \"mini_db\".\"teacher-hotel\"'\n",
    "result = AthenaClient.get_athena_sql(sample_sql)\n",
    "\n",
    "result"
   ]
  },
  {
   "cell_type": "code",
   "execution_count": 7,
   "id": "3cd1e542",
   "metadata": {},
   "outputs": [
    {
     "data": {
      "text/html": [
       "<div>\n",
       "<style scoped>\n",
       "    .dataframe tbody tr th:only-of-type {\n",
       "        vertical-align: middle;\n",
       "    }\n",
       "\n",
       "    .dataframe tbody tr th {\n",
       "        vertical-align: top;\n",
       "    }\n",
       "\n",
       "    .dataframe thead th {\n",
       "        text-align: right;\n",
       "    }\n",
       "</style>\n",
       "<table border=\"1\" class=\"dataframe\">\n",
       "  <thead>\n",
       "    <tr style=\"text-align: right;\">\n",
       "      <th></th>\n",
       "      <th>hotel</th>\n",
       "      <th>is_canceled</th>\n",
       "      <th>lead_time</th>\n",
       "      <th>arrival_date_year</th>\n",
       "      <th>arrival_date_month</th>\n",
       "      <th>arrival_date_week_number</th>\n",
       "      <th>arrival_date_day_of_month</th>\n",
       "      <th>stays_in_weekend_nights</th>\n",
       "      <th>stays_in_week_nights</th>\n",
       "      <th>adults</th>\n",
       "      <th>...</th>\n",
       "      <th>company</th>\n",
       "      <th>days_in_waiting_list</th>\n",
       "      <th>customer_type</th>\n",
       "      <th>adr</th>\n",
       "      <th>required_car_parking_spaces</th>\n",
       "      <th>total_of_special_requests</th>\n",
       "      <th>reservation_status</th>\n",
       "      <th>reservation_status_date</th>\n",
       "      <th>yyyy</th>\n",
       "      <th>mm</th>\n",
       "    </tr>\n",
       "  </thead>\n",
       "  <tbody>\n",
       "    <tr>\n",
       "      <th>0</th>\n",
       "      <td>Resort Hotel</td>\n",
       "      <td>0</td>\n",
       "      <td>109</td>\n",
       "      <td>2016</td>\n",
       "      <td>January</td>\n",
       "      <td>1</td>\n",
       "      <td>1</td>\n",
       "      <td>0</td>\n",
       "      <td>1</td>\n",
       "      <td>2</td>\n",
       "      <td>...</td>\n",
       "      <td>NaN</td>\n",
       "      <td>0</td>\n",
       "      <td>Transient-Party</td>\n",
       "      <td>59.94</td>\n",
       "      <td>0</td>\n",
       "      <td>1</td>\n",
       "      <td>Check-Out</td>\n",
       "      <td>2016-01-02</td>\n",
       "      <td>2016</td>\n",
       "      <td>1</td>\n",
       "    </tr>\n",
       "    <tr>\n",
       "      <th>1</th>\n",
       "      <td>Resort Hotel</td>\n",
       "      <td>0</td>\n",
       "      <td>109</td>\n",
       "      <td>2016</td>\n",
       "      <td>January</td>\n",
       "      <td>1</td>\n",
       "      <td>1</td>\n",
       "      <td>0</td>\n",
       "      <td>1</td>\n",
       "      <td>2</td>\n",
       "      <td>...</td>\n",
       "      <td>NaN</td>\n",
       "      <td>0</td>\n",
       "      <td>Transient-Party</td>\n",
       "      <td>116.10</td>\n",
       "      <td>1</td>\n",
       "      <td>1</td>\n",
       "      <td>Check-Out</td>\n",
       "      <td>2016-01-02</td>\n",
       "      <td>2016</td>\n",
       "      <td>1</td>\n",
       "    </tr>\n",
       "    <tr>\n",
       "      <th>2</th>\n",
       "      <td>Resort Hotel</td>\n",
       "      <td>1</td>\n",
       "      <td>2</td>\n",
       "      <td>2016</td>\n",
       "      <td>January</td>\n",
       "      <td>1</td>\n",
       "      <td>1</td>\n",
       "      <td>0</td>\n",
       "      <td>1</td>\n",
       "      <td>2</td>\n",
       "      <td>...</td>\n",
       "      <td>NaN</td>\n",
       "      <td>0</td>\n",
       "      <td>Transient</td>\n",
       "      <td>89.00</td>\n",
       "      <td>0</td>\n",
       "      <td>1</td>\n",
       "      <td>No-Show</td>\n",
       "      <td>2016-01-01</td>\n",
       "      <td>2016</td>\n",
       "      <td>1</td>\n",
       "    </tr>\n",
       "    <tr>\n",
       "      <th>3</th>\n",
       "      <td>Resort Hotel</td>\n",
       "      <td>0</td>\n",
       "      <td>88</td>\n",
       "      <td>2016</td>\n",
       "      <td>January</td>\n",
       "      <td>1</td>\n",
       "      <td>1</td>\n",
       "      <td>0</td>\n",
       "      <td>2</td>\n",
       "      <td>2</td>\n",
       "      <td>...</td>\n",
       "      <td>NaN</td>\n",
       "      <td>0</td>\n",
       "      <td>Transient</td>\n",
       "      <td>73.46</td>\n",
       "      <td>0</td>\n",
       "      <td>2</td>\n",
       "      <td>Check-Out</td>\n",
       "      <td>2016-01-03</td>\n",
       "      <td>2016</td>\n",
       "      <td>1</td>\n",
       "    </tr>\n",
       "    <tr>\n",
       "      <th>4</th>\n",
       "      <td>Resort Hotel</td>\n",
       "      <td>1</td>\n",
       "      <td>20</td>\n",
       "      <td>2016</td>\n",
       "      <td>January</td>\n",
       "      <td>1</td>\n",
       "      <td>1</td>\n",
       "      <td>0</td>\n",
       "      <td>2</td>\n",
       "      <td>2</td>\n",
       "      <td>...</td>\n",
       "      <td>NaN</td>\n",
       "      <td>0</td>\n",
       "      <td>Transient</td>\n",
       "      <td>119.00</td>\n",
       "      <td>0</td>\n",
       "      <td>0</td>\n",
       "      <td>Canceled</td>\n",
       "      <td>2015-12-22</td>\n",
       "      <td>2016</td>\n",
       "      <td>1</td>\n",
       "    </tr>\n",
       "  </tbody>\n",
       "</table>\n",
       "<p>5 rows × 34 columns</p>\n",
       "</div>"
      ],
      "text/plain": [
       "          hotel  is_canceled  lead_time  arrival_date_year arrival_date_month  \\\n",
       "0  Resort Hotel            0        109               2016            January   \n",
       "1  Resort Hotel            0        109               2016            January   \n",
       "2  Resort Hotel            1          2               2016            January   \n",
       "3  Resort Hotel            0         88               2016            January   \n",
       "4  Resort Hotel            1         20               2016            January   \n",
       "\n",
       "   arrival_date_week_number  arrival_date_day_of_month  \\\n",
       "0                         1                          1   \n",
       "1                         1                          1   \n",
       "2                         1                          1   \n",
       "3                         1                          1   \n",
       "4                         1                          1   \n",
       "\n",
       "   stays_in_weekend_nights  stays_in_week_nights  adults  ...  company  \\\n",
       "0                        0                     1       2  ...      NaN   \n",
       "1                        0                     1       2  ...      NaN   \n",
       "2                        0                     1       2  ...      NaN   \n",
       "3                        0                     2       2  ...      NaN   \n",
       "4                        0                     2       2  ...      NaN   \n",
       "\n",
       "   days_in_waiting_list    customer_type     adr required_car_parking_spaces  \\\n",
       "0                     0  Transient-Party   59.94                           0   \n",
       "1                     0  Transient-Party  116.10                           1   \n",
       "2                     0        Transient   89.00                           0   \n",
       "3                     0        Transient   73.46                           0   \n",
       "4                     0        Transient  119.00                           0   \n",
       "\n",
       "  total_of_special_requests  reservation_status  reservation_status_date  \\\n",
       "0                         1           Check-Out               2016-01-02   \n",
       "1                         1           Check-Out               2016-01-02   \n",
       "2                         1             No-Show               2016-01-01   \n",
       "3                         2           Check-Out               2016-01-03   \n",
       "4                         0            Canceled               2015-12-22   \n",
       "\n",
       "   yyyy mm  \n",
       "0  2016  1  \n",
       "1  2016  1  \n",
       "2  2016  1  \n",
       "3  2016  1  \n",
       "4  2016  1  \n",
       "\n",
       "[5 rows x 34 columns]"
      ]
     },
     "execution_count": 7,
     "metadata": {},
     "output_type": "execute_result"
    }
   ],
   "source": [
    "hotel = result.copy()\n",
    "hotel.head()"
   ]
  },
  {
   "cell_type": "markdown",
   "id": "7cdd3018",
   "metadata": {},
   "source": [
    "# Hotel Preprocessing"
   ]
  },
  {
   "cell_type": "code",
   "execution_count": 8,
   "id": "4e3f7d2d",
   "metadata": {},
   "outputs": [
    {
     "data": {
      "text/plain": [
       "(114465, 34)"
      ]
     },
     "execution_count": 8,
     "metadata": {},
     "output_type": "execute_result"
    }
   ],
   "source": [
    "hotel.shape"
   ]
  },
  {
   "cell_type": "code",
   "execution_count": 9,
   "id": "cc1355b3",
   "metadata": {},
   "outputs": [
    {
     "name": "stdout",
     "output_type": "stream",
     "text": [
      "<class 'pandas.core.frame.DataFrame'>\n",
      "RangeIndex: 114465 entries, 0 to 114464\n",
      "Data columns (total 34 columns):\n",
      " #   Column                          Non-Null Count   Dtype  \n",
      "---  ------                          --------------   -----  \n",
      " 0   hotel                           114465 non-null  object \n",
      " 1   is_canceled                     114465 non-null  int64  \n",
      " 2   lead_time                       114465 non-null  int64  \n",
      " 3   arrival_date_year               114465 non-null  int64  \n",
      " 4   arrival_date_month              114465 non-null  object \n",
      " 5   arrival_date_week_number        114465 non-null  int64  \n",
      " 6   arrival_date_day_of_month       114465 non-null  int64  \n",
      " 7   stays_in_weekend_nights         114465 non-null  int64  \n",
      " 8   stays_in_week_nights            114465 non-null  int64  \n",
      " 9   adults                          114465 non-null  int64  \n",
      " 10  children                        114461 non-null  float64\n",
      " 11  babies                          114465 non-null  int64  \n",
      " 12  meal                            114465 non-null  object \n",
      " 13  country                         113977 non-null  object \n",
      " 14  market_segment                  114465 non-null  object \n",
      " 15  distribution_channel            114465 non-null  object \n",
      " 16  is_repeated_guest               114465 non-null  int64  \n",
      " 17  previous_cancellations          114465 non-null  int64  \n",
      " 18  previous_bookings_not_canceled  114465 non-null  int64  \n",
      " 19  reserved_room_type              114465 non-null  object \n",
      " 20  assigned_room_type              114465 non-null  object \n",
      " 21  booking_changes                 114465 non-null  int64  \n",
      " 22  deposit_type                    114465 non-null  object \n",
      " 23  agent                           98417 non-null   float64\n",
      " 24  company                         6724 non-null    float64\n",
      " 25  days_in_waiting_list            114465 non-null  int64  \n",
      " 26  customer_type                   114465 non-null  object \n",
      " 27  adr                             114465 non-null  float64\n",
      " 28  required_car_parking_spaces     114465 non-null  int64  \n",
      " 29  total_of_special_requests       114465 non-null  int64  \n",
      " 30  reservation_status              114465 non-null  object \n",
      " 31  reservation_status_date         114465 non-null  object \n",
      " 32  yyyy                            114465 non-null  int64  \n",
      " 33  mm                              114465 non-null  int64  \n",
      "dtypes: float64(4), int64(18), object(12)\n",
      "memory usage: 29.7+ MB\n"
     ]
    }
   ],
   "source": [
    "hotel.info()"
   ]
  },
  {
   "cell_type": "code",
   "execution_count": 10,
   "id": "10e82e06",
   "metadata": {},
   "outputs": [
    {
     "name": "stdout",
     "output_type": "stream",
     "text": [
      "<class 'str'> 2016-01-02\n"
     ]
    }
   ],
   "source": [
    "print(type(hotel['reservation_status_date'][0]), hotel['reservation_status_date'][0])"
   ]
  },
  {
   "cell_type": "code",
   "execution_count": 11,
   "id": "011ff513",
   "metadata": {},
   "outputs": [
    {
     "name": "stdout",
     "output_type": "stream",
     "text": [
      "<class 'pandas._libs.tslibs.timestamps.Timestamp'> 2016-01-02 00:00:00\n"
     ]
    }
   ],
   "source": [
    "hotel[\"reservation_status_date\"] = pd.to_datetime(hotel[\"reservation_status_date\"])\n",
    "print(type(hotel['reservation_status_date'][0]), hotel['reservation_status_date'][0])"
   ]
  },
  {
   "cell_type": "code",
   "execution_count": 12,
   "id": "90b2f23a",
   "metadata": {},
   "outputs": [
    {
     "data": {
      "text/plain": [
       "0         2016/January/1\n",
       "1         2016/January/1\n",
       "2         2016/January/1\n",
       "3         2016/January/1\n",
       "4         2016/January/1\n",
       "               ...      \n",
       "114460      2017/March/9\n",
       "114461     2017/March/29\n",
       "114462     2017/March/25\n",
       "114463     2017/March/29\n",
       "114464     2017/March/31\n",
       "Length: 114465, dtype: object"
      ]
     },
     "execution_count": 12,
     "metadata": {},
     "output_type": "execute_result"
    }
   ],
   "source": [
    "hotel.arrival_date_year.astype(str) + '/' + hotel.arrival_date_month.astype(str) + '/' + hotel.arrival_date_day_of_month.astype(str)"
   ]
  },
  {
   "cell_type": "code",
   "execution_count": 13,
   "id": "f800e397",
   "metadata": {},
   "outputs": [],
   "source": [
    "hotel['arrival_date'] = pd.to_datetime(hotel.arrival_date_year.astype(str) + '/' + \n",
    "                                       hotel.arrival_date_month.astype(str) + '/' + \n",
    "                                       hotel.arrival_date_day_of_month.astype(str))"
   ]
  },
  {
   "cell_type": "code",
   "execution_count": 14,
   "id": "24aa41af",
   "metadata": {},
   "outputs": [
    {
     "data": {
      "text/plain": [
       "0        2016-01-01\n",
       "1        2016-01-01\n",
       "2        2016-01-01\n",
       "3        2016-01-01\n",
       "4        2016-01-01\n",
       "            ...    \n",
       "114460   2017-03-09\n",
       "114461   2017-03-29\n",
       "114462   2017-03-25\n",
       "114463   2017-03-29\n",
       "114464   2017-03-31\n",
       "Name: arrival_date, Length: 114465, dtype: datetime64[ns]"
      ]
     },
     "execution_count": 14,
     "metadata": {},
     "output_type": "execute_result"
    }
   ],
   "source": [
    "hotel['arrival_date']"
   ]
  },
  {
   "cell_type": "markdown",
   "id": "8e18e437",
   "metadata": {},
   "source": [
    "## 1. Finding the number of missing values in every column"
   ]
  },
  {
   "cell_type": "code",
   "execution_count": 15,
   "id": "64540447",
   "metadata": {},
   "outputs": [
    {
     "data": {
      "text/plain": [
       "hotel                                  0\n",
       "is_canceled                            0\n",
       "lead_time                              0\n",
       "arrival_date_year                      0\n",
       "arrival_date_month                     0\n",
       "arrival_date_week_number               0\n",
       "arrival_date_day_of_month              0\n",
       "stays_in_weekend_nights                0\n",
       "stays_in_week_nights                   0\n",
       "adults                                 0\n",
       "children                               4\n",
       "babies                                 0\n",
       "meal                                   0\n",
       "country                              488\n",
       "market_segment                         0\n",
       "distribution_channel                   0\n",
       "is_repeated_guest                      0\n",
       "previous_cancellations                 0\n",
       "previous_bookings_not_canceled         0\n",
       "reserved_room_type                     0\n",
       "assigned_room_type                     0\n",
       "booking_changes                        0\n",
       "deposit_type                           0\n",
       "agent                              16048\n",
       "company                           107741\n",
       "days_in_waiting_list                   0\n",
       "customer_type                          0\n",
       "adr                                    0\n",
       "required_car_parking_spaces            0\n",
       "total_of_special_requests              0\n",
       "reservation_status                     0\n",
       "reservation_status_date                0\n",
       "yyyy                                   0\n",
       "mm                                     0\n",
       "arrival_date                           0\n",
       "dtype: int64"
      ]
     },
     "execution_count": 15,
     "metadata": {},
     "output_type": "execute_result"
    }
   ],
   "source": [
    "import numpy as np\n",
    "np.sum(hotel.isnull())"
   ]
  },
  {
   "cell_type": "markdown",
   "id": "6b2d05df",
   "metadata": {},
   "source": [
    "## 2. To find the indexes of the missing value"
   ]
  },
  {
   "cell_type": "code",
   "execution_count": 16,
   "id": "ca5385aa",
   "metadata": {},
   "outputs": [
    {
     "data": {
      "text/plain": [
       "93340   NaN\n",
       "93407   NaN\n",
       "93419   NaN\n",
       "93900   NaN\n",
       "Name: children, dtype: float64"
      ]
     },
     "execution_count": 16,
     "metadata": {},
     "output_type": "execute_result"
    }
   ],
   "source": [
    "# nan값 찾기\n",
    "hotel.children[hotel.children != hotel.children]"
   ]
  },
  {
   "cell_type": "code",
   "execution_count": 17,
   "id": "687bb992",
   "metadata": {},
   "outputs": [
    {
     "data": {
      "text/plain": [
       "array([93340, 93407, 93419, 93900])"
      ]
     },
     "execution_count": 17,
     "metadata": {},
     "output_type": "execute_result"
    }
   ],
   "source": [
    "hotel.children[hotel.children != hotel.children].index.values"
   ]
  },
  {
   "cell_type": "markdown",
   "id": "8e9be846",
   "metadata": {},
   "source": [
    "## 3. Removing the unwanted columns"
   ]
  },
  {
   "cell_type": "code",
   "execution_count": 18,
   "id": "5aa35a16",
   "metadata": {},
   "outputs": [],
   "source": [
    "# 열에 있는 값의 70% 이상이 누락되고 누락된 값을 채울 방법이 없는 경우 열을 dataset에서 제거할 수 있습니다\n",
    "for col in hotel.columns:\n",
    "    if np.sum(hotel[col].isnull()) > (hotel.shape[0] * 0.7):\n",
    "        hotel.drop(columns=col, inplace=True, axis=1)\n",
    "\n",
    "# company 삭제"
   ]
  },
  {
   "cell_type": "code",
   "execution_count": 19,
   "id": "374a3227",
   "metadata": {},
   "outputs": [],
   "source": [
    "hotel.drop(columns=[\"arrival_date_week_number\", \"arrival_date_year\", \"arrival_date_month\", \"arrival_date_day_of_month\"],\n",
    "          inplace=True, axis=1)"
   ]
  },
  {
   "cell_type": "code",
   "execution_count": 20,
   "id": "41b63601",
   "metadata": {},
   "outputs": [
    {
     "data": {
      "text/plain": [
       "(114465, 30)"
      ]
     },
     "execution_count": 20,
     "metadata": {},
     "output_type": "execute_result"
    }
   ],
   "source": [
    "hotel.shape"
   ]
  },
  {
   "cell_type": "markdown",
   "id": "576d4c3c",
   "metadata": {},
   "source": [
    "## 4. Removing unwanted rows"
   ]
  },
  {
   "cell_type": "code",
   "execution_count": 21,
   "id": "1c9b5d52",
   "metadata": {},
   "outputs": [
    {
     "data": {
      "text/plain": [
       "(98417, 30)"
      ]
     },
     "execution_count": 21,
     "metadata": {},
     "output_type": "execute_result"
    }
   ],
   "source": [
    "# 예측하는 값에 따라 필요하지 않은 열을 지울 수 있습니다\n",
    "# agent는 대리인입니다\n",
    "hotel.dropna(subset=[\"agent\"], inplace=True)\n",
    "hotel.shape"
   ]
  },
  {
   "cell_type": "code",
   "execution_count": 22,
   "id": "c5a09eab",
   "metadata": {
    "scrolled": true
   },
   "outputs": [
    {
     "data": {
      "text/plain": [
       "98417"
      ]
     },
     "execution_count": 22,
     "metadata": {},
     "output_type": "execute_result"
    }
   ],
   "source": [
    "114465 - 16048"
   ]
  },
  {
   "cell_type": "markdown",
   "id": "edadc5b2",
   "metadata": {},
   "source": [
    "## 5. Filling the missing values of columns"
   ]
  },
  {
   "cell_type": "code",
   "execution_count": 23,
   "id": "f32e9321",
   "metadata": {},
   "outputs": [
    {
     "name": "stdout",
     "output_type": "stream",
     "text": [
      "Total missing values in children column after filling = 0\n"
     ]
    }
   ],
   "source": [
    "hotel[\"children\"].fillna(value = hotel[\"children\"].mean(), inplace=True)\n",
    "hotel[\"children\"] = hotel[\"children\"].apply(np.floor)\n",
    "print(f\"Total missing values in children column after filling = {np.sum(hotel.children.isnull())}\")"
   ]
  },
  {
   "cell_type": "code",
   "execution_count": 26,
   "id": "5b17d46f",
   "metadata": {},
   "outputs": [
    {
     "name": "stdout",
     "output_type": "stream",
     "text": [
      "No of missing values are\n",
      "market_segment: 0\n",
      "distribution_channel: 0\n",
      "meal: 0\n",
      "country: 0\n"
     ]
    }
   ],
   "source": [
    "arr = [\"market_segment\", \"distribution_channel\", \"meal\", \"country\"]\n",
    "print(\"No of missing values are\")\n",
    "for x in arr:\n",
    "    hotel[x].fillna(method=\"bfill\", inplace=True)\n",
    "    print(f\"{x}: {np.sum(hotel[x].isnull())}\")"
   ]
  },
  {
   "cell_type": "code",
   "execution_count": 27,
   "id": "219e242b",
   "metadata": {},
   "outputs": [
    {
     "data": {
      "text/plain": [
       "hotel                             0\n",
       "is_canceled                       0\n",
       "lead_time                         0\n",
       "stays_in_weekend_nights           0\n",
       "stays_in_week_nights              0\n",
       "adults                            0\n",
       "children                          0\n",
       "babies                            0\n",
       "meal                              0\n",
       "country                           0\n",
       "market_segment                    0\n",
       "distribution_channel              0\n",
       "is_repeated_guest                 0\n",
       "previous_cancellations            0\n",
       "previous_bookings_not_canceled    0\n",
       "reserved_room_type                0\n",
       "assigned_room_type                0\n",
       "booking_changes                   0\n",
       "deposit_type                      0\n",
       "agent                             0\n",
       "days_in_waiting_list              0\n",
       "customer_type                     0\n",
       "adr                               0\n",
       "required_car_parking_spaces       0\n",
       "total_of_special_requests         0\n",
       "reservation_status                0\n",
       "reservation_status_date           0\n",
       "yyyy                              0\n",
       "mm                                0\n",
       "arrival_date                      0\n",
       "dtype: int64"
      ]
     },
     "execution_count": 27,
     "metadata": {},
     "output_type": "execute_result"
    }
   ],
   "source": [
    "np.sum(hotel.isnull())"
   ]
  },
  {
   "cell_type": "code",
   "execution_count": null,
   "id": "b194ea39",
   "metadata": {},
   "outputs": [],
   "source": [
    "df.isnull().sum().sort_values(ascending=False)[:10]"
   ]
  }
 ],
 "metadata": {
  "kernelspec": {
   "display_name": "Python 3 (ipykernel)",
   "language": "python",
   "name": "python3"
  },
  "language_info": {
   "codemirror_mode": {
    "name": "ipython",
    "version": 3
   },
   "file_extension": ".py",
   "mimetype": "text/x-python",
   "name": "python",
   "nbconvert_exporter": "python",
   "pygments_lexer": "ipython3",
   "version": "3.9.16"
  }
 },
 "nbformat": 4,
 "nbformat_minor": 5
}
