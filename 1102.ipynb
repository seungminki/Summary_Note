{
 "cells": [
  {
   "cell_type": "code",
   "execution_count": 1,
   "id": "e4dc4faa",
   "metadata": {},
   "outputs": [
    {
     "name": "stdout",
     "output_type": "stream",
     "text": [
      "Hello world!\n"
     ]
    }
   ],
   "source": [
    "print('Hello world!') # 출력값"
   ]
  },
  {
   "cell_type": "code",
   "execution_count": 2,
   "id": "b43ae082",
   "metadata": {},
   "outputs": [
    {
     "data": {
      "text/plain": [
       "'Hello world'"
      ]
     },
     "execution_count": 2,
     "metadata": {},
     "output_type": "execute_result"
    }
   ],
   "source": [
    "'Hello world' # 리턴값"
   ]
  },
  {
   "cell_type": "code",
   "execution_count": null,
   "id": "6cf4a40d",
   "metadata": {},
   "outputs": [],
   "source": [
    "1차시 과제 계산기 프로그램\n",
    "\n",
    "1. 덧셈, 뺄셈 프로그램을 이용해서 기능을 구현한다.\n",
    "2. 곱셈, 나눗셈 프로그램을 이용해서 기능을 더한다.\n",
    "3. 사용자가  연산을 선택할 수 있도록 한다.\n",
    "4. 논리적으로 문제가 없는지 확인한다."
   ]
  },
  {
   "cell_type": "code",
   "execution_count": 8,
   "id": "26779dd0",
   "metadata": {
    "scrolled": true
   },
   "outputs": [
    {
     "name": "stdout",
     "output_type": "stream",
     "text": [
      "입력해주세요120\n",
      "F\n"
     ]
    }
   ],
   "source": [
    "x = int(input('입력해주세요'))\n",
    "\n",
    "if (90<=x<=100):\n",
    "    print('A')\n",
    "elif (80<=x<90):\n",
    "    print('B')\n",
    "elif (70<=x<80):\n",
    "    print('C')\n",
    "elif (60<=x<70):\n",
    "    print('D')\n",
    "else:\n",
    "    print('F')"
   ]
  },
  {
   "cell_type": "code",
   "execution_count": 11,
   "id": "4ad968d0",
   "metadata": {},
   "outputs": [
    {
     "data": {
      "text/plain": [
       "(1, 3, 1, 3, 1, 3)"
      ]
     },
     "execution_count": 11,
     "metadata": {},
     "output_type": "execute_result"
    }
   ],
   "source": [
    "3 * (1, 3) #파이썬에서는 교환 법칙이 성립된다."
   ]
  },
  {
   "cell_type": "code",
   "execution_count": 15,
   "id": "98b741fd",
   "metadata": {},
   "outputs": [
    {
     "name": "stdout",
     "output_type": "stream",
     "text": [
      "3 4\n",
      "No\n"
     ]
    }
   ],
   "source": [
    "a, b = map(int, input().split())\n",
    "\n",
    "if a>b:\n",
    "    print('Yes')\n",
    "else:\n",
    "    print('No')"
   ]
  },
  {
   "cell_type": "markdown",
   "id": "3cc365fb",
   "metadata": {},
   "source": []
  },
  {
   "cell_type": "code",
   "execution_count": 16,
   "id": "5b0bd550",
   "metadata": {},
   "outputs": [
    {
     "name": "stdout",
     "output_type": "stream",
     "text": [
      "5\n",
      "1\n"
     ]
    }
   ],
   "source": [
    "#실습 46/9의 몫과 나머지를 출력하는 의사코드를 만들어보자\n",
    "print(46//9)\n",
    "print(46%9)"
   ]
  },
  {
   "cell_type": "code",
   "execution_count": 17,
   "id": "38bcc439",
   "metadata": {},
   "outputs": [
    {
     "name": "stdout",
     "output_type": "stream",
     "text": [
      "5 1\n"
     ]
    }
   ],
   "source": [
    "print(46//9, 46%9)"
   ]
  },
  {
   "cell_type": "code",
   "execution_count": null,
   "id": "a3ac5732",
   "metadata": {},
   "outputs": [],
   "source": [
    "변수 알아보기\n",
    "개념적으로 변수는 어떤 값이 들어갈 수 있는 공간\n",
    "메모리에 데이터를 불러오거나, 편집하거나, 저장하게 됩니다\n",
    "a = 1\n",
    "a에 1를 집어넣은게 컴퓨터 입장에서는 맞지 않다.\n",
    "mem: 004x899 () 주소가 하나 있다고 가정\n",
    "a = 1 을 썼을 때,\n",
    "mem: 004x899 (1) 이렇게 할당됨"
   ]
  },
  {
   "cell_type": "code",
   "execution_count": 23,
   "id": "58c369d8",
   "metadata": {},
   "outputs": [
    {
     "name": "stdout",
     "output_type": "stream",
     "text": [
      "20 10\n",
      "30 40\n",
      "2 3\n",
      "0 0\n",
      "Yes\n",
      "No\n",
      "No\n"
     ]
    }
   ],
   "source": [
    "numbers = []\n",
    "while True:\n",
    "    a = list(map(int, input().split()))\n",
    "    if a == [0, 0]:\n",
    "        break\n",
    "    numbers.append(a)\n",
    "for number in numbers:\n",
    "    if number[0] > number[1]:\n",
    "        print(\"Yes\")\n",
    "        continue\n",
    "    print(\"No\")"
   ]
  },
  {
   "cell_type": "code",
   "execution_count": 20,
   "id": "5943f29c",
   "metadata": {},
   "outputs": [
    {
     "name": "stdout",
     "output_type": "stream",
     "text": [
      "20 10 30\n",
      "10 20 30\n"
     ]
    }
   ],
   "source": [
    "#x라는 변수에 임의의 값, y라는 변수에 임의의 값(이는 코드상에서 고쳐적을 수 있게 만들면 된다) \n",
    "#입력 후 해당 값을 더해서 출력하는 프로그램 만들기\n",
    "\n",
    "x = 10\n",
    "y = 20\n",
    "\n",
    "x, y = y, x; #swap 해줌\n",
    "\n",
    "print(x, y, x+y)\n",
    "\n",
    "temp = x\n",
    "x = y\n",
    "y = temp # temp 변수\n",
    "\n",
    "print(x, y, x+y)"
   ]
  },
  {
   "cell_type": "code",
   "execution_count": null,
   "id": "eecaf05c",
   "metadata": {},
   "outputs": [],
   "source": []
  },
  {
   "cell_type": "code",
   "execution_count": 21,
   "id": "369f6744",
   "metadata": {},
   "outputs": [
    {
     "name": "stdout",
     "output_type": "stream",
     "text": [
      "10\n",
      "20\n",
      "200\n"
     ]
    }
   ],
   "source": [
    "x = int(input())\n",
    "y = int(input())\n",
    "\n",
    "print(x*y)"
   ]
  },
  {
   "cell_type": "code",
   "execution_count": 22,
   "id": "9e57af0b",
   "metadata": {},
   "outputs": [
    {
     "name": "stdout",
     "output_type": "stream",
     "text": [
      "10 20\n",
      "200\n"
     ]
    }
   ],
   "source": [
    "#실습) x와 y값을 사용자에게 입력받은 뒤, 두 값을 곱해서 출력하는 프로그램을 만들어보자.\n",
    "x, y = map(int, input().split())\n",
    "\n",
    "print(x*y)"
   ]
  },
  {
   "cell_type": "code",
   "execution_count": null,
   "id": "cb789b36",
   "metadata": {},
   "outputs": [],
   "source": [
    "x = int(input().split())\n",
    "print(x)"
   ]
  }
 ],
 "metadata": {
  "kernelspec": {
   "display_name": "Python 3 (ipykernel)",
   "language": "python",
   "name": "python3"
  },
  "language_info": {
   "codemirror_mode": {
    "name": "ipython",
    "version": 3
   },
   "file_extension": ".py",
   "mimetype": "text/x-python",
   "name": "python",
   "nbconvert_exporter": "python",
   "pygments_lexer": "ipython3",
   "version": "3.9.13"
  }
 },
 "nbformat": 4,
 "nbformat_minor": 5
}
