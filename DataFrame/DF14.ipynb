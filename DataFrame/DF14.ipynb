{
 "cells": [
  {
   "cell_type": "code",
   "execution_count": 1,
   "id": "977bafc9",
   "metadata": {},
   "outputs": [],
   "source": [
    "from scipy import stats\n",
    "import numpy as np\n",
    "import pandas as pd\n",
    "import matplotlib.pyplot as plt\n",
    "from datetime import datetime\n",
    "import time\n",
    "import seaborn as sns"
   ]
  },
  {
   "cell_type": "code",
   "execution_count": 2,
   "id": "29439f0b",
   "metadata": {},
   "outputs": [],
   "source": [
    "df = pd.read_excel(\"C:/Users/user/Downloads/미니프로젝트-쇼핑몰 실습데이터.xlsx\")"
   ]
  },
  {
   "cell_type": "markdown",
   "id": "39ec3101",
   "metadata": {},
   "source": [
    "# RFM 분석에 필요한 용어\n",
    "* RFM 분석: 아래의 세 요소를 따라 분류 및 평가하는 분석\n",
    "    * : Recency 얼마나 최근에 구매했는가\n",
    "    * : Frequency 얼마나 자주 구매했는가\n",
    "    * : Monetary 얼마나 많이 지출했는가\n",
    "* RFM 분석의 분류\n",
    "    * 충성도(상기 요소를 종합적으로 고려)에 따른 분류\n",
    "    * 구매 빈도에 따른 분류\n",
    "    * 지출금액에 따른 분류\n",
    "    * 이외에도 주관적으로 분류 기준 수립이 가능\n",
    "    * 정해진 기준이 없어 자유롭게 분류 가능\n",
    "\n",
    "# 분석 진행하기\n",
    " # <필수 분석>\n",
    " 1. 사용자의 충성도 분류 (3그룹) 진행  \n",
    "     a. 분류의 제한은 없으나 분류의 논리가 필요\n",
    "     \n",
    " 2. 수익을 정리해 시각화해보자  \n",
    "     a. 월별, 연도별 매출  \n",
    "     b. 월별 실제 수익 (처리상황, 할부기간 고려)  \n",
    "     c. 월별 시각화에서 연도의 변화는 무시한다  \n",
    "     \n",
    " 3. 결제방법에 따른 결제금액 분석  \n",
    "     a. 결제방법에 따른 결제금액에 유의미한 차이가 있는지 분석 후 시각화해보자  \n",
    "     b. 결제방법이 여러 조합일 경우, 맨 앞의 한가지만 사용한 것으로 간주한다  \n",
    "     \n",
    "# <선택 분석>\n",
    "1. 상품별 분석  \n",
    "    a. 최대 매출 상품 3가지를 집계한다  \n",
    "    b. 주문연도에 따라 해당 상품의 매출 증감을 통계적으로 확인한다  \n",
    "2. 연관성 분석  \n",
    "    a. 판다스의 corr() 함수 또는 다른 패키지의 유사 기능을 이용  \n",
    "    b. 주문한 달과 판매금액의 상관관계가 있는지 확인하자  \n",
    "    c. 단, 연도의 변화는 무시한다  "
   ]
  },
  {
   "cell_type": "code",
   "execution_count": 3,
   "id": "44167784",
   "metadata": {},
   "outputs": [
    {
     "data": {
      "text/html": [
       "<div>\n",
       "<style scoped>\n",
       "    .dataframe tbody tr th:only-of-type {\n",
       "        vertical-align: middle;\n",
       "    }\n",
       "\n",
       "    .dataframe tbody tr th {\n",
       "        vertical-align: top;\n",
       "    }\n",
       "\n",
       "    .dataframe thead th {\n",
       "        text-align: right;\n",
       "    }\n",
       "</style>\n",
       "<table border=\"1\" class=\"dataframe\">\n",
       "  <thead>\n",
       "    <tr style=\"text-align: right;\">\n",
       "      <th></th>\n",
       "      <th>주문번호</th>\n",
       "      <th>업체명</th>\n",
       "      <th>상품명</th>\n",
       "      <th>제조사</th>\n",
       "      <th>주문수량</th>\n",
       "      <th>판매금액</th>\n",
       "      <th>결제방법</th>\n",
       "      <th>주문일자</th>\n",
       "      <th>처리상태</th>\n",
       "      <th>초도상품</th>\n",
       "      <th>제작문구 내역</th>\n",
       "      <th>할부기간</th>\n",
       "    </tr>\n",
       "  </thead>\n",
       "  <tbody>\n",
       "    <tr>\n",
       "      <th>0</th>\n",
       "      <td>191213170236874</td>\n",
       "      <td>지니</td>\n",
       "      <td>eHBM셀파수학교실 비닐봉투-1세트 100장입</td>\n",
       "      <td>HB</td>\n",
       "      <td>1</td>\n",
       "      <td>5000</td>\n",
       "      <td>신용카드</td>\n",
       "      <td>2019-12-13 17:03:37</td>\n",
       "      <td>구매확정</td>\n",
       "      <td>N</td>\n",
       "      <td>NaN</td>\n",
       "      <td>NaN</td>\n",
       "    </tr>\n",
       "    <tr>\n",
       "      <th>1</th>\n",
       "      <td>191216100347429</td>\n",
       "      <td>지니</td>\n",
       "      <td>eHBM셀파수학교실 비닐봉투-1세트 100장입</td>\n",
       "      <td>HB</td>\n",
       "      <td>1</td>\n",
       "      <td>5000</td>\n",
       "      <td>신용카드</td>\n",
       "      <td>2019-12-16 10:04:50</td>\n",
       "      <td>구매확정</td>\n",
       "      <td>N</td>\n",
       "      <td>NaN</td>\n",
       "      <td>NaN</td>\n",
       "    </tr>\n",
       "    <tr>\n",
       "      <th>2</th>\n",
       "      <td>191216100347429</td>\n",
       "      <td>지니</td>\n",
       "      <td>eHBM셀파수학교실 삼색볼펜-1세트 50개입</td>\n",
       "      <td>HB</td>\n",
       "      <td>3</td>\n",
       "      <td>67500</td>\n",
       "      <td>신용카드</td>\n",
       "      <td>2019-12-16 10:04:50</td>\n",
       "      <td>구매확정</td>\n",
       "      <td>N</td>\n",
       "      <td>NaN</td>\n",
       "      <td>NaN</td>\n",
       "    </tr>\n",
       "    <tr>\n",
       "      <th>3</th>\n",
       "      <td>191216173241622</td>\n",
       "      <td>지니</td>\n",
       "      <td>eHBM셀파수학교실 회원용 리플렛-1세트 50권입</td>\n",
       "      <td>HB</td>\n",
       "      <td>2</td>\n",
       "      <td>30000</td>\n",
       "      <td>신용카드</td>\n",
       "      <td>2019-12-16 17:33:43</td>\n",
       "      <td>구매확정</td>\n",
       "      <td>N</td>\n",
       "      <td>NaN</td>\n",
       "      <td>NaN</td>\n",
       "    </tr>\n",
       "    <tr>\n",
       "      <th>4</th>\n",
       "      <td>191216173241622</td>\n",
       "      <td>지니</td>\n",
       "      <td>eHBM셀파수학교실-학습계통도(중등 5종)</td>\n",
       "      <td>HB</td>\n",
       "      <td>1</td>\n",
       "      <td>750</td>\n",
       "      <td>신용카드</td>\n",
       "      <td>2019-12-16 17:33:43</td>\n",
       "      <td>구매확정</td>\n",
       "      <td>N</td>\n",
       "      <td>NaN</td>\n",
       "      <td>NaN</td>\n",
       "    </tr>\n",
       "  </tbody>\n",
       "</table>\n",
       "</div>"
      ],
      "text/plain": [
       "              주문번호 업체명                          상품명 제조사  주문수량   판매금액  결제방법  \\\n",
       "0  191213170236874  지니    eHBM셀파수학교실 비닐봉투-1세트 100장입  HB     1   5000  신용카드   \n",
       "1  191216100347429  지니    eHBM셀파수학교실 비닐봉투-1세트 100장입  HB     1   5000  신용카드   \n",
       "2  191216100347429  지니     eHBM셀파수학교실 삼색볼펜-1세트 50개입  HB     3  67500  신용카드   \n",
       "3  191216173241622  지니  eHBM셀파수학교실 회원용 리플렛-1세트 50권입  HB     2  30000  신용카드   \n",
       "4  191216173241622  지니      eHBM셀파수학교실-학습계통도(중등 5종)  HB     1    750  신용카드   \n",
       "\n",
       "                 주문일자  처리상태 초도상품 제작문구 내역 할부기간  \n",
       "0 2019-12-13 17:03:37  구매확정    N     NaN  NaN  \n",
       "1 2019-12-16 10:04:50  구매확정    N     NaN  NaN  \n",
       "2 2019-12-16 10:04:50  구매확정    N     NaN  NaN  \n",
       "3 2019-12-16 17:33:43  구매확정    N     NaN  NaN  \n",
       "4 2019-12-16 17:33:43  구매확정    N     NaN  NaN  "
      ]
     },
     "execution_count": 3,
     "metadata": {},
     "output_type": "execute_result"
    }
   ],
   "source": [
    "df.head()"
   ]
  },
  {
   "cell_type": "code",
   "execution_count": 4,
   "id": "fb25694f",
   "metadata": {},
   "outputs": [
    {
     "data": {
      "text/plain": [
       "array([191213170236874, 191216100347429, 191216173241622, ...,\n",
       "       221108104536307, 221108104735216, 221108105148171], dtype=int64)"
      ]
     },
     "execution_count": 4,
     "metadata": {},
     "output_type": "execute_result"
    }
   ],
   "source": [
    "df['주문번호'].unique()"
   ]
  },
  {
   "cell_type": "code",
   "execution_count": 5,
   "id": "a3c61617",
   "metadata": {},
   "outputs": [
    {
     "data": {
      "text/plain": [
       "154795"
      ]
     },
     "execution_count": 5,
     "metadata": {},
     "output_type": "execute_result"
    }
   ],
   "source": [
    "len(df['주문번호'].unique())"
   ]
  },
  {
   "cell_type": "code",
   "execution_count": null,
   "id": "53c767a3",
   "metadata": {},
   "outputs": [],
   "source": [
    "charge = []\n",
    "\n",
    "for o in df['주문번호'].unique():\n",
    "    m = df['주문번호'] == o\n",
    "    df_mask = df[m]\n",
    "    \n",
    "    charge.append([o, df_mask['판매금액'].sum()])"
   ]
  },
  {
   "cell_type": "code",
   "execution_count": null,
   "id": "0ff3f627",
   "metadata": {},
   "outputs": [],
   "source": [
    "pd.DataFrame(charge, columns = ['주문번호', '판매금액총계'])"
   ]
  },
  {
   "cell_type": "code",
   "execution_count": null,
   "id": "caf99b04",
   "metadata": {},
   "outputs": [],
   "source": [
    "charge_res = pd.DataFrame(charge, columns = ['주문번호', '판매금액총계'])"
   ]
  },
  {
   "cell_type": "code",
   "execution_count": null,
   "id": "07e9d6c3",
   "metadata": {},
   "outputs": [],
   "source": [
    "charge_res.sort_values('판매금액총계', ascending=False) # True는 오름차순 False는 내림차순"
   ]
  },
  {
   "cell_type": "code",
   "execution_count": null,
   "id": "cd277aa7",
   "metadata": {},
   "outputs": [],
   "source": [
    "df"
   ]
  },
  {
   "cell_type": "code",
   "execution_count": null,
   "id": "6f576e55",
   "metadata": {},
   "outputs": [],
   "source": [
    "num_sum = []\n",
    "\n",
    "for o in df['주문번호'].unique():\n",
    "    m = df['주문번호'] == o\n",
    "    df_mask2 = df[m]\n",
    "    \n",
    "    num_sum.append([o, df_mask2['주문수량'].sum()])"
   ]
  },
  {
   "cell_type": "code",
   "execution_count": null,
   "id": "43491b92",
   "metadata": {},
   "outputs": [],
   "source": [
    "pd.DataFrame(num_sum, columns = ['주문번호', '주문수량총계'])"
   ]
  },
  {
   "cell_type": "code",
   "execution_count": null,
   "id": "03004ed9",
   "metadata": {},
   "outputs": [],
   "source": [
    "num_sum_res = pd.DataFrame(num_sum, columns = ['주문번호', '주문수량총계'])"
   ]
  },
  {
   "cell_type": "code",
   "execution_count": null,
   "id": "a453802b",
   "metadata": {},
   "outputs": [],
   "source": [
    "num_sum_res.sort_values('주문수량총계', ascending=False)"
   ]
  },
  {
   "cell_type": "code",
   "execution_count": 6,
   "id": "7f84e773",
   "metadata": {},
   "outputs": [
    {
     "data": {
      "text/plain": [
       "0         12\n",
       "1         12\n",
       "2         12\n",
       "3         12\n",
       "4         12\n",
       "          ..\n",
       "218596    11\n",
       "218597    11\n",
       "218598    11\n",
       "218599    11\n",
       "218600    11\n",
       "Name: 주문일자, Length: 218601, dtype: object"
      ]
     },
     "execution_count": 6,
     "metadata": {},
     "output_type": "execute_result"
    }
   ],
   "source": [
    "df['주문일자'].apply(lambda x: str(x).split('-')[1])"
   ]
  },
  {
   "cell_type": "code",
   "execution_count": 7,
   "id": "6e0e924c",
   "metadata": {},
   "outputs": [],
   "source": [
    "df['주문월'] = df['주문일자'].apply(lambda x: str(x).split('-')[1])"
   ]
  },
  {
   "cell_type": "code",
   "execution_count": 8,
   "id": "9ee2a180",
   "metadata": {},
   "outputs": [
    {
     "data": {
      "text/plain": [
       "array(['12', '01', '02', '03', '04', '05', '06', '07', '08', '09', '10',\n",
       "       '11'], dtype=object)"
      ]
     },
     "execution_count": 8,
     "metadata": {},
     "output_type": "execute_result"
    }
   ],
   "source": [
    "df['주문월'].unique()"
   ]
  },
  {
   "cell_type": "code",
   "execution_count": 9,
   "id": "91e18f97",
   "metadata": {},
   "outputs": [],
   "source": [
    "import matplotlib.pyplot as plt"
   ]
  },
  {
   "cell_type": "code",
   "execution_count": 10,
   "id": "beab1795",
   "metadata": {},
   "outputs": [],
   "source": [
    "%matplotlib inline"
   ]
  },
  {
   "cell_type": "code",
   "execution_count": 11,
   "id": "d96a5f1b",
   "metadata": {},
   "outputs": [
    {
     "data": {
      "text/plain": [
       "Text(0.5, 1.0, 'charge per month')"
      ]
     },
     "execution_count": 11,
     "metadata": {},
     "output_type": "execute_result"
    },
    {
     "data": {
      "image/png": "[encoded data removed]",
      "text/plain": [
       "<Figure size 640x480 with 1 Axes>"
      ]
     },
     "metadata": {},
     "output_type": "display_data"
    }
   ],
   "source": [
    "sns.barplot(data = df, x = '주문월', y = '판매금액')\n",
    "plt.xlabel('month')\n",
    "plt.ylabel('charge')\n",
    "plt.title('charge per month')"
   ]
  },
  {
   "cell_type": "code",
   "execution_count": 12,
   "id": "c121f028",
   "metadata": {},
   "outputs": [
    {
     "data": {
      "text/plain": [
       "array([nan, '12개월', '1개월', '24개월', '6개월', '18개월'], dtype=object)"
      ]
     },
     "execution_count": 12,
     "metadata": {},
     "output_type": "execute_result"
    }
   ],
   "source": [
    "df['할부기간'].unique()"
   ]
  },
  {
   "cell_type": "markdown",
   "id": "2056409d",
   "metadata": {},
   "source": [
    "# 할부기간을 고려하는 법\n",
    "1. nan 값은 일시불 (=1개월)로 처리한다\n",
    "2. 6개월은 1~6월에 나눠 더한다 (6등분)\n",
    "3. 12개월은 각 월별로 나눠 더한다 (12등분)\n",
    "4. 24개월은 12월과 같이 처리한다 (연도를 무시하기 때문)\n",
    "5. 18개월은 각 월별로 나눠 더한 뒤, 1~6월에 나눠 한번 더 더한다"
   ]
  },
  {
   "cell_type": "code",
   "execution_count": 13,
   "id": "f3c22e39",
   "metadata": {},
   "outputs": [
    {
     "data": {
      "text/plain": [
       "0         1\n",
       "1         1\n",
       "2         1\n",
       "3         1\n",
       "4         1\n",
       "         ..\n",
       "218596    1\n",
       "218597    1\n",
       "218598    1\n",
       "218599    1\n",
       "218600    1\n",
       "Name: 할부기간, Length: 218601, dtype: int64"
      ]
     },
     "execution_count": 13,
     "metadata": {},
     "output_type": "execute_result"
    }
   ],
   "source": [
    "def processing(x):\n",
    "    if x != x or x == '1개월': # nan값인지 아닌지 확인하는 코드\n",
    "        return 1\n",
    "    elif x == '24개월':\n",
    "        return 12\n",
    "    elif x == '6개월': # 한자리 숫자라서 따로 처리\n",
    "        return 6\n",
    "    else:\n",
    "        return int(x[:2]) # 12개월, 18개월\n",
    "\n",
    "df['할부기간'].apply(lambda x: processing(x))"
   ]
  },
  {
   "cell_type": "code",
   "execution_count": 14,
   "id": "2b3114e4",
   "metadata": {},
   "outputs": [],
   "source": [
    "df['할부기간'] = df['할부기간'].apply(lambda x: processing(x))"
   ]
  },
  {
   "cell_type": "code",
   "execution_count": 19,
   "id": "309c99d2",
   "metadata": {},
   "outputs": [
    {
     "data": {
      "text/plain": [
       "array([ 1, 12,  6, 18], dtype=int64)"
      ]
     },
     "execution_count": 19,
     "metadata": {},
     "output_type": "execute_result"
    }
   ],
   "source": [
    "df['할부기간'].unique()"
   ]
  },
  {
   "cell_type": "code",
   "execution_count": 16,
   "id": "bcd4ff5f",
   "metadata": {},
   "outputs": [
    {
     "data": {
      "text/html": [
       "<div>\n",
       "<style scoped>\n",
       "    .dataframe tbody tr th:only-of-type {\n",
       "        vertical-align: middle;\n",
       "    }\n",
       "\n",
       "    .dataframe tbody tr th {\n",
       "        vertical-align: top;\n",
       "    }\n",
       "\n",
       "    .dataframe thead th {\n",
       "        text-align: right;\n",
       "    }\n",
       "</style>\n",
       "<table border=\"1\" class=\"dataframe\">\n",
       "  <thead>\n",
       "    <tr style=\"text-align: right;\">\n",
       "      <th></th>\n",
       "      <th>주문번호</th>\n",
       "      <th>업체명</th>\n",
       "      <th>상품명</th>\n",
       "      <th>제조사</th>\n",
       "      <th>주문수량</th>\n",
       "      <th>판매금액</th>\n",
       "      <th>결제방법</th>\n",
       "      <th>주문일자</th>\n",
       "      <th>처리상태</th>\n",
       "      <th>초도상품</th>\n",
       "      <th>제작문구 내역</th>\n",
       "      <th>할부기간</th>\n",
       "      <th>주문월</th>\n",
       "    </tr>\n",
       "  </thead>\n",
       "  <tbody>\n",
       "    <tr>\n",
       "      <th>0</th>\n",
       "      <td>191213170236874</td>\n",
       "      <td>지니</td>\n",
       "      <td>eHBM셀파수학교실 비닐봉투-1세트 100장입</td>\n",
       "      <td>HB</td>\n",
       "      <td>1</td>\n",
       "      <td>5000</td>\n",
       "      <td>신용카드</td>\n",
       "      <td>2019-12-13 17:03:37</td>\n",
       "      <td>구매확정</td>\n",
       "      <td>N</td>\n",
       "      <td>NaN</td>\n",
       "      <td>1</td>\n",
       "      <td>12</td>\n",
       "    </tr>\n",
       "    <tr>\n",
       "      <th>1</th>\n",
       "      <td>191216100347429</td>\n",
       "      <td>지니</td>\n",
       "      <td>eHBM셀파수학교실 비닐봉투-1세트 100장입</td>\n",
       "      <td>HB</td>\n",
       "      <td>1</td>\n",
       "      <td>5000</td>\n",
       "      <td>신용카드</td>\n",
       "      <td>2019-12-16 10:04:50</td>\n",
       "      <td>구매확정</td>\n",
       "      <td>N</td>\n",
       "      <td>NaN</td>\n",
       "      <td>1</td>\n",
       "      <td>12</td>\n",
       "    </tr>\n",
       "    <tr>\n",
       "      <th>2</th>\n",
       "      <td>191216100347429</td>\n",
       "      <td>지니</td>\n",
       "      <td>eHBM셀파수학교실 삼색볼펜-1세트 50개입</td>\n",
       "      <td>HB</td>\n",
       "      <td>3</td>\n",
       "      <td>67500</td>\n",
       "      <td>신용카드</td>\n",
       "      <td>2019-12-16 10:04:50</td>\n",
       "      <td>구매확정</td>\n",
       "      <td>N</td>\n",
       "      <td>NaN</td>\n",
       "      <td>1</td>\n",
       "      <td>12</td>\n",
       "    </tr>\n",
       "    <tr>\n",
       "      <th>3</th>\n",
       "      <td>191216173241622</td>\n",
       "      <td>지니</td>\n",
       "      <td>eHBM셀파수학교실 회원용 리플렛-1세트 50권입</td>\n",
       "      <td>HB</td>\n",
       "      <td>2</td>\n",
       "      <td>30000</td>\n",
       "      <td>신용카드</td>\n",
       "      <td>2019-12-16 17:33:43</td>\n",
       "      <td>구매확정</td>\n",
       "      <td>N</td>\n",
       "      <td>NaN</td>\n",
       "      <td>1</td>\n",
       "      <td>12</td>\n",
       "    </tr>\n",
       "    <tr>\n",
       "      <th>4</th>\n",
       "      <td>191216173241622</td>\n",
       "      <td>지니</td>\n",
       "      <td>eHBM셀파수학교실-학습계통도(중등 5종)</td>\n",
       "      <td>HB</td>\n",
       "      <td>1</td>\n",
       "      <td>750</td>\n",
       "      <td>신용카드</td>\n",
       "      <td>2019-12-16 17:33:43</td>\n",
       "      <td>구매확정</td>\n",
       "      <td>N</td>\n",
       "      <td>NaN</td>\n",
       "      <td>1</td>\n",
       "      <td>12</td>\n",
       "    </tr>\n",
       "    <tr>\n",
       "      <th>...</th>\n",
       "      <td>...</td>\n",
       "      <td>...</td>\n",
       "      <td>...</td>\n",
       "      <td>...</td>\n",
       "      <td>...</td>\n",
       "      <td>...</td>\n",
       "      <td>...</td>\n",
       "      <td>...</td>\n",
       "      <td>...</td>\n",
       "      <td>...</td>\n",
       "      <td>...</td>\n",
       "      <td>...</td>\n",
       "      <td>...</td>\n",
       "    </tr>\n",
       "    <tr>\n",
       "      <th>218596</th>\n",
       "      <td>221108104041264</td>\n",
       "      <td>에이스디포</td>\n",
       "      <td>[스마트 HBE*초도] 입체 액자형 현판</td>\n",
       "      <td>에이스디포</td>\n",
       "      <td>1</td>\n",
       "      <td>35000</td>\n",
       "      <td>웰컴마일</td>\n",
       "      <td>2022-11-08 10:38:21</td>\n",
       "      <td>결제완료</td>\n",
       "      <td>Y</td>\n",
       "      <td>NaN</td>\n",
       "      <td>1</td>\n",
       "      <td>11</td>\n",
       "    </tr>\n",
       "    <tr>\n",
       "      <th>218597</th>\n",
       "      <td>221108104041264</td>\n",
       "      <td>에이스디포</td>\n",
       "      <td>[스마트 HBE*초도] 아크릴 사인</td>\n",
       "      <td>HB</td>\n",
       "      <td>1</td>\n",
       "      <td>26900</td>\n",
       "      <td>웰컴마일</td>\n",
       "      <td>2022-11-08 10:38:21</td>\n",
       "      <td>결제완료</td>\n",
       "      <td>Y</td>\n",
       "      <td>NaN</td>\n",
       "      <td>1</td>\n",
       "      <td>11</td>\n",
       "    </tr>\n",
       "    <tr>\n",
       "      <th>218598</th>\n",
       "      <td>221108104536307</td>\n",
       "      <td>에이스디포</td>\n",
       "      <td>[스마트 HBM] 아크릴 사인</td>\n",
       "      <td>HB</td>\n",
       "      <td>1</td>\n",
       "      <td>26900</td>\n",
       "      <td>신 + 포</td>\n",
       "      <td>2022-11-08 10:43:15</td>\n",
       "      <td>배송준비</td>\n",
       "      <td>N</td>\n",
       "      <td>NaN</td>\n",
       "      <td>1</td>\n",
       "      <td>11</td>\n",
       "    </tr>\n",
       "    <tr>\n",
       "      <th>218599</th>\n",
       "      <td>221108104735216</td>\n",
       "      <td>다우기술</td>\n",
       "      <td>[스타벅스] 아이스 카페 아메리카노 T</td>\n",
       "      <td>스타벅스</td>\n",
       "      <td>1</td>\n",
       "      <td>4050</td>\n",
       "      <td>포인트</td>\n",
       "      <td>2022-11-08 10:45:14</td>\n",
       "      <td>배송완료</td>\n",
       "      <td>N</td>\n",
       "      <td>NaN</td>\n",
       "      <td>1</td>\n",
       "      <td>11</td>\n",
       "    </tr>\n",
       "    <tr>\n",
       "      <th>218600</th>\n",
       "      <td>221108105148171</td>\n",
       "      <td>다우기술</td>\n",
       "      <td>[특별한 크리스마스] 2차-신세계 상품권 모바일 교환권-1만원권</td>\n",
       "      <td>신세계</td>\n",
       "      <td>17</td>\n",
       "      <td>161500</td>\n",
       "      <td>신용카드</td>\n",
       "      <td>2022-11-08 10:49:28</td>\n",
       "      <td>배송완료</td>\n",
       "      <td>N</td>\n",
       "      <td>NaN</td>\n",
       "      <td>1</td>\n",
       "      <td>11</td>\n",
       "    </tr>\n",
       "  </tbody>\n",
       "</table>\n",
       "<p>218601 rows × 13 columns</p>\n",
       "</div>"
      ],
      "text/plain": [
       "                   주문번호    업체명                                  상품명    제조사  \\\n",
       "0       191213170236874     지니            eHBM셀파수학교실 비닐봉투-1세트 100장입     HB   \n",
       "1       191216100347429     지니            eHBM셀파수학교실 비닐봉투-1세트 100장입     HB   \n",
       "2       191216100347429     지니             eHBM셀파수학교실 삼색볼펜-1세트 50개입     HB   \n",
       "3       191216173241622     지니          eHBM셀파수학교실 회원용 리플렛-1세트 50권입     HB   \n",
       "4       191216173241622     지니              eHBM셀파수학교실-학습계통도(중등 5종)     HB   \n",
       "...                 ...    ...                                  ...    ...   \n",
       "218596  221108104041264  에이스디포               [스마트 HBE*초도] 입체 액자형 현판  에이스디포   \n",
       "218597  221108104041264  에이스디포                  [스마트 HBE*초도] 아크릴 사인     HB   \n",
       "218598  221108104536307  에이스디포                     [스마트 HBM] 아크릴 사인     HB   \n",
       "218599  221108104735216   다우기술                [스타벅스] 아이스 카페 아메리카노 T   스타벅스   \n",
       "218600  221108105148171   다우기술  [특별한 크리스마스] 2차-신세계 상품권 모바일 교환권-1만원권    신세계   \n",
       "\n",
       "        주문수량    판매금액   결제방법                주문일자  처리상태 초도상품 제작문구 내역  할부기간 주문월  \n",
       "0          1    5000   신용카드 2019-12-13 17:03:37  구매확정    N     NaN     1  12  \n",
       "1          1    5000   신용카드 2019-12-16 10:04:50  구매확정    N     NaN     1  12  \n",
       "2          3   67500   신용카드 2019-12-16 10:04:50  구매확정    N     NaN     1  12  \n",
       "3          2   30000   신용카드 2019-12-16 17:33:43  구매확정    N     NaN     1  12  \n",
       "4          1     750   신용카드 2019-12-16 17:33:43  구매확정    N     NaN     1  12  \n",
       "...      ...     ...    ...                 ...   ...  ...     ...   ...  ..  \n",
       "218596     1   35000   웰컴마일 2022-11-08 10:38:21  결제완료    Y     NaN     1  11  \n",
       "218597     1   26900   웰컴마일 2022-11-08 10:38:21  결제완료    Y     NaN     1  11  \n",
       "218598     1   26900  신 + 포 2022-11-08 10:43:15  배송준비    N     NaN     1  11  \n",
       "218599     1    4050    포인트 2022-11-08 10:45:14  배송완료    N     NaN     1  11  \n",
       "218600    17  161500   신용카드 2022-11-08 10:49:28  배송완료    N     NaN     1  11  \n",
       "\n",
       "[218601 rows x 13 columns]"
      ]
     },
     "execution_count": 16,
     "metadata": {},
     "output_type": "execute_result"
    }
   ],
   "source": [
    "df"
   ]
  },
  {
   "cell_type": "code",
   "execution_count": 49,
   "id": "1ecce9c8",
   "metadata": {},
   "outputs": [],
   "source": [
    "charge_by_month = [0, 0, 0, 0, 0, 0, 0, 0, 0, 0, 0, 0]\n",
    "# 1, 12, 6, 18\n",
    "for i in df.index:\n",
    "    charge = df.loc[i, '판매금액']\n",
    "    month = int(df.loc[i, '주문월'])\n",
    "    dividing = df.loc[i, '할부기간']\n",
    "    \n",
    "    charge_by_month[month-1] = charge\n",
    "    \n",
    "    if dividing == 1:\n",
    "        charge_by_month = [c+(charge/1) for c in charge_by_month]\n",
    "    \n",
    "    elif dividing == 12:\n",
    "        charge_by_month = [c+(charge/12) for c in charge_by_month]\n",
    "        \n",
    "    elif dividing == 6:\n",
    "        if month < 8:           \n",
    "            for j in range(6):\n",
    "                charge_by_month[month-1+j] += charge/6\n",
    "                \n",
    "        else:            \n",
    "            for j in range(6):               \n",
    "                if month < 8:                   \n",
    "                    charge_by_month[month-1+j] += charge/6\n",
    "                else:\n",
    "                    charge_by_month[month-13+j] += charge/6\n",
    "                    \n",
    "    elif dividing == 18:\n",
    "        charge_by_month = [c+(charge/18) for c in charge_by_month]\n",
    "        \n",
    "        if month < 8:\n",
    "            for j in range(6):\n",
    "                charge_by_month[month-1+j] += charge/18\n",
    "        else:\n",
    "            for j in range(6):\n",
    "                if month < 8:\n",
    "                    charge_by_month[month-1+j] += charge/18\n",
    "                else:\n",
    "                    charge_by_month[month-13+j] += charge/18 # 12달 뺀거\n",
    "        \n",
    "        "
   ]
  },
  {
   "cell_type": "code",
   "execution_count": 51,
   "id": "945359d1",
   "metadata": {},
   "outputs": [
    {
     "data": {
      "text/plain": [
       "[5147176440.0,\n",
       " 4678031715.0,\n",
       " 3813572760.0,\n",
       " 3344397295.0,\n",
       " 2386406525.0,\n",
       " 1996584740.0,\n",
       " 1642547185.0,\n",
       " 1006392950.0,\n",
       " 613364110.0,\n",
       " 179986340.0,\n",
       " 323000.0,\n",
       " 5728454410.0]"
      ]
     },
     "execution_count": 51,
     "metadata": {},
     "output_type": "execute_result"
    }
   ],
   "source": [
    "charge_by_month"
   ]
  },
  {
   "cell_type": "code",
   "execution_count": 24,
   "id": "2316f338",
   "metadata": {},
   "outputs": [
    {
     "data": {
      "text/plain": [
       "4.0"
      ]
     },
     "execution_count": 24,
     "metadata": {},
     "output_type": "execute_result"
    }
   ],
   "source": [
    "48 / 12"
   ]
  },
  {
   "cell_type": "code",
   "execution_count": 25,
   "id": "04e48fa2",
   "metadata": {},
   "outputs": [
    {
     "data": {
      "text/plain": [
       "2.0"
      ]
     },
     "execution_count": 25,
     "metadata": {},
     "output_type": "execute_result"
    }
   ],
   "source": [
    "48 / 24"
   ]
  },
  {
   "cell_type": "code",
   "execution_count": 26,
   "id": "57ef0fb4",
   "metadata": {},
   "outputs": [
    {
     "data": {
      "text/plain": [
       "4.5"
      ]
     },
     "execution_count": 26,
     "metadata": {},
     "output_type": "execute_result"
    }
   ],
   "source": [
    "54 / 12"
   ]
  },
  {
   "cell_type": "code",
   "execution_count": 27,
   "id": "5bc28117",
   "metadata": {},
   "outputs": [
    {
     "data": {
      "text/plain": [
       "2.25"
      ]
     },
     "execution_count": 27,
     "metadata": {},
     "output_type": "execute_result"
    }
   ],
   "source": [
    "54 / 24"
   ]
  },
  {
   "cell_type": "code",
   "execution_count": 28,
   "id": "db30f7ce",
   "metadata": {},
   "outputs": [],
   "source": [
    "# 24로 나누나 12로 나누나 값은 같음. 2로 한번 더 나누어 주는 것인데 12가 이미 24/2 이므로 24개월은 12개월로 바꿔 계산해도 됨."
   ]
  },
  {
   "cell_type": "code",
   "execution_count": 52,
   "id": "cd666f2c",
   "metadata": {},
   "outputs": [
    {
     "data": {
      "text/html": [
       "<div>\n",
       "<style scoped>\n",
       "    .dataframe tbody tr th:only-of-type {\n",
       "        vertical-align: middle;\n",
       "    }\n",
       "\n",
       "    .dataframe tbody tr th {\n",
       "        vertical-align: top;\n",
       "    }\n",
       "\n",
       "    .dataframe thead th {\n",
       "        text-align: right;\n",
       "    }\n",
       "</style>\n",
       "<table border=\"1\" class=\"dataframe\">\n",
       "  <thead>\n",
       "    <tr style=\"text-align: right;\">\n",
       "      <th></th>\n",
       "      <th>0</th>\n",
       "    </tr>\n",
       "  </thead>\n",
       "  <tbody>\n",
       "    <tr>\n",
       "      <th>0</th>\n",
       "      <td>5.147176e+09</td>\n",
       "    </tr>\n",
       "    <tr>\n",
       "      <th>1</th>\n",
       "      <td>4.678032e+09</td>\n",
       "    </tr>\n",
       "    <tr>\n",
       "      <th>2</th>\n",
       "      <td>3.813573e+09</td>\n",
       "    </tr>\n",
       "    <tr>\n",
       "      <th>3</th>\n",
       "      <td>3.344397e+09</td>\n",
       "    </tr>\n",
       "    <tr>\n",
       "      <th>4</th>\n",
       "      <td>2.386407e+09</td>\n",
       "    </tr>\n",
       "    <tr>\n",
       "      <th>5</th>\n",
       "      <td>1.996585e+09</td>\n",
       "    </tr>\n",
       "    <tr>\n",
       "      <th>6</th>\n",
       "      <td>1.642547e+09</td>\n",
       "    </tr>\n",
       "    <tr>\n",
       "      <th>7</th>\n",
       "      <td>1.006393e+09</td>\n",
       "    </tr>\n",
       "    <tr>\n",
       "      <th>8</th>\n",
       "      <td>6.133641e+08</td>\n",
       "    </tr>\n",
       "    <tr>\n",
       "      <th>9</th>\n",
       "      <td>1.799863e+08</td>\n",
       "    </tr>\n",
       "    <tr>\n",
       "      <th>10</th>\n",
       "      <td>3.230000e+05</td>\n",
       "    </tr>\n",
       "    <tr>\n",
       "      <th>11</th>\n",
       "      <td>5.728454e+09</td>\n",
       "    </tr>\n",
       "  </tbody>\n",
       "</table>\n",
       "</div>"
      ],
      "text/plain": [
       "               0\n",
       "0   5.147176e+09\n",
       "1   4.678032e+09\n",
       "2   3.813573e+09\n",
       "3   3.344397e+09\n",
       "4   2.386407e+09\n",
       "5   1.996585e+09\n",
       "6   1.642547e+09\n",
       "7   1.006393e+09\n",
       "8   6.133641e+08\n",
       "9   1.799863e+08\n",
       "10  3.230000e+05\n",
       "11  5.728454e+09"
      ]
     },
     "execution_count": 52,
     "metadata": {},
     "output_type": "execute_result"
    }
   ],
   "source": [
    "pd.DataFrame(charge_by_month)"
   ]
  },
  {
   "cell_type": "code",
   "execution_count": 53,
   "id": "698a0ad7",
   "metadata": {},
   "outputs": [],
   "source": [
    "charge_by_month = pd.DataFrame(charge_by_month)"
   ]
  },
  {
   "cell_type": "code",
   "execution_count": 54,
   "id": "6dffdeea",
   "metadata": {},
   "outputs": [],
   "source": [
    "charge_by_month[\"1\"] = [1, 2, 3, 4, 5, 6, 7, 8, 9, 10, 11, 12]"
   ]
  },
  {
   "cell_type": "code",
   "execution_count": 55,
   "id": "91c43c67",
   "metadata": {},
   "outputs": [
    {
     "data": {
      "text/html": [
       "<div>\n",
       "<style scoped>\n",
       "    .dataframe tbody tr th:only-of-type {\n",
       "        vertical-align: middle;\n",
       "    }\n",
       "\n",
       "    .dataframe tbody tr th {\n",
       "        vertical-align: top;\n",
       "    }\n",
       "\n",
       "    .dataframe thead th {\n",
       "        text-align: right;\n",
       "    }\n",
       "</style>\n",
       "<table border=\"1\" class=\"dataframe\">\n",
       "  <thead>\n",
       "    <tr style=\"text-align: right;\">\n",
       "      <th></th>\n",
       "      <th>0</th>\n",
       "      <th>1</th>\n",
       "    </tr>\n",
       "  </thead>\n",
       "  <tbody>\n",
       "    <tr>\n",
       "      <th>0</th>\n",
       "      <td>5.147176e+09</td>\n",
       "      <td>1</td>\n",
       "    </tr>\n",
       "    <tr>\n",
       "      <th>1</th>\n",
       "      <td>4.678032e+09</td>\n",
       "      <td>2</td>\n",
       "    </tr>\n",
       "    <tr>\n",
       "      <th>2</th>\n",
       "      <td>3.813573e+09</td>\n",
       "      <td>3</td>\n",
       "    </tr>\n",
       "    <tr>\n",
       "      <th>3</th>\n",
       "      <td>3.344397e+09</td>\n",
       "      <td>4</td>\n",
       "    </tr>\n",
       "    <tr>\n",
       "      <th>4</th>\n",
       "      <td>2.386407e+09</td>\n",
       "      <td>5</td>\n",
       "    </tr>\n",
       "    <tr>\n",
       "      <th>5</th>\n",
       "      <td>1.996585e+09</td>\n",
       "      <td>6</td>\n",
       "    </tr>\n",
       "    <tr>\n",
       "      <th>6</th>\n",
       "      <td>1.642547e+09</td>\n",
       "      <td>7</td>\n",
       "    </tr>\n",
       "    <tr>\n",
       "      <th>7</th>\n",
       "      <td>1.006393e+09</td>\n",
       "      <td>8</td>\n",
       "    </tr>\n",
       "    <tr>\n",
       "      <th>8</th>\n",
       "      <td>6.133641e+08</td>\n",
       "      <td>9</td>\n",
       "    </tr>\n",
       "    <tr>\n",
       "      <th>9</th>\n",
       "      <td>1.799863e+08</td>\n",
       "      <td>10</td>\n",
       "    </tr>\n",
       "    <tr>\n",
       "      <th>10</th>\n",
       "      <td>3.230000e+05</td>\n",
       "      <td>11</td>\n",
       "    </tr>\n",
       "    <tr>\n",
       "      <th>11</th>\n",
       "      <td>5.728454e+09</td>\n",
       "      <td>12</td>\n",
       "    </tr>\n",
       "  </tbody>\n",
       "</table>\n",
       "</div>"
      ],
      "text/plain": [
       "               0   1\n",
       "0   5.147176e+09   1\n",
       "1   4.678032e+09   2\n",
       "2   3.813573e+09   3\n",
       "3   3.344397e+09   4\n",
       "4   2.386407e+09   5\n",
       "5   1.996585e+09   6\n",
       "6   1.642547e+09   7\n",
       "7   1.006393e+09   8\n",
       "8   6.133641e+08   9\n",
       "9   1.799863e+08  10\n",
       "10  3.230000e+05  11\n",
       "11  5.728454e+09  12"
      ]
     },
     "execution_count": 55,
     "metadata": {},
     "output_type": "execute_result"
    }
   ],
   "source": [
    "charge_by_month"
   ]
  },
  {
   "cell_type": "code",
   "execution_count": 56,
   "id": "0818a367",
   "metadata": {},
   "outputs": [
    {
     "data": {
      "text/plain": [
       "Text(0.5, 1.0, 'charge per month')"
      ]
     },
     "execution_count": 56,
     "metadata": {},
     "output_type": "execute_result"
    },
    {
     "data": {
      "image/png": "[encoded data removed]",
      "text/plain": [
       "<Figure size 640x480 with 1 Axes>"
      ]
     },
     "metadata": {},
     "output_type": "display_data"
    }
   ],
   "source": [
    "sns.barplot(data = charge_by_month, x = '1', y = 0)\n",
    "plt.xlabel('month')\n",
    "plt.ylabel('charge')\n",
    "plt.title('charge per month')"
   ]
  },
  {
   "cell_type": "code",
   "execution_count": 101,
   "id": "c381317a",
   "metadata": {},
   "outputs": [
    {
     "data": {
      "text/plain": [
       "array(['신용카드', '가상계좌', '후불', '무통장입금', '-', '신 + 포', '포인트', '신 + 적',\n",
       "       '신 + 적 + 포', '적 + 포', '웰컴마일', '신 + 웰컴', '적립금', '후 + 포',\n",
       "       '후 + 적 + 포', '후 + 적', '정 + 적', '정 + 적 + 포', '정기결제', '정 + 포',\n",
       "       '현금간편결제', '현 + 포', '현 + 적', '현 + 적 + 포', ' + 포'], dtype=object)"
      ]
     },
     "execution_count": 101,
     "metadata": {},
     "output_type": "execute_result"
    }
   ],
   "source": [
    "df['결제방법'].unique()"
   ]
  },
  {
   "cell_type": "code",
   "execution_count": 102,
   "id": "f3539df4",
   "metadata": {},
   "outputs": [],
   "source": [
    "df['결제방법'] = df['결제방법'].fillna('-') #nan값 -값으로 변경"
   ]
  },
  {
   "cell_type": "code",
   "execution_count": 121,
   "id": "087cf7f8",
   "metadata": {},
   "outputs": [],
   "source": [
    "df['결제방법정리'] = df['결제방법'].apply(lambda x: x[0])"
   ]
  },
  {
   "cell_type": "code",
   "execution_count": 104,
   "id": "fe1a94c1",
   "metadata": {},
   "outputs": [
    {
     "data": {
      "text/html": [
       "<div>\n",
       "<style scoped>\n",
       "    .dataframe tbody tr th:only-of-type {\n",
       "        vertical-align: middle;\n",
       "    }\n",
       "\n",
       "    .dataframe tbody tr th {\n",
       "        vertical-align: top;\n",
       "    }\n",
       "\n",
       "    .dataframe thead th {\n",
       "        text-align: right;\n",
       "    }\n",
       "</style>\n",
       "<table border=\"1\" class=\"dataframe\">\n",
       "  <thead>\n",
       "    <tr style=\"text-align: right;\">\n",
       "      <th></th>\n",
       "      <th>주문번호</th>\n",
       "      <th>업체명</th>\n",
       "      <th>상품명</th>\n",
       "      <th>제조사</th>\n",
       "      <th>주문수량</th>\n",
       "      <th>판매금액</th>\n",
       "      <th>결제방법</th>\n",
       "      <th>주문일자</th>\n",
       "      <th>처리상태</th>\n",
       "      <th>초도상품</th>\n",
       "      <th>제작문구 내역</th>\n",
       "      <th>할부기간</th>\n",
       "      <th>주문월</th>\n",
       "      <th>결제방법정리</th>\n",
       "      <th>판매금액_로그</th>\n",
       "    </tr>\n",
       "  </thead>\n",
       "  <tbody>\n",
       "    <tr>\n",
       "      <th>0</th>\n",
       "      <td>191213170236874</td>\n",
       "      <td>지니</td>\n",
       "      <td>eHBM셀파수학교실 비닐봉투-1세트 100장입</td>\n",
       "      <td>HB</td>\n",
       "      <td>1</td>\n",
       "      <td>5000</td>\n",
       "      <td>신용카드</td>\n",
       "      <td>2019-12-13 17:03:37</td>\n",
       "      <td>구매확정</td>\n",
       "      <td>N</td>\n",
       "      <td>NaN</td>\n",
       "      <td>1</td>\n",
       "      <td>12</td>\n",
       "      <td>신</td>\n",
       "      <td>12.287713</td>\n",
       "    </tr>\n",
       "    <tr>\n",
       "      <th>1</th>\n",
       "      <td>191216100347429</td>\n",
       "      <td>지니</td>\n",
       "      <td>eHBM셀파수학교실 비닐봉투-1세트 100장입</td>\n",
       "      <td>HB</td>\n",
       "      <td>1</td>\n",
       "      <td>5000</td>\n",
       "      <td>신용카드</td>\n",
       "      <td>2019-12-16 10:04:50</td>\n",
       "      <td>구매확정</td>\n",
       "      <td>N</td>\n",
       "      <td>NaN</td>\n",
       "      <td>1</td>\n",
       "      <td>12</td>\n",
       "      <td>신</td>\n",
       "      <td>12.287713</td>\n",
       "    </tr>\n",
       "    <tr>\n",
       "      <th>2</th>\n",
       "      <td>191216100347429</td>\n",
       "      <td>지니</td>\n",
       "      <td>eHBM셀파수학교실 삼색볼펜-1세트 50개입</td>\n",
       "      <td>HB</td>\n",
       "      <td>3</td>\n",
       "      <td>67500</td>\n",
       "      <td>신용카드</td>\n",
       "      <td>2019-12-16 10:04:50</td>\n",
       "      <td>구매확정</td>\n",
       "      <td>N</td>\n",
       "      <td>NaN</td>\n",
       "      <td>1</td>\n",
       "      <td>12</td>\n",
       "      <td>신</td>\n",
       "      <td>16.042600</td>\n",
       "    </tr>\n",
       "    <tr>\n",
       "      <th>3</th>\n",
       "      <td>191216173241622</td>\n",
       "      <td>지니</td>\n",
       "      <td>eHBM셀파수학교실 회원용 리플렛-1세트 50권입</td>\n",
       "      <td>HB</td>\n",
       "      <td>2</td>\n",
       "      <td>30000</td>\n",
       "      <td>신용카드</td>\n",
       "      <td>2019-12-16 17:33:43</td>\n",
       "      <td>구매확정</td>\n",
       "      <td>N</td>\n",
       "      <td>NaN</td>\n",
       "      <td>1</td>\n",
       "      <td>12</td>\n",
       "      <td>신</td>\n",
       "      <td>14.872675</td>\n",
       "    </tr>\n",
       "    <tr>\n",
       "      <th>4</th>\n",
       "      <td>191216173241622</td>\n",
       "      <td>지니</td>\n",
       "      <td>eHBM셀파수학교실-학습계통도(중등 5종)</td>\n",
       "      <td>HB</td>\n",
       "      <td>1</td>\n",
       "      <td>750</td>\n",
       "      <td>신용카드</td>\n",
       "      <td>2019-12-16 17:33:43</td>\n",
       "      <td>구매확정</td>\n",
       "      <td>N</td>\n",
       "      <td>NaN</td>\n",
       "      <td>1</td>\n",
       "      <td>12</td>\n",
       "      <td>신</td>\n",
       "      <td>9.550749</td>\n",
       "    </tr>\n",
       "    <tr>\n",
       "      <th>...</th>\n",
       "      <td>...</td>\n",
       "      <td>...</td>\n",
       "      <td>...</td>\n",
       "      <td>...</td>\n",
       "      <td>...</td>\n",
       "      <td>...</td>\n",
       "      <td>...</td>\n",
       "      <td>...</td>\n",
       "      <td>...</td>\n",
       "      <td>...</td>\n",
       "      <td>...</td>\n",
       "      <td>...</td>\n",
       "      <td>...</td>\n",
       "      <td>...</td>\n",
       "      <td>...</td>\n",
       "    </tr>\n",
       "    <tr>\n",
       "      <th>218596</th>\n",
       "      <td>221108104041264</td>\n",
       "      <td>에이스디포</td>\n",
       "      <td>[스마트 HBE*초도] 입체 액자형 현판</td>\n",
       "      <td>에이스디포</td>\n",
       "      <td>1</td>\n",
       "      <td>35000</td>\n",
       "      <td>웰컴마일</td>\n",
       "      <td>2022-11-08 10:38:21</td>\n",
       "      <td>결제완료</td>\n",
       "      <td>Y</td>\n",
       "      <td>NaN</td>\n",
       "      <td>1</td>\n",
       "      <td>11</td>\n",
       "      <td>웰</td>\n",
       "      <td>15.095067</td>\n",
       "    </tr>\n",
       "    <tr>\n",
       "      <th>218597</th>\n",
       "      <td>221108104041264</td>\n",
       "      <td>에이스디포</td>\n",
       "      <td>[스마트 HBE*초도] 아크릴 사인</td>\n",
       "      <td>HB</td>\n",
       "      <td>1</td>\n",
       "      <td>26900</td>\n",
       "      <td>웰컴마일</td>\n",
       "      <td>2022-11-08 10:38:21</td>\n",
       "      <td>결제완료</td>\n",
       "      <td>Y</td>\n",
       "      <td>NaN</td>\n",
       "      <td>1</td>\n",
       "      <td>11</td>\n",
       "      <td>웰</td>\n",
       "      <td>14.715319</td>\n",
       "    </tr>\n",
       "    <tr>\n",
       "      <th>218598</th>\n",
       "      <td>221108104536307</td>\n",
       "      <td>에이스디포</td>\n",
       "      <td>[스마트 HBM] 아크릴 사인</td>\n",
       "      <td>HB</td>\n",
       "      <td>1</td>\n",
       "      <td>26900</td>\n",
       "      <td>신 + 포</td>\n",
       "      <td>2022-11-08 10:43:15</td>\n",
       "      <td>배송준비</td>\n",
       "      <td>N</td>\n",
       "      <td>NaN</td>\n",
       "      <td>1</td>\n",
       "      <td>11</td>\n",
       "      <td>신</td>\n",
       "      <td>14.715319</td>\n",
       "    </tr>\n",
       "    <tr>\n",
       "      <th>218599</th>\n",
       "      <td>221108104735216</td>\n",
       "      <td>다우기술</td>\n",
       "      <td>[스타벅스] 아이스 카페 아메리카노 T</td>\n",
       "      <td>스타벅스</td>\n",
       "      <td>1</td>\n",
       "      <td>4050</td>\n",
       "      <td>포인트</td>\n",
       "      <td>2022-11-08 10:45:14</td>\n",
       "      <td>배송완료</td>\n",
       "      <td>N</td>\n",
       "      <td>NaN</td>\n",
       "      <td>1</td>\n",
       "      <td>11</td>\n",
       "      <td>포</td>\n",
       "      <td>11.983707</td>\n",
       "    </tr>\n",
       "    <tr>\n",
       "      <th>218600</th>\n",
       "      <td>221108105148171</td>\n",
       "      <td>다우기술</td>\n",
       "      <td>[특별한 크리스마스] 2차-신세계 상품권 모바일 교환권-1만원권</td>\n",
       "      <td>신세계</td>\n",
       "      <td>17</td>\n",
       "      <td>161500</td>\n",
       "      <td>신용카드</td>\n",
       "      <td>2022-11-08 10:49:28</td>\n",
       "      <td>배송완료</td>\n",
       "      <td>N</td>\n",
       "      <td>NaN</td>\n",
       "      <td>1</td>\n",
       "      <td>11</td>\n",
       "      <td>신</td>\n",
       "      <td>17.301175</td>\n",
       "    </tr>\n",
       "  </tbody>\n",
       "</table>\n",
       "<p>218601 rows × 15 columns</p>\n",
       "</div>"
      ],
      "text/plain": [
       "                   주문번호    업체명                                  상품명    제조사  \\\n",
       "0       191213170236874     지니            eHBM셀파수학교실 비닐봉투-1세트 100장입     HB   \n",
       "1       191216100347429     지니            eHBM셀파수학교실 비닐봉투-1세트 100장입     HB   \n",
       "2       191216100347429     지니             eHBM셀파수학교실 삼색볼펜-1세트 50개입     HB   \n",
       "3       191216173241622     지니          eHBM셀파수학교실 회원용 리플렛-1세트 50권입     HB   \n",
       "4       191216173241622     지니              eHBM셀파수학교실-학습계통도(중등 5종)     HB   \n",
       "...                 ...    ...                                  ...    ...   \n",
       "218596  221108104041264  에이스디포               [스마트 HBE*초도] 입체 액자형 현판  에이스디포   \n",
       "218597  221108104041264  에이스디포                  [스마트 HBE*초도] 아크릴 사인     HB   \n",
       "218598  221108104536307  에이스디포                     [스마트 HBM] 아크릴 사인     HB   \n",
       "218599  221108104735216   다우기술                [스타벅스] 아이스 카페 아메리카노 T   스타벅스   \n",
       "218600  221108105148171   다우기술  [특별한 크리스마스] 2차-신세계 상품권 모바일 교환권-1만원권    신세계   \n",
       "\n",
       "        주문수량    판매금액   결제방법                주문일자  처리상태 초도상품 제작문구 내역  할부기간 주문월  \\\n",
       "0          1    5000   신용카드 2019-12-13 17:03:37  구매확정    N     NaN     1  12   \n",
       "1          1    5000   신용카드 2019-12-16 10:04:50  구매확정    N     NaN     1  12   \n",
       "2          3   67500   신용카드 2019-12-16 10:04:50  구매확정    N     NaN     1  12   \n",
       "3          2   30000   신용카드 2019-12-16 17:33:43  구매확정    N     NaN     1  12   \n",
       "4          1     750   신용카드 2019-12-16 17:33:43  구매확정    N     NaN     1  12   \n",
       "...      ...     ...    ...                 ...   ...  ...     ...   ...  ..   \n",
       "218596     1   35000   웰컴마일 2022-11-08 10:38:21  결제완료    Y     NaN     1  11   \n",
       "218597     1   26900   웰컴마일 2022-11-08 10:38:21  결제완료    Y     NaN     1  11   \n",
       "218598     1   26900  신 + 포 2022-11-08 10:43:15  배송준비    N     NaN     1  11   \n",
       "218599     1    4050    포인트 2022-11-08 10:45:14  배송완료    N     NaN     1  11   \n",
       "218600    17  161500   신용카드 2022-11-08 10:49:28  배송완료    N     NaN     1  11   \n",
       "\n",
       "       결제방법정리    판매금액_로그  \n",
       "0           신  12.287713  \n",
       "1           신  12.287713  \n",
       "2           신  16.042600  \n",
       "3           신  14.872675  \n",
       "4           신   9.550749  \n",
       "...       ...        ...  \n",
       "218596      웰  15.095067  \n",
       "218597      웰  14.715319  \n",
       "218598      신  14.715319  \n",
       "218599      포  11.983707  \n",
       "218600      신  17.301175  \n",
       "\n",
       "[218601 rows x 15 columns]"
      ]
     },
     "execution_count": 104,
     "metadata": {},
     "output_type": "execute_result"
    }
   ],
   "source": [
    "df"
   ]
  },
  {
   "cell_type": "code",
   "execution_count": 61,
   "id": "61037286",
   "metadata": {},
   "outputs": [
    {
     "data": {
      "text/plain": [
       "<AxesSubplot:xlabel='결제방법정리', ylabel='판매금액'>"
      ]
     },
     "execution_count": 61,
     "metadata": {},
     "output_type": "execute_result"
    },
    {
     "name": "stderr",
     "output_type": "stream",
     "text": [
      "C:\\ProgramData\\Anaconda3\\lib\\site-packages\\IPython\\core\\pylabtools.py:151: UserWarning: Glyph 49888 (\\N{HANGUL SYLLABLE SIN}) missing from current font.\n",
      "  fig.canvas.print_figure(bytes_io, **kw)\n",
      "C:\\ProgramData\\Anaconda3\\lib\\site-packages\\IPython\\core\\pylabtools.py:151: UserWarning: Glyph 44032 (\\N{HANGUL SYLLABLE GA}) missing from current font.\n",
      "  fig.canvas.print_figure(bytes_io, **kw)\n",
      "C:\\ProgramData\\Anaconda3\\lib\\site-packages\\IPython\\core\\pylabtools.py:151: UserWarning: Glyph 54980 (\\N{HANGUL SYLLABLE HU}) missing from current font.\n",
      "  fig.canvas.print_figure(bytes_io, **kw)\n",
      "C:\\ProgramData\\Anaconda3\\lib\\site-packages\\IPython\\core\\pylabtools.py:151: UserWarning: Glyph 47924 (\\N{HANGUL SYLLABLE MU}) missing from current font.\n",
      "  fig.canvas.print_figure(bytes_io, **kw)\n",
      "C:\\ProgramData\\Anaconda3\\lib\\site-packages\\IPython\\core\\pylabtools.py:151: UserWarning: Glyph 54252 (\\N{HANGUL SYLLABLE PO}) missing from current font.\n",
      "  fig.canvas.print_figure(bytes_io, **kw)\n",
      "C:\\ProgramData\\Anaconda3\\lib\\site-packages\\IPython\\core\\pylabtools.py:151: UserWarning: Glyph 51201 (\\N{HANGUL SYLLABLE JEOG}) missing from current font.\n",
      "  fig.canvas.print_figure(bytes_io, **kw)\n",
      "C:\\ProgramData\\Anaconda3\\lib\\site-packages\\IPython\\core\\pylabtools.py:151: UserWarning: Glyph 50928 (\\N{HANGUL SYLLABLE WEL}) missing from current font.\n",
      "  fig.canvas.print_figure(bytes_io, **kw)\n",
      "C:\\ProgramData\\Anaconda3\\lib\\site-packages\\IPython\\core\\pylabtools.py:151: UserWarning: Glyph 51221 (\\N{HANGUL SYLLABLE JEONG}) missing from current font.\n",
      "  fig.canvas.print_figure(bytes_io, **kw)\n",
      "C:\\ProgramData\\Anaconda3\\lib\\site-packages\\IPython\\core\\pylabtools.py:151: UserWarning: Glyph 54788 (\\N{HANGUL SYLLABLE HYEON}) missing from current font.\n",
      "  fig.canvas.print_figure(bytes_io, **kw)\n",
      "C:\\ProgramData\\Anaconda3\\lib\\site-packages\\IPython\\core\\pylabtools.py:151: UserWarning: Glyph 44208 (\\N{HANGUL SYLLABLE GYEOL}) missing from current font.\n",
      "  fig.canvas.print_figure(bytes_io, **kw)\n",
      "C:\\ProgramData\\Anaconda3\\lib\\site-packages\\IPython\\core\\pylabtools.py:151: UserWarning: Glyph 51228 (\\N{HANGUL SYLLABLE JE}) missing from current font.\n",
      "  fig.canvas.print_figure(bytes_io, **kw)\n",
      "C:\\ProgramData\\Anaconda3\\lib\\site-packages\\IPython\\core\\pylabtools.py:151: UserWarning: Glyph 48169 (\\N{HANGUL SYLLABLE BANG}) missing from current font.\n",
      "  fig.canvas.print_figure(bytes_io, **kw)\n",
      "C:\\ProgramData\\Anaconda3\\lib\\site-packages\\IPython\\core\\pylabtools.py:151: UserWarning: Glyph 48277 (\\N{HANGUL SYLLABLE BEOB}) missing from current font.\n",
      "  fig.canvas.print_figure(bytes_io, **kw)\n",
      "C:\\ProgramData\\Anaconda3\\lib\\site-packages\\IPython\\core\\pylabtools.py:151: UserWarning: Glyph 47532 (\\N{HANGUL SYLLABLE RI}) missing from current font.\n",
      "  fig.canvas.print_figure(bytes_io, **kw)\n",
      "C:\\ProgramData\\Anaconda3\\lib\\site-packages\\IPython\\core\\pylabtools.py:151: UserWarning: Glyph 54032 (\\N{HANGUL SYLLABLE PAN}) missing from current font.\n",
      "  fig.canvas.print_figure(bytes_io, **kw)\n",
      "C:\\ProgramData\\Anaconda3\\lib\\site-packages\\IPython\\core\\pylabtools.py:151: UserWarning: Glyph 47588 (\\N{HANGUL SYLLABLE MAE}) missing from current font.\n",
      "  fig.canvas.print_figure(bytes_io, **kw)\n",
      "C:\\ProgramData\\Anaconda3\\lib\\site-packages\\IPython\\core\\pylabtools.py:151: UserWarning: Glyph 44552 (\\N{HANGUL SYLLABLE GEUM}) missing from current font.\n",
      "  fig.canvas.print_figure(bytes_io, **kw)\n",
      "C:\\ProgramData\\Anaconda3\\lib\\site-packages\\IPython\\core\\pylabtools.py:151: UserWarning: Glyph 50529 (\\N{HANGUL SYLLABLE AEG}) missing from current font.\n",
      "  fig.canvas.print_figure(bytes_io, **kw)\n"
     ]
    },
    {
     "data": {
      "image/png": "[encoded data removed]",
      "text/plain": [
       "<Figure size 640x480 with 1 Axes>"
      ]
     },
     "metadata": {},
     "output_type": "display_data"
    }
   ],
   "source": [
    "sns.boxplot(data = df, x = '결제방법정리', y = '판매금액')"
   ]
  },
  {
   "cell_type": "code",
   "execution_count": 63,
   "id": "0c451b64",
   "metadata": {},
   "outputs": [],
   "source": [
    "import math"
   ]
  },
  {
   "cell_type": "code",
   "execution_count": 105,
   "id": "427ab627",
   "metadata": {},
   "outputs": [],
   "source": [
    "df['판매금액_로그'] = df['판매금액'].apply(lambda x: math.log2(x+0.001))"
   ]
  },
  {
   "cell_type": "code",
   "execution_count": 147,
   "id": "8bc59c69",
   "metadata": {},
   "outputs": [],
   "source": [
    "plt.rc('font', family='Malgun Gothic')"
   ]
  },
  {
   "cell_type": "code",
   "execution_count": 107,
   "id": "7460c694",
   "metadata": {},
   "outputs": [
    {
     "data": {
      "text/plain": [
       "<AxesSubplot:xlabel='결제방법정리', ylabel='판매금액_로그'>"
      ]
     },
     "execution_count": 107,
     "metadata": {},
     "output_type": "execute_result"
    },
    {
     "name": "stderr",
     "output_type": "stream",
     "text": [
      "C:\\ProgramData\\Anaconda3\\lib\\site-packages\\IPython\\core\\pylabtools.py:151: UserWarning: Glyph 8722 (\\N{MINUS SIGN}) missing from current font.\n",
      "  fig.canvas.print_figure(bytes_io, **kw)\n"
     ]
    },
    {
     "data": {
      "image/png": "[encoded data removed]",
      "text/plain": [
       "<Figure size 640x480 with 1 Axes>"
      ]
     },
     "metadata": {},
     "output_type": "display_data"
    }
   ],
   "source": [
    "sns.boxplot(data = df, x = '결제방법정리', y = '판매금액_로그')"
   ]
  },
  {
   "cell_type": "code",
   "execution_count": 120,
   "id": "e48afee7",
   "metadata": {},
   "outputs": [
    {
     "data": {
      "text/plain": [
       "array(['신용카드', '가상계좌', '후불', '무통장입금', '-', '신 + 포', '포인트', '신 + 적',\n",
       "       '신 + 적 + 포', '적 + 포', '웰컴마일', '신 + 웰컴', '적립금', '후 + 포',\n",
       "       '후 + 적 + 포', '후 + 적', '정 + 적', '정 + 적 + 포', '정기결제', '정 + 포',\n",
       "       '현금간편결제', '현 + 포', '현 + 적', '현 + 적 + 포', ' + 포'], dtype=object)"
      ]
     },
     "execution_count": 120,
     "metadata": {},
     "output_type": "execute_result"
    }
   ],
   "source": [
    "df['결제방법'].unique()"
   ]
  },
  {
   "cell_type": "code",
   "execution_count": 122,
   "id": "cf22444b",
   "metadata": {},
   "outputs": [
    {
     "data": {
      "text/plain": [
       "array(['신', '가', '후', '무', '-', '포', '적', '웰', '정', '현', ' '],\n",
       "      dtype=object)"
      ]
     },
     "execution_count": 122,
     "metadata": {},
     "output_type": "execute_result"
    }
   ],
   "source": [
    "df['결제방법정리'].unique()"
   ]
  },
  {
   "cell_type": "code",
   "execution_count": 110,
   "id": "423d8802",
   "metadata": {},
   "outputs": [],
   "source": [
    "# 위쪽은 평균적으로 결제 금액이 높은 편, 아래쪽은 평균적으로 결제 금액이 낮은 편"
   ]
  },
  {
   "cell_type": "code",
   "execution_count": 111,
   "id": "b308af55",
   "metadata": {},
   "outputs": [
    {
     "name": "stdout",
     "output_type": "stream",
     "text": [
      "Requirement already satisfied: statannot in c:\\programdata\\anaconda3\\lib\\site-packages (0.2.3)\n"
     ]
    }
   ],
   "source": [
    "!pip install statannot"
   ]
  },
  {
   "cell_type": "code",
   "execution_count": 112,
   "id": "0f518c38",
   "metadata": {},
   "outputs": [],
   "source": [
    "from statannot import add_stat_annotation "
   ]
  },
  {
   "cell_type": "code",
   "execution_count": 124,
   "id": "24ea38c3",
   "metadata": {},
   "outputs": [],
   "source": [
    "def type_processing(x):\n",
    "    if x == '신':\n",
    "        return 'Card'\n",
    "    \n",
    "    if x == '가':\n",
    "        return 'Virtual Account'\n",
    "    \n",
    "    if x == '후':\n",
    "        return 'After Payment'\n",
    "    \n",
    "    if x == '무':\n",
    "        return 'Account'\n",
    "    \n",
    "    if x == '-' or x == ' ':\n",
    "        return 'Etc.'\n",
    "    \n",
    "    if x == '포' or x == '적' or x == '웰':\n",
    "        return 'Point'\n",
    "    \n",
    "    if x == '정':\n",
    "        return 'Regular Payment'\n",
    "    \n",
    "    if x == '현':\n",
    "        return 'Cash'"
   ]
  },
  {
   "cell_type": "code",
   "execution_count": 127,
   "id": "9a33b31f",
   "metadata": {},
   "outputs": [],
   "source": [
    "df['결제방법정리'] = df['결제방법정리'].apply(lambda x: type_processing(x))"
   ]
  },
  {
   "cell_type": "code",
   "execution_count": 128,
   "id": "11e7eb11",
   "metadata": {},
   "outputs": [
    {
     "data": {
      "text/html": [
       "<div>\n",
       "<style scoped>\n",
       "    .dataframe tbody tr th:only-of-type {\n",
       "        vertical-align: middle;\n",
       "    }\n",
       "\n",
       "    .dataframe tbody tr th {\n",
       "        vertical-align: top;\n",
       "    }\n",
       "\n",
       "    .dataframe thead th {\n",
       "        text-align: right;\n",
       "    }\n",
       "</style>\n",
       "<table border=\"1\" class=\"dataframe\">\n",
       "  <thead>\n",
       "    <tr style=\"text-align: right;\">\n",
       "      <th></th>\n",
       "      <th>주문번호</th>\n",
       "      <th>업체명</th>\n",
       "      <th>상품명</th>\n",
       "      <th>제조사</th>\n",
       "      <th>주문수량</th>\n",
       "      <th>판매금액</th>\n",
       "      <th>결제방법</th>\n",
       "      <th>주문일자</th>\n",
       "      <th>처리상태</th>\n",
       "      <th>초도상품</th>\n",
       "      <th>제작문구 내역</th>\n",
       "      <th>할부기간</th>\n",
       "      <th>주문월</th>\n",
       "      <th>결제방법정리</th>\n",
       "      <th>판매금액_로그</th>\n",
       "    </tr>\n",
       "  </thead>\n",
       "  <tbody>\n",
       "    <tr>\n",
       "      <th>0</th>\n",
       "      <td>191213170236874</td>\n",
       "      <td>지니</td>\n",
       "      <td>eHBM셀파수학교실 비닐봉투-1세트 100장입</td>\n",
       "      <td>HB</td>\n",
       "      <td>1</td>\n",
       "      <td>5000</td>\n",
       "      <td>신용카드</td>\n",
       "      <td>2019-12-13 17:03:37</td>\n",
       "      <td>구매확정</td>\n",
       "      <td>N</td>\n",
       "      <td>NaN</td>\n",
       "      <td>1</td>\n",
       "      <td>12</td>\n",
       "      <td>Card</td>\n",
       "      <td>12.287713</td>\n",
       "    </tr>\n",
       "    <tr>\n",
       "      <th>1</th>\n",
       "      <td>191216100347429</td>\n",
       "      <td>지니</td>\n",
       "      <td>eHBM셀파수학교실 비닐봉투-1세트 100장입</td>\n",
       "      <td>HB</td>\n",
       "      <td>1</td>\n",
       "      <td>5000</td>\n",
       "      <td>신용카드</td>\n",
       "      <td>2019-12-16 10:04:50</td>\n",
       "      <td>구매확정</td>\n",
       "      <td>N</td>\n",
       "      <td>NaN</td>\n",
       "      <td>1</td>\n",
       "      <td>12</td>\n",
       "      <td>Card</td>\n",
       "      <td>12.287713</td>\n",
       "    </tr>\n",
       "    <tr>\n",
       "      <th>2</th>\n",
       "      <td>191216100347429</td>\n",
       "      <td>지니</td>\n",
       "      <td>eHBM셀파수학교실 삼색볼펜-1세트 50개입</td>\n",
       "      <td>HB</td>\n",
       "      <td>3</td>\n",
       "      <td>67500</td>\n",
       "      <td>신용카드</td>\n",
       "      <td>2019-12-16 10:04:50</td>\n",
       "      <td>구매확정</td>\n",
       "      <td>N</td>\n",
       "      <td>NaN</td>\n",
       "      <td>1</td>\n",
       "      <td>12</td>\n",
       "      <td>Card</td>\n",
       "      <td>16.042600</td>\n",
       "    </tr>\n",
       "    <tr>\n",
       "      <th>3</th>\n",
       "      <td>191216173241622</td>\n",
       "      <td>지니</td>\n",
       "      <td>eHBM셀파수학교실 회원용 리플렛-1세트 50권입</td>\n",
       "      <td>HB</td>\n",
       "      <td>2</td>\n",
       "      <td>30000</td>\n",
       "      <td>신용카드</td>\n",
       "      <td>2019-12-16 17:33:43</td>\n",
       "      <td>구매확정</td>\n",
       "      <td>N</td>\n",
       "      <td>NaN</td>\n",
       "      <td>1</td>\n",
       "      <td>12</td>\n",
       "      <td>Card</td>\n",
       "      <td>14.872675</td>\n",
       "    </tr>\n",
       "    <tr>\n",
       "      <th>4</th>\n",
       "      <td>191216173241622</td>\n",
       "      <td>지니</td>\n",
       "      <td>eHBM셀파수학교실-학습계통도(중등 5종)</td>\n",
       "      <td>HB</td>\n",
       "      <td>1</td>\n",
       "      <td>750</td>\n",
       "      <td>신용카드</td>\n",
       "      <td>2019-12-16 17:33:43</td>\n",
       "      <td>구매확정</td>\n",
       "      <td>N</td>\n",
       "      <td>NaN</td>\n",
       "      <td>1</td>\n",
       "      <td>12</td>\n",
       "      <td>Card</td>\n",
       "      <td>9.550749</td>\n",
       "    </tr>\n",
       "    <tr>\n",
       "      <th>...</th>\n",
       "      <td>...</td>\n",
       "      <td>...</td>\n",
       "      <td>...</td>\n",
       "      <td>...</td>\n",
       "      <td>...</td>\n",
       "      <td>...</td>\n",
       "      <td>...</td>\n",
       "      <td>...</td>\n",
       "      <td>...</td>\n",
       "      <td>...</td>\n",
       "      <td>...</td>\n",
       "      <td>...</td>\n",
       "      <td>...</td>\n",
       "      <td>...</td>\n",
       "      <td>...</td>\n",
       "    </tr>\n",
       "    <tr>\n",
       "      <th>218596</th>\n",
       "      <td>221108104041264</td>\n",
       "      <td>에이스디포</td>\n",
       "      <td>[스마트 HBE*초도] 입체 액자형 현판</td>\n",
       "      <td>에이스디포</td>\n",
       "      <td>1</td>\n",
       "      <td>35000</td>\n",
       "      <td>웰컴마일</td>\n",
       "      <td>2022-11-08 10:38:21</td>\n",
       "      <td>결제완료</td>\n",
       "      <td>Y</td>\n",
       "      <td>NaN</td>\n",
       "      <td>1</td>\n",
       "      <td>11</td>\n",
       "      <td>Point</td>\n",
       "      <td>15.095067</td>\n",
       "    </tr>\n",
       "    <tr>\n",
       "      <th>218597</th>\n",
       "      <td>221108104041264</td>\n",
       "      <td>에이스디포</td>\n",
       "      <td>[스마트 HBE*초도] 아크릴 사인</td>\n",
       "      <td>HB</td>\n",
       "      <td>1</td>\n",
       "      <td>26900</td>\n",
       "      <td>웰컴마일</td>\n",
       "      <td>2022-11-08 10:38:21</td>\n",
       "      <td>결제완료</td>\n",
       "      <td>Y</td>\n",
       "      <td>NaN</td>\n",
       "      <td>1</td>\n",
       "      <td>11</td>\n",
       "      <td>Point</td>\n",
       "      <td>14.715319</td>\n",
       "    </tr>\n",
       "    <tr>\n",
       "      <th>218598</th>\n",
       "      <td>221108104536307</td>\n",
       "      <td>에이스디포</td>\n",
       "      <td>[스마트 HBM] 아크릴 사인</td>\n",
       "      <td>HB</td>\n",
       "      <td>1</td>\n",
       "      <td>26900</td>\n",
       "      <td>신 + 포</td>\n",
       "      <td>2022-11-08 10:43:15</td>\n",
       "      <td>배송준비</td>\n",
       "      <td>N</td>\n",
       "      <td>NaN</td>\n",
       "      <td>1</td>\n",
       "      <td>11</td>\n",
       "      <td>Card</td>\n",
       "      <td>14.715319</td>\n",
       "    </tr>\n",
       "    <tr>\n",
       "      <th>218599</th>\n",
       "      <td>221108104735216</td>\n",
       "      <td>다우기술</td>\n",
       "      <td>[스타벅스] 아이스 카페 아메리카노 T</td>\n",
       "      <td>스타벅스</td>\n",
       "      <td>1</td>\n",
       "      <td>4050</td>\n",
       "      <td>포인트</td>\n",
       "      <td>2022-11-08 10:45:14</td>\n",
       "      <td>배송완료</td>\n",
       "      <td>N</td>\n",
       "      <td>NaN</td>\n",
       "      <td>1</td>\n",
       "      <td>11</td>\n",
       "      <td>Point</td>\n",
       "      <td>11.983707</td>\n",
       "    </tr>\n",
       "    <tr>\n",
       "      <th>218600</th>\n",
       "      <td>221108105148171</td>\n",
       "      <td>다우기술</td>\n",
       "      <td>[특별한 크리스마스] 2차-신세계 상품권 모바일 교환권-1만원권</td>\n",
       "      <td>신세계</td>\n",
       "      <td>17</td>\n",
       "      <td>161500</td>\n",
       "      <td>신용카드</td>\n",
       "      <td>2022-11-08 10:49:28</td>\n",
       "      <td>배송완료</td>\n",
       "      <td>N</td>\n",
       "      <td>NaN</td>\n",
       "      <td>1</td>\n",
       "      <td>11</td>\n",
       "      <td>Card</td>\n",
       "      <td>17.301175</td>\n",
       "    </tr>\n",
       "  </tbody>\n",
       "</table>\n",
       "<p>218601 rows × 15 columns</p>\n",
       "</div>"
      ],
      "text/plain": [
       "                   주문번호    업체명                                  상품명    제조사  \\\n",
       "0       191213170236874     지니            eHBM셀파수학교실 비닐봉투-1세트 100장입     HB   \n",
       "1       191216100347429     지니            eHBM셀파수학교실 비닐봉투-1세트 100장입     HB   \n",
       "2       191216100347429     지니             eHBM셀파수학교실 삼색볼펜-1세트 50개입     HB   \n",
       "3       191216173241622     지니          eHBM셀파수학교실 회원용 리플렛-1세트 50권입     HB   \n",
       "4       191216173241622     지니              eHBM셀파수학교실-학습계통도(중등 5종)     HB   \n",
       "...                 ...    ...                                  ...    ...   \n",
       "218596  221108104041264  에이스디포               [스마트 HBE*초도] 입체 액자형 현판  에이스디포   \n",
       "218597  221108104041264  에이스디포                  [스마트 HBE*초도] 아크릴 사인     HB   \n",
       "218598  221108104536307  에이스디포                     [스마트 HBM] 아크릴 사인     HB   \n",
       "218599  221108104735216   다우기술                [스타벅스] 아이스 카페 아메리카노 T   스타벅스   \n",
       "218600  221108105148171   다우기술  [특별한 크리스마스] 2차-신세계 상품권 모바일 교환권-1만원권    신세계   \n",
       "\n",
       "        주문수량    판매금액   결제방법                주문일자  처리상태 초도상품 제작문구 내역  할부기간 주문월  \\\n",
       "0          1    5000   신용카드 2019-12-13 17:03:37  구매확정    N     NaN     1  12   \n",
       "1          1    5000   신용카드 2019-12-16 10:04:50  구매확정    N     NaN     1  12   \n",
       "2          3   67500   신용카드 2019-12-16 10:04:50  구매확정    N     NaN     1  12   \n",
       "3          2   30000   신용카드 2019-12-16 17:33:43  구매확정    N     NaN     1  12   \n",
       "4          1     750   신용카드 2019-12-16 17:33:43  구매확정    N     NaN     1  12   \n",
       "...      ...     ...    ...                 ...   ...  ...     ...   ...  ..   \n",
       "218596     1   35000   웰컴마일 2022-11-08 10:38:21  결제완료    Y     NaN     1  11   \n",
       "218597     1   26900   웰컴마일 2022-11-08 10:38:21  결제완료    Y     NaN     1  11   \n",
       "218598     1   26900  신 + 포 2022-11-08 10:43:15  배송준비    N     NaN     1  11   \n",
       "218599     1    4050    포인트 2022-11-08 10:45:14  배송완료    N     NaN     1  11   \n",
       "218600    17  161500   신용카드 2022-11-08 10:49:28  배송완료    N     NaN     1  11   \n",
       "\n",
       "       결제방법정리    판매금액_로그  \n",
       "0        Card  12.287713  \n",
       "1        Card  12.287713  \n",
       "2        Card  16.042600  \n",
       "3        Card  14.872675  \n",
       "4        Card   9.550749  \n",
       "...       ...        ...  \n",
       "218596  Point  15.095067  \n",
       "218597  Point  14.715319  \n",
       "218598   Card  14.715319  \n",
       "218599  Point  11.983707  \n",
       "218600   Card  17.301175  \n",
       "\n",
       "[218601 rows x 15 columns]"
      ]
     },
     "execution_count": 128,
     "metadata": {},
     "output_type": "execute_result"
    }
   ],
   "source": [
    "df"
   ]
  },
  {
   "cell_type": "code",
   "execution_count": 129,
   "id": "19898444",
   "metadata": {},
   "outputs": [
    {
     "data": {
      "text/plain": [
       "array(['Card', 'Virtual Account', 'After Payment', 'Account', 'Etc.',\n",
       "       'Point', 'Regular Payment', 'Cash'], dtype=object)"
      ]
     },
     "execution_count": 129,
     "metadata": {},
     "output_type": "execute_result"
    }
   ],
   "source": [
    "df['결제방법정리'].unique()"
   ]
  },
  {
   "cell_type": "code",
   "execution_count": 148,
   "id": "4b9028a2",
   "metadata": {},
   "outputs": [
    {
     "data": {
      "text/plain": [
       "(array([0, 1, 2, 3, 4, 5, 6, 7]),\n",
       " [Text(0, 0, 'Card'),\n",
       "  Text(1, 0, 'Virtual Account'),\n",
       "  Text(2, 0, 'After Payment'),\n",
       "  Text(3, 0, 'Account'),\n",
       "  Text(4, 0, 'Etc.'),\n",
       "  Text(5, 0, 'Point'),\n",
       "  Text(6, 0, 'Regular Payment'),\n",
       "  Text(7, 0, 'Cash')])"
      ]
     },
     "execution_count": 148,
     "metadata": {},
     "output_type": "execute_result"
    },
    {
     "name": "stderr",
     "output_type": "stream",
     "text": [
      "C:\\ProgramData\\Anaconda3\\lib\\site-packages\\IPython\\core\\pylabtools.py:151: UserWarning: Glyph 8722 (\\N{MINUS SIGN}) missing from current font.\n",
      "  fig.canvas.print_figure(bytes_io, **kw)\n"
     ]
    },
    {
     "data": {
      "image/png": "[encoded data removed]",
      "text/plain": [
       "<Figure size 640x480 with 1 Axes>"
      ]
     },
     "metadata": {},
     "output_type": "display_data"
    }
   ],
   "source": [
    "sns.boxplot(data=df, x='결제방법정리', y='판매금액_로그')\n",
    "plt.xlabel('type')\n",
    "plt.ylabel('charge')\n",
    "plt.xticks(rotation=90)"
   ]
  },
  {
   "cell_type": "code",
   "execution_count": 150,
   "id": "924f7151",
   "metadata": {},
   "outputs": [
    {
     "name": "stdout",
     "output_type": "stream",
     "text": [
      "p-value annotation legend:\n",
      "ns: 5.00e-02 < p <= 1.00e+00\n",
      "*: 1.00e-02 < p <= 5.00e-02\n",
      "**: 1.00e-03 < p <= 1.00e-02\n",
      "***: 1.00e-04 < p <= 1.00e-03\n",
      "****: p <= 1.00e-04\n",
      "\n",
      "Card v.s. Virtual Account: t-test independent samples with Bonferroni correction, P_val=9.491e-02 stat=2.262e+00\n",
      "Card v.s. After Payment: t-test independent samples with Bonferroni correction, P_val=0.000e+00 stat=-5.286e+01\n",
      "Card v.s. Account: t-test independent samples with Bonferroni correction, P_val=1.000e+00 stat=1.609e-01\n",
      "Card v.s. Etc.: t-test independent samples with Bonferroni correction, P_val=0.000e+00 stat=-9.396e+01\n"
     ]
    },
    {
     "name": "stderr",
     "output_type": "stream",
     "text": [
      "C:\\ProgramData\\Anaconda3\\lib\\site-packages\\statannot\\statannot.py:593: UserWarning: Glyph 8722 (\\N{MINUS SIGN}) missing from current font.\n",
      "  plt.draw()\n"
     ]
    },
    {
     "data": {
      "text/plain": [
       "(<AxesSubplot:xlabel='type', ylabel='charge'>,\n",
       " [<statannot.StatResult.StatResult at 0x22b8cef7220>,\n",
       "  <statannot.StatResult.StatResult at 0x22b8cf8df70>,\n",
       "  <statannot.StatResult.StatResult at 0x22b8cf8dfa0>,\n",
       "  <statannot.StatResult.StatResult at 0x22b8cfc4f40>])"
      ]
     },
     "execution_count": 150,
     "metadata": {},
     "output_type": "execute_result"
    },
    {
     "name": "stderr",
     "output_type": "stream",
     "text": [
      "C:\\ProgramData\\Anaconda3\\lib\\site-packages\\IPython\\core\\pylabtools.py:151: UserWarning: Glyph 8722 (\\N{MINUS SIGN}) missing from current font.\n",
      "  fig.canvas.print_figure(bytes_io, **kw)\n"
     ]
    },
    {
     "data": {
      "image/png": "[encoded data removed]",
      "text/plain": [
       "<Figure size 640x480 with 1 Axes>"
      ]
     },
     "metadata": {},
     "output_type": "display_data"
    }
   ],
   "source": [
    "ax = plt.subplot()\n",
    "sns.boxplot(data=df, x='결제방법정리', y='판매금액_로그')\n",
    "plt.xlabel('type')\n",
    "plt.ylabel('charge')\n",
    "plt.xticks(rotation=90)\n",
    "\n",
    "add_stat_annotation(ax,\n",
    "                   data = df,\n",
    "                   x = '결제방법정리',\n",
    "                   y = '판매금액_로그',\n",
    "                   box_pairs = [(('Card'), ('Virtual Account')),\n",
    "                               (('Card'), ('After Payment')),\n",
    "                               (('Card'), ('Account')),\n",
    "                               (('Card'), ('Etc.'))],\n",
    "                   test = 't-test_ind',\n",
    "                   text_format = 'star',\n",
    "                   loc = 'inside',\n",
    "                   verbose = 2)"
   ]
  },
  {
   "cell_type": "code",
   "execution_count": 151,
   "id": "a4b108f1",
   "metadata": {},
   "outputs": [],
   "source": [
    "from scipy import stats"
   ]
  },
  {
   "cell_type": "code",
   "execution_count": 152,
   "id": "9e416856",
   "metadata": {},
   "outputs": [
    {
     "name": "stderr",
     "output_type": "stream",
     "text": [
      "C:\\ProgramData\\Anaconda3\\lib\\site-packages\\scipy\\stats\\_morestats.py:1800: UserWarning: p-value may not be accurate for N > 5000.\n",
      "  warnings.warn(\"p-value may not be accurate for N > 5000.\")\n"
     ]
    },
    {
     "data": {
      "text/plain": [
       "ShapiroResult(statistic=0.20134729146957397, pvalue=0.0)"
      ]
     },
     "execution_count": 152,
     "metadata": {},
     "output_type": "execute_result"
    }
   ],
   "source": [
    "stats.shapiro(df['판매금액'])"
   ]
  },
  {
   "cell_type": "code",
   "execution_count": 153,
   "id": "456dd407",
   "metadata": {},
   "outputs": [
    {
     "name": "stderr",
     "output_type": "stream",
     "text": [
      "C:\\ProgramData\\Anaconda3\\lib\\site-packages\\seaborn\\distributions.py:2619: FutureWarning: `distplot` is a deprecated function and will be removed in a future version. Please adapt your code to use either `displot` (a figure-level function with similar flexibility) or `histplot` (an axes-level function for histograms).\n",
      "  warnings.warn(msg, FutureWarning)\n"
     ]
    },
    {
     "data": {
      "text/plain": [
       "<AxesSubplot:xlabel='판매금액', ylabel='Density'>"
      ]
     },
     "execution_count": 153,
     "metadata": {},
     "output_type": "execute_result"
    },
    {
     "name": "stderr",
     "output_type": "stream",
     "text": [
      "C:\\ProgramData\\Anaconda3\\lib\\site-packages\\IPython\\core\\pylabtools.py:151: UserWarning: Glyph 8722 (\\N{MINUS SIGN}) missing from current font.\n",
      "  fig.canvas.print_figure(bytes_io, **kw)\n"
     ]
    },
    {
     "data": {
      "image/png": "[encoded data removed]",
      "text/plain": [
       "<Figure size 640x480 with 1 Axes>"
      ]
     },
     "metadata": {},
     "output_type": "display_data"
    }
   ],
   "source": [
    "sns.distplot(df['판매금액'])"
   ]
  },
  {
   "cell_type": "code",
   "execution_count": 154,
   "id": "5f03be7c",
   "metadata": {},
   "outputs": [
    {
     "name": "stderr",
     "output_type": "stream",
     "text": [
      "C:\\ProgramData\\Anaconda3\\lib\\site-packages\\seaborn\\distributions.py:2619: FutureWarning: `distplot` is a deprecated function and will be removed in a future version. Please adapt your code to use either `displot` (a figure-level function with similar flexibility) or `histplot` (an axes-level function for histograms).\n",
      "  warnings.warn(msg, FutureWarning)\n"
     ]
    },
    {
     "data": {
      "text/plain": [
       "<AxesSubplot:xlabel='판매금액_로그', ylabel='Density'>"
      ]
     },
     "execution_count": 154,
     "metadata": {},
     "output_type": "execute_result"
    },
    {
     "name": "stderr",
     "output_type": "stream",
     "text": [
      "C:\\ProgramData\\Anaconda3\\lib\\site-packages\\IPython\\core\\pylabtools.py:151: UserWarning: Glyph 8722 (\\N{MINUS SIGN}) missing from current font.\n",
      "  fig.canvas.print_figure(bytes_io, **kw)\n"
     ]
    },
    {
     "data": {
      "image/png": "[encoded data removed]",
      "text/plain": [
       "<Figure size 640x480 with 1 Axes>"
      ]
     },
     "metadata": {},
     "output_type": "display_data"
    }
   ],
   "source": [
    "sns.distplot(df['판매금액_로그'])"
   ]
  },
  {
   "cell_type": "code",
   "execution_count": 155,
   "id": "03b3dc0f",
   "metadata": {},
   "outputs": [
    {
     "name": "stderr",
     "output_type": "stream",
     "text": [
      "C:\\ProgramData\\Anaconda3\\lib\\site-packages\\scipy\\stats\\_morestats.py:1800: UserWarning: p-value may not be accurate for N > 5000.\n",
      "  warnings.warn(\"p-value may not be accurate for N > 5000.\")\n"
     ]
    },
    {
     "data": {
      "text/plain": [
       "ShapiroResult(statistic=0.9571788907051086, pvalue=0.0)"
      ]
     },
     "execution_count": 155,
     "metadata": {},
     "output_type": "execute_result"
    }
   ],
   "source": [
    "stats.shapiro(df['판매금액_로그'])"
   ]
  },
  {
   "cell_type": "code",
   "execution_count": 156,
   "id": "f490810e",
   "metadata": {},
   "outputs": [
    {
     "data": {
      "text/plain": [
       "((array([-4.51466627, -4.32298362, -4.21896726, ...,  4.21896726,\n",
       "          4.32298362,  4.51466627]),\n",
       "  array([       0,        0,        0, ...,  9600000, 11130000, 19800000],\n",
       "        dtype=int64)),\n",
       " (99213.45347820267, 52759.01132657216, 0.44858449833266983))"
      ]
     },
     "execution_count": 156,
     "metadata": {},
     "output_type": "execute_result"
    },
    {
     "data": {
      "image/png": "[encoded data removed]",
      "text/plain": [
       "<Figure size 640x480 with 1 Axes>"
      ]
     },
     "metadata": {},
     "output_type": "display_data"
    }
   ],
   "source": [
    "stats.probplot(df['판매금액'], plot=plt)"
   ]
  },
  {
   "cell_type": "code",
   "execution_count": 131,
   "id": "8d48c764",
   "metadata": {},
   "outputs": [
    {
     "data": {
      "text/plain": [
       "((array([-4.51466627, -4.32298362, -4.21896726, ...,  4.21896726,\n",
       "          4.32298362,  4.51466627]),\n",
       "  array([-9.96578428, -9.96578428, -9.96578428, ..., 23.19460298,\n",
       "         23.40795026, 24.23899709])),\n",
       " (2.369647680779799, 13.319049561532854, 0.9784806303690355))"
      ]
     },
     "execution_count": 131,
     "metadata": {},
     "output_type": "execute_result"
    },
    {
     "data": {
      "image/png": "[encoded data removed]",
      "text/plain": [
       "<Figure size 640x480 with 1 Axes>"
      ]
     },
     "metadata": {},
     "output_type": "display_data"
    }
   ],
   "source": [
    "stats.probplot(df['판매금액_로그'], plot=plt)"
   ]
  },
  {
   "cell_type": "code",
   "execution_count": 157,
   "id": "6ef692ba",
   "metadata": {},
   "outputs": [
    {
     "name": "stdout",
     "output_type": "stream",
     "text": [
      "p-value annotation legend:\n",
      "ns: 5.00e-02 < p <= 1.00e+00\n",
      "*: 1.00e-02 < p <= 5.00e-02\n",
      "**: 1.00e-03 < p <= 1.00e-02\n",
      "***: 1.00e-04 < p <= 1.00e-03\n",
      "****: p <= 1.00e-04\n",
      "\n",
      "Card v.s. Virtual Account: t-test independent samples with Bonferroni correction, P_val=9.491e-02 stat=2.262e+00\n",
      "Card v.s. After Payment: t-test independent samples with Bonferroni correction, P_val=0.000e+00 stat=-5.286e+01\n",
      "Card v.s. Account: t-test independent samples with Bonferroni correction, P_val=1.000e+00 stat=1.609e-01\n",
      "Card v.s. Etc.: t-test independent samples with Bonferroni correction, P_val=0.000e+00 stat=-9.396e+01\n"
     ]
    },
    {
     "data": {
      "text/plain": [
       "(<AxesSubplot:xlabel='type', ylabel='charge'>,\n",
       " [<statannot.StatResult.StatResult at 0x22b8be69bb0>,\n",
       "  <statannot.StatResult.StatResult at 0x22b8ee5e850>,\n",
       "  <statannot.StatResult.StatResult at 0x22b8f961910>,\n",
       "  <statannot.StatResult.StatResult at 0x22b8f961850>])"
      ]
     },
     "execution_count": 157,
     "metadata": {},
     "output_type": "execute_result"
    },
    {
     "data": {
      "image/png": "[encoded data removed]",
      "text/plain": [
       "<Figure size 640x480 with 1 Axes>"
      ]
     },
     "metadata": {},
     "output_type": "display_data"
    }
   ],
   "source": [
    "ax = plt.subplot()\n",
    "ax = sns.barplot(data=df, x='결제방법정리', y='판매금액_로그')\n",
    "plt.xlabel('type')\n",
    "plt.ylabel('charge')\n",
    "plt.xticks(rotation=90)\n",
    "\n",
    "add_stat_annotation(ax, \n",
    "                    data=df, \n",
    "                    x = '결제방법정리', \n",
    "                    y = '판매금액_로그',\n",
    "                    box_pairs=[(('Card'), ('Virtual Account')),\n",
    "                              (('Card'), ('After Payment')),\n",
    "                              (('Card'), ('Account')),\n",
    "                              (('Card'), ('Etc.'))],\n",
    "                    test='t-test_ind', \n",
    "                    text_format='star', \n",
    "                    loc='inside', \n",
    "                    verbose=2)"
   ]
  },
  {
   "cell_type": "code",
   "execution_count": 132,
   "id": "00f3bee6",
   "metadata": {},
   "outputs": [],
   "source": [
    "gini = df[df['업체명'] == '지니']['판매금액']\n",
    "ace = df[df['업체명'] == '에이스디포']['판매금액']"
   ]
  },
  {
   "cell_type": "code",
   "execution_count": 135,
   "id": "22afef16",
   "metadata": {},
   "outputs": [],
   "source": [
    "gini = (list(gini[:100]))"
   ]
  },
  {
   "cell_type": "code",
   "execution_count": 136,
   "id": "bd1f19e8",
   "metadata": {},
   "outputs": [
    {
     "data": {
      "text/plain": [
       "[5000,\n",
       " 5000,\n",
       " 67500,\n",
       " 30000,\n",
       " 750,\n",
       " 16000,\n",
       " 6000,\n",
       " 20000,\n",
       " 105000,\n",
       " 105000,\n",
       " 20000,\n",
       " 5000,\n",
       " 3000,\n",
       " 4000,\n",
       " 48000,\n",
       " 6000,\n",
       " 2000,\n",
       " 1000,\n",
       " 9000,\n",
       " 12000,\n",
       " 6000,\n",
       " 2000,\n",
       " 1000,\n",
       " 9000,\n",
       " 12000,\n",
       " 32000,\n",
       " 7500,\n",
       " 5000,\n",
       " 5000,\n",
       " 6000,\n",
       " 15000,\n",
       " 4000,\n",
       " 5000,\n",
       " 6000,\n",
       " 15000,\n",
       " 4000,\n",
       " 7500,\n",
       " 30000,\n",
       " 15000,\n",
       " 15000,\n",
       " 15000,\n",
       " 15000,\n",
       " 15000,\n",
       " 15000,\n",
       " 32000,\n",
       " 4000,\n",
       " 3000,\n",
       " 25000,\n",
       " 15000,\n",
       " 6000,\n",
       " 6000,\n",
       " 8000,\n",
       " 6200,\n",
       " 15000,\n",
       " 20000,\n",
       " 15000,\n",
       " 6000,\n",
       " 6000,\n",
       " 8000,\n",
       " 6200,\n",
       " 15000,\n",
       " 20000,\n",
       " 32000,\n",
       " 105000,\n",
       " 6000,\n",
       " 6000,\n",
       " 2000,\n",
       " 1000,\n",
       " 9000,\n",
       " 12000,\n",
       " 6000,\n",
       " 4000,\n",
       " 6000,\n",
       " 4000,\n",
       " 2000,\n",
       " 12000,\n",
       " 11500,\n",
       " 8000,\n",
       " 15000,\n",
       " 32000,\n",
       " 32000,\n",
       " 30000,\n",
       " 48000,\n",
       " 32000,\n",
       " 23000,\n",
       " 15000,\n",
       " 32000,\n",
       " 22500,\n",
       " 6000,\n",
       " 5000,\n",
       " 6000,\n",
       " 30000,\n",
       " 32000,\n",
       " 31000,\n",
       " 12000,\n",
       " 18000,\n",
       " 15000,\n",
       " 15000,\n",
       " 15000,\n",
       " 36000]"
      ]
     },
     "execution_count": 136,
     "metadata": {},
     "output_type": "execute_result"
    }
   ],
   "source": [
    "gini"
   ]
  },
  {
   "cell_type": "code",
   "execution_count": 137,
   "id": "4bf44191",
   "metadata": {},
   "outputs": [],
   "source": [
    "ace = (list(ace[:100]))"
   ]
  },
  {
   "cell_type": "code",
   "execution_count": 138,
   "id": "d641f3e7",
   "metadata": {},
   "outputs": [
    {
     "data": {
      "text/plain": [
       "SpearmanrResult(correlation=-0.06588898718556489, pvalue=0.5148436221975197)"
      ]
     },
     "execution_count": 138,
     "metadata": {},
     "output_type": "execute_result"
    }
   ],
   "source": [
    "stats.spearmanr(gini, ace)"
   ]
  },
  {
   "cell_type": "code",
   "execution_count": 142,
   "id": "0d80a0f0",
   "metadata": {},
   "outputs": [
    {
     "data": {
      "text/plain": [
       "<AxesSubplot:>"
      ]
     },
     "execution_count": 142,
     "metadata": {},
     "output_type": "execute_result"
    },
    {
     "data": {
      "image/png": "[encoded data removed]",
      "text/plain": [
       "<Figure size 640x480 with 1 Axes>"
      ]
     },
     "metadata": {},
     "output_type": "display_data"
    }
   ],
   "source": [
    "sns.regplot(gini, ace)"
   ]
  },
  {
   "cell_type": "code",
   "execution_count": null,
   "id": "d1bd8c53",
   "metadata": {},
   "outputs": [],
   "source": [
    "# 무질서도가 매우 크다, 상관관계가 매우 없다"
   ]
  },
  {
   "cell_type": "code",
   "execution_count": 139,
   "id": "903c80f7",
   "metadata": {},
   "outputs": [],
   "source": [
    "list1 = list(range(100))\n",
    "list2 = list(range(0, 200, 2))"
   ]
  },
  {
   "cell_type": "code",
   "execution_count": 140,
   "id": "239ce1ce",
   "metadata": {},
   "outputs": [
    {
     "data": {
      "text/plain": [
       "SpearmanrResult(correlation=0.9999999999999999, pvalue=0.0)"
      ]
     },
     "execution_count": 140,
     "metadata": {},
     "output_type": "execute_result"
    }
   ],
   "source": [
    "stats.spearmanr(list1, list2) # 정비례 관계, 상관관계가 있다"
   ]
  },
  {
   "cell_type": "code",
   "execution_count": 141,
   "id": "7ff0b665",
   "metadata": {},
   "outputs": [
    {
     "name": "stderr",
     "output_type": "stream",
     "text": [
      "C:\\ProgramData\\Anaconda3\\lib\\site-packages\\seaborn\\_decorators.py:36: FutureWarning: Pass the following variables as keyword args: x, y. From version 0.12, the only valid positional argument will be `data`, and passing other arguments without an explicit keyword will result in an error or misinterpretation.\n",
      "  warnings.warn(\n"
     ]
    },
    {
     "data": {
      "text/plain": [
       "<AxesSubplot:>"
      ]
     },
     "execution_count": 141,
     "metadata": {},
     "output_type": "execute_result"
    },
    {
     "data": {
      "image/png": "[encoded data removed]",
      "text/plain": [
       "<Figure size 640x480 with 1 Axes>"
      ]
     },
     "metadata": {},
     "output_type": "display_data"
    }
   ],
   "source": [
    "sns.regplot(list1, list2)"
   ]
  },
  {
   "cell_type": "code",
   "execution_count": 143,
   "id": "eab867b9",
   "metadata": {},
   "outputs": [],
   "source": [
    "list1 = list(range(100))\n",
    "list2 = list(range(200, 0, -2)) # 반대로 가는 것도 마찬가지"
   ]
  },
  {
   "cell_type": "code",
   "execution_count": 144,
   "id": "296b307c",
   "metadata": {},
   "outputs": [
    {
     "data": {
      "text/plain": [
       "SpearmanrResult(correlation=-0.9999999999999999, pvalue=0.0)"
      ]
     },
     "execution_count": 144,
     "metadata": {},
     "output_type": "execute_result"
    }
   ],
   "source": [
    "stats.spearmanr(list1, list2)"
   ]
  },
  {
   "cell_type": "code",
   "execution_count": 145,
   "id": "d127972d",
   "metadata": {},
   "outputs": [
    {
     "data": {
      "text/plain": [
       "<AxesSubplot:>"
      ]
     },
     "execution_count": 145,
     "metadata": {},
     "output_type": "execute_result"
    },
    {
     "data": {
      "image/png": "[encoded data removed]",
      "text/plain": [
       "<Figure size 640x480 with 1 Axes>"
      ]
     },
     "metadata": {},
     "output_type": "display_data"
    }
   ],
   "source": [
    "sns.regplot(list1, list2)"
   ]
  },
  {
   "cell_type": "code",
   "execution_count": null,
   "id": "306780ec",
   "metadata": {},
   "outputs": [],
   "source": []
  }
 ],
 "metadata": {
  "kernelspec": {
   "display_name": "Python 3 (ipykernel)",
   "language": "python",
   "name": "python3"
  },
  "language_info": {
   "codemirror_mode": {
    "name": "ipython",
    "version": 3
   },
   "file_extension": ".py",
   "mimetype": "text/x-python",
   "name": "python",
   "nbconvert_exporter": "python",
   "pygments_lexer": "ipython3",
   "version": "3.9.13"
  }
 },
 "nbformat": 4,
 "nbformat_minor": 5
}
