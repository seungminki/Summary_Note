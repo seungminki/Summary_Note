{
 "cells": [
  {
   "cell_type": "markdown",
   "id": "fa59df63",
   "metadata": {},
   "source": [
    "# Python Comprehensions\n",
    "---\n",
    "List Comprehensions are a special kind of syntax that let us create lists out of other lists, and are incredibly useful when dealing with numbers and with one or two levels of nested for loops."
   ]
  },
  {
   "cell_type": "markdown",
   "id": "dc1f8b31",
   "metadata": {},
   "source": [
    "## List comprehension\n",
    "This is how we create a new list from an existing collection with a For Loop:"
   ]
  },
  {
   "cell_type": "code",
   "execution_count": 1,
   "id": "fd3a9aa0",
   "metadata": {},
   "outputs": [
    {
     "data": {
      "text/plain": [
       "['Charles', 'Susan', 'Patrick', 'George']"
      ]
     },
     "execution_count": 1,
     "metadata": {},
     "output_type": "execute_result"
    }
   ],
   "source": [
    ">>> names = ['Charles', 'Susan', 'Patrick', 'George']\n",
    "\n",
    ">>> new_list = []\n",
    ">>> for n in names:\n",
    "...     new_list.append(n)\n",
    "...\n",
    ">>> new_list\n",
    "# ['Charles', 'Susan', 'Patrick', 'George']"
   ]
  },
  {
   "cell_type": "markdown",
   "id": "e03897d0",
   "metadata": {},
   "source": [
    "And this is how we do the same with a List Comprehension:"
   ]
  },
  {
   "cell_type": "code",
   "execution_count": 3,
   "id": "3d1e8fad",
   "metadata": {},
   "outputs": [
    {
     "data": {
      "text/plain": [
       "['Charles', 'Susan', 'Patrick', 'George']"
      ]
     },
     "execution_count": 3,
     "metadata": {},
     "output_type": "execute_result"
    }
   ],
   "source": [
    ">>> names = ['Charles', 'Susan', 'Patrick', 'George']\n",
    "\n",
    ">>> new_list = [n for n in names]\n",
    ">>> new_list\n",
    "# ['Charles', 'Susan', 'Patrick', 'George']"
   ]
  },
  {
   "cell_type": "markdown",
   "id": "03657f7c",
   "metadata": {},
   "source": [
    "We can do the same with numbers:"
   ]
  },
  {
   "cell_type": "code",
   "execution_count": 2,
   "id": "a66c6b7c",
   "metadata": {},
   "outputs": [
    {
     "data": {
      "text/plain": [
       "[(1, 1), (1, 2), (2, 1), (2, 2)]"
      ]
     },
     "execution_count": 2,
     "metadata": {},
     "output_type": "execute_result"
    }
   ],
   "source": [
    ">>> n = [(a, b) for a in range(1, 3) for b in range(1, 3)]\n",
    ">>> n\n",
    "# [(1, 1), (1, 2), (2, 1), (2, 2)]"
   ]
  },
  {
   "cell_type": "markdown",
   "id": "fdd9819a",
   "metadata": {},
   "source": [
    "## Adding conditionals\n",
    "If we want to have only the names that start with C, with a for loop, we would do it like this:'new_list'"
   ]
  },
  {
   "cell_type": "code",
   "execution_count": 4,
   "id": "d0144db0",
   "metadata": {},
   "outputs": [
    {
     "name": "stdout",
     "output_type": "stream",
     "text": [
      "['Charles', 'Carol']\n"
     ]
    }
   ],
   "source": [
    ">>> names = ['Charles', 'Susan', 'Patrick', 'George', 'Carol']\n",
    "\n",
    ">>> new_list = []\n",
    ">>> for n in names:\n",
    "...     if n.startswith('C'):\n",
    "...         new_list.append(n)\n",
    "...\n",
    ">>> print(new_list)\n",
    "# ['Charles', 'Carol']"
   ]
  },
  {
   "cell_type": "markdown",
   "id": "6d6d9ec0",
   "metadata": {},
   "source": [
    "In a List Comprehension, we add the statement at the end:'if'"
   ]
  },
  {
   "cell_type": "code",
   "execution_count": 5,
   "id": "b0c2b95f",
   "metadata": {},
   "outputs": [
    {
     "name": "stdout",
     "output_type": "stream",
     "text": [
      "['Charles', 'Carol']\n"
     ]
    }
   ],
   "source": [
    ">>> new_list = [n for n in names if n.startswith('C')]\n",
    ">>> print(new_list)\n",
    "# ['Charles', 'Carol']"
   ]
  },
  {
   "cell_type": "markdown",
   "id": "d8160850",
   "metadata": {},
   "source": [
    "## Set comprehension"
   ]
  },
  {
   "cell_type": "code",
   "execution_count": 6,
   "id": "ebff3194",
   "metadata": {},
   "outputs": [
    {
     "data": {
      "text/plain": [
       "{'ABC', 'DEF'}"
      ]
     },
     "execution_count": 6,
     "metadata": {},
     "output_type": "execute_result"
    }
   ],
   "source": [
    ">>> b = {\"abc\", \"def\"}\n",
    ">>> {s.upper() for s in b}\n",
    "{\"ABC\", \"DEF\"}"
   ]
  },
  {
   "cell_type": "markdown",
   "id": "51395b0b",
   "metadata": {},
   "source": [
    "## Dict comprehension"
   ]
  },
  {
   "cell_type": "code",
   "execution_count": 7,
   "id": "a56153da",
   "metadata": {},
   "outputs": [
    {
     "data": {
      "text/plain": [
       "{'Pooka': 'name', 5: 'age'}"
      ]
     },
     "execution_count": 7,
     "metadata": {},
     "output_type": "execute_result"
    }
   ],
   "source": [
    ">>> c = {'name': 'Pooka', 'age': 5}\n",
    ">>> {v: k for k, v in c.items()}\n",
    "{'Pooka': 'name', 5: 'age'}"
   ]
  },
  {
   "cell_type": "markdown",
   "id": "6403c7fb",
   "metadata": {},
   "source": [
    "A List comprehension can be generated from a dictionary:"
   ]
  },
  {
   "cell_type": "code",
   "execution_count": 9,
   "id": "bc49ceee",
   "metadata": {},
   "outputs": [
    {
     "data": {
      "text/plain": [
       "['NAME:POOKA', 'FIRST_NAME:OOOKA']"
      ]
     },
     "execution_count": 9,
     "metadata": {},
     "output_type": "execute_result"
    }
   ],
   "source": [
    ">>> c = {'name': 'Pooka', 'first_name': 'Oooka'}\n",
    ">>> [\"{}:{}\".format(k.upper(), v.upper()) for k, v in c.items()]\n",
    "['NAME:POOKA', 'FIRST_NAME:OOOKA']"
   ]
  },
  {
   "cell_type": "code",
   "execution_count": null,
   "id": "ac022630",
   "metadata": {},
   "outputs": [],
   "source": []
  }
 ],
 "metadata": {
  "kernelspec": {
   "display_name": "Python 3 (ipykernel)",
   "language": "python",
   "name": "python3"
  },
  "language_info": {
   "codemirror_mode": {
    "name": "ipython",
    "version": 3
   },
   "file_extension": ".py",
   "mimetype": "text/x-python",
   "name": "python",
   "nbconvert_exporter": "python",
   "pygments_lexer": "ipython3",
   "version": "3.9.13"
  }
 },
 "nbformat": 4,
 "nbformat_minor": 5
}
