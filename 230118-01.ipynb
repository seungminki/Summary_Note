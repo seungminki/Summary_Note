{
  "nbformat": 4,
  "nbformat_minor": 0,
  "metadata": {
    "colab": {
      "provenance": [],
      "collapsed_sections": [
        "vSNMwrLWUAOD",
        "OdcChrRjUjc0"
      ]
    },
    "kernelspec": {
      "name": "python3",
      "display_name": "Python 3"
    },
    "language_info": {
      "name": "python"
    },
    "widgets": {
      "application/vnd.jupyter.widget-state+json": {
        "76cc9b0b01d642e1a684448875d033da": {
          "model_module": "@jupyter-widgets/controls",
          "model_name": "HBoxModel",
          "model_module_version": "1.5.0",
          "state": {
            "_dom_classes": [],
            "_model_module": "@jupyter-widgets/controls",
            "_model_module_version": "1.5.0",
            "_model_name": "HBoxModel",
            "_view_count": null,
            "_view_module": "@jupyter-widgets/controls",
            "_view_module_version": "1.5.0",
            "_view_name": "HBoxView",
            "box_style": "",
            "children": [
              "IPY_MODEL_d44ee50a28064162a256efdef61335f4",
              "IPY_MODEL_cd07599bd94447c9b5466e9ec4855400",
              "IPY_MODEL_a628115c97014cee8a9df760f7eb96e9"
            ],
            "layout": "IPY_MODEL_eb0e854835fd4f1c87d517ca0aad70b4"
          }
        },
        "d44ee50a28064162a256efdef61335f4": {
          "model_module": "@jupyter-widgets/controls",
          "model_name": "HTMLModel",
          "model_module_version": "1.5.0",
          "state": {
            "_dom_classes": [],
            "_model_module": "@jupyter-widgets/controls",
            "_model_module_version": "1.5.0",
            "_model_name": "HTMLModel",
            "_view_count": null,
            "_view_module": "@jupyter-widgets/controls",
            "_view_module_version": "1.5.0",
            "_view_name": "HTMLView",
            "description": "",
            "description_tooltip": null,
            "layout": "IPY_MODEL_f20caab38d2747b6860a4accd0c6aa11",
            "placeholder": "​",
            "style": "IPY_MODEL_c092b3f06da0458f8cddd0feea2e064a",
            "value": "100%"
          }
        },
        "cd07599bd94447c9b5466e9ec4855400": {
          "model_module": "@jupyter-widgets/controls",
          "model_name": "FloatProgressModel",
          "model_module_version": "1.5.0",
          "state": {
            "_dom_classes": [],
            "_model_module": "@jupyter-widgets/controls",
            "_model_module_version": "1.5.0",
            "_model_name": "FloatProgressModel",
            "_view_count": null,
            "_view_module": "@jupyter-widgets/controls",
            "_view_module_version": "1.5.0",
            "_view_name": "ProgressView",
            "bar_style": "success",
            "description": "",
            "description_tooltip": null,
            "layout": "IPY_MODEL_66565f07b14a479981c74841ebdba1f4",
            "max": 1,
            "min": 0,
            "orientation": "horizontal",
            "style": "IPY_MODEL_958e8ad3563f4b5abc16268a7012c145",
            "value": 1
          }
        },
        "a628115c97014cee8a9df760f7eb96e9": {
          "model_module": "@jupyter-widgets/controls",
          "model_name": "HTMLModel",
          "model_module_version": "1.5.0",
          "state": {
            "_dom_classes": [],
            "_model_module": "@jupyter-widgets/controls",
            "_model_module_version": "1.5.0",
            "_model_name": "HTMLModel",
            "_view_count": null,
            "_view_module": "@jupyter-widgets/controls",
            "_view_module_version": "1.5.0",
            "_view_name": "HTMLView",
            "description": "",
            "description_tooltip": null,
            "layout": "IPY_MODEL_8d39379a10724ec19c3e8f2ef7118781",
            "placeholder": "​",
            "style": "IPY_MODEL_cfb041b0129140f6b5ed39cf56420b6f",
            "value": " 1/1 [00:00&lt;00:00,  4.63it/s]"
          }
        },
        "eb0e854835fd4f1c87d517ca0aad70b4": {
          "model_module": "@jupyter-widgets/base",
          "model_name": "LayoutModel",
          "model_module_version": "1.2.0",
          "state": {
            "_model_module": "@jupyter-widgets/base",
            "_model_module_version": "1.2.0",
            "_model_name": "LayoutModel",
            "_view_count": null,
            "_view_module": "@jupyter-widgets/base",
            "_view_module_version": "1.2.0",
            "_view_name": "LayoutView",
            "align_content": null,
            "align_items": null,
            "align_self": null,
            "border": null,
            "bottom": null,
            "display": null,
            "flex": null,
            "flex_flow": null,
            "grid_area": null,
            "grid_auto_columns": null,
            "grid_auto_flow": null,
            "grid_auto_rows": null,
            "grid_column": null,
            "grid_gap": null,
            "grid_row": null,
            "grid_template_areas": null,
            "grid_template_columns": null,
            "grid_template_rows": null,
            "height": null,
            "justify_content": null,
            "justify_items": null,
            "left": null,
            "margin": null,
            "max_height": null,
            "max_width": null,
            "min_height": null,
            "min_width": null,
            "object_fit": null,
            "object_position": null,
            "order": null,
            "overflow": null,
            "overflow_x": null,
            "overflow_y": null,
            "padding": null,
            "right": null,
            "top": null,
            "visibility": null,
            "width": null
          }
        },
        "f20caab38d2747b6860a4accd0c6aa11": {
          "model_module": "@jupyter-widgets/base",
          "model_name": "LayoutModel",
          "model_module_version": "1.2.0",
          "state": {
            "_model_module": "@jupyter-widgets/base",
            "_model_module_version": "1.2.0",
            "_model_name": "LayoutModel",
            "_view_count": null,
            "_view_module": "@jupyter-widgets/base",
            "_view_module_version": "1.2.0",
            "_view_name": "LayoutView",
            "align_content": null,
            "align_items": null,
            "align_self": null,
            "border": null,
            "bottom": null,
            "display": null,
            "flex": null,
            "flex_flow": null,
            "grid_area": null,
            "grid_auto_columns": null,
            "grid_auto_flow": null,
            "grid_auto_rows": null,
            "grid_column": null,
            "grid_gap": null,
            "grid_row": null,
            "grid_template_areas": null,
            "grid_template_columns": null,
            "grid_template_rows": null,
            "height": null,
            "justify_content": null,
            "justify_items": null,
            "left": null,
            "margin": null,
            "max_height": null,
            "max_width": null,
            "min_height": null,
            "min_width": null,
            "object_fit": null,
            "object_position": null,
            "order": null,
            "overflow": null,
            "overflow_x": null,
            "overflow_y": null,
            "padding": null,
            "right": null,
            "top": null,
            "visibility": null,
            "width": null
          }
        },
        "c092b3f06da0458f8cddd0feea2e064a": {
          "model_module": "@jupyter-widgets/controls",
          "model_name": "DescriptionStyleModel",
          "model_module_version": "1.5.0",
          "state": {
            "_model_module": "@jupyter-widgets/controls",
            "_model_module_version": "1.5.0",
            "_model_name": "DescriptionStyleModel",
            "_view_count": null,
            "_view_module": "@jupyter-widgets/base",
            "_view_module_version": "1.2.0",
            "_view_name": "StyleView",
            "description_width": ""
          }
        },
        "66565f07b14a479981c74841ebdba1f4": {
          "model_module": "@jupyter-widgets/base",
          "model_name": "LayoutModel",
          "model_module_version": "1.2.0",
          "state": {
            "_model_module": "@jupyter-widgets/base",
            "_model_module_version": "1.2.0",
            "_model_name": "LayoutModel",
            "_view_count": null,
            "_view_module": "@jupyter-widgets/base",
            "_view_module_version": "1.2.0",
            "_view_name": "LayoutView",
            "align_content": null,
            "align_items": null,
            "align_self": null,
            "border": null,
            "bottom": null,
            "display": null,
            "flex": null,
            "flex_flow": null,
            "grid_area": null,
            "grid_auto_columns": null,
            "grid_auto_flow": null,
            "grid_auto_rows": null,
            "grid_column": null,
            "grid_gap": null,
            "grid_row": null,
            "grid_template_areas": null,
            "grid_template_columns": null,
            "grid_template_rows": null,
            "height": null,
            "justify_content": null,
            "justify_items": null,
            "left": null,
            "margin": null,
            "max_height": null,
            "max_width": null,
            "min_height": null,
            "min_width": null,
            "object_fit": null,
            "object_position": null,
            "order": null,
            "overflow": null,
            "overflow_x": null,
            "overflow_y": null,
            "padding": null,
            "right": null,
            "top": null,
            "visibility": null,
            "width": null
          }
        },
        "958e8ad3563f4b5abc16268a7012c145": {
          "model_module": "@jupyter-widgets/controls",
          "model_name": "ProgressStyleModel",
          "model_module_version": "1.5.0",
          "state": {
            "_model_module": "@jupyter-widgets/controls",
            "_model_module_version": "1.5.0",
            "_model_name": "ProgressStyleModel",
            "_view_count": null,
            "_view_module": "@jupyter-widgets/base",
            "_view_module_version": "1.2.0",
            "_view_name": "StyleView",
            "bar_color": null,
            "description_width": ""
          }
        },
        "8d39379a10724ec19c3e8f2ef7118781": {
          "model_module": "@jupyter-widgets/base",
          "model_name": "LayoutModel",
          "model_module_version": "1.2.0",
          "state": {
            "_model_module": "@jupyter-widgets/base",
            "_model_module_version": "1.2.0",
            "_model_name": "LayoutModel",
            "_view_count": null,
            "_view_module": "@jupyter-widgets/base",
            "_view_module_version": "1.2.0",
            "_view_name": "LayoutView",
            "align_content": null,
            "align_items": null,
            "align_self": null,
            "border": null,
            "bottom": null,
            "display": null,
            "flex": null,
            "flex_flow": null,
            "grid_area": null,
            "grid_auto_columns": null,
            "grid_auto_flow": null,
            "grid_auto_rows": null,
            "grid_column": null,
            "grid_gap": null,
            "grid_row": null,
            "grid_template_areas": null,
            "grid_template_columns": null,
            "grid_template_rows": null,
            "height": null,
            "justify_content": null,
            "justify_items": null,
            "left": null,
            "margin": null,
            "max_height": null,
            "max_width": null,
            "min_height": null,
            "min_width": null,
            "object_fit": null,
            "object_position": null,
            "order": null,
            "overflow": null,
            "overflow_x": null,
            "overflow_y": null,
            "padding": null,
            "right": null,
            "top": null,
            "visibility": null,
            "width": null
          }
        },
        "cfb041b0129140f6b5ed39cf56420b6f": {
          "model_module": "@jupyter-widgets/controls",
          "model_name": "DescriptionStyleModel",
          "model_module_version": "1.5.0",
          "state": {
            "_model_module": "@jupyter-widgets/controls",
            "_model_module_version": "1.5.0",
            "_model_name": "DescriptionStyleModel",
            "_view_count": null,
            "_view_module": "@jupyter-widgets/base",
            "_view_module_version": "1.2.0",
            "_view_name": "StyleView",
            "description_width": ""
          }
        },
        "1d3f3c731483465ea450b3f2ac229fe3": {
          "model_module": "@jupyter-widgets/controls",
          "model_name": "HBoxModel",
          "model_module_version": "1.5.0",
          "state": {
            "_dom_classes": [],
            "_model_module": "@jupyter-widgets/controls",
            "_model_module_version": "1.5.0",
            "_model_name": "HBoxModel",
            "_view_count": null,
            "_view_module": "@jupyter-widgets/controls",
            "_view_module_version": "1.5.0",
            "_view_name": "HBoxView",
            "box_style": "",
            "children": [
              "IPY_MODEL_bef43f7872744a9ea14ea56d3a0b2e35",
              "IPY_MODEL_e90c7029a76f479287b2415331dfe76d",
              "IPY_MODEL_198892f14fb048d9bf0070f9f2fe4dd6"
            ],
            "layout": "IPY_MODEL_f45cab6965c549f581cfaf71bba679d9"
          }
        },
        "bef43f7872744a9ea14ea56d3a0b2e35": {
          "model_module": "@jupyter-widgets/controls",
          "model_name": "HTMLModel",
          "model_module_version": "1.5.0",
          "state": {
            "_dom_classes": [],
            "_model_module": "@jupyter-widgets/controls",
            "_model_module_version": "1.5.0",
            "_model_name": "HTMLModel",
            "_view_count": null,
            "_view_module": "@jupyter-widgets/controls",
            "_view_module_version": "1.5.0",
            "_view_name": "HTMLView",
            "description": "",
            "description_tooltip": null,
            "layout": "IPY_MODEL_31105d3d937a4e98b2ed3c0b63a43e1f",
            "placeholder": "​",
            "style": "IPY_MODEL_b7e9548e3f6842f996834517813d1fcc",
            "value": "100%"
          }
        },
        "e90c7029a76f479287b2415331dfe76d": {
          "model_module": "@jupyter-widgets/controls",
          "model_name": "FloatProgressModel",
          "model_module_version": "1.5.0",
          "state": {
            "_dom_classes": [],
            "_model_module": "@jupyter-widgets/controls",
            "_model_module_version": "1.5.0",
            "_model_name": "FloatProgressModel",
            "_view_count": null,
            "_view_module": "@jupyter-widgets/controls",
            "_view_module_version": "1.5.0",
            "_view_name": "ProgressView",
            "bar_style": "success",
            "description": "",
            "description_tooltip": null,
            "layout": "IPY_MODEL_95325b8394d044b0800215c092bead79",
            "max": 1000,
            "min": 0,
            "orientation": "horizontal",
            "style": "IPY_MODEL_350d063a51774cbe8977cd032123eb2a",
            "value": 1000
          }
        },
        "198892f14fb048d9bf0070f9f2fe4dd6": {
          "model_module": "@jupyter-widgets/controls",
          "model_name": "HTMLModel",
          "model_module_version": "1.5.0",
          "state": {
            "_dom_classes": [],
            "_model_module": "@jupyter-widgets/controls",
            "_model_module_version": "1.5.0",
            "_model_name": "HTMLModel",
            "_view_count": null,
            "_view_module": "@jupyter-widgets/controls",
            "_view_module_version": "1.5.0",
            "_view_name": "HTMLView",
            "description": "",
            "description_tooltip": null,
            "layout": "IPY_MODEL_380dff8dedfc4717b6adecb3b5cd1cf6",
            "placeholder": "​",
            "style": "IPY_MODEL_f216dbe03b894758b19da4fe6e093543",
            "value": " 1000/1000 [02:22&lt;00:00,  7.17it/s]"
          }
        },
        "f45cab6965c549f581cfaf71bba679d9": {
          "model_module": "@jupyter-widgets/base",
          "model_name": "LayoutModel",
          "model_module_version": "1.2.0",
          "state": {
            "_model_module": "@jupyter-widgets/base",
            "_model_module_version": "1.2.0",
            "_model_name": "LayoutModel",
            "_view_count": null,
            "_view_module": "@jupyter-widgets/base",
            "_view_module_version": "1.2.0",
            "_view_name": "LayoutView",
            "align_content": null,
            "align_items": null,
            "align_self": null,
            "border": null,
            "bottom": null,
            "display": null,
            "flex": null,
            "flex_flow": null,
            "grid_area": null,
            "grid_auto_columns": null,
            "grid_auto_flow": null,
            "grid_auto_rows": null,
            "grid_column": null,
            "grid_gap": null,
            "grid_row": null,
            "grid_template_areas": null,
            "grid_template_columns": null,
            "grid_template_rows": null,
            "height": null,
            "justify_content": null,
            "justify_items": null,
            "left": null,
            "margin": null,
            "max_height": null,
            "max_width": null,
            "min_height": null,
            "min_width": null,
            "object_fit": null,
            "object_position": null,
            "order": null,
            "overflow": null,
            "overflow_x": null,
            "overflow_y": null,
            "padding": null,
            "right": null,
            "top": null,
            "visibility": null,
            "width": null
          }
        },
        "31105d3d937a4e98b2ed3c0b63a43e1f": {
          "model_module": "@jupyter-widgets/base",
          "model_name": "LayoutModel",
          "model_module_version": "1.2.0",
          "state": {
            "_model_module": "@jupyter-widgets/base",
            "_model_module_version": "1.2.0",
            "_model_name": "LayoutModel",
            "_view_count": null,
            "_view_module": "@jupyter-widgets/base",
            "_view_module_version": "1.2.0",
            "_view_name": "LayoutView",
            "align_content": null,
            "align_items": null,
            "align_self": null,
            "border": null,
            "bottom": null,
            "display": null,
            "flex": null,
            "flex_flow": null,
            "grid_area": null,
            "grid_auto_columns": null,
            "grid_auto_flow": null,
            "grid_auto_rows": null,
            "grid_column": null,
            "grid_gap": null,
            "grid_row": null,
            "grid_template_areas": null,
            "grid_template_columns": null,
            "grid_template_rows": null,
            "height": null,
            "justify_content": null,
            "justify_items": null,
            "left": null,
            "margin": null,
            "max_height": null,
            "max_width": null,
            "min_height": null,
            "min_width": null,
            "object_fit": null,
            "object_position": null,
            "order": null,
            "overflow": null,
            "overflow_x": null,
            "overflow_y": null,
            "padding": null,
            "right": null,
            "top": null,
            "visibility": null,
            "width": null
          }
        },
        "b7e9548e3f6842f996834517813d1fcc": {
          "model_module": "@jupyter-widgets/controls",
          "model_name": "DescriptionStyleModel",
          "model_module_version": "1.5.0",
          "state": {
            "_model_module": "@jupyter-widgets/controls",
            "_model_module_version": "1.5.0",
            "_model_name": "DescriptionStyleModel",
            "_view_count": null,
            "_view_module": "@jupyter-widgets/base",
            "_view_module_version": "1.2.0",
            "_view_name": "StyleView",
            "description_width": ""
          }
        },
        "95325b8394d044b0800215c092bead79": {
          "model_module": "@jupyter-widgets/base",
          "model_name": "LayoutModel",
          "model_module_version": "1.2.0",
          "state": {
            "_model_module": "@jupyter-widgets/base",
            "_model_module_version": "1.2.0",
            "_model_name": "LayoutModel",
            "_view_count": null,
            "_view_module": "@jupyter-widgets/base",
            "_view_module_version": "1.2.0",
            "_view_name": "LayoutView",
            "align_content": null,
            "align_items": null,
            "align_self": null,
            "border": null,
            "bottom": null,
            "display": null,
            "flex": null,
            "flex_flow": null,
            "grid_area": null,
            "grid_auto_columns": null,
            "grid_auto_flow": null,
            "grid_auto_rows": null,
            "grid_column": null,
            "grid_gap": null,
            "grid_row": null,
            "grid_template_areas": null,
            "grid_template_columns": null,
            "grid_template_rows": null,
            "height": null,
            "justify_content": null,
            "justify_items": null,
            "left": null,
            "margin": null,
            "max_height": null,
            "max_width": null,
            "min_height": null,
            "min_width": null,
            "object_fit": null,
            "object_position": null,
            "order": null,
            "overflow": null,
            "overflow_x": null,
            "overflow_y": null,
            "padding": null,
            "right": null,
            "top": null,
            "visibility": null,
            "width": null
          }
        },
        "350d063a51774cbe8977cd032123eb2a": {
          "model_module": "@jupyter-widgets/controls",
          "model_name": "ProgressStyleModel",
          "model_module_version": "1.5.0",
          "state": {
            "_model_module": "@jupyter-widgets/controls",
            "_model_module_version": "1.5.0",
            "_model_name": "ProgressStyleModel",
            "_view_count": null,
            "_view_module": "@jupyter-widgets/base",
            "_view_module_version": "1.2.0",
            "_view_name": "StyleView",
            "bar_color": null,
            "description_width": ""
          }
        },
        "380dff8dedfc4717b6adecb3b5cd1cf6": {
          "model_module": "@jupyter-widgets/base",
          "model_name": "LayoutModel",
          "model_module_version": "1.2.0",
          "state": {
            "_model_module": "@jupyter-widgets/base",
            "_model_module_version": "1.2.0",
            "_model_name": "LayoutModel",
            "_view_count": null,
            "_view_module": "@jupyter-widgets/base",
            "_view_module_version": "1.2.0",
            "_view_name": "LayoutView",
            "align_content": null,
            "align_items": null,
            "align_self": null,
            "border": null,
            "bottom": null,
            "display": null,
            "flex": null,
            "flex_flow": null,
            "grid_area": null,
            "grid_auto_columns": null,
            "grid_auto_flow": null,
            "grid_auto_rows": null,
            "grid_column": null,
            "grid_gap": null,
            "grid_row": null,
            "grid_template_areas": null,
            "grid_template_columns": null,
            "grid_template_rows": null,
            "height": null,
            "justify_content": null,
            "justify_items": null,
            "left": null,
            "margin": null,
            "max_height": null,
            "max_width": null,
            "min_height": null,
            "min_width": null,
            "object_fit": null,
            "object_position": null,
            "order": null,
            "overflow": null,
            "overflow_x": null,
            "overflow_y": null,
            "padding": null,
            "right": null,
            "top": null,
            "visibility": null,
            "width": null
          }
        },
        "f216dbe03b894758b19da4fe6e093543": {
          "model_module": "@jupyter-widgets/controls",
          "model_name": "DescriptionStyleModel",
          "model_module_version": "1.5.0",
          "state": {
            "_model_module": "@jupyter-widgets/controls",
            "_model_module_version": "1.5.0",
            "_model_name": "DescriptionStyleModel",
            "_view_count": null,
            "_view_module": "@jupyter-widgets/base",
            "_view_module_version": "1.2.0",
            "_view_name": "StyleView",
            "description_width": ""
          }
        }
      }
    }
  },
  "cells": [
    {
      "cell_type": "code",
      "execution_count": null,
      "metadata": {
        "colab": {
          "base_uri": "https://localhost:8080/",
          "height": 35
        },
        "id": "ej41L8Z3PmNI",
        "outputId": "c3b508eb-e4bd-41dc-f2a6-41d88d944cf0"
      },
      "outputs": [
        {
          "output_type": "execute_result",
          "data": {
            "text/plain": [
              "'2.9.2'"
            ],
            "application/vnd.google.colaboratory.intrinsic+json": {
              "type": "string"
            }
          },
          "metadata": {},
          "execution_count": 16
        }
      ],
      "source": [
        "import tensorflow as tf\n",
        "\n",
        "tf.__version__"
      ]
    },
    {
      "cell_type": "code",
      "source": [
        "mnist_data = tf.keras.datasets.mnist\n",
        "\n",
        "(X_train, y_train), (X_test, y_test) = mnist_data.load_data()\n",
        "\n",
        "X_train.shape, y_train.shape, X_test.shape, y_test.shape"
      ],
      "metadata": {
        "colab": {
          "base_uri": "https://localhost:8080/"
        },
        "id": "oo5dv_MTPt6M",
        "outputId": "def58dd4-40a3-4d69-ebef-38b060c65125"
      },
      "execution_count": null,
      "outputs": [
        {
          "output_type": "execute_result",
          "data": {
            "text/plain": [
              "((60000, 28, 28), (60000,), (10000, 28, 28), (10000,))"
            ]
          },
          "metadata": {},
          "execution_count": 65
        }
      ]
    },
    {
      "cell_type": "code",
      "source": [
        "for elem in X_train[0]:\n",
        "    print(\"\".join([\"1\" if e > 0 else \"0\" for e in elem]))"
      ],
      "metadata": {
        "colab": {
          "base_uri": "https://localhost:8080/"
        },
        "id": "GpTaFbgkQEXn",
        "outputId": "709da611-69d5-43d6-bb80-f50309d1c7d8"
      },
      "execution_count": null,
      "outputs": [
        {
          "output_type": "stream",
          "name": "stdout",
          "text": [
            "0000000000000000000000000000\n",
            "0000000000000000000000000000\n",
            "0000000000000000000000000000\n",
            "0000000000000000000000000000\n",
            "0000000000000000000000000000\n",
            "0000000000001111111111110000\n",
            "0000000011111111111111110000\n",
            "0000000111111111111111100000\n",
            "0000000111111111110000000000\n",
            "0000000011111110110000000000\n",
            "0000000001111100000000000000\n",
            "0000000000011110000000000000\n",
            "0000000000011110000000000000\n",
            "0000000000001111110000000000\n",
            "0000000000000111111000000000\n",
            "0000000000000011111100000000\n",
            "0000000000000001111100000000\n",
            "0000000000000000011110000000\n",
            "0000000000000011111110000000\n",
            "0000000000001111111100000000\n",
            "0000000000111111111000000000\n",
            "0000000011111111110000000000\n",
            "0000001111111111000000000000\n",
            "0000111111111100000000000000\n",
            "0000111111110000000000000000\n",
            "0000000000000000000000000000\n",
            "0000000000000000000000000000\n",
            "0000000000000000000000000000\n"
          ]
        }
      ]
    },
    {
      "cell_type": "code",
      "source": [
        "# [0, 255] -> [0, 1]\n",
        "X_train, X_test = X_train / 255., X_test / 255."
      ],
      "metadata": {
        "id": "AYMpoQiEQOSl"
      },
      "execution_count": null,
      "outputs": []
    },
    {
      "cell_type": "code",
      "source": [
        "from tensorflow.keras.utils import to_categorical\n",
        "\n",
        "y_train_encoded, y_test_encoded = to_categorical(y_train), to_categorical(y_test)\n",
        "y_train_encoded.shape, y_test_encoded.shape"
      ],
      "metadata": {
        "colab": {
          "base_uri": "https://localhost:8080/"
        },
        "id": "doh8gM-jQwQi",
        "outputId": "a1236ec4-d664-4a09-f99d-bdd09626b443"
      },
      "execution_count": null,
      "outputs": [
        {
          "output_type": "execute_result",
          "data": {
            "text/plain": [
              "((60000, 10), (10000, 10))"
            ]
          },
          "metadata": {},
          "execution_count": 68
        }
      ]
    },
    {
      "cell_type": "code",
      "source": [
        "X_train_flatten, X_test_flatten = X_train.reshape([X_train.shape[0], -1]), X_test.reshape([X_test.shape[0], -1])\n",
        "X_train_flatten.shape, X_test_flatten.shape"
      ],
      "metadata": {
        "colab": {
          "base_uri": "https://localhost:8080/"
        },
        "id": "Q_9y7yroRggR",
        "outputId": "73d92850-67f2-4118-d2c9-23a7bd09a6e2"
      },
      "execution_count": null,
      "outputs": [
        {
          "output_type": "execute_result",
          "data": {
            "text/plain": [
              "((60000, 784), (10000, 784))"
            ]
          },
          "metadata": {},
          "execution_count": 69
        }
      ]
    },
    {
      "cell_type": "markdown",
      "source": [
        "## Activation Function"
      ],
      "metadata": {
        "id": "_tosK24ySJBA"
      }
    },
    {
      "cell_type": "code",
      "source": [
        "import numpy as np\n",
        "\n",
        "def softmax(x):\n",
        "    if x.ndim == 2:\n",
        "        x = x.T\n",
        "        x = x - np.max(x, axis=0)\n",
        "        y = np.exp(x) / np.sum(np.exp(x), axis=0)\n",
        "        return y.T\n",
        "    x = x - np.max(x)\n",
        "    return np.exp(x) / np.sum(np.exp(x))\n",
        "\n",
        "def sigmoid(x):\n",
        "    return 1 / (1 + np.exp(-x))\n",
        "\n",
        "def sigmoid_grad(x):\n",
        "    return (1.0 - sigmoid(x)) * sigmoid(x)"
      ],
      "metadata": {
        "id": "TP6m1TgiTRLy"
      },
      "execution_count": null,
      "outputs": []
    },
    {
      "cell_type": "markdown",
      "source": [
        "## Loss"
      ],
      "metadata": {
        "id": "vSNMwrLWUAOD"
      }
    },
    {
      "cell_type": "code",
      "source": [
        "def cross_entropy_error(y, t):\n",
        "    if y.ndim == 1:\n",
        "        t = t.reshape(1, t.size)\n",
        "        y = y.reshape(1, y.size)\n",
        "\n",
        "    if t.size == y.size:\n",
        "        t = t.argmax(axis=1)\n",
        "\n",
        "    batch_size = y.shape[0]\n",
        "    return -np.sum(\n",
        "        np.log(y[np.arange(batch_size), t] + 1e-7) / batch_size\n",
        "    )"
      ],
      "metadata": {
        "id": "wbQBRBqtT0Ty"
      },
      "execution_count": null,
      "outputs": []
    },
    {
      "cell_type": "markdown",
      "source": [
        "## Numerical Gradient"
      ],
      "metadata": {
        "id": "OdcChrRjUjc0"
      }
    },
    {
      "cell_type": "code",
      "source": [
        "def numerical_gradient(f, x):\n",
        "    h = 1e-4\n",
        "    grad = np.zeros_like(x)\n",
        "\n",
        "    for idx in range(x.shape[0]):\n",
        "        tmp_val = x[idx]\n",
        "\n",
        "        # f(x+h)\n",
        "        x[idx] = tmp_val + h\n",
        "        fxh1 = f(x)\n",
        "\n",
        "        # f(x-h)\n",
        "        x[idx] = tmp_val - h\n",
        "        fxh2 = f(x)\n",
        "\n",
        "        grad[idx] = (fxh1 - fxh2) / (2 * h)\n",
        "    return grad"
      ],
      "metadata": {
        "id": "-RT8QAfmUlt1"
      },
      "execution_count": null,
      "outputs": []
    },
    {
      "cell_type": "markdown",
      "source": [
        "# TwoLayerNet"
      ],
      "metadata": {
        "id": "FVMJEO3vVbfh"
      }
    },
    {
      "cell_type": "code",
      "source": [
        "class TwoLayerNet:\n",
        "    # typing hint\n",
        "    def __init__(self, input_size: int, hidden_size: int, output_size: int, weight_init_std: float = 0.01):\n",
        "        self.params = dict()\n",
        "        self.params[\"W1\"] = np.random.randn(input_size, hidden_size) * weight_init_std\n",
        "        self.params[\"b1\"] = np.zeros(hidden_size)\n",
        "        self.params[\"W2\"] = np.random.randn(hidden_size, output_size) * weight_init_std\n",
        "        self.params[\"b2\"] = np.zeros(output_size)\n",
        "\n",
        "    def predict(self, x):\n",
        "        W1, W2 = self.params[\"W1\"], self.params[\"W2\"]\n",
        "        b1, b2 = self.params[\"b1\"], self.params[\"b2\"]\n",
        "\n",
        "        a1 = np.dot(x, W1) + b1\n",
        "        z1 = sigmoid(a1)\n",
        "\n",
        "        a2 = np.dot(z1, W2) + b2\n",
        "        y = softmax(a2)\n",
        "\n",
        "        return y\n",
        "\n",
        "    # x: 입력 데이터, t: 정답 데이터\n",
        "    def loss(self, x, t):\n",
        "        y = self.predict(x)\n",
        "        return cross_entropy_error(y, t)\n",
        "\n",
        "    def numerical_gradient(self, x: np.array, t) -> dict:\n",
        "        loss_W = lambda W: self.loss(x, t)\n",
        "\n",
        "        # grads = dict()\n",
        "        # grads[\"W1\"] = numerical_gradient(loss_W, self.params[\"W1\"])\n",
        "        # grads[\"b1\"] = numerical_gradient(loss_W, self.params[\"b1\"])\n",
        "        # grads[\"W2\"] = numerical_gradient(loss_W, self.params[\"W2\"])\n",
        "        # grads[\"b2\"] = numerical_gradient(loss_W, self.params[\"b2\"])\n",
        "        return {\n",
        "            _key: numerical_gradient(loss_W, self.params[_key]) for _key in (\n",
        "                \"W1\", \"b1\", \"W2\", \"b2\"\n",
        "            )\n",
        "        }\n",
        "\n",
        "    def gradient(self, x, t):\n",
        "        W1, W2 = self.params[\"W1\"], self.params[\"W2\"]\n",
        "        b1, b2 = self.params[\"b1\"], self.params[\"b2\"]\n",
        "\n",
        "        grads = dict()\n",
        "        batch_num = x.shape[0]\n",
        "\n",
        "        # forward\n",
        "        a1 = np.dot(x, W1) + b1\n",
        "        z1 = sigmoid(a1)\n",
        "        a2 = np.dot(z1, W2) + b2\n",
        "        y = softmax(a2)\n",
        "\n",
        "        # backward\n",
        "        dy = (y - t) / batch_num\n",
        "        grads[\"W2\"] = np.dot(z1.T, dy)\n",
        "        grads[\"b2\"] = np.sum(dy, axis=0)\n",
        "\n",
        "        da1 = np.dot(dy, W2.T)\n",
        "        dz1 = sigmoid_grad(a1) * da1\n",
        "        grads[\"W1\"] = np.dot(x.T, dz1)\n",
        "        grads[\"b1\"] = np.sum(dz1, axis=0)\n",
        "        \n",
        "        return grads\n",
        "\n",
        "    def accuracy(self, x, t):\n",
        "        y = self.predict(x)\n",
        "        y = np.argmax(y, axis=1) # Neural Network가 예측한 0~9 사이의 숫자\n",
        "        t = np.argmax(t, axis=1)\n",
        "\n",
        "        acc = np.sum(y == t) / float(x.shape[0])\n",
        "        return acc"
      ],
      "metadata": {
        "id": "ehtK2vL4cQmV"
      },
      "execution_count": null,
      "outputs": []
    },
    {
      "cell_type": "markdown",
      "source": [
        "---\n",
        "## 20230117"
      ],
      "metadata": {
        "id": "a_BcBZbhkAVO"
      }
    },
    {
      "cell_type": "code",
      "source": [
        "from tqdm.auto import tqdm\n",
        "import time"
      ],
      "metadata": {
        "id": "lptf7ocfsCuI"
      },
      "execution_count": null,
      "outputs": []
    },
    {
      "cell_type": "code",
      "source": [
        "network = TwoLayerNet(input_size=784, hidden_size=50, output_size=10)\n",
        "network"
      ],
      "metadata": {
        "colab": {
          "base_uri": "https://localhost:8080/"
        },
        "id": "BnL1cpClkEZ2",
        "outputId": "dd5dc8fb-9832-4fa7-95d7-e2b7ec7ce97c"
      },
      "execution_count": null,
      "outputs": [
        {
          "output_type": "execute_result",
          "data": {
            "text/plain": [
              "<__main__.TwoLayerNet at 0x7fea557cca30>"
            ]
          },
          "metadata": {},
          "execution_count": 26
        }
      ]
    },
    {
      "cell_type": "code",
      "source": [
        "mask = np.random.choice(10, 3)\n",
        "a = np.array([i+1 for i in range(10)])\n",
        "mask, a"
      ],
      "metadata": {
        "colab": {
          "base_uri": "https://localhost:8080/"
        },
        "id": "MuD78FfE_JUy",
        "outputId": "3c3c5182-7d6d-4e42-f42b-29760a4db94f"
      },
      "execution_count": null,
      "outputs": [
        {
          "output_type": "execute_result",
          "data": {
            "text/plain": [
              "(array([4, 3, 0]), array([ 1,  2,  3,  4,  5,  6,  7,  8,  9, 10]))"
            ]
          },
          "metadata": {},
          "execution_count": 13
        }
      ]
    },
    {
      "cell_type": "code",
      "source": [
        "a[mask]"
      ],
      "metadata": {
        "colab": {
          "base_uri": "https://localhost:8080/"
        },
        "id": "yQZfzqOq_kD0",
        "outputId": "8d2f60b8-838f-4c97-9aac-0ce2b01ca14e"
      },
      "execution_count": null,
      "outputs": [
        {
          "output_type": "execute_result",
          "data": {
            "text/plain": [
              "array([5, 4, 1])"
            ]
          },
          "metadata": {},
          "execution_count": 14
        }
      ]
    },
    {
      "cell_type": "code",
      "source": [
        "network = TwoLayerNet(input_size=784, hidden_size=50, output_size=10)\n",
        "train_size = X_train_flatten.shape[0] # 60000\n",
        "\n",
        "# hyperparameter tuning\n",
        "iters_num = 1\n",
        "batch_size = 100\n",
        "learning_rate = 0.1\n",
        "\n",
        "history = dict(\n",
        "    train_acc=list(),\n",
        "    test_acc=list(),\n",
        ")\n",
        "\n",
        "start_time = time.time()\n",
        "\n",
        "for i in tqdm(range(iters_num)):\n",
        "\n",
        "    # Batch 데이터 만들기\n",
        "    # SGD(Stochastic Gradient Descent) - Mini Batch\n",
        "    batch_mask = np.random.choice(train_size, batch_size)\n",
        "    X_batch = X_train_flatten[batch_mask]\n",
        "    y_batch = y_train_encoded[batch_mask]\n",
        "\n",
        "    # Train Model\n",
        "    grads = network.gradient(X_batch, y_batch)\n",
        "    # network.params[\"W1\"] = network.params[\"W1\"] - learning_rate * grads[\"W1\"]\n",
        "    # network.params[\"W2\"] = network.params[\"W2\"] - learning_rate * grads[\"W2\"]\n",
        "    # network.params[\"b1\"] = network.params[\"b1\"] - learning_rate * grads[\"b1\"]    \n",
        "    # network.params[\"b2\"] = network.params[\"b2\"] - learning_rate * grads[\"b2\"]\n",
        "    for _key in (\"W1\", \"W2\", \"b1\", \"b2\"):\n",
        "        network.params[_key] -= learning_rate * grads[_key]\n",
        "\n",
        "    train_acc = network.accuracy(X_batch, y_batch)\n",
        "    test_acc = network.accuracy(X_test_flatten, y_test_encoded)\n",
        "    \n",
        "    # log history\n",
        "    history[\"train_acc\"].append(train_acc)\n",
        "    history[\"test_acc\"].append(test_acc)\n",
        "\n",
        "train_time = \"%.4f\" % (time.time() - start_time)\n",
        "print(\"time occured: \", train_time)"
      ],
      "metadata": {
        "colab": {
          "base_uri": "https://localhost:8080/",
          "height": 67,
          "referenced_widgets": [
            "76cc9b0b01d642e1a684448875d033da",
            "d44ee50a28064162a256efdef61335f4",
            "cd07599bd94447c9b5466e9ec4855400",
            "a628115c97014cee8a9df760f7eb96e9",
            "eb0e854835fd4f1c87d517ca0aad70b4",
            "f20caab38d2747b6860a4accd0c6aa11",
            "c092b3f06da0458f8cddd0feea2e064a",
            "66565f07b14a479981c74841ebdba1f4",
            "958e8ad3563f4b5abc16268a7012c145",
            "8d39379a10724ec19c3e8f2ef7118781",
            "cfb041b0129140f6b5ed39cf56420b6f"
          ]
        },
        "id": "3OkDOIivkjSg",
        "outputId": "dcf8cf01-2a86-4e85-9656-33290491398c"
      },
      "execution_count": null,
      "outputs": [
        {
          "output_type": "display_data",
          "data": {
            "text/plain": [
              "  0%|          | 0/1 [00:00<?, ?it/s]"
            ],
            "application/vnd.jupyter.widget-view+json": {
              "version_major": 2,
              "version_minor": 0,
              "model_id": "76cc9b0b01d642e1a684448875d033da"
            }
          },
          "metadata": {}
        },
        {
          "output_type": "stream",
          "name": "stdout",
          "text": [
            "time occured:  0.2249\n"
          ]
        }
      ]
    },
    {
      "cell_type": "code",
      "source": [
        "# plot history\n",
        "import matplotlib.pyplot as plt\n",
        "\n",
        "x = np.arange(len(history[\"train_acc\"]))\n",
        "plt.plot(x, history[\"train_acc\"], label=\"train accuracy\")\n",
        "plt.plot(x, history[\"test_acc\"], label=\"test accuracy\")\n",
        "plt.xlabel(\"epochs\")\n",
        "plt.ylabel(\"accuracy\")\n",
        "plt.ylim(0, 1.1)\n",
        "plt.legend(loc=\"lower right\")\n",
        "\n",
        "plt.show()"
      ],
      "metadata": {
        "colab": {
          "base_uri": "https://localhost:8080/",
          "height": 279
        },
        "id": "6nzrjKD9nDTm",
        "outputId": "bd6b5b0a-4e6e-4d97-9119-02dd5d9bd733"
      },
      "execution_count": null,
      "outputs": [
        {
          "output_type": "display_data",
          "data": {
            "text/plain": [
              "<Figure size 432x288 with 1 Axes>"
            ],
            "image/png": "[encoded data removed]"
          },
          "metadata": {
            "needs_background": "light"
          }
        }
      ]
    },
    {
      "cell_type": "code",
      "source": [
        "history[\"train_acc\"][-1], history[\"test_acc\"][-1]"
      ],
      "metadata": {
        "colab": {
          "base_uri": "https://localhost:8080/"
        },
        "id": "CuSABM2gPC3C",
        "outputId": "d66e319c-d9fc-439e-87d7-3763aec832b8"
      },
      "execution_count": null,
      "outputs": [
        {
          "output_type": "execute_result",
          "data": {
            "text/plain": [
              "(0.11, 0.0974)"
            ]
          },
          "metadata": {},
          "execution_count": 17
        }
      ]
    },
    {
      "cell_type": "code",
      "source": [
        "network.accuracy(X_train_flatten, y_train_encoded)"
      ],
      "metadata": {
        "id": "_AMfB5U2pt52",
        "colab": {
          "base_uri": "https://localhost:8080/"
        },
        "outputId": "c53c4a79-4847-4441-bb29-aa1da408866a"
      },
      "execution_count": null,
      "outputs": [
        {
          "output_type": "execute_result",
          "data": {
            "text/plain": [
              "0.09751666666666667"
            ]
          },
          "metadata": {},
          "execution_count": 18
        }
      ]
    },
    {
      "cell_type": "markdown",
      "source": [
        "---"
      ],
      "metadata": {
        "id": "t9GVzmjUPfSr"
      }
    },
    {
      "cell_type": "markdown",
      "source": [
        "## Computational Graph\n"
      ],
      "metadata": {
        "id": "V5SowQuBYwfr"
      }
    },
    {
      "cell_type": "code",
      "source": [
        "class AddLayer:\n",
        "    def __init__(self):\n",
        "        pass\n",
        "    \n",
        "    def forward(self, x, y):\n",
        "        return x + y\n",
        "\n",
        "    def backward(self, dout):\n",
        "        dx = dout * 1\n",
        "        dy = dout * 1\n",
        "        return dx, dy\n",
        "\n",
        "class MultiLayer:\n",
        "    def __init__(self):\n",
        "        self.x = None\n",
        "        self.y = None\n",
        "\n",
        "    def forward(self, x, y):\n",
        "        self.x = x\n",
        "        self.y = y\n",
        "        return x * y\n",
        "\n",
        "    def backward(self, dout):\n",
        "        dx = dout * self.y\n",
        "        dy = dout * self.x\n",
        "        return dx, dy   "
      ],
      "metadata": {
        "id": "KAzOKheUY20y"
      },
      "execution_count": null,
      "outputs": []
    },
    {
      "cell_type": "code",
      "source": [
        "apple = 100\n",
        "apple_num = 2\n",
        "tax = 1.1\n",
        "\n",
        "mul_apple_layer = MultiLayer()\n",
        "mul_tax_layer = MultiLayer()\n",
        "\n",
        "apple_price = mul_apple_layer.forward(apple, apple_num) # apple * apple_num\n",
        "price = mul_tax_layer.forward(apple_price, tax)\n",
        "\n",
        "print(price)"
      ],
      "metadata": {
        "colab": {
          "base_uri": "https://localhost:8080/"
        },
        "id": "MAeW8c83cDcp",
        "outputId": "5c98f74b-3dc5-4731-faec-4dede8ff4b17"
      },
      "execution_count": null,
      "outputs": [
        {
          "output_type": "stream",
          "name": "stdout",
          "text": [
            "220.00000000000003\n"
          ]
        }
      ]
    },
    {
      "cell_type": "code",
      "source": [
        "d_price = 10000\n",
        "d_apple_pirce, d_tax = mul_tax_layer.backward(d_price)\n",
        "d_apple, d_apple_num = mul_apple_layer.backward(d_apple_pirce)\n",
        "\n",
        "print(\"d_apple_pirce: \", d_apple_pirce)\n",
        "print(\"d_tax: \", d_tax)\n",
        "print(\"d_apple: \", d_apple)\n",
        "print(\"d_apple_num: \", d_apple_num)"
      ],
      "metadata": {
        "colab": {
          "base_uri": "https://localhost:8080/"
        },
        "id": "jYBXdOibciUr",
        "outputId": "aed4fec2-e079-4af3-a9fb-e41837ddf131"
      },
      "execution_count": null,
      "outputs": [
        {
          "output_type": "stream",
          "name": "stdout",
          "text": [
            "d_apple_pirce:  11000.0\n",
            "d_tax:  2000000\n",
            "d_apple:  22000.0\n",
            "d_apple_num:  1100000.0\n"
          ]
        }
      ]
    },
    {
      "cell_type": "markdown",
      "source": [
        "## Layer Classes"
      ],
      "metadata": {
        "id": "3SxW8Axudn1z"
      }
    },
    {
      "cell_type": "code",
      "source": [
        "class Affine:\n",
        "    def __init__(self, W, b):\n",
        "        self.W = W\n",
        "        self.b = b\n",
        "        \n",
        "        self.x = None\n",
        "        self.dW = None\n",
        "        self.db = None\n",
        "\n",
        "    def forward(self, x):\n",
        "        self.x = x\n",
        "        out = np.dot(x, self.W) + self.b\n",
        "        return out\n",
        "\n",
        "    def backward(self, dout):\n",
        "        dx = np.dot(dout, self.W.T)\n",
        "        self.dW = np.dot(self.x.T, dout)\n",
        "        self.db = np.sum(dout, axis=0)\n",
        "        return dx"
      ],
      "metadata": {
        "id": "ZN5Wrcx5jVkg"
      },
      "execution_count": null,
      "outputs": []
    },
    {
      "cell_type": "code",
      "source": [
        "x = np.array([-1, 0, 1])\n",
        "chk = (x <= 0)"
      ],
      "metadata": {
        "id": "S7andIP0mHlB"
      },
      "execution_count": null,
      "outputs": []
    },
    {
      "cell_type": "code",
      "source": [],
      "metadata": {
        "id": "snR4aPltmZHp"
      },
      "execution_count": null,
      "outputs": []
    },
    {
      "cell_type": "code",
      "source": [
        "class Relu:\n",
        "    def __init__(self):\n",
        "        self.mask = None\n",
        "\n",
        "    def forward(self, x):\n",
        "        self.mask = (x <= 0)\n",
        "        out = x.copy()\n",
        "        out[self.mask] = 0\n",
        "        return out\n",
        "\n",
        "    def backward(self, dout):\n",
        "        dout[self.mask] = 0\n",
        "        dx = dout\n",
        "        return dx\n",
        "\n",
        "class LeakyRelu:\n",
        "    def __init__(self, a=.1):\n",
        "        self.mask = None\n",
        "        self.a = a\n",
        "\n",
        "    def forward(self, x):\n",
        "        self.mask = (x <= 0)\n",
        "        out = np.array([\n",
        "            elem if elem > 0 else elem * self.a for elem in x\n",
        "        ])\n",
        "        return out\n",
        "\n",
        "    def backward(self, dout):\n",
        "        dout[self.mask] = self.a\n",
        "        dx = dout\n",
        "        return dx"
      ],
      "metadata": {
        "id": "8JwGD-Nek675"
      },
      "execution_count": null,
      "outputs": []
    },
    {
      "cell_type": "code",
      "source": [
        "class SoftmaxWithLoss:\n",
        "    def __init__(self):\n",
        "        self.loss = None\n",
        "        self.y = None\n",
        "        self.t = None\n",
        "\n",
        "    def forward(self, x, t):\n",
        "        self.t = t\n",
        "        self.y = softmax(x)\n",
        "        self.loss = cross_entropy_error(self.y, self.t)\n",
        "        return self.loss\n",
        "\n",
        "    def backward(self, dout=1):\n",
        "        batch_size = self.t.shape[0]\n",
        "        dx = (self.y - self.t) / batch_size\n",
        "        return dx"
      ],
      "metadata": {
        "id": "tdEEwgh2rSLZ"
      },
      "execution_count": null,
      "outputs": []
    },
    {
      "cell_type": "markdown",
      "source": [
        "## TwoLayerNet (Backpropagation)"
      ],
      "metadata": {
        "id": "tpAwJhYgssjJ"
      }
    },
    {
      "cell_type": "code",
      "source": [
        "alist = [[1, 2], [3, 4]]\n",
        "\n",
        "for _, x2 in alist:\n",
        "    print(x2)"
      ],
      "metadata": {
        "colab": {
          "base_uri": "https://localhost:8080/"
        },
        "id": "R4p5HPvJ1RnH",
        "outputId": "c8889d2f-e14d-4424-897e-918149a66cc8"
      },
      "execution_count": null,
      "outputs": [
        {
          "output_type": "stream",
          "name": "stdout",
          "text": [
            "2\n",
            "4\n"
          ]
        }
      ]
    },
    {
      "cell_type": "code",
      "source": [
        "from collections import OrderedDict\n",
        "\n",
        "class TwoLayerNet:\n",
        "    def __init__(self, input_size: int, hidden_size: int, output_size: int, weight_init_std: float = 0.01):\n",
        "        self.params = dict()\n",
        "        self.params[\"W1\"] = weight_init_std + np.random.randn(input_size, hidden_size)\n",
        "        self.params[\"W2\"] = weight_init_std + np.random.randn(hidden_size, output_size)\n",
        "        self.params[\"b1\"] = np.zeros(hidden_size)\n",
        "        self.params[\"b2\"] = np.zeros(output_size)\n",
        "        # self.output_layer = None\n",
        "\n",
        "        self.layers = OrderedDict()\n",
        "        self.layers[\"Affine_1\"] = Affine(self.params[\"W1\"], self.params[\"b1\"])\n",
        "        self.layers[\"Relu_1\"] = Relu()\n",
        "        self.layers[\"Affine_2\"] = Affine(self.params[\"W2\"], self.params[\"b2\"])\n",
        "        self.output_layer = SoftmaxWithLoss()\n",
        "\n",
        "    def predict(self, x):\n",
        "        # x = self.layers[\"Affine_1\"].forward(x)\n",
        "        # x = self.layers[\"Relu_1\"].forward(x)\n",
        "        # x = self.layers[\"Affine_2\"].forward(x)\n",
        "        for layer in self.layers.values():\n",
        "            x = layer.forward(x)\n",
        "        return x\n",
        "    \n",
        "    def loss(self, x, t):\n",
        "        y = self.predict(x)\n",
        "        return self.output_layer.forward(y, t)\n",
        "\n",
        "    def accuracy(self, x, t):\n",
        "        y = self.predict(x)\n",
        "        y = np.argmax(y, axis=1)\n",
        "        t = np.argmax(t, axis=1)\n",
        "        \n",
        "        acc = np.sum(y == t) / float(x.shape[0])\n",
        "        return acc\n",
        "\n",
        "    def gradient(self, x, t):\n",
        "\n",
        "        _ = self.loss(x, t)\n",
        "        d_out = 1\n",
        "        d_out = self.output_layer.backward(d_out)\n",
        "\n",
        "        layers = list(self.layers.values())\n",
        "        for layer in reversed(layers):\n",
        "            d_out = layer.backward(d_out)\n",
        "\n",
        "        grads = dict()\n",
        "        grads[\"W1\"] = self.layers[\"Affine_1\"].dW\n",
        "        grads[\"b1\"] = self.layers[\"Affine_1\"].db\n",
        "        grads[\"W2\"] = self.layers[\"Affine_2\"].dW\n",
        "        grads[\"b2\"] = self.layers[\"Affine_2\"].db\n",
        "        # for i in (1, 2):\n",
        "        #     for _key in (\"W\", \"b\"):\n",
        "        #         aff_layer = self.layers[f\"Affine_{i}\"]\n",
        "        #         grads[f\"{_key}{i}\"] = aff_layer.dw if _key == \"W\" else aff_layer.db\n",
        "        return grads"
      ],
      "metadata": {
        "id": "NlIX2lnKxF72"
      },
      "execution_count": null,
      "outputs": []
    },
    {
      "cell_type": "code",
      "source": [
        "import numpy as np"
      ],
      "metadata": {
        "id": "w9sLuAIPVMUD"
      },
      "execution_count": null,
      "outputs": []
    },
    {
      "cell_type": "code",
      "source": [
        "network = TwoLayerNet(input_size=784, hidden_size=50, output_size=10)\n",
        "network"
      ],
      "metadata": {
        "colab": {
          "base_uri": "https://localhost:8080/"
        },
        "id": "c_lUPRSvJIJq",
        "outputId": "6711bd19-a2b1-4293-fcc9-b1662037bf8f"
      },
      "execution_count": null,
      "outputs": [
        {
          "output_type": "execute_result",
          "data": {
            "text/plain": [
              "<__main__.TwoLayerNet at 0x7fea5212b400>"
            ]
          },
          "metadata": {},
          "execution_count": 80
        }
      ]
    },
    {
      "cell_type": "code",
      "source": [
        "import time"
      ],
      "metadata": {
        "id": "qFfcfBzgbT-q"
      },
      "execution_count": null,
      "outputs": []
    },
    {
      "cell_type": "code",
      "source": [
        "# Hyperparameter\n",
        "iters_num = 1000\n",
        "train_size = X_train_flatten.shape[0]\n",
        "batch_size = 256\n",
        "learning_rate = 0.05\n",
        "\n",
        "history = dict(\n",
        "    train_acc = list(),\n",
        "    train_loss = list(),\n",
        "    test_acc = list(),\n",
        "    test_loss = list()\n",
        ")\n",
        "start_time = time.time()\n",
        "\n",
        "for _ in tqdm(range(iters_num)):\n",
        "  # do something\n",
        "  # SGD(Stochastic Gradient Descent)\n",
        "  batch_mask = np.random.choice(train_size, batch_size)\n",
        "  X_batch = X_train_flatten[batch_mask]\n",
        "  y_batch = y_train_encoded[batch_mask]\n",
        "\n",
        "  # Train Model\n",
        "  grads = network.gradient(X_batch, y_batch)\n",
        "\n",
        "  for _key in (\"W1\", \"W2\", \"b1\", \"b2\"):\n",
        "    network.params[_key] -= learning_rate * grads[_key]\n",
        "\n",
        "  train_acc = network.accuracy(X_batch, y_batch)\n",
        "  train_loss = network.loss(X_batch, y_batch)\n",
        "  test_acc = network.accuracy(X_test_flatten, y_test_encoded)\n",
        "  test_loss = network.loss(X_test_flatten, y_test_encoded)\n",
        "\n",
        "  history[\"train_acc\"].append(train_acc)\n",
        "  history[\"test_acc\"].append(test_acc)\n",
        "  history[\"train_loss\"].append(train_loss)\n",
        "  history[\"test_loss\"].append(test_loss)\n",
        "\n",
        "\n",
        "\n",
        "train_time = \"%.4f\" % (time.time() - start_time)\n",
        "print(\"time occured: \", train_time)"
      ],
      "metadata": {
        "id": "E6tm7TKQUq-G",
        "outputId": "34a3c4e7-8398-4685-fa6f-5fea7ab7e55c",
        "colab": {
          "base_uri": "https://localhost:8080/",
          "height": 67,
          "referenced_widgets": [
            "1d3f3c731483465ea450b3f2ac229fe3",
            "bef43f7872744a9ea14ea56d3a0b2e35",
            "e90c7029a76f479287b2415331dfe76d",
            "198892f14fb048d9bf0070f9f2fe4dd6",
            "f45cab6965c549f581cfaf71bba679d9",
            "31105d3d937a4e98b2ed3c0b63a43e1f",
            "b7e9548e3f6842f996834517813d1fcc",
            "95325b8394d044b0800215c092bead79",
            "350d063a51774cbe8977cd032123eb2a",
            "380dff8dedfc4717b6adecb3b5cd1cf6",
            "f216dbe03b894758b19da4fe6e093543"
          ]
        }
      },
      "execution_count": null,
      "outputs": [
        {
          "output_type": "display_data",
          "data": {
            "text/plain": [
              "  0%|          | 0/1000 [00:00<?, ?it/s]"
            ],
            "application/vnd.jupyter.widget-view+json": {
              "version_major": 2,
              "version_minor": 0,
              "model_id": "1d3f3c731483465ea450b3f2ac229fe3"
            }
          },
          "metadata": {}
        },
        {
          "output_type": "stream",
          "name": "stdout",
          "text": [
            "time occured:  142.9803\n"
          ]
        }
      ]
    },
    {
      "cell_type": "code",
      "source": [
        "import matplotlib.pyplot as plt"
      ],
      "metadata": {
        "id": "a2M8uCqleB-M"
      },
      "execution_count": null,
      "outputs": []
    },
    {
      "cell_type": "code",
      "source": [
        "x = np.arange(len(history[\"train_acc\"]))\n",
        "\n",
        "plt.plot(x, history[\"train_acc\"], label=\"train_acc\")\n",
        "plt.plot(x, history[\"test_acc\"], label=\"test_acc\")\n",
        "# plt.plot(x, history[\"train_loss\"], label=\"train_loss\")\n",
        "# plt.plot(x, history[\"test_loss\"], label=\"test_loss\")\n",
        "\n",
        "plt.xlabel(\"epochs\")\n",
        "plt.ylabel(\"acc/loss\")\n",
        "plt.ylim(0, 1.0)\n",
        "\n",
        "plt.legend(loc=\"lower left\")\n",
        "\n",
        "plt.show()"
      ],
      "metadata": {
        "id": "IQc4OAHUbLja",
        "outputId": "398b6098-3386-4d6e-99dd-fa514b544f83",
        "colab": {
          "base_uri": "https://localhost:8080/",
          "height": 283
        }
      },
      "execution_count": null,
      "outputs": [
        {
          "output_type": "display_data",
          "data": {
            "text/plain": [
              "<Figure size 432x288 with 1 Axes>"
            ],
            "image/png": "[encoded data removed]"
          },
          "metadata": {
            "needs_background": "light"
          }
        }
      ]
    },
    {
      "cell_type": "code",
      "source": [
        "x = np.arange(len(history[\"train_acc\"]))\n",
        "\n",
        "plt.plot(x, history[\"train_acc\"], label=\"train_acc\")\n",
        "plt.plot(x, history[\"test_acc\"], label=\"test_acc\")\n",
        "plt.plot(x, history[\"train_loss\"], label=\"train_loss\")\n",
        "plt.plot(x, history[\"test_loss\"], label=\"test_loss\")\n",
        "\n",
        "plt.xlabel(\"epochs\")\n",
        "plt.ylabel(\"acc/loss\")\n",
        "plt.ylim(0, 1.0)\n",
        "\n",
        "plt.legend(loc=\"lower left\")\n",
        "\n",
        "plt.show()"
      ],
      "metadata": {
        "id": "KN4iYbxXeAvS",
        "outputId": "cf3e0398-a893-4e74-ae5f-ea636aba0dda",
        "colab": {
          "base_uri": "https://localhost:8080/",
          "height": 283
        }
      },
      "execution_count": null,
      "outputs": [
        {
          "output_type": "display_data",
          "data": {
            "text/plain": [
              "<Figure size 432x288 with 1 Axes>"
            ],
            "image/png": "[encoded data removed]"
          },
          "metadata": {
            "needs_background": "light"
          }
        }
      ]
    },
    {
      "cell_type": "code",
      "source": [
        "x = np.arange(len(history[\"train_acc\"]))\n",
        "\n",
        "# plt.plot(x, history[\"train_acc\"], label=\"train_acc\")\n",
        "# plt.plot(x, history[\"test_acc\"], label=\"test_acc\")\n",
        "plt.plot(x, history[\"train_loss\"], label=\"train_loss\")\n",
        "plt.plot(x, history[\"test_loss\"], label=\"test_loss\")\n",
        "\n",
        "plt.xlabel(\"epochs\")\n",
        "plt.ylabel(\"acc/loss\")\n",
        "plt.ylim(0, 15.0)\n",
        "\n",
        "plt.legend(loc=\"lower left\")\n",
        "\n",
        "plt.show()"
      ],
      "metadata": {
        "id": "occt6RT2eSyG",
        "outputId": "5af7ae10-e430-4bd3-f51e-45063ce4348d",
        "colab": {
          "base_uri": "https://localhost:8080/",
          "height": 279
        }
      },
      "execution_count": null,
      "outputs": [
        {
          "output_type": "display_data",
          "data": {
            "text/plain": [
              "<Figure size 432x288 with 1 Axes>"
            ],
            "image/png": "[encoded data removed]"
          },
          "metadata": {
            "needs_background": "light"
          }
        }
      ]
    }
  ]
}