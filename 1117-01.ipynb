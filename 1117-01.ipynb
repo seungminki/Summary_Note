{
 "cells": [
  {
   "cell_type": "markdown",
   "id": "1eb7db00",
   "metadata": {},
   "source": [
    "# P-value\n",
    "p-값(p-value)은 귀무 가설(null hypothesis)이 맞다는 전데 하에, 표본에서 실제로 관측된 통계치와 '같거나 더 극단적인' 통계치가 관측될 확률이다. 여기서 말하는 확률은 '빈도주의' (frequentist) 확률이다. p-값(p-value)는 관찰된 데이터가 귀무가설과 양립하는 정도를 0에서 1 사이의 수치로 표현한 것이다. p-value가 작을수록 그 정도가 약하다고 보며, 특정 값(대개 0.05나 0.01 등) 보다 작을 경우 귀무가설을 기각하는 것이 관례이나 여기에는 여러 가지 문제들이 있다."
   ]
  },
  {
   "cell_type": "markdown",
   "id": "8a48b3bf",
   "metadata": {},
   "source": [
    "# 귀무가설\n",
    "통계학에서 주장하는 바, 차이가 없거나 의미있는 차이가 없는 경우의 가설이며 이것이 맞거나 맞지 않다는 통계학적 증거를 통해 증명하려는 가설이다."
   ]
  },
  {
   "cell_type": "markdown",
   "id": "51030c3d",
   "metadata": {},
   "source": [
    "# Kolmogorov-Smirnov 테스트\n",
    "통계에서 KS 테스트는 표본을 기존 확률 분포와 비교하거나 두 표본을 비교하는 데 사용할 수 있는 연속형, 1차원확률 분포의 동등성에 대한 비모수 테스트입니다.\n",
    "\n",
    "본질적으로 이 테스트는 \"이 샘플 모음이 확률 분포에서 도출될 확률은 얼마입니까?\" 또는 두번째 경우에는 \"이 두 세트의 샘플이 동일한 (그러나 알려지지 않은) 확률 분포에서 추출되었을 확률은 얼마입니까?\n",
    "\n",
    "kolmogorov-smirnov 통계량은 표본의 경험적 분포 함수와 기본 분포의 누적 분포 함수 사이 또는 두 표본의 경험적 분포 함수 사이의 거리를 정량화합니다. 이 통계량의 귀무 분포는 표본이 기존 분포에서 추출되거나(1 표본의 경우) 표본이 동일한 분포에서 추출된다는 귀무 가설(2 표본의 경우)에 따라 계산됩니다.\n"
   ]
  },
  {
   "cell_type": "markdown",
   "id": "d011f3a2",
   "metadata": {},
   "source": [
    "# Wilcoxon 테스트\n",
    "Wilcoxon 부호 순위 검정은 데이터 표본을 기반으로 모집단의 위치를 테스트하거나 일치하는 두 표본을 사용하여 두 모집단의 위치를 비교하는 데 사용되는 비모수통계적 가설 검정입니다. 예를 들어, 모집단의 중위수가 0이 아닌지 또는 한 모집단의 표본이 다른 모집단의 표본보다 클 확률이 50%보다 높은지 여부를 검정하려는 경우입니다."
   ]
  },
  {
   "cell_type": "markdown",
   "id": "7ddc86f1",
   "metadata": {},
   "source": [
    "# statistical test\n",
    "* 파이썬을 이용해 통계 검정하는 법을 알아보자\n",
    "---"
   ]
  },
  {
   "cell_type": "markdown",
   "id": "4495bcab",
   "metadata": {},
   "source": [
    "# T-test\n",
    "* 두 그룹 간 차이가 통계적으로 유의미한지 알아보는 용도로 이용"
   ]
  },
  {
   "cell_type": "code",
   "execution_count": 2,
   "id": "44d6b541",
   "metadata": {},
   "outputs": [],
   "source": [
    "from scipy import stats\n",
    "import numpy as np\n",
    "import pandas as pd\n",
    "import matplotlib.pyplot as plt"
   ]
  },
  {
   "cell_type": "code",
   "execution_count": 3,
   "id": "00ef7b82",
   "metadata": {},
   "outputs": [],
   "source": [
    "np.random.seed(1234) #seed 설정을 하면 반복 작업시에도 일정한 결과를 보장"
   ]
  },
  {
   "cell_type": "code",
   "execution_count": null,
   "id": "c5c9e4f1",
   "metadata": {},
   "outputs": [],
   "source": [
    "# raw = pd.read_csv('./raw.csv', index_col = 0)"
   ]
  },
  {
   "cell_type": "code",
   "execution_count": 5,
   "id": "8b1f4f60",
   "metadata": {},
   "outputs": [],
   "source": [
    "data = [['hsa.mir.129.2',4.498141,2.980395],['hsa.mir.141',1817.053667,1768.521568],\n",
    "        ['hsa.mir.142',1836.309644,1726.754867],['hsa.mir.146a',139.059422,106.530555],\n",
    "        ['hsa.mir.182',10599.129245,10296.246799]]\n",
    "df = pd.DataFrame(data,columns=['index','unifocal','multifocal'])"
   ]
  },
  {
   "cell_type": "code",
   "execution_count": 9,
   "id": "c90af371",
   "metadata": {},
   "outputs": [
    {
     "data": {
      "text/html": [
       "<div>\n",
       "<style scoped>\n",
       "    .dataframe tbody tr th:only-of-type {\n",
       "        vertical-align: middle;\n",
       "    }\n",
       "\n",
       "    .dataframe tbody tr th {\n",
       "        vertical-align: top;\n",
       "    }\n",
       "\n",
       "    .dataframe thead th {\n",
       "        text-align: right;\n",
       "    }\n",
       "</style>\n",
       "<table border=\"1\" class=\"dataframe\">\n",
       "  <thead>\n",
       "    <tr style=\"text-align: right;\">\n",
       "      <th></th>\n",
       "      <th>index</th>\n",
       "      <th>unifocal</th>\n",
       "      <th>multifocal</th>\n",
       "    </tr>\n",
       "  </thead>\n",
       "  <tbody>\n",
       "    <tr>\n",
       "      <th>0</th>\n",
       "      <td>hsa.mir.129.2</td>\n",
       "      <td>4.498141</td>\n",
       "      <td>2.980395</td>\n",
       "    </tr>\n",
       "    <tr>\n",
       "      <th>1</th>\n",
       "      <td>hsa.mir.141</td>\n",
       "      <td>1817.053667</td>\n",
       "      <td>1768.521568</td>\n",
       "    </tr>\n",
       "    <tr>\n",
       "      <th>2</th>\n",
       "      <td>hsa.mir.142</td>\n",
       "      <td>1836.309644</td>\n",
       "      <td>1726.754867</td>\n",
       "    </tr>\n",
       "    <tr>\n",
       "      <th>3</th>\n",
       "      <td>hsa.mir.146a</td>\n",
       "      <td>139.059422</td>\n",
       "      <td>106.530555</td>\n",
       "    </tr>\n",
       "    <tr>\n",
       "      <th>4</th>\n",
       "      <td>hsa.mir.182</td>\n",
       "      <td>10599.129245</td>\n",
       "      <td>10296.246799</td>\n",
       "    </tr>\n",
       "  </tbody>\n",
       "</table>\n",
       "</div>"
      ],
      "text/plain": [
       "           index      unifocal    multifocal\n",
       "0  hsa.mir.129.2      4.498141      2.980395\n",
       "1    hsa.mir.141   1817.053667   1768.521568\n",
       "2    hsa.mir.142   1836.309644   1726.754867\n",
       "3   hsa.mir.146a    139.059422    106.530555\n",
       "4    hsa.mir.182  10599.129245  10296.246799"
      ]
     },
     "execution_count": 9,
     "metadata": {},
     "output_type": "execute_result"
    }
   ],
   "source": [
    "raw = df\n",
    "raw.head() #해당 데이터를 이용함"
   ]
  },
  {
   "cell_type": "code",
   "execution_count": 10,
   "id": "d833ba48",
   "metadata": {},
   "outputs": [
    {
     "data": {
      "text/plain": [
       "KstestResult(statistic=0.4, pvalue=0.873015873015873)"
      ]
     },
     "execution_count": 10,
     "metadata": {},
     "output_type": "execute_result"
    }
   ],
   "source": [
    "#Kolmogorov-Smirnov 검정. 두 표본이 같은 분포를 따르는지 확인. p > 0.05 이므로 서로 다른 분포를 따름\n",
    "stats.ks_2samp(raw['unifocal'], raw['multifocal'])"
   ]
  },
  {
   "cell_type": "code",
   "execution_count": 11,
   "id": "8df56536",
   "metadata": {},
   "outputs": [
    {
     "data": {
      "text/plain": [
       "WilcoxonResult(statistic=0.0, pvalue=0.0625)"
      ]
     },
     "execution_count": 11,
     "metadata": {},
     "output_type": "execute_result"
    }
   ],
   "source": [
    "#wilcoxon 검정. 두 그룹 간 차이가 유의미한지 확인하는 비모수적 검정. p < 0.05 이므로 서로 유의미한 차이 있음\n",
    "stats.wilcoxon(raw['unifocal'], raw['multifocal'])"
   ]
  },
  {
   "cell_type": "markdown",
   "id": "0b306df3",
   "metadata": {},
   "source": [
    "---\n",
    "# ex)iris data를 이용한 t-test\n",
    "* iris setosa와 versicolor 간의 비교\n",
    "* feature: sepal/petal length, sepal/petal width\n",
    "* 각 feature가 종 간에 유의미하게 다른 분포를 가지는지 t-test 통해 확인\n",
    "---"
   ]
  },
  {
   "cell_type": "code",
   "execution_count": 12,
   "id": "16133ca1",
   "metadata": {},
   "outputs": [],
   "source": [
    "from sklearn.datasets import load_iris #iris dataset import\n",
    "d = load_iris()"
   ]
  },
  {
   "cell_type": "code",
   "execution_count": 13,
   "id": "d3837bac",
   "metadata": {},
   "outputs": [],
   "source": [
    "df_iris = pd.DataFrame(data=d.data, columns=d.feature_names)\n",
    "df_iris['species'] = [d.target_names[x] for x in d.target]"
   ]
  },
  {
   "cell_type": "code",
   "execution_count": 14,
   "id": "f815225d",
   "metadata": {},
   "outputs": [
    {
     "data": {
      "text/html": [
       "<div>\n",
       "<style scoped>\n",
       "    .dataframe tbody tr th:only-of-type {\n",
       "        vertical-align: middle;\n",
       "    }\n",
       "\n",
       "    .dataframe tbody tr th {\n",
       "        vertical-align: top;\n",
       "    }\n",
       "\n",
       "    .dataframe thead th {\n",
       "        text-align: right;\n",
       "    }\n",
       "</style>\n",
       "<table border=\"1\" class=\"dataframe\">\n",
       "  <thead>\n",
       "    <tr style=\"text-align: right;\">\n",
       "      <th></th>\n",
       "      <th>sepal length (cm)</th>\n",
       "      <th>sepal width (cm)</th>\n",
       "      <th>petal length (cm)</th>\n",
       "      <th>petal width (cm)</th>\n",
       "      <th>species</th>\n",
       "    </tr>\n",
       "  </thead>\n",
       "  <tbody>\n",
       "    <tr>\n",
       "      <th>0</th>\n",
       "      <td>5.1</td>\n",
       "      <td>3.5</td>\n",
       "      <td>1.4</td>\n",
       "      <td>0.2</td>\n",
       "      <td>setosa</td>\n",
       "    </tr>\n",
       "    <tr>\n",
       "      <th>1</th>\n",
       "      <td>4.9</td>\n",
       "      <td>3.0</td>\n",
       "      <td>1.4</td>\n",
       "      <td>0.2</td>\n",
       "      <td>setosa</td>\n",
       "    </tr>\n",
       "    <tr>\n",
       "      <th>2</th>\n",
       "      <td>4.7</td>\n",
       "      <td>3.2</td>\n",
       "      <td>1.3</td>\n",
       "      <td>0.2</td>\n",
       "      <td>setosa</td>\n",
       "    </tr>\n",
       "    <tr>\n",
       "      <th>3</th>\n",
       "      <td>4.6</td>\n",
       "      <td>3.1</td>\n",
       "      <td>1.5</td>\n",
       "      <td>0.2</td>\n",
       "      <td>setosa</td>\n",
       "    </tr>\n",
       "    <tr>\n",
       "      <th>4</th>\n",
       "      <td>5.0</td>\n",
       "      <td>3.6</td>\n",
       "      <td>1.4</td>\n",
       "      <td>0.2</td>\n",
       "      <td>setosa</td>\n",
       "    </tr>\n",
       "  </tbody>\n",
       "</table>\n",
       "</div>"
      ],
      "text/plain": [
       "   sepal length (cm)  sepal width (cm)  petal length (cm)  petal width (cm)  \\\n",
       "0                5.1               3.5                1.4               0.2   \n",
       "1                4.9               3.0                1.4               0.2   \n",
       "2                4.7               3.2                1.3               0.2   \n",
       "3                4.6               3.1                1.5               0.2   \n",
       "4                5.0               3.6                1.4               0.2   \n",
       "\n",
       "  species  \n",
       "0  setosa  \n",
       "1  setosa  \n",
       "2  setosa  \n",
       "3  setosa  \n",
       "4  setosa  "
      ]
     },
     "execution_count": 14,
     "metadata": {},
     "output_type": "execute_result"
    }
   ],
   "source": [
    "df_iris.head()"
   ]
  },
  {
   "cell_type": "code",
   "execution_count": 15,
   "id": "e3ac57c9",
   "metadata": {},
   "outputs": [],
   "source": [
    "iris_sl = df_iris['sepal length (cm)'].groupby(df_iris['species'])\n",
    "iris_sw = df_iris['sepal width (cm)'].groupby(df_iris['species'])\n",
    "iris_pl = df_iris['petal length (cm)'].groupby(df_iris['species'])\n",
    "iris_pw = df_iris['petal width (cm)'].groupby(df_iris['species'])"
   ]
  },
  {
   "cell_type": "code",
   "execution_count": 16,
   "id": "431c3512",
   "metadata": {},
   "outputs": [],
   "source": [
    "setosa_sl     = iris_sl.apply(lambda x:list(x))[0]\n",
    "versicolor_sl = iris_sl.apply(lambda x:list(x))[1]\n",
    "\n",
    "setosa_sw     = iris_sw.apply(lambda x:list(x))[0]\n",
    "versicolor_sw = iris_sw.apply(lambda x:list(x))[1]\n",
    "\n",
    "setosa_pl     = iris_pl.apply(lambda x:list(x))[0]\n",
    "versicolor_pl = iris_pl.apply(lambda x:list(x))[1]\n",
    "\n",
    "setosa_pw     = iris_pw.apply(lambda x:list(x))[0]\n",
    "versicolor_pw = iris_pw.apply(lambda x:list(x))[1]"
   ]
  },
  {
   "cell_type": "code",
   "execution_count": 17,
   "id": "0c5e50b3",
   "metadata": {},
   "outputs": [
    {
     "name": "stdout",
     "output_type": "stream",
     "text": [
      "Ttest_indResult(statistic=-10.52098626754911, pvalue=8.985235037487079e-18)\n",
      "Ttest_indResult(statistic=9.454975848128596, pvalue=1.8452599454769322e-15)\n",
      "Ttest_indResult(statistic=-39.492719391538095, pvalue=5.404910513441677e-62)\n",
      "Ttest_indResult(statistic=-34.08034154357719, pvalue=3.831095388248162e-56)\n"
     ]
    }
   ],
   "source": [
    "#t-test. 두 그룹 간 차이가 유의미한지 확인하는 검정. p < 0.05 이면 서로 유의미한 차이 있음\n",
    "print(stats.ttest_ind(setosa_sl, versicolor_sl))\n",
    "print(stats.ttest_ind(setosa_sw, versicolor_sw))\n",
    "print(stats.ttest_ind(setosa_pl, versicolor_pl))\n",
    "print(stats.ttest_ind(setosa_pw, versicolor_pw))"
   ]
  },
  {
   "cell_type": "code",
   "execution_count": 18,
   "id": "7e341e83",
   "metadata": {},
   "outputs": [
    {
     "data": {
      "image/png": "[encoded data removed]",
      "text/plain": [
       "<Figure size 640x480 with 1 Axes>"
      ]
     },
     "metadata": {},
     "output_type": "display_data"
    }
   ],
   "source": [
    "#boxplot으로 시각화하기\n",
    "plt.boxplot([setosa_sl, versicolor_sl])\n",
    "t, p = stats.ttest_ind(setosa_sl, versicolor_sl)\n",
    "\n",
    "#star mark 표시하기\n",
    "if(p<0.05 and p>=0.01):\n",
    "    sig = '*'\n",
    "elif(p<0.01 and p>=0.001):\n",
    "    sig = '**'\n",
    "elif(p<0.001):\n",
    "    sig = '***'\n",
    "else:\n",
    "    sig = 'ns'\n",
    "    \n",
    "x1, x2 = 1,2   \n",
    "y, h = np.max([setosa_sl, versicolor_sl]) + 1, 0.3\n",
    "\n",
    "#선 그리기. x,y 좌표에 따라 선을 그림. (x1,y) > (x1,y+h)... lw: 선 굵기, c: color\n",
    "plt.plot([x1, x1, x2, x2], [y, y+h, y+h, y], lw=1, c='k')\n",
    "\n",
    "#글 적기. 좌표 지정 후 내용, 좌우정렬, 수직정렬, 색상 순\n",
    "plt.text((x1+x2)*.5, y+h, sig, ha='center', va='bottom', color='m')\n",
    "\n",
    "plt.xticks([1,2],['I.setosa','I.versicolor'])\n",
    "plt.ylabel('Sepal length (cm)')\n",
    "plt.title('T-Test for sepal length between I.setosa and I.versicolor')\n",
    "plt.show()"
   ]
  }
 ],
 "metadata": {
  "kernelspec": {
   "display_name": "Python 3 (ipykernel)",
   "language": "python",
   "name": "python3"
  },
  "language_info": {
   "codemirror_mode": {
    "name": "ipython",
    "version": 3
   },
   "file_extension": ".py",
   "mimetype": "text/x-python",
   "name": "python",
   "nbconvert_exporter": "python",
   "pygments_lexer": "ipython3",
   "version": "3.9.13"
  }
 },
 "nbformat": 4,
 "nbformat_minor": 5
}
