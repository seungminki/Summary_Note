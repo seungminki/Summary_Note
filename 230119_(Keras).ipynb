{
  "nbformat": 4,
  "nbformat_minor": 0,
  "metadata": {
    "colab": {
      "provenance": []
    },
    "kernelspec": {
      "name": "python3",
      "display_name": "Python 3"
    },
    "language_info": {
      "name": "python"
    },
    "accelerator": "GPU",
    "gpuClass": "standard"
  },
  "cells": [
    {
      "cell_type": "markdown",
      "source": [
        "## 9. Kears ( Tensorflow )"
      ],
      "metadata": {
        "id": "U3CkuePM4FLs"
      }
    },
    {
      "cell_type": "code",
      "execution_count": null,
      "metadata": {
        "colab": {
          "base_uri": "https://localhost:8080/",
          "height": 35
        },
        "id": "hz_DFB2dluOd",
        "outputId": "58671d33-a8f9-4161-b5a2-b62ad16dfb8e"
      },
      "outputs": [
        {
          "output_type": "execute_result",
          "data": {
            "text/plain": [
              "'2.9.2'"
            ],
            "application/vnd.google.colaboratory.intrinsic+json": {
              "type": "string"
            }
          },
          "metadata": {},
          "execution_count": 1
        }
      ],
      "source": [
        "import tensorflow as tf\n",
        "\n",
        "tf.__version__"
      ]
    },
    {
      "cell_type": "code",
      "source": [
        "tf.config.list_physical_devices(\"GPU\")"
      ],
      "metadata": {
        "colab": {
          "base_uri": "https://localhost:8080/"
        },
        "id": "K51Nv-yCl5su",
        "outputId": "656b7cfd-a2d2-42d7-ba95-cadd7454ef24"
      },
      "execution_count": null,
      "outputs": [
        {
          "output_type": "execute_result",
          "data": {
            "text/plain": [
              "[PhysicalDevice(name='/physical_device:GPU:0', device_type='GPU')]"
            ]
          },
          "metadata": {},
          "execution_count": 2
        }
      ]
    },
    {
      "cell_type": "code",
      "source": [
        "import numpy as np\n",
        "\n",
        "np.__version__"
      ],
      "metadata": {
        "colab": {
          "base_uri": "https://localhost:8080/",
          "height": 35
        },
        "id": "i2D2_GgGl_38",
        "outputId": "14aaa970-96d0-447c-8c33-883d2095dfe5"
      },
      "execution_count": null,
      "outputs": [
        {
          "output_type": "execute_result",
          "data": {
            "text/plain": [
              "'1.21.6'"
            ],
            "application/vnd.google.colaboratory.intrinsic+json": {
              "type": "string"
            }
          },
          "metadata": {},
          "execution_count": 3
        }
      ]
    },
    {
      "cell_type": "code",
      "source": [
        "from tensorflow.keras.datasets import mnist\n",
        "\n",
        "(X_train, y_train), (X_test, y_test) = mnist.load_data()\n",
        "\n",
        "X_train.shape, y_train.shape, X_test.shape, y_test.shape"
      ],
      "metadata": {
        "colab": {
          "base_uri": "https://localhost:8080/"
        },
        "id": "eqMdjIN3mGkd",
        "outputId": "76a3b7c4-759a-4fa1-fcee-d08d30098468"
      },
      "execution_count": null,
      "outputs": [
        {
          "output_type": "stream",
          "name": "stdout",
          "text": [
            "Downloading data from https://storage.googleapis.com/tensorflow/tf-keras-datasets/mnist.npz\n",
            "11490434/11490434 [==============================] - 2s 0us/step\n"
          ]
        },
        {
          "output_type": "execute_result",
          "data": {
            "text/plain": [
              "((60000, 28, 28), (60000,), (10000, 28, 28), (10000,))"
            ]
          },
          "metadata": {},
          "execution_count": 4
        }
      ]
    },
    {
      "cell_type": "code",
      "source": [
        "help(mnist)"
      ],
      "metadata": {
        "id": "jaSe2gjPbTx2",
        "outputId": "a7d3eed6-8c68-4135-d3d3-cc65d4a0a094",
        "colab": {
          "base_uri": "https://localhost:8080/"
        }
      },
      "execution_count": null,
      "outputs": [
        {
          "output_type": "stream",
          "name": "stdout",
          "text": [
            "Help on package keras.api._v2.keras.datasets.mnist in keras.api._v2.keras.datasets:\n",
            "\n",
            "NAME\n",
            "    keras.api._v2.keras.datasets.mnist - MNIST handwritten digits dataset.\n",
            "\n",
            "PACKAGE CONTENTS\n",
            "\n",
            "\n",
            "FILE\n",
            "    /usr/local/lib/python3.8/dist-packages/keras/api/_v2/keras/datasets/mnist/__init__.py\n",
            "\n",
            "\n"
          ]
        }
      ]
    },
    {
      "cell_type": "code",
      "source": [
        "assert X_train.shape[-1] == 28\n",
        "assert X_train.shape == (60000, 28, 28)"
      ],
      "metadata": {
        "id": "U3zf_9YzbbIH"
      },
      "execution_count": null,
      "outputs": []
    },
    {
      "cell_type": "code",
      "source": [
        "assert X_train.shape[-1] == 1 # 검증 부분"
      ],
      "metadata": {
        "id": "HwoytIuSboqH",
        "outputId": "1ac1a0ab-de0b-465d-8635-aa2a8e2c860b",
        "colab": {
          "base_uri": "https://localhost:8080/",
          "height": 174
        }
      },
      "execution_count": null,
      "outputs": [
        {
          "output_type": "error",
          "ename": "AssertionError",
          "evalue": "ignored",
          "traceback": [
            "\u001b[0;31m---------------------------------------------------------------------------\u001b[0m",
            "\u001b[0;31mAssertionError\u001b[0m                            Traceback (most recent call last)",
            "\u001b[0;32m<ipython-input-28-ea6776e6fe17>\u001b[0m in \u001b[0;36m<module>\u001b[0;34m\u001b[0m\n\u001b[0;32m----> 1\u001b[0;31m \u001b[0;32massert\u001b[0m \u001b[0mX_train\u001b[0m\u001b[0;34m.\u001b[0m\u001b[0mshape\u001b[0m\u001b[0;34m[\u001b[0m\u001b[0;34m-\u001b[0m\u001b[0;36m1\u001b[0m\u001b[0;34m]\u001b[0m \u001b[0;34m==\u001b[0m \u001b[0;36m1\u001b[0m\u001b[0;34m\u001b[0m\u001b[0;34m\u001b[0m\u001b[0m\n\u001b[0m",
            "\u001b[0;31mAssertionError\u001b[0m: "
          ]
        }
      ]
    },
    {
      "cell_type": "code",
      "source": [
        "X_train, X_test = X_train / 255., X_test / 255."
      ],
      "metadata": {
        "id": "EPx3cqpWnAe4"
      },
      "execution_count": null,
      "outputs": []
    },
    {
      "cell_type": "code",
      "source": [
        "sample = X_train[2580]\n",
        "\n",
        "print(\"answer: \", y_train[2580])\n",
        "for i in range(sample.shape[0]): # 28\n",
        "    print(\n",
        "        \"\".join([\"1\" if elem > 0 else \"0\" for elem in sample[i]])\n",
        "    )\n"
      ],
      "metadata": {
        "colab": {
          "base_uri": "https://localhost:8080/"
        },
        "id": "hkugigFOmUCN",
        "outputId": "4b9713fa-9e59-49e8-e523-a8e28cf0d1b1"
      },
      "execution_count": null,
      "outputs": [
        {
          "output_type": "stream",
          "name": "stdout",
          "text": [
            "answer:  3\n",
            "0000000000000000000000000000\n",
            "0000000000000000000000000000\n",
            "0000000000000000000000000000\n",
            "0000000000000000000000000000\n",
            "0000000000000000000000000000\n",
            "0000000000000001111000000000\n",
            "0000000000000111111000000000\n",
            "0000000001111111111000000000\n",
            "0000000001111111111000000000\n",
            "0000000001111001111000000000\n",
            "0000000000000111110000000000\n",
            "0000000000001111100000000000\n",
            "0000000000001111100000000000\n",
            "0000000000001111000000000000\n",
            "0000000000000111100000000000\n",
            "0000000000000111100000000000\n",
            "0000000000000011100000000000\n",
            "0000000000000111100000000000\n",
            "0000000000000111100000000000\n",
            "0000000000001111000000000000\n",
            "0000000000001111000000000000\n",
            "0000000000011110000000000000\n",
            "0000000001111110000000000000\n",
            "0000000011111100000000000000\n",
            "0000000111111000000000000000\n",
            "0000000000000000000000000000\n",
            "0000000000000000000000000000\n",
            "0000000000000000000000000000\n"
          ]
        }
      ]
    },
    {
      "cell_type": "code",
      "source": [
        "import matplotlib.pyplot as plt\n",
        "\n",
        "plt.imshow(X_train[2580], cmap=\"gray\")\n",
        "\n",
        "plt.show()"
      ],
      "metadata": {
        "colab": {
          "base_uri": "https://localhost:8080/",
          "height": 265
        },
        "id": "2hgexGKAnkrI",
        "outputId": "40d88438-9067-46f8-b2fc-7786305a5970"
      },
      "execution_count": null,
      "outputs": [
        {
          "output_type": "display_data",
          "data": {
            "text/plain": [
              "<Figure size 432x288 with 1 Axes>"
            ],
            "image/png": "[encoded data removed]"
          },
          "metadata": {
            "needs_background": "light"
          }
        }
      ]
    },
    {
      "cell_type": "code",
      "source": [
        "X_train.shape[1:]"
      ],
      "metadata": {
        "colab": {
          "base_uri": "https://localhost:8080/"
        },
        "id": "f-yJ-HR9wAMm",
        "outputId": "17c2347d-9164-45cc-ea10-034ff43c28b9"
      },
      "execution_count": null,
      "outputs": [
        {
          "output_type": "execute_result",
          "data": {
            "text/plain": [
              "(28, 28)"
            ]
          },
          "metadata": {},
          "execution_count": 8
        }
      ]
    },
    {
      "cell_type": "code",
      "source": [
        "100480 / (784 + 1)\n",
        "# 784: 필요한 weight 수"
      ],
      "metadata": {
        "colab": {
          "base_uri": "https://localhost:8080/"
        },
        "id": "kuu17JK3wuhb",
        "outputId": "ac42ad13-1ea7-4225-aabd-26d9552b39bc"
      },
      "execution_count": null,
      "outputs": [
        {
          "output_type": "execute_result",
          "data": {
            "text/plain": [
              "128.0"
            ]
          },
          "metadata": {},
          "execution_count": 9
        }
      ]
    },
    {
      "cell_type": "code",
      "source": [
        "from tensorflow.keras.models import Sequential\n",
        "from tensorflow.keras.layers import Flatten, Dense, Dropout\n",
        "\n",
        "model = Sequential([\n",
        "    Flatten(input_shape=X_train.shape[1:]),\n",
        "    Dense(1024, activation=\"relu\"),\n",
        "    # Dropout(0.2),\n",
        "    Dense(256, activation=\"relu\"),\n",
        "    Dense(16, activation=\"relu\"),\n",
        "    Dense(10, activation=\"softmax\")\n",
        "])\n",
        "\n",
        "model.summary()"
      ],
      "metadata": {
        "colab": {
          "base_uri": "https://localhost:8080/"
        },
        "id": "9CQLJbL8ndv9",
        "outputId": "b59dff94-0bbb-4c63-e742-50fca532e8d2"
      },
      "execution_count": null,
      "outputs": [
        {
          "output_type": "stream",
          "name": "stdout",
          "text": [
            "Model: \"sequential\"\n",
            "_________________________________________________________________\n",
            " Layer (type)                Output Shape              Param #   \n",
            "=================================================================\n",
            " flatten (Flatten)           (None, 784)               0         \n",
            "                                                                 \n",
            " dense (Dense)               (None, 1024)              803840    \n",
            "                                                                 \n",
            " dense_1 (Dense)             (None, 256)               262400    \n",
            "                                                                 \n",
            " dense_2 (Dense)             (None, 16)                4112      \n",
            "                                                                 \n",
            " dense_3 (Dense)             (None, 10)                170       \n",
            "                                                                 \n",
            "=================================================================\n",
            "Total params: 1,070,522\n",
            "Trainable params: 1,070,522\n",
            "Non-trainable params: 0\n",
            "_________________________________________________________________\n"
          ]
        }
      ]
    },
    {
      "cell_type": "code",
      "source": [
        "model.compile(\n",
        "    optimizer=\"adam\",\n",
        "    loss=\"sparse_categorical_crossentropy\",\n",
        "    # loss=\"categorical_crossentropy\",\n",
        "    metrics=[\"accuracy\"],\n",
        ")"
      ],
      "metadata": {
        "id": "LDUJiwc2wgKd"
      },
      "execution_count": null,
      "outputs": []
    },
    {
      "cell_type": "code",
      "source": [
        "history = model.fit(\n",
        "    X_train, y_train, \n",
        "    validation_split=0.25,\n",
        "    batch_size=600,\n",
        "    epochs=10\n",
        ")\n",
        "history"
      ],
      "metadata": {
        "colab": {
          "base_uri": "https://localhost:8080/"
        },
        "id": "MxkrsUCa2Otn",
        "outputId": "8d4f7af1-ace4-4604-c289-be58754695a7"
      },
      "execution_count": null,
      "outputs": [
        {
          "output_type": "stream",
          "name": "stdout",
          "text": [
            "Epoch 1/10\n",
            "75/75 [==============================] - 5s 15ms/step - loss: 0.5278 - accuracy: 0.8436 - val_loss: 0.2026 - val_accuracy: 0.9413\n",
            "Epoch 2/10\n",
            "75/75 [==============================] - 1s 7ms/step - loss: 0.1585 - accuracy: 0.9538 - val_loss: 0.1476 - val_accuracy: 0.9574\n",
            "Epoch 3/10\n",
            "75/75 [==============================] - 1s 7ms/step - loss: 0.0989 - accuracy: 0.9710 - val_loss: 0.1198 - val_accuracy: 0.9635\n",
            "Epoch 4/10\n",
            "75/75 [==============================] - 1s 8ms/step - loss: 0.0705 - accuracy: 0.9801 - val_loss: 0.1027 - val_accuracy: 0.9693\n",
            "Epoch 5/10\n",
            "75/75 [==============================] - 0s 6ms/step - loss: 0.0490 - accuracy: 0.9856 - val_loss: 0.0971 - val_accuracy: 0.9719\n",
            "Epoch 6/10\n",
            "75/75 [==============================] - 1s 9ms/step - loss: 0.0350 - accuracy: 0.9901 - val_loss: 0.0911 - val_accuracy: 0.9743\n",
            "Epoch 7/10\n",
            "75/75 [==============================] - 1s 10ms/step - loss: 0.0257 - accuracy: 0.9933 - val_loss: 0.0882 - val_accuracy: 0.9763\n",
            "Epoch 8/10\n",
            "75/75 [==============================] - 1s 9ms/step - loss: 0.0180 - accuracy: 0.9952 - val_loss: 0.0989 - val_accuracy: 0.9727\n",
            "Epoch 9/10\n",
            "75/75 [==============================] - 1s 10ms/step - loss: 0.0111 - accuracy: 0.9976 - val_loss: 0.0911 - val_accuracy: 0.9757\n",
            "Epoch 10/10\n",
            "75/75 [==============================] - 1s 7ms/step - loss: 0.0086 - accuracy: 0.9982 - val_loss: 0.0900 - val_accuracy: 0.9763\n"
          ]
        },
        {
          "output_type": "execute_result",
          "data": {
            "text/plain": [
              "<keras.callbacks.History at 0x7f77143b54f0>"
            ]
          },
          "metadata": {},
          "execution_count": 12
        }
      ]
    },
    {
      "cell_type": "code",
      "source": [
        "model.evaluate(X_test, y_test)"
      ],
      "metadata": {
        "colab": {
          "base_uri": "https://localhost:8080/"
        },
        "id": "YowZRd2J2WEd",
        "outputId": "6b4aaa54-725a-41f2-ad0d-409fcd82748b"
      },
      "execution_count": null,
      "outputs": [
        {
          "output_type": "stream",
          "name": "stdout",
          "text": [
            "313/313 [==============================] - 2s 4ms/step - loss: 0.0724 - accuracy: 0.9795\n"
          ]
        },
        {
          "output_type": "execute_result",
          "data": {
            "text/plain": [
              "[0.0723879337310791, 0.9794999957084656]"
            ]
          },
          "metadata": {},
          "execution_count": 13
        }
      ]
    },
    {
      "cell_type": "code",
      "source": [
        "# history = model.fit(\n",
        "#     X_train, y_train, \n",
        "#     validation_data=(X_test, y_test),\n",
        "#     batch_size=600,\n",
        "#     epochs=100\n",
        "# )\n",
        "# history"
      ],
      "metadata": {
        "id": "G43qgTylxpLl"
      },
      "execution_count": null,
      "outputs": []
    },
    {
      "cell_type": "code",
      "source": [
        "history.history"
      ],
      "metadata": {
        "colab": {
          "base_uri": "https://localhost:8080/"
        },
        "id": "7UPPBQPyzp5-",
        "outputId": "ee2705c8-cf08-45be-86c9-4374bd2cbbec"
      },
      "execution_count": null,
      "outputs": [
        {
          "output_type": "execute_result",
          "data": {
            "text/plain": [
              "{'loss': [0.5277785658836365,\n",
              "  0.15852688252925873,\n",
              "  0.09892139583826065,\n",
              "  0.0705045759677887,\n",
              "  0.04896154999732971,\n",
              "  0.03504278138279915,\n",
              "  0.02571474015712738,\n",
              "  0.01800154522061348,\n",
              "  0.01114437635987997,\n",
              "  0.008579871617257595],\n",
              " 'accuracy': [0.8436444401741028,\n",
              "  0.953844428062439,\n",
              "  0.970977783203125,\n",
              "  0.9801111221313477,\n",
              "  0.985622227191925,\n",
              "  0.9901111125946045,\n",
              "  0.9932888746261597,\n",
              "  0.9951555728912354,\n",
              "  0.9976222515106201,\n",
              "  0.998199999332428],\n",
              " 'val_loss': [0.20261946320533752,\n",
              "  0.14757582545280457,\n",
              "  0.11981212347745895,\n",
              "  0.10269669443368912,\n",
              "  0.0971212163567543,\n",
              "  0.09114453941583633,\n",
              "  0.08822212368249893,\n",
              "  0.09886519610881805,\n",
              "  0.09105269610881805,\n",
              "  0.0899730920791626],\n",
              " 'val_accuracy': [0.941266655921936,\n",
              "  0.9574000239372253,\n",
              "  0.963533341884613,\n",
              "  0.9693333506584167,\n",
              "  0.9718666672706604,\n",
              "  0.9743333458900452,\n",
              "  0.9763333201408386,\n",
              "  0.9727333188056946,\n",
              "  0.9757333397865295,\n",
              "  0.9762666821479797]}"
            ]
          },
          "metadata": {},
          "execution_count": 15
        }
      ]
    },
    {
      "cell_type": "code",
      "source": [
        "import matplotlib.pyplot as plt\n",
        "\n",
        "length = len(history.history[\"accuracy\"])\n",
        "plt.plot(range(length), history.history[\"accuracy\"])\n",
        "plt.show()"
      ],
      "metadata": {
        "colab": {
          "base_uri": "https://localhost:8080/",
          "height": 265
        },
        "id": "I-5sfBJC0Bag",
        "outputId": "4ffbf054-9bc4-46a8-a356-d7c772f52bfb"
      },
      "execution_count": null,
      "outputs": [
        {
          "output_type": "display_data",
          "data": {
            "text/plain": [
              "<Figure size 432x288 with 1 Axes>"
            ],
            "image/png": "[encoded data removed]"
          },
          "metadata": {
            "needs_background": "light"
          }
        }
      ]
    },
    {
      "cell_type": "markdown",
      "source": [
        "## 10. Sequential Model"
      ],
      "metadata": {
        "id": "BsFJ6nsMzSWd"
      }
    },
    {
      "cell_type": "code",
      "source": [
        "x = tf.ones((3, 3))\n",
        "x"
      ],
      "metadata": {
        "colab": {
          "base_uri": "https://localhost:8080/"
        },
        "id": "mhxqwMmh7j6t",
        "outputId": "5d57912b-31df-48fa-e9c2-6be6c7e354ca"
      },
      "execution_count": null,
      "outputs": [
        {
          "output_type": "execute_result",
          "data": {
            "text/plain": [
              "<tf.Tensor: shape=(3, 3), dtype=float32, numpy=\n",
              "array([[1., 1., 1.],\n",
              "       [1., 1., 1.],\n",
              "       [1., 1., 1.]], dtype=float32)>"
            ]
          },
          "metadata": {},
          "execution_count": 17
        }
      ]
    },
    {
      "cell_type": "code",
      "source": [
        "from tensorflow.keras import Sequential\n",
        "from tensorflow.keras import layers\n",
        "\n",
        "model = Sequential([\n",
        "    layers.Dense(2, activation=\"relu\", name=\"layer1\"),\n",
        "    layers.Dense(3, activation=\"sigmoid\", name=\"layer2\"),\n",
        "    layers.Dense(4, name=\"layer3\"),\n",
        "])\n",
        "\n",
        "model"
      ],
      "metadata": {
        "colab": {
          "base_uri": "https://localhost:8080/"
        },
        "id": "HSb6TgH14NeU",
        "outputId": "41b2ffc7-ad38-4480-bf73-e8186fbbd8ed"
      },
      "execution_count": null,
      "outputs": [
        {
          "output_type": "execute_result",
          "data": {
            "text/plain": [
              "<keras.engine.sequential.Sequential at 0x7f7714119970>"
            ]
          },
          "metadata": {},
          "execution_count": 18
        }
      ]
    },
    {
      "cell_type": "code",
      "source": [
        "model.__call__"
      ],
      "metadata": {
        "colab": {
          "base_uri": "https://localhost:8080/"
        },
        "id": "E8s_pvC78BRj",
        "outputId": "48703080-34c9-458a-fb15-a0627e5c0b98"
      },
      "execution_count": null,
      "outputs": [
        {
          "output_type": "execute_result",
          "data": {
            "text/plain": [
              "<bound method Model.__call__ of <keras.engine.sequential.Sequential object at 0x7f7714119970>>"
            ]
          },
          "metadata": {},
          "execution_count": 19
        }
      ]
    },
    {
      "cell_type": "code",
      "source": [
        "model(x)"
      ],
      "metadata": {
        "colab": {
          "base_uri": "https://localhost:8080/"
        },
        "id": "0v7wnkor8Jiu",
        "outputId": "d3a30788-32af-408b-d84a-b8251d5886c2"
      },
      "execution_count": null,
      "outputs": [
        {
          "output_type": "execute_result",
          "data": {
            "text/plain": [
              "<tf.Tensor: shape=(3, 4), dtype=float32, numpy=\n",
              "array([[0.53174925, 0.00074887, 0.06513168, 0.5292132 ],\n",
              "       [0.53174925, 0.00074887, 0.06513168, 0.5292132 ],\n",
              "       [0.53174925, 0.00074887, 0.06513168, 0.5292132 ]], dtype=float32)>"
            ]
          },
          "metadata": {},
          "execution_count": 20
        }
      ]
    },
    {
      "cell_type": "code",
      "source": [
        "model = Sequential()\n",
        "model.add(layers.Dense(2, activation=\"relu\", name=\"layer1\"))\n",
        "model.add(layers.Dense(3, activation=\"sigmoid\", name=\"layer2\"))\n",
        "model.add(layers.Dense(4, name=\"layer3\"))\n",
        "\n",
        "model.pop()\n",
        "model.pop()\n",
        "model.pop()\n",
        "model.layers"
      ],
      "metadata": {
        "colab": {
          "base_uri": "https://localhost:8080/"
        },
        "id": "oXBPwwoU7-lV",
        "outputId": "37617a4e-6775-4893-9c9f-0f6ac635f8c8"
      },
      "execution_count": null,
      "outputs": [
        {
          "output_type": "execute_result",
          "data": {
            "text/plain": [
              "[]"
            ]
          },
          "metadata": {},
          "execution_count": 21
        }
      ]
    },
    {
      "cell_type": "code",
      "source": [
        "layer1 = layers.Dense(3, activation=\"relu\", name=\"layer1\")\n",
        "layer2 = layers.Dense(3, activation=\"sigmoid\", name=\"layer2\")\n",
        "layer3 = layers.Dense(4, name=\"layer3\")\n",
        "\n",
        "x = tf.ones((3, 3))\n",
        "l1_output = layer1(x)\n",
        "l2_output = layer2(l1_output)\n",
        "y = layer3(l2_output)\n",
        "y"
      ],
      "metadata": {
        "colab": {
          "base_uri": "https://localhost:8080/"
        },
        "id": "bHgwFQOO9C-F",
        "outputId": "c131375c-e68a-4b3c-b21f-d6e89365e047"
      },
      "execution_count": null,
      "outputs": [
        {
          "output_type": "execute_result",
          "data": {
            "text/plain": [
              "<tf.Tensor: shape=(3, 4), dtype=float32, numpy=\n",
              "array([[0.1456975 , 0.2465902 , 0.72769284, 0.30548456],\n",
              "       [0.1456975 , 0.2465902 , 0.72769284, 0.30548456],\n",
              "       [0.1456975 , 0.2465902 , 0.72769284, 0.30548456]], dtype=float32)>"
            ]
          },
          "metadata": {},
          "execution_count": 22
        }
      ]
    },
    {
      "cell_type": "code",
      "source": [
        "l1_output, l2_output"
      ],
      "metadata": {
        "colab": {
          "base_uri": "https://localhost:8080/"
        },
        "id": "B-H1AyHBDint",
        "outputId": "99094a90-31f1-4aee-a9c2-1944114c2715"
      },
      "execution_count": null,
      "outputs": [
        {
          "output_type": "execute_result",
          "data": {
            "text/plain": [
              "(<tf.Tensor: shape=(3, 3), dtype=float32, numpy=\n",
              " array([[0., 0., 0.],\n",
              "        [0., 0., 0.],\n",
              "        [0., 0., 0.]], dtype=float32)>,\n",
              " <tf.Tensor: shape=(3, 3), dtype=float32, numpy=\n",
              " array([[0.5, 0.5, 0.5],\n",
              "        [0.5, 0.5, 0.5],\n",
              "        [0.5, 0.5, 0.5]], dtype=float32)>)"
            ]
          },
          "metadata": {},
          "execution_count": 23
        }
      ]
    },
    {
      "cell_type": "code",
      "source": [
        "layer3(l1_output + l2_output) # 결과값을 보고싶어서"
      ],
      "metadata": {
        "colab": {
          "base_uri": "https://localhost:8080/"
        },
        "id": "gpE_cL5C-jTX",
        "outputId": "2b90b717-7a7b-4998-b721-1bd824b45bcd"
      },
      "execution_count": null,
      "outputs": [
        {
          "output_type": "execute_result",
          "data": {
            "text/plain": [
              "<tf.Tensor: shape=(3, 4), dtype=float32, numpy=\n",
              "array([[0.1456975 , 0.2465902 , 0.72769284, 0.30548456],\n",
              "       [0.1456975 , 0.2465902 , 0.72769284, 0.30548456],\n",
              "       [0.1456975 , 0.2465902 , 0.72769284, 0.30548456]], dtype=float32)>"
            ]
          },
          "metadata": {},
          "execution_count": 24
        }
      ]
    },
    {
      "cell_type": "code",
      "source": [
        "layer3(tf.reduce_mean([l1_output, l2_output], 0))"
      ],
      "metadata": {
        "colab": {
          "base_uri": "https://localhost:8080/"
        },
        "id": "A0-L7kjt_I3T",
        "outputId": "bc44a653-a633-4625-f469-1b5c524c67de"
      },
      "execution_count": null,
      "outputs": [
        {
          "output_type": "execute_result",
          "data": {
            "text/plain": [
              "<tf.Tensor: shape=(3, 4), dtype=float32, numpy=\n",
              "array([[0.07284875, 0.1232951 , 0.36384642, 0.15274228],\n",
              "       [0.07284875, 0.1232951 , 0.36384642, 0.15274228],\n",
              "       [0.07284875, 0.1232951 , 0.36384642, 0.15274228]], dtype=float32)>"
            ]
          },
          "metadata": {},
          "execution_count": 25
        }
      ]
    },
    {
      "cell_type": "code",
      "source": [],
      "metadata": {
        "id": "DiwbTV4ADukU"
      },
      "execution_count": null,
      "outputs": []
    }
  ]
}