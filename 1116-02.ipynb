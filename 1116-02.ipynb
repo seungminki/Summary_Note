{
 "cells": [
  {
   "cell_type": "code",
   "execution_count": 122,
   "id": "9d6dc0ab",
   "metadata": {},
   "outputs": [],
   "source": [
    "import pandas as pd\n",
    "import numpy as np\n",
    "jeju_df = pd.read_csv(\"C:/Users/user/Downloads/제주특별자치도_아동급식카드가맹점현황_20220331.csv\", encoding='cp949')"
   ]
  },
  {
   "cell_type": "code",
   "execution_count": 88,
   "id": "bf471716",
   "metadata": {},
   "outputs": [
    {
     "data": {
      "text/html": [
       "<div>\n",
       "<style scoped>\n",
       "    .dataframe tbody tr th:only-of-type {\n",
       "        vertical-align: middle;\n",
       "    }\n",
       "\n",
       "    .dataframe tbody tr th {\n",
       "        vertical-align: top;\n",
       "    }\n",
       "\n",
       "    .dataframe thead th {\n",
       "        text-align: right;\n",
       "    }\n",
       "</style>\n",
       "<table border=\"1\" class=\"dataframe\">\n",
       "  <thead>\n",
       "    <tr style=\"text-align: right;\">\n",
       "      <th></th>\n",
       "      <th>행정시</th>\n",
       "      <th>가맹점명</th>\n",
       "      <th>전화번호</th>\n",
       "      <th>주소</th>\n",
       "      <th>데이터기준일자</th>\n",
       "    </tr>\n",
       "  </thead>\n",
       "  <tbody>\n",
       "    <tr>\n",
       "      <th>0</th>\n",
       "      <td>제주시</td>\n",
       "      <td>인디언썸머</td>\n",
       "      <td>064-678-4208</td>\n",
       "      <td>제주특별자치도 제주시 애월읍 애월로4길 9</td>\n",
       "      <td>2022-03-31</td>\n",
       "    </tr>\n",
       "    <tr>\n",
       "      <th>1</th>\n",
       "      <td>서귀포시</td>\n",
       "      <td>애월연어 안덕점</td>\n",
       "      <td>064-692-6607</td>\n",
       "      <td>제주특별자치도 서귀포시 안덕면 산록남로 684</td>\n",
       "      <td>2022-03-31</td>\n",
       "    </tr>\n",
       "    <tr>\n",
       "      <th>2</th>\n",
       "      <td>제주시</td>\n",
       "      <td>남가네설악추어탕도련점</td>\n",
       "      <td>064-702-0009</td>\n",
       "      <td>제주특별자치도 제주시 삼봉로 134</td>\n",
       "      <td>2022-03-31</td>\n",
       "    </tr>\n",
       "    <tr>\n",
       "      <th>3</th>\n",
       "      <td>제주시</td>\n",
       "      <td>레인원</td>\n",
       "      <td>064-702-0014</td>\n",
       "      <td>제주특별자치도 제주시 무근성7길 6</td>\n",
       "      <td>2022-03-31</td>\n",
       "    </tr>\n",
       "    <tr>\n",
       "      <th>4</th>\n",
       "      <td>제주시</td>\n",
       "      <td>권주가</td>\n",
       "      <td>064-702-0022</td>\n",
       "      <td>제주특별자치도 제주시 천수로 82</td>\n",
       "      <td>2022-03-31</td>\n",
       "    </tr>\n",
       "    <tr>\n",
       "      <th>...</th>\n",
       "      <td>...</td>\n",
       "      <td>...</td>\n",
       "      <td>...</td>\n",
       "      <td>...</td>\n",
       "      <td>...</td>\n",
       "    </tr>\n",
       "    <tr>\n",
       "      <th>18349</th>\n",
       "      <td>제주시</td>\n",
       "      <td>코끼리휴게소점빵</td>\n",
       "      <td>NaN</td>\n",
       "      <td>제주특별자치도 제주시 흥운길 73</td>\n",
       "      <td>2022-03-31</td>\n",
       "    </tr>\n",
       "    <tr>\n",
       "      <th>18350</th>\n",
       "      <td>제주시</td>\n",
       "      <td>화산2020</td>\n",
       "      <td>NaN</td>\n",
       "      <td>제주특별자치도 제주시 흥운길 85</td>\n",
       "      <td>2022-03-31</td>\n",
       "    </tr>\n",
       "    <tr>\n",
       "      <th>18351</th>\n",
       "      <td>제주시</td>\n",
       "      <td>이스방한상</td>\n",
       "      <td>NaN</td>\n",
       "      <td>제주특별자치도 제주시 흥운길 87</td>\n",
       "      <td>2022-03-31</td>\n",
       "    </tr>\n",
       "    <tr>\n",
       "      <th>18352</th>\n",
       "      <td>제주시</td>\n",
       "      <td>무용담</td>\n",
       "      <td>NaN</td>\n",
       "      <td>제주특별자치도 제주시 흥운길 91</td>\n",
       "      <td>2022-03-31</td>\n",
       "    </tr>\n",
       "    <tr>\n",
       "      <th>18353</th>\n",
       "      <td>제주시</td>\n",
       "      <td>예그리나</td>\n",
       "      <td>NaN</td>\n",
       "      <td>제주특별자치도 제주시 흥운길 93</td>\n",
       "      <td>2022-03-31</td>\n",
       "    </tr>\n",
       "  </tbody>\n",
       "</table>\n",
       "<p>18354 rows × 5 columns</p>\n",
       "</div>"
      ],
      "text/plain": [
       "        행정시         가맹점명          전화번호                         주소     데이터기준일자\n",
       "0       제주시        인디언썸머  064-678-4208    제주특별자치도 제주시 애월읍 애월로4길 9  2022-03-31\n",
       "1      서귀포시     애월연어 안덕점  064-692-6607  제주특별자치도 서귀포시 안덕면 산록남로 684  2022-03-31\n",
       "2       제주시  남가네설악추어탕도련점  064-702-0009        제주특별자치도 제주시 삼봉로 134  2022-03-31\n",
       "3       제주시          레인원  064-702-0014        제주특별자치도 제주시 무근성7길 6  2022-03-31\n",
       "4       제주시          권주가  064-702-0022         제주특별자치도 제주시 천수로 82  2022-03-31\n",
       "...     ...          ...           ...                        ...         ...\n",
       "18349   제주시     코끼리휴게소점빵           NaN         제주특별자치도 제주시 흥운길 73  2022-03-31\n",
       "18350   제주시       화산2020           NaN         제주특별자치도 제주시 흥운길 85  2022-03-31\n",
       "18351   제주시        이스방한상           NaN         제주특별자치도 제주시 흥운길 87  2022-03-31\n",
       "18352   제주시          무용담           NaN         제주특별자치도 제주시 흥운길 91  2022-03-31\n",
       "18353   제주시         예그리나           NaN         제주특별자치도 제주시 흥운길 93  2022-03-31\n",
       "\n",
       "[18354 rows x 5 columns]"
      ]
     },
     "execution_count": 88,
     "metadata": {},
     "output_type": "execute_result"
    }
   ],
   "source": [
    "jeju_df"
   ]
  },
  {
   "cell_type": "code",
   "execution_count": 89,
   "id": "bdc4da72",
   "metadata": {},
   "outputs": [
    {
     "data": {
      "text/plain": [
       "array(['제주시', '서귀포시'], dtype=object)"
      ]
     },
     "execution_count": 89,
     "metadata": {},
     "output_type": "execute_result"
    }
   ],
   "source": [
    "jeju_df['행정시'].unique()"
   ]
  },
  {
   "cell_type": "markdown",
   "id": "7d5e62fa",
   "metadata": {},
   "source": [
    "# 과제: 데이터 처리하기 - 제주시 데이터\n",
    "1. 행정시별로 몇 개의 데이터가 있는지 표기하기\n",
    "2. 가맹점명을 가나다 순서(오름차순, 한글-영문-숫자-특문)으로 정렬하기\n",
    "3. 전화번호에서 중간 번호가 600번대인 것과 700번대인 것 중 어느것이 많은지 확인하기\n",
    "4. 각 주소를 각 길 단위로 남기기"
   ]
  },
  {
   "cell_type": "code",
   "execution_count": 90,
   "id": "cceec7df",
   "metadata": {},
   "outputs": [
    {
     "data": {
      "text/plain": [
       "제주시     12931\n",
       "서귀포시     5423\n",
       "Name: 행정시, dtype: int64"
      ]
     },
     "execution_count": 90,
     "metadata": {},
     "output_type": "execute_result"
    }
   ],
   "source": [
    "jeju_df['행정시'].value_counts()"
   ]
  },
  {
   "cell_type": "code",
   "execution_count": 91,
   "id": "2df8cc30",
   "metadata": {},
   "outputs": [],
   "source": [
    "jeju_df = jeju_df.drop(['데이터기준일자'], axis = 1)\n",
    "jeju_df = jeju_df.drop(['행정시'], axis = 1)"
   ]
  },
  {
   "cell_type": "code",
   "execution_count": 92,
   "id": "93c180e9",
   "metadata": {},
   "outputs": [
    {
     "data": {
      "text/plain": [
       "RangeIndex(start=0, stop=18354, step=1)"
      ]
     },
     "execution_count": 92,
     "metadata": {},
     "output_type": "execute_result"
    }
   ],
   "source": [
    "jeju_df.index"
   ]
  },
  {
   "cell_type": "code",
   "execution_count": 93,
   "id": "bca56878",
   "metadata": {},
   "outputs": [],
   "source": [
    "jeju_df['주소'] = jeju_df['주소'].apply(lambda x: [x.split('시')[-1]] if '시' in x else x)"
   ]
  },
  {
   "cell_type": "code",
   "execution_count": 94,
   "id": "abdc46ec",
   "metadata": {},
   "outputs": [
    {
     "data": {
      "text/html": [
       "<div>\n",
       "<style scoped>\n",
       "    .dataframe tbody tr th:only-of-type {\n",
       "        vertical-align: middle;\n",
       "    }\n",
       "\n",
       "    .dataframe tbody tr th {\n",
       "        vertical-align: top;\n",
       "    }\n",
       "\n",
       "    .dataframe thead th {\n",
       "        text-align: right;\n",
       "    }\n",
       "</style>\n",
       "<table border=\"1\" class=\"dataframe\">\n",
       "  <thead>\n",
       "    <tr style=\"text-align: right;\">\n",
       "      <th></th>\n",
       "      <th>가맹점명</th>\n",
       "      <th>전화번호</th>\n",
       "      <th>주소</th>\n",
       "    </tr>\n",
       "  </thead>\n",
       "  <tbody>\n",
       "    <tr>\n",
       "      <th>0</th>\n",
       "      <td>인디언썸머</td>\n",
       "      <td>064-678-4208</td>\n",
       "      <td>[ 애월읍 애월로4길 9]</td>\n",
       "    </tr>\n",
       "    <tr>\n",
       "      <th>1</th>\n",
       "      <td>애월연어 안덕점</td>\n",
       "      <td>064-692-6607</td>\n",
       "      <td>[ 안덕면 산록남로 684]</td>\n",
       "    </tr>\n",
       "    <tr>\n",
       "      <th>2</th>\n",
       "      <td>남가네설악추어탕도련점</td>\n",
       "      <td>064-702-0009</td>\n",
       "      <td>[ 삼봉로 134]</td>\n",
       "    </tr>\n",
       "    <tr>\n",
       "      <th>3</th>\n",
       "      <td>레인원</td>\n",
       "      <td>064-702-0014</td>\n",
       "      <td>[ 무근성7길 6]</td>\n",
       "    </tr>\n",
       "    <tr>\n",
       "      <th>4</th>\n",
       "      <td>권주가</td>\n",
       "      <td>064-702-0022</td>\n",
       "      <td>[ 천수로 82]</td>\n",
       "    </tr>\n",
       "    <tr>\n",
       "      <th>...</th>\n",
       "      <td>...</td>\n",
       "      <td>...</td>\n",
       "      <td>...</td>\n",
       "    </tr>\n",
       "    <tr>\n",
       "      <th>18349</th>\n",
       "      <td>코끼리휴게소점빵</td>\n",
       "      <td>NaN</td>\n",
       "      <td>[ 흥운길 73]</td>\n",
       "    </tr>\n",
       "    <tr>\n",
       "      <th>18350</th>\n",
       "      <td>화산2020</td>\n",
       "      <td>NaN</td>\n",
       "      <td>[ 흥운길 85]</td>\n",
       "    </tr>\n",
       "    <tr>\n",
       "      <th>18351</th>\n",
       "      <td>이스방한상</td>\n",
       "      <td>NaN</td>\n",
       "      <td>[ 흥운길 87]</td>\n",
       "    </tr>\n",
       "    <tr>\n",
       "      <th>18352</th>\n",
       "      <td>무용담</td>\n",
       "      <td>NaN</td>\n",
       "      <td>[ 흥운길 91]</td>\n",
       "    </tr>\n",
       "    <tr>\n",
       "      <th>18353</th>\n",
       "      <td>예그리나</td>\n",
       "      <td>NaN</td>\n",
       "      <td>[ 흥운길 93]</td>\n",
       "    </tr>\n",
       "  </tbody>\n",
       "</table>\n",
       "<p>18354 rows × 3 columns</p>\n",
       "</div>"
      ],
      "text/plain": [
       "              가맹점명          전화번호               주소\n",
       "0            인디언썸머  064-678-4208   [ 애월읍 애월로4길 9]\n",
       "1         애월연어 안덕점  064-692-6607  [ 안덕면 산록남로 684]\n",
       "2      남가네설악추어탕도련점  064-702-0009       [ 삼봉로 134]\n",
       "3              레인원  064-702-0014       [ 무근성7길 6]\n",
       "4              권주가  064-702-0022        [ 천수로 82]\n",
       "...            ...           ...              ...\n",
       "18349     코끼리휴게소점빵           NaN        [ 흥운길 73]\n",
       "18350       화산2020           NaN        [ 흥운길 85]\n",
       "18351        이스방한상           NaN        [ 흥운길 87]\n",
       "18352          무용담           NaN        [ 흥운길 91]\n",
       "18353         예그리나           NaN        [ 흥운길 93]\n",
       "\n",
       "[18354 rows x 3 columns]"
      ]
     },
     "execution_count": 94,
     "metadata": {},
     "output_type": "execute_result"
    }
   ],
   "source": [
    "jeju_df"
   ]
  },
  {
   "cell_type": "code",
   "execution_count": 102,
   "id": "8c899f8e",
   "metadata": {},
   "outputs": [
    {
     "data": {
      "text/plain": [
       "'nan'"
      ]
     },
     "execution_count": 102,
     "metadata": {},
     "output_type": "execute_result"
    }
   ],
   "source": [
    "str(float('nan'))"
   ]
  },
  {
   "cell_type": "code",
   "execution_count": 95,
   "id": "68b17e84",
   "metadata": {},
   "outputs": [],
   "source": [
    "jeju_df['번대'] = '0'"
   ]
  },
  {
   "cell_type": "code",
   "execution_count": 96,
   "id": "a7e7bd95",
   "metadata": {},
   "outputs": [
    {
     "data": {
      "text/plain": [
       "pandas.core.series.Series"
      ]
     },
     "execution_count": 96,
     "metadata": {},
     "output_type": "execute_result"
    }
   ],
   "source": [
    "type(jeju_df['번대'])"
   ]
  },
  {
   "cell_type": "code",
   "execution_count": 103,
   "id": "70756633",
   "metadata": {},
   "outputs": [],
   "source": [
    "jeju_df['번대'] = jeju_df['전화번호'].apply(lambda x: [x.split('-')[1]] if '-' in str(x) else x)"
   ]
  },
  {
   "cell_type": "code",
   "execution_count": 104,
   "id": "6ecd515f",
   "metadata": {},
   "outputs": [
    {
     "data": {
      "text/plain": [
       "'702'"
      ]
     },
     "execution_count": 104,
     "metadata": {},
     "output_type": "execute_result"
    }
   ],
   "source": [
    "tmp = '064-702-0022'\n",
    "tmp.split('-')[1]"
   ]
  },
  {
   "cell_type": "code",
   "execution_count": 105,
   "id": "f80f1873",
   "metadata": {},
   "outputs": [
    {
     "data": {
      "text/plain": [
       "str"
      ]
     },
     "execution_count": 105,
     "metadata": {},
     "output_type": "execute_result"
    }
   ],
   "source": [
    "type(jeju_df['전화번호'][1])"
   ]
  },
  {
   "cell_type": "code",
   "execution_count": 106,
   "id": "07a7f0f5",
   "metadata": {},
   "outputs": [
    {
     "data": {
      "text/plain": [
       "'692'"
      ]
     },
     "execution_count": 106,
     "metadata": {},
     "output_type": "execute_result"
    }
   ],
   "source": [
    "jeju_df['전화번호'][1].split('-')[1]"
   ]
  },
  {
   "cell_type": "code",
   "execution_count": 107,
   "id": "d60c1701",
   "metadata": {},
   "outputs": [
    {
     "data": {
      "text/html": [
       "<div>\n",
       "<style scoped>\n",
       "    .dataframe tbody tr th:only-of-type {\n",
       "        vertical-align: middle;\n",
       "    }\n",
       "\n",
       "    .dataframe tbody tr th {\n",
       "        vertical-align: top;\n",
       "    }\n",
       "\n",
       "    .dataframe thead th {\n",
       "        text-align: right;\n",
       "    }\n",
       "</style>\n",
       "<table border=\"1\" class=\"dataframe\">\n",
       "  <thead>\n",
       "    <tr style=\"text-align: right;\">\n",
       "      <th></th>\n",
       "      <th>가맹점명</th>\n",
       "      <th>전화번호</th>\n",
       "      <th>주소</th>\n",
       "      <th>번대</th>\n",
       "    </tr>\n",
       "  </thead>\n",
       "  <tbody>\n",
       "    <tr>\n",
       "      <th>0</th>\n",
       "      <td>인디언썸머</td>\n",
       "      <td>064-678-4208</td>\n",
       "      <td>[ 애월읍 애월로4길 9]</td>\n",
       "      <td>[678]</td>\n",
       "    </tr>\n",
       "    <tr>\n",
       "      <th>1</th>\n",
       "      <td>애월연어 안덕점</td>\n",
       "      <td>064-692-6607</td>\n",
       "      <td>[ 안덕면 산록남로 684]</td>\n",
       "      <td>[692]</td>\n",
       "    </tr>\n",
       "    <tr>\n",
       "      <th>2</th>\n",
       "      <td>남가네설악추어탕도련점</td>\n",
       "      <td>064-702-0009</td>\n",
       "      <td>[ 삼봉로 134]</td>\n",
       "      <td>[702]</td>\n",
       "    </tr>\n",
       "    <tr>\n",
       "      <th>3</th>\n",
       "      <td>레인원</td>\n",
       "      <td>064-702-0014</td>\n",
       "      <td>[ 무근성7길 6]</td>\n",
       "      <td>[702]</td>\n",
       "    </tr>\n",
       "    <tr>\n",
       "      <th>4</th>\n",
       "      <td>권주가</td>\n",
       "      <td>064-702-0022</td>\n",
       "      <td>[ 천수로 82]</td>\n",
       "      <td>[702]</td>\n",
       "    </tr>\n",
       "    <tr>\n",
       "      <th>...</th>\n",
       "      <td>...</td>\n",
       "      <td>...</td>\n",
       "      <td>...</td>\n",
       "      <td>...</td>\n",
       "    </tr>\n",
       "    <tr>\n",
       "      <th>18349</th>\n",
       "      <td>코끼리휴게소점빵</td>\n",
       "      <td>NaN</td>\n",
       "      <td>[ 흥운길 73]</td>\n",
       "      <td>NaN</td>\n",
       "    </tr>\n",
       "    <tr>\n",
       "      <th>18350</th>\n",
       "      <td>화산2020</td>\n",
       "      <td>NaN</td>\n",
       "      <td>[ 흥운길 85]</td>\n",
       "      <td>NaN</td>\n",
       "    </tr>\n",
       "    <tr>\n",
       "      <th>18351</th>\n",
       "      <td>이스방한상</td>\n",
       "      <td>NaN</td>\n",
       "      <td>[ 흥운길 87]</td>\n",
       "      <td>NaN</td>\n",
       "    </tr>\n",
       "    <tr>\n",
       "      <th>18352</th>\n",
       "      <td>무용담</td>\n",
       "      <td>NaN</td>\n",
       "      <td>[ 흥운길 91]</td>\n",
       "      <td>NaN</td>\n",
       "    </tr>\n",
       "    <tr>\n",
       "      <th>18353</th>\n",
       "      <td>예그리나</td>\n",
       "      <td>NaN</td>\n",
       "      <td>[ 흥운길 93]</td>\n",
       "      <td>NaN</td>\n",
       "    </tr>\n",
       "  </tbody>\n",
       "</table>\n",
       "<p>18354 rows × 4 columns</p>\n",
       "</div>"
      ],
      "text/plain": [
       "              가맹점명          전화번호               주소     번대\n",
       "0            인디언썸머  064-678-4208   [ 애월읍 애월로4길 9]  [678]\n",
       "1         애월연어 안덕점  064-692-6607  [ 안덕면 산록남로 684]  [692]\n",
       "2      남가네설악추어탕도련점  064-702-0009       [ 삼봉로 134]  [702]\n",
       "3              레인원  064-702-0014       [ 무근성7길 6]  [702]\n",
       "4              권주가  064-702-0022        [ 천수로 82]  [702]\n",
       "...            ...           ...              ...    ...\n",
       "18349     코끼리휴게소점빵           NaN        [ 흥운길 73]    NaN\n",
       "18350       화산2020           NaN        [ 흥운길 85]    NaN\n",
       "18351        이스방한상           NaN        [ 흥운길 87]    NaN\n",
       "18352          무용담           NaN        [ 흥운길 91]    NaN\n",
       "18353         예그리나           NaN        [ 흥운길 93]    NaN\n",
       "\n",
       "[18354 rows x 4 columns]"
      ]
     },
     "execution_count": 107,
     "metadata": {},
     "output_type": "execute_result"
    }
   ],
   "source": [
    "jeju_df"
   ]
  },
  {
   "cell_type": "markdown",
   "id": "830cc6b8",
   "metadata": {},
   "source": [
    "---\n",
    "# 선생님 실습"
   ]
  },
  {
   "cell_type": "code",
   "execution_count": 123,
   "id": "369131b9",
   "metadata": {},
   "outputs": [],
   "source": [
    "df = jeju_df.copy()"
   ]
  },
  {
   "cell_type": "code",
   "execution_count": 124,
   "id": "ef77ea31",
   "metadata": {},
   "outputs": [
    {
     "data": {
      "text/plain": [
       "array(['제주시', '서귀포시'], dtype=object)"
      ]
     },
     "execution_count": 124,
     "metadata": {},
     "output_type": "execute_result"
    }
   ],
   "source": [
    "df['행정시'].unique()"
   ]
  },
  {
   "cell_type": "code",
   "execution_count": 125,
   "id": "3d7681c3",
   "metadata": {},
   "outputs": [
    {
     "data": {
      "text/plain": [
       "18354"
      ]
     },
     "execution_count": 125,
     "metadata": {},
     "output_type": "execute_result"
    }
   ],
   "source": [
    "df['행정시'].count()"
   ]
  },
  {
   "cell_type": "code",
   "execution_count": 126,
   "id": "324e6830",
   "metadata": {},
   "outputs": [
    {
     "data": {
      "text/html": [
       "<div>\n",
       "<style scoped>\n",
       "    .dataframe tbody tr th:only-of-type {\n",
       "        vertical-align: middle;\n",
       "    }\n",
       "\n",
       "    .dataframe tbody tr th {\n",
       "        vertical-align: top;\n",
       "    }\n",
       "\n",
       "    .dataframe thead th {\n",
       "        text-align: right;\n",
       "    }\n",
       "</style>\n",
       "<table border=\"1\" class=\"dataframe\">\n",
       "  <thead>\n",
       "    <tr style=\"text-align: right;\">\n",
       "      <th></th>\n",
       "      <th>행정시</th>\n",
       "    </tr>\n",
       "  </thead>\n",
       "  <tbody>\n",
       "    <tr>\n",
       "      <th>제주시</th>\n",
       "      <td>12931</td>\n",
       "    </tr>\n",
       "    <tr>\n",
       "      <th>서귀포시</th>\n",
       "      <td>5423</td>\n",
       "    </tr>\n",
       "  </tbody>\n",
       "</table>\n",
       "</div>"
      ],
      "text/plain": [
       "        행정시\n",
       "제주시   12931\n",
       "서귀포시   5423"
      ]
     },
     "execution_count": 126,
     "metadata": {},
     "output_type": "execute_result"
    }
   ],
   "source": [
    "pd.DataFrame(df['행정시'].value_counts()) # 각 요소별 개수"
   ]
  },
  {
   "cell_type": "code",
   "execution_count": 127,
   "id": "c2f2831b",
   "metadata": {},
   "outputs": [
    {
     "data": {
      "text/html": [
       "<div>\n",
       "<style scoped>\n",
       "    .dataframe tbody tr th:only-of-type {\n",
       "        vertical-align: middle;\n",
       "    }\n",
       "\n",
       "    .dataframe tbody tr th {\n",
       "        vertical-align: top;\n",
       "    }\n",
       "\n",
       "    .dataframe thead th {\n",
       "        text-align: right;\n",
       "    }\n",
       "</style>\n",
       "<table border=\"1\" class=\"dataframe\">\n",
       "  <thead>\n",
       "    <tr style=\"text-align: right;\">\n",
       "      <th></th>\n",
       "      <th>행정시</th>\n",
       "      <th>가맹점명</th>\n",
       "      <th>전화번호</th>\n",
       "      <th>주소</th>\n",
       "      <th>데이터기준일자</th>\n",
       "    </tr>\n",
       "  </thead>\n",
       "  <tbody>\n",
       "    <tr>\n",
       "      <th>13278</th>\n",
       "      <td>제주시</td>\n",
       "      <td>(사복)한라원장애인직업재활시설</td>\n",
       "      <td>064-799-9225</td>\n",
       "      <td>제주특별자치도 제주시 애월읍 하소로 747-23</td>\n",
       "      <td>2022-03-31</td>\n",
       "    </tr>\n",
       "    <tr>\n",
       "      <th>4897</th>\n",
       "      <td>제주시</td>\n",
       "      <td>(유)경화산업</td>\n",
       "      <td>064-743-2111</td>\n",
       "      <td>제주특별자치도 제주시 용담이동 2038</td>\n",
       "      <td>2022-03-31</td>\n",
       "    </tr>\n",
       "    <tr>\n",
       "      <th>5567</th>\n",
       "      <td>제주시</td>\n",
       "      <td>(유)섬이다</td>\n",
       "      <td>064-745-5008</td>\n",
       "      <td>제주특별자치도 제주시 서해안로 452</td>\n",
       "      <td>2022-03-31</td>\n",
       "    </tr>\n",
       "    <tr>\n",
       "      <th>5744</th>\n",
       "      <td>제주시</td>\n",
       "      <td>(유)아웃백제주점</td>\n",
       "      <td>064-746-1591</td>\n",
       "      <td>제주특별자치도 제주시 노형동 1288-5</td>\n",
       "      <td>2022-03-31</td>\n",
       "    </tr>\n",
       "    <tr>\n",
       "      <th>4421</th>\n",
       "      <td>서귀포시</td>\n",
       "      <td>(유)케이디에셋 담앤루 밀탑</td>\n",
       "      <td>064-739-6611</td>\n",
       "      <td>제주특별자치도 서귀포시 이어도로343번길 63</td>\n",
       "      <td>2022-03-31</td>\n",
       "    </tr>\n",
       "    <tr>\n",
       "      <th>...</th>\n",
       "      <td>...</td>\n",
       "      <td>...</td>\n",
       "      <td>...</td>\n",
       "      <td>...</td>\n",
       "      <td>...</td>\n",
       "    </tr>\n",
       "    <tr>\n",
       "      <th>16580</th>\n",
       "      <td>제주시</td>\n",
       "      <td>힘찬와플앤강한꼬치</td>\n",
       "      <td>NaN</td>\n",
       "      <td>제주특별자치도 제주시 신성로13길 17</td>\n",
       "      <td>2022-03-31</td>\n",
       "    </tr>\n",
       "    <tr>\n",
       "      <th>352</th>\n",
       "      <td>제주시</td>\n",
       "      <td>힘찬장어</td>\n",
       "      <td>064-711-1161</td>\n",
       "      <td>제주특별자치도 제주시 삼무로3길 32-1</td>\n",
       "      <td>2022-03-31</td>\n",
       "    </tr>\n",
       "    <tr>\n",
       "      <th>15521</th>\n",
       "      <td>제주시</td>\n",
       "      <td>힙앤롤</td>\n",
       "      <td>NaN</td>\n",
       "      <td>제주특별자치도 제주시 구좌읍 세송로 26</td>\n",
       "      <td>2022-03-31</td>\n",
       "    </tr>\n",
       "    <tr>\n",
       "      <th>17346</th>\n",
       "      <td>제주시</td>\n",
       "      <td>힛업</td>\n",
       "      <td>NaN</td>\n",
       "      <td>제주특별자치도 제주시 월랑로 9</td>\n",
       "      <td>2022-03-31</td>\n",
       "    </tr>\n",
       "    <tr>\n",
       "      <th>17808</th>\n",
       "      <td>제주시</td>\n",
       "      <td>힛잇업(HEAT IT UP)</td>\n",
       "      <td>NaN</td>\n",
       "      <td>제주특별자치도 제주시 중앙로14길 6-1</td>\n",
       "      <td>2022-03-31</td>\n",
       "    </tr>\n",
       "  </tbody>\n",
       "</table>\n",
       "<p>18354 rows × 5 columns</p>\n",
       "</div>"
      ],
      "text/plain": [
       "        행정시              가맹점명          전화번호                          주소  \\\n",
       "13278   제주시  (사복)한라원장애인직업재활시설  064-799-9225  제주특별자치도 제주시 애월읍 하소로 747-23   \n",
       "4897    제주시           (유)경화산업  064-743-2111       제주특별자치도 제주시 용담이동 2038   \n",
       "5567    제주시            (유)섬이다  064-745-5008        제주특별자치도 제주시 서해안로 452   \n",
       "5744    제주시         (유)아웃백제주점  064-746-1591      제주특별자치도 제주시 노형동 1288-5   \n",
       "4421   서귀포시   (유)케이디에셋 담앤루 밀탑  064-739-6611   제주특별자치도 서귀포시 이어도로343번길 63   \n",
       "...     ...               ...           ...                         ...   \n",
       "16580   제주시         힘찬와플앤강한꼬치           NaN       제주특별자치도 제주시 신성로13길 17   \n",
       "352     제주시              힘찬장어  064-711-1161      제주특별자치도 제주시 삼무로3길 32-1   \n",
       "15521   제주시               힙앤롤           NaN      제주특별자치도 제주시 구좌읍 세송로 26   \n",
       "17346   제주시                힛업           NaN           제주특별자치도 제주시 월랑로 9   \n",
       "17808   제주시   힛잇업(HEAT IT UP)           NaN      제주특별자치도 제주시 중앙로14길 6-1   \n",
       "\n",
       "          데이터기준일자  \n",
       "13278  2022-03-31  \n",
       "4897   2022-03-31  \n",
       "5567   2022-03-31  \n",
       "5744   2022-03-31  \n",
       "4421   2022-03-31  \n",
       "...           ...  \n",
       "16580  2022-03-31  \n",
       "352    2022-03-31  \n",
       "15521  2022-03-31  \n",
       "17346  2022-03-31  \n",
       "17808  2022-03-31  \n",
       "\n",
       "[18354 rows x 5 columns]"
      ]
     },
     "execution_count": 127,
     "metadata": {},
     "output_type": "execute_result"
    }
   ],
   "source": [
    "df.sort_values('가맹점명') # 기본적인 오름차순"
   ]
  },
  {
   "cell_type": "code",
   "execution_count": 129,
   "id": "f7ad89ff",
   "metadata": {},
   "outputs": [
    {
     "data": {
      "text/plain": [
       "array(['인', '애', '남', '레', '권', '주', '바', '속', '만', '펠', '파', '호', '원',\n",
       "       '대', '상', '미', '진', '내', '박', '하', '헬', '서', '태', '명', '경', '제',\n",
       "       '농', '혼', '안', '우', '시', '고', '동', '산', '메', '가', '2', '거', '피',\n",
       "       '킹', '수', '충', '맛', '빵', '숙', '광', '푸', '부', '써', '딜', '일', '다',\n",
       "       '햇', '지', '라', '화', '차', '한', '신', '도', '돈', '김', '혜', '청', '오',\n",
       "       '삼', '너', '사', '간', '영', '야', '아', '뽕', '국', '재', '자', '빠', '탐',\n",
       "       '친', '샤', '버', '본', '맘', '녹', '학', '어', '개', '춤', '글', '감', '난',\n",
       "       '끌', '볼', '추', '굽', '보', '모', '던', '정', '뚱', '행', '이', '터', '황',\n",
       "       '용', '멍', '심', '넉', '갓', '면', '창', '북', '꼬', '옹', '홍', '현', '배',\n",
       "       '낙', '마', '장', '억', '닥', '비', '요', '훈', '백', '싱', '해', '땅', '탁',\n",
       "       '웰', '불', '토', '구', '맥', '뒷', '밥', '먹', '꾸', '설', '페', '몽', '더',\n",
       "       '무', '복', '짱', '폭', '윈', '나', '꽃', '따', '교', '은', '스', '슬', '슈',\n",
       "       '(', '에', '춘', '골', '금', '성', '괸', '굴', '좋', '머', '외', '올', '선',\n",
       "       '맨', '함', '두', '샌', '랑', '힘', '조', '순', '달', '물', '봉', '누', '블',\n",
       "       '그', '디', '별', '연', '웅', '항', '소', '즉', '닭', '쫑', '리', '탑', '천',\n",
       "       '임', '여', '덕', '렛', '매', '흑', '홈', '뉴', '협', '예', '8', '초', '당',\n",
       "       '돼', '담', '떡', '핵', '노', '즐', '강', '쉐', '투', '직', '준', '낭', '전',\n",
       "       '몬', '느', '세', '궁', '월', '날', '루', 'B', '듀', '말', '논', '래', '썬',\n",
       "       '꼴', '로', '휴', '똘', '죠', '뚜', '챈', '멕', '계', '홀', '포', '민', '팔',\n",
       "       '티', '종', '등', '으', '방', '튀', '크', '프', '롯', '착', '짬', '암', '검',\n",
       "       '문', '굿', '응', '또', '쨍', '돌', '회', '빈', '큰', '밀', '새', '둥', '곽',\n",
       "       '송', '할', '양', '드', '팡', '횟', '귤', '잇', '통', '갱', '공', '치', '풀',\n",
       "       '봄', '덮', '숨', '러', '육', '출', '촌', '꿀', '막', '갈', '평', '콩', '빨',\n",
       "       '섬', '떼', '똑', '깜', '네', '와', '헤', '발', '왕', '최', '덤', '카', '싸',\n",
       "       '베', '앙', '풍', '못', '약', '휘', '얼', '위', '왔', '실', '곰', '엠', '생',\n",
       "       '뜨', '후', '희', '넝', '칠', '유', '젤', '언', '집', '기', '축', '흥', '편',\n",
       "       '잔', '죽', '단', '역', '코', '쏭', '번', '삐', '둘', '쿠', '플', '벼', '쿡',\n",
       "       '7', 'F', '톨', '관', '놀', '효', '뻘', '덩', '분', '건', '깡', '손', '온',\n",
       "       '반', '꽁', '윤', '승', '퍼', '살', '꼭', '샐', '표', '목', '솔', '옥', '美',\n",
       "       '맹', '옵', '의', '운', '찹', '징', '벽', '열', '중', '핏', '쉼', '접', 'P',\n",
       "       '숯', '처', '옛', '돛', '울', '놈', '압', '형', '근', '각', '럭', '땡', '앞',\n",
       "       '참', '츄', '철', '데', '케', '샘', '듬', '3', '꼼', '키', '엄', '윙', '절',\n",
       "       '빽', '법', '엥', '을', '까', '곤', 'M', '엔', '텅', '갯', '십', '독', '과',\n",
       "       '작', '숲', '향', '객', '테', '맑', '앤', '길', '찬', '곱', '필', '옆', '첨',\n",
       "       '린', '율', '찌', '옐', '꿉', '저', '킴', '쉬', '니', '맵', '멜', '쭈', '몸',\n",
       "       '갑', '0', '쇠', '늘', '떠', '엉', '군', '채', '웨', '체', '벤', '솜', '흙',\n",
       "       '식', '짜', '쉘', '쓰', '쌈', '혁', '몰', '트', '삿', '허', '알', '섶', '뜰',\n",
       "       '쌍', '돗', '깨', '괴', '밤', '클', '걸', '빌', '캡', '1', '6', '익', '쇼',\n",
       "       '4', '띠', '커', '델', '범', '뷰', '샨', '틈', '색', '류', '브', '뿔', '쪼',\n",
       "       '병', '줄', 'K', '꾹', 'C', '석', '칼', '텐', '족', '빛', '겸', '돔', '겐',\n",
       "       '킨', '르', '엘', '템', '냉', '론', '좀', '둠', '찰', '꺼', '총', '챠', 'L',\n",
       "       '록', '털', '램', '귀', '붐', '쎄', '뼈', '깐', '씨', '짚', '들', '겨', '쥴',\n",
       "       '락', '탕', '9', '핸', 'D', '뽀', '타', '퓨', '즙', '콜', '붉', '얌', '히',\n",
       "       '톡', '줌', '때', '쥬', '림', '되', '큐', '센', '솥', '탱', '곳', '볕', '패',\n",
       "       '왓', '활', '규', '끼', '망', '쎌', '룸', '꿈', '움', '팟', '홋', '긴', '폼',\n",
       "       '밈', '멈', '웬', '챨', '혹', '흠', '핫', '쁘', '딱', '낚', '味', '쑤', 'e',\n",
       "       '팰', '칭', '얄', '짝', '팝', '찐', '텍', '벳', '벨', '컬', '뀨', '츠', '촘',\n",
       "       '악', '웃', '룡', '점', '환', '묵', '꽈', '젬', '탄', '펭', '벌', '뱃', '뭉',\n",
       "       '쵸', '캐', '컨', '폴', 'I', '택', '쩐', '찜', 'E', '섭', 'S', '빙', '콘',\n",
       "       '뻐', '훔', '질', '냄', '완', '윗', '셀', '렌', '쌔', '뫼', '판', '헝', '곶',\n",
       "       '휠', '킵', '음', '런', '쏘', '멧', '믿', '딕', '숟', '쎈', '낫', '겹', '힐',\n",
       "       '옴', '뽈', '떳', 'T', '컵', '뙤', '슁', '욜', '뮤', '특', '빼', '견', '섯',\n",
       "       '적', '쟁', '퐁', '랍', '읍', '쑥', '뿌', '쏠', '눈', '릴', '썸', '쯔', '멘',\n",
       "       '높', '덴', '5', '꾼', '벵', '멋', '댓', '꿩', '굼', 'W', '롤', '밝', '젠',\n",
       "       '겔', 'J', '셰', '뱅', '료', '캘', '닐', '쪽', '팥', '좌', '펄', 'G', '쉴',\n",
       "       '샛', '샹', '콤', '팀', '핑', '쟝', 'l', '낮', '팜', '퀴', '갤', '변', '겟',\n",
       "       '똥', '롸', '훌', '댜', '힌', '워', '쿵', '깊', '컴', '쌀', '옷', '윌', '팩',\n",
       "       '람', '괜', '넙', '샷', '짠', '갬', 'c', '뷔', '눕', '걷', '란', '쿤', '닻',\n",
       "       '뿐', '첫', '빅', '취', '틴', '멸', '앵', '곁', '염', '챙', '슌', '옳', '똣',\n",
       "       '넘', '뜻', '앳', '퀸', '깔', '댄', '좁', '뜬', '핀', '팅', '칸', 'H', '혀',\n",
       "       '뮈', '업', '능', '붕', '팍', '엣', '숑', '빗', '헛', '힙', '렐', '뚝', '맞',\n",
       "       '톰', '앨', '깃', '밭', '쁠', '엑', '딤', '짐', '깅', '탭', 'm', '뤼', '릿',\n",
       "       '캠', 'N', '끄', '볶', '셔', '촐', '롱', '넥', '잠', '펜', '낯', '랜', '결',\n",
       "       '밍', '게', '앰', '턴', '쟈', '탤', '힛', '닌', '존', '봅', '잘', '텀', '콕',\n",
       "       '돎', 'R', '뚠', '굄', '딩', '릇', '묘', '캣', '뵤', '있', 'A'],\n",
       "      dtype=object)"
      ]
     },
     "execution_count": 129,
     "metadata": {},
     "output_type": "execute_result"
    }
   ],
   "source": [
    "df['가맹점명'].apply(lambda x: x[0]).unique()"
   ]
  },
  {
   "cell_type": "code",
   "execution_count": 130,
   "id": "642aab6e",
   "metadata": {},
   "outputs": [
    {
     "data": {
      "text/plain": [
       "True"
      ]
     },
     "execution_count": 130,
     "metadata": {},
     "output_type": "execute_result"
    }
   ],
   "source": [
    "'1'.isdigit()"
   ]
  },
  {
   "cell_type": "code",
   "execution_count": 151,
   "id": "97830c31",
   "metadata": {},
   "outputs": [
    {
     "data": {
      "text/plain": [
       "False"
      ]
     },
     "execution_count": 151,
     "metadata": {},
     "output_type": "execute_result"
    }
   ],
   "source": [
    "'일'.isdigit()"
   ]
  },
  {
   "cell_type": "code",
   "execution_count": 152,
   "id": "cf560128",
   "metadata": {},
   "outputs": [
    {
     "data": {
      "text/plain": [
       "False"
      ]
     },
     "execution_count": 152,
     "metadata": {},
     "output_type": "execute_result"
    }
   ],
   "source": [
    "'()'.isdigit()"
   ]
  },
  {
   "cell_type": "code",
   "execution_count": 153,
   "id": "bfbeafcd",
   "metadata": {},
   "outputs": [
    {
     "data": {
      "text/plain": [
       "False"
      ]
     },
     "execution_count": 153,
     "metadata": {},
     "output_type": "execute_result"
    }
   ],
   "source": [
    "'a'.isdigit()"
   ]
  },
  {
   "cell_type": "code",
   "execution_count": 131,
   "id": "c7cc4100",
   "metadata": {},
   "outputs": [
    {
     "data": {
      "text/plain": [
       "True"
      ]
     },
     "execution_count": 131,
     "metadata": {},
     "output_type": "execute_result"
    }
   ],
   "source": [
    "'일'.isalpha()"
   ]
  },
  {
   "cell_type": "code",
   "execution_count": 156,
   "id": "9c1b653c",
   "metadata": {},
   "outputs": [
    {
     "data": {
      "text/plain": [
       "True"
      ]
     },
     "execution_count": 156,
     "metadata": {},
     "output_type": "execute_result"
    }
   ],
   "source": [
    "'a'.isalpha()"
   ]
  },
  {
   "cell_type": "code",
   "execution_count": 162,
   "id": "0ccbdc9a",
   "metadata": {},
   "outputs": [
    {
     "data": {
      "text/plain": [
       "False"
      ]
     },
     "execution_count": 162,
     "metadata": {},
     "output_type": "execute_result"
    }
   ],
   "source": [
    "'()'.isalnum()"
   ]
  },
  {
   "cell_type": "code",
   "execution_count": 163,
   "id": "0d6ee721",
   "metadata": {},
   "outputs": [
    {
     "data": {
      "text/plain": [
       "True"
      ]
     },
     "execution_count": 163,
     "metadata": {},
     "output_type": "execute_result"
    }
   ],
   "source": [
    "'1'.isalnum()"
   ]
  },
  {
   "cell_type": "code",
   "execution_count": 161,
   "id": "38451313",
   "metadata": {},
   "outputs": [
    {
     "data": {
      "text/plain": [
       "True"
      ]
     },
     "execution_count": 161,
     "metadata": {},
     "output_type": "execute_result"
    }
   ],
   "source": [
    "'일'.isalnum()"
   ]
  },
  {
   "cell_type": "code",
   "execution_count": 164,
   "id": "9652fe3f",
   "metadata": {},
   "outputs": [
    {
     "data": {
      "text/plain": [
       "True"
      ]
     },
     "execution_count": 164,
     "metadata": {},
     "output_type": "execute_result"
    }
   ],
   "source": [
    "'a'.isalnum()"
   ]
  },
  {
   "cell_type": "code",
   "execution_count": 134,
   "id": "21a64a1b",
   "metadata": {},
   "outputs": [
    {
     "data": {
      "text/plain": [
       "False"
      ]
     },
     "execution_count": 134,
     "metadata": {},
     "output_type": "execute_result"
    }
   ],
   "source": [
    "'일'.isascii()"
   ]
  },
  {
   "cell_type": "code",
   "execution_count": 138,
   "id": "b0fca265",
   "metadata": {},
   "outputs": [],
   "source": [
    "m = df['가맹점명'].apply(lambda x: x[0].isdigit()) # 숫자"
   ]
  },
  {
   "cell_type": "code",
   "execution_count": 139,
   "id": "8e1887b4",
   "metadata": {},
   "outputs": [
    {
     "data": {
      "text/html": [
       "<div>\n",
       "<style scoped>\n",
       "    .dataframe tbody tr th:only-of-type {\n",
       "        vertical-align: middle;\n",
       "    }\n",
       "\n",
       "    .dataframe tbody tr th {\n",
       "        vertical-align: top;\n",
       "    }\n",
       "\n",
       "    .dataframe thead th {\n",
       "        text-align: right;\n",
       "    }\n",
       "</style>\n",
       "<table border=\"1\" class=\"dataframe\">\n",
       "  <thead>\n",
       "    <tr style=\"text-align: right;\">\n",
       "      <th></th>\n",
       "      <th>행정시</th>\n",
       "      <th>가맹점명</th>\n",
       "      <th>전화번호</th>\n",
       "      <th>주소</th>\n",
       "      <th>데이터기준일자</th>\n",
       "    </tr>\n",
       "  </thead>\n",
       "  <tbody>\n",
       "    <tr>\n",
       "      <th>41</th>\n",
       "      <td>제주시</td>\n",
       "      <td>24시국수회관</td>\n",
       "      <td>064-702-1162</td>\n",
       "      <td>제주특별자치도 제주시 남성로 122-1</td>\n",
       "      <td>2022-03-31</td>\n",
       "    </tr>\n",
       "    <tr>\n",
       "      <th>125</th>\n",
       "      <td>제주시</td>\n",
       "      <td>24시서울뼈감탕해장국</td>\n",
       "      <td>064-702-4689</td>\n",
       "      <td>제주특별자치도 제주시 신성로 96</td>\n",
       "      <td>2022-03-31</td>\n",
       "    </tr>\n",
       "    <tr>\n",
       "      <th>426</th>\n",
       "      <td>제주시</td>\n",
       "      <td>203안전한먹거리연구소</td>\n",
       "      <td>064-711-3203</td>\n",
       "      <td>제주특별자치도 제주시 선덕로 4</td>\n",
       "      <td>2022-03-31</td>\n",
       "    </tr>\n",
       "    <tr>\n",
       "      <th>447</th>\n",
       "      <td>제주시</td>\n",
       "      <td>24시얼큰시원생고기김치찌개외도점</td>\n",
       "      <td>064-711-3755</td>\n",
       "      <td>제주특별자치도 제주시 우정로 85</td>\n",
       "      <td>2022-03-31</td>\n",
       "    </tr>\n",
       "    <tr>\n",
       "      <th>460</th>\n",
       "      <td>제주시</td>\n",
       "      <td>8997버거</td>\n",
       "      <td>064-711-4212</td>\n",
       "      <td>제주특별자치도 제주시 용화로9길 5</td>\n",
       "      <td>2022-03-31</td>\n",
       "    </tr>\n",
       "    <tr>\n",
       "      <th>...</th>\n",
       "      <td>...</td>\n",
       "      <td>...</td>\n",
       "      <td>...</td>\n",
       "      <td>...</td>\n",
       "      <td>...</td>\n",
       "    </tr>\n",
       "    <tr>\n",
       "      <th>17520</th>\n",
       "      <td>제주시</td>\n",
       "      <td>183편의점</td>\n",
       "      <td>NaN</td>\n",
       "      <td>제주특별자치도 제주시 제주대학로 183</td>\n",
       "      <td>2022-03-31</td>\n",
       "    </tr>\n",
       "    <tr>\n",
       "      <th>17733</th>\n",
       "      <td>제주시</td>\n",
       "      <td>3파라솔</td>\n",
       "      <td>NaN</td>\n",
       "      <td>제주특별자치도 제주시 조천읍 함덕리 1009</td>\n",
       "      <td>2022-03-31</td>\n",
       "    </tr>\n",
       "    <tr>\n",
       "      <th>17849</th>\n",
       "      <td>제주시</td>\n",
       "      <td>204유부당</td>\n",
       "      <td>NaN</td>\n",
       "      <td>제주특별자치도 제주시 진군길 52</td>\n",
       "      <td>2022-03-31</td>\n",
       "    </tr>\n",
       "    <tr>\n",
       "      <th>17924</th>\n",
       "      <td>제주시</td>\n",
       "      <td>513텐동</td>\n",
       "      <td>NaN</td>\n",
       "      <td>제주특별자치도 제주시 테우해안로 46</td>\n",
       "      <td>2022-03-31</td>\n",
       "    </tr>\n",
       "    <tr>\n",
       "      <th>18202</th>\n",
       "      <td>제주시</td>\n",
       "      <td>2F cucina</td>\n",
       "      <td>NaN</td>\n",
       "      <td>제주특별자치도 제주시 한림읍 한림로 450</td>\n",
       "      <td>2022-03-31</td>\n",
       "    </tr>\n",
       "  </tbody>\n",
       "</table>\n",
       "<p>107 rows × 5 columns</p>\n",
       "</div>"
      ],
      "text/plain": [
       "       행정시               가맹점명          전화번호                        주소  \\\n",
       "41     제주시            24시국수회관  064-702-1162     제주특별자치도 제주시 남성로 122-1   \n",
       "125    제주시        24시서울뼈감탕해장국  064-702-4689        제주특별자치도 제주시 신성로 96   \n",
       "426    제주시       203안전한먹거리연구소  064-711-3203         제주특별자치도 제주시 선덕로 4   \n",
       "447    제주시  24시얼큰시원생고기김치찌개외도점  064-711-3755        제주특별자치도 제주시 우정로 85   \n",
       "460    제주시             8997버거  064-711-4212       제주특별자치도 제주시 용화로9길 5   \n",
       "...    ...                ...           ...                       ...   \n",
       "17520  제주시             183편의점           NaN     제주특별자치도 제주시 제주대학로 183   \n",
       "17733  제주시               3파라솔           NaN  제주특별자치도 제주시 조천읍 함덕리 1009   \n",
       "17849  제주시             204유부당           NaN        제주특별자치도 제주시 진군길 52   \n",
       "17924  제주시              513텐동           NaN      제주특별자치도 제주시 테우해안로 46   \n",
       "18202  제주시          2F cucina           NaN   제주특별자치도 제주시 한림읍 한림로 450   \n",
       "\n",
       "          데이터기준일자  \n",
       "41     2022-03-31  \n",
       "125    2022-03-31  \n",
       "426    2022-03-31  \n",
       "447    2022-03-31  \n",
       "460    2022-03-31  \n",
       "...           ...  \n",
       "17520  2022-03-31  \n",
       "17733  2022-03-31  \n",
       "17849  2022-03-31  \n",
       "17924  2022-03-31  \n",
       "18202  2022-03-31  \n",
       "\n",
       "[107 rows x 5 columns]"
      ]
     },
     "execution_count": 139,
     "metadata": {},
     "output_type": "execute_result"
    }
   ],
   "source": [
    "df[m]"
   ]
  },
  {
   "cell_type": "code",
   "execution_count": 140,
   "id": "e748625b",
   "metadata": {},
   "outputs": [],
   "source": [
    "df_num = df[m].sort_values('가맹점명')"
   ]
  },
  {
   "cell_type": "code",
   "execution_count": 142,
   "id": "519c67ac",
   "metadata": {},
   "outputs": [],
   "source": [
    "m2 = df['가맹점명'].apply(lambda x: x[0].isascii() if x[0].isalpha() else False)"
   ]
  },
  {
   "cell_type": "code",
   "execution_count": 144,
   "id": "cdd4f19b",
   "metadata": {},
   "outputs": [],
   "source": [
    "df_alpha = df[m2].sort_values('가맹점명')"
   ]
  },
  {
   "cell_type": "code",
   "execution_count": 145,
   "id": "b28528fe",
   "metadata": {},
   "outputs": [
    {
     "data": {
      "text/html": [
       "<div>\n",
       "<style scoped>\n",
       "    .dataframe tbody tr th:only-of-type {\n",
       "        vertical-align: middle;\n",
       "    }\n",
       "\n",
       "    .dataframe tbody tr th {\n",
       "        vertical-align: top;\n",
       "    }\n",
       "\n",
       "    .dataframe thead th {\n",
       "        text-align: right;\n",
       "    }\n",
       "</style>\n",
       "<table border=\"1\" class=\"dataframe\">\n",
       "  <thead>\n",
       "    <tr style=\"text-align: right;\">\n",
       "      <th></th>\n",
       "      <th>행정시</th>\n",
       "      <th>가맹점명</th>\n",
       "      <th>전화번호</th>\n",
       "      <th>주소</th>\n",
       "      <th>데이터기준일자</th>\n",
       "    </tr>\n",
       "  </thead>\n",
       "  <tbody>\n",
       "    <tr>\n",
       "      <th>18212</th>\n",
       "      <td>제주시</td>\n",
       "      <td>AND YU(앤드유)</td>\n",
       "      <td>NaN</td>\n",
       "      <td>제주특별자치도 제주시 한림읍 한림로 518</td>\n",
       "      <td>2022-03-31</td>\n",
       "    </tr>\n",
       "    <tr>\n",
       "      <th>14924</th>\n",
       "      <td>서귀포시</td>\n",
       "      <td>BADABARA</td>\n",
       "      <td>NaN</td>\n",
       "      <td>제주특별자치도 서귀포시 중문관광로72번길 29-51</td>\n",
       "      <td>2022-03-31</td>\n",
       "    </tr>\n",
       "    <tr>\n",
       "      <th>651</th>\n",
       "      <td>제주시</td>\n",
       "      <td>BBQ신연동점</td>\n",
       "      <td>064-711-9256</td>\n",
       "      <td>제주특별자치도 제주시 연화로1길 15</td>\n",
       "      <td>2022-03-31</td>\n",
       "    </tr>\n",
       "    <tr>\n",
       "      <th>6989</th>\n",
       "      <td>제주시</td>\n",
       "      <td>BBQ이도초교점</td>\n",
       "      <td>064-751-8291</td>\n",
       "      <td>제주특별자치도 제주시 청사로 86</td>\n",
       "      <td>2022-03-31</td>\n",
       "    </tr>\n",
       "    <tr>\n",
       "      <th>10516</th>\n",
       "      <td>제주시</td>\n",
       "      <td>BBQ치킨</td>\n",
       "      <td>064-782-8814</td>\n",
       "      <td>제주특별자치도 제주시 조천읍 함덕리 1252-2</td>\n",
       "      <td>2022-03-31</td>\n",
       "    </tr>\n",
       "    <tr>\n",
       "      <th>...</th>\n",
       "      <td>...</td>\n",
       "      <td>...</td>\n",
       "      <td>...</td>\n",
       "      <td>...</td>\n",
       "      <td>...</td>\n",
       "    </tr>\n",
       "    <tr>\n",
       "      <th>13960</th>\n",
       "      <td>서귀포시</td>\n",
       "      <td>centro</td>\n",
       "      <td>070-8614-6245</td>\n",
       "      <td>제주특별자치도 서귀포시 태평로 449</td>\n",
       "      <td>2022-03-31</td>\n",
       "    </tr>\n",
       "    <tr>\n",
       "      <th>13780</th>\n",
       "      <td>제주시</td>\n",
       "      <td>e 좋은마트</td>\n",
       "      <td>070-4644-9915</td>\n",
       "      <td>제주특별자치도 제주시 도련1길 6</td>\n",
       "      <td>2022-03-31</td>\n",
       "    </tr>\n",
       "    <tr>\n",
       "      <th>6610</th>\n",
       "      <td>제주시</td>\n",
       "      <td>e-좋은마트</td>\n",
       "      <td>064-749-0009</td>\n",
       "      <td>제주특별자치도 제주시 연사길 91</td>\n",
       "      <td>2022-03-31</td>\n",
       "    </tr>\n",
       "    <tr>\n",
       "      <th>13141</th>\n",
       "      <td>제주시</td>\n",
       "      <td>las tortas</td>\n",
       "      <td>064-799-5100</td>\n",
       "      <td>제주특별자치도 제주시 광양11길 8-1</td>\n",
       "      <td>2022-03-31</td>\n",
       "    </tr>\n",
       "    <tr>\n",
       "      <th>16084</th>\n",
       "      <td>제주시</td>\n",
       "      <td>makk</td>\n",
       "      <td>NaN</td>\n",
       "      <td>제주특별자치도 제주시 동문로4길 9</td>\n",
       "      <td>2022-03-31</td>\n",
       "    </tr>\n",
       "  </tbody>\n",
       "</table>\n",
       "<p>69 rows × 5 columns</p>\n",
       "</div>"
      ],
      "text/plain": [
       "        행정시         가맹점명           전화번호                            주소  \\\n",
       "18212   제주시  AND YU(앤드유)            NaN       제주특별자치도 제주시 한림읍 한림로 518   \n",
       "14924  서귀포시     BADABARA            NaN  제주특별자치도 서귀포시 중문관광로72번길 29-51   \n",
       "651     제주시      BBQ신연동점   064-711-9256          제주특별자치도 제주시 연화로1길 15   \n",
       "6989    제주시     BBQ이도초교점   064-751-8291            제주특별자치도 제주시 청사로 86   \n",
       "10516   제주시        BBQ치킨   064-782-8814    제주특별자치도 제주시 조천읍 함덕리 1252-2   \n",
       "...     ...          ...            ...                           ...   \n",
       "13960  서귀포시       centro  070-8614-6245          제주특별자치도 서귀포시 태평로 449   \n",
       "13780   제주시       e 좋은마트  070-4644-9915            제주특별자치도 제주시 도련1길 6   \n",
       "6610    제주시       e-좋은마트   064-749-0009            제주특별자치도 제주시 연사길 91   \n",
       "13141   제주시   las tortas   064-799-5100         제주특별자치도 제주시 광양11길 8-1   \n",
       "16084   제주시         makk            NaN           제주특별자치도 제주시 동문로4길 9   \n",
       "\n",
       "          데이터기준일자  \n",
       "18212  2022-03-31  \n",
       "14924  2022-03-31  \n",
       "651    2022-03-31  \n",
       "6989   2022-03-31  \n",
       "10516  2022-03-31  \n",
       "...           ...  \n",
       "13960  2022-03-31  \n",
       "13780  2022-03-31  \n",
       "6610   2022-03-31  \n",
       "13141  2022-03-31  \n",
       "16084  2022-03-31  \n",
       "\n",
       "[69 rows x 5 columns]"
      ]
     },
     "execution_count": 145,
     "metadata": {},
     "output_type": "execute_result"
    }
   ],
   "source": [
    "df_alpha"
   ]
  },
  {
   "cell_type": "code",
   "execution_count": 146,
   "id": "e57ff004",
   "metadata": {},
   "outputs": [],
   "source": [
    "m3 = df['가맹점명'].apply(lambda x: False if x[0].isalpha() else not x[0].isdigit()) # 특수문자"
   ]
  },
  {
   "cell_type": "code",
   "execution_count": 147,
   "id": "1c54b2ff",
   "metadata": {},
   "outputs": [],
   "source": [
    "df_not_alpha = df[m3].sort_values('가맹점명')"
   ]
  },
  {
   "cell_type": "code",
   "execution_count": 148,
   "id": "3edf0d1c",
   "metadata": {},
   "outputs": [
    {
     "data": {
      "text/html": [
       "<div>\n",
       "<style scoped>\n",
       "    .dataframe tbody tr th:only-of-type {\n",
       "        vertical-align: middle;\n",
       "    }\n",
       "\n",
       "    .dataframe tbody tr th {\n",
       "        vertical-align: top;\n",
       "    }\n",
       "\n",
       "    .dataframe thead th {\n",
       "        text-align: right;\n",
       "    }\n",
       "</style>\n",
       "<table border=\"1\" class=\"dataframe\">\n",
       "  <thead>\n",
       "    <tr style=\"text-align: right;\">\n",
       "      <th></th>\n",
       "      <th>행정시</th>\n",
       "      <th>가맹점명</th>\n",
       "      <th>전화번호</th>\n",
       "      <th>주소</th>\n",
       "      <th>데이터기준일자</th>\n",
       "    </tr>\n",
       "  </thead>\n",
       "  <tbody>\n",
       "    <tr>\n",
       "      <th>13278</th>\n",
       "      <td>제주시</td>\n",
       "      <td>(사복)한라원장애인직업재활시설</td>\n",
       "      <td>064-799-9225</td>\n",
       "      <td>제주특별자치도 제주시 애월읍 하소로 747-23</td>\n",
       "      <td>2022-03-31</td>\n",
       "    </tr>\n",
       "    <tr>\n",
       "      <th>4897</th>\n",
       "      <td>제주시</td>\n",
       "      <td>(유)경화산업</td>\n",
       "      <td>064-743-2111</td>\n",
       "      <td>제주특별자치도 제주시 용담이동 2038</td>\n",
       "      <td>2022-03-31</td>\n",
       "    </tr>\n",
       "    <tr>\n",
       "      <th>5567</th>\n",
       "      <td>제주시</td>\n",
       "      <td>(유)섬이다</td>\n",
       "      <td>064-745-5008</td>\n",
       "      <td>제주특별자치도 제주시 서해안로 452</td>\n",
       "      <td>2022-03-31</td>\n",
       "    </tr>\n",
       "    <tr>\n",
       "      <th>5744</th>\n",
       "      <td>제주시</td>\n",
       "      <td>(유)아웃백제주점</td>\n",
       "      <td>064-746-1591</td>\n",
       "      <td>제주특별자치도 제주시 노형동 1288-5</td>\n",
       "      <td>2022-03-31</td>\n",
       "    </tr>\n",
       "    <tr>\n",
       "      <th>4421</th>\n",
       "      <td>서귀포시</td>\n",
       "      <td>(유)케이디에셋 담앤루 밀탑</td>\n",
       "      <td>064-739-6611</td>\n",
       "      <td>제주특별자치도 서귀포시 이어도로343번길 63</td>\n",
       "      <td>2022-03-31</td>\n",
       "    </tr>\n",
       "    <tr>\n",
       "      <th>...</th>\n",
       "      <td>...</td>\n",
       "      <td>...</td>\n",
       "      <td>...</td>\n",
       "      <td>...</td>\n",
       "      <td>...</td>\n",
       "    </tr>\n",
       "    <tr>\n",
       "      <th>2996</th>\n",
       "      <td>서귀포시</td>\n",
       "      <td>(주)호텔롯데 롯데호텔제주 델리카한스</td>\n",
       "      <td>064-731-1000</td>\n",
       "      <td>제주특별자치도 서귀포시 중문관광로72번길 35</td>\n",
       "      <td>2022-03-31</td>\n",
       "    </tr>\n",
       "    <tr>\n",
       "      <th>2998</th>\n",
       "      <td>서귀포시</td>\n",
       "      <td>(주)호텔롯데델리카한스/은련</td>\n",
       "      <td>064-731-1000</td>\n",
       "      <td>제주특별자치도 서귀포시 중문관광로72번길 35</td>\n",
       "      <td>2022-03-31</td>\n",
       "    </tr>\n",
       "    <tr>\n",
       "      <th>6522</th>\n",
       "      <td>제주시</td>\n",
       "      <td>(주)후사부</td>\n",
       "      <td>064-748-6311</td>\n",
       "      <td>제주특별자치도 제주시 신대로14길 35</td>\n",
       "      <td>2022-03-31</td>\n",
       "    </tr>\n",
       "    <tr>\n",
       "      <th>6523</th>\n",
       "      <td>제주시</td>\n",
       "      <td>(주)후사부</td>\n",
       "      <td>064-748-6311</td>\n",
       "      <td>제주특별자치도 제주시 신대로14길 41</td>\n",
       "      <td>2022-03-31</td>\n",
       "    </tr>\n",
       "    <tr>\n",
       "      <th>1625</th>\n",
       "      <td>제주시</td>\n",
       "      <td>(파인힐)솔동산</td>\n",
       "      <td>064-722-3023</td>\n",
       "      <td>제주특별자치도 제주시 중앙로 57</td>\n",
       "      <td>2022-03-31</td>\n",
       "    </tr>\n",
       "  </tbody>\n",
       "</table>\n",
       "<p>130 rows × 5 columns</p>\n",
       "</div>"
      ],
      "text/plain": [
       "        행정시                  가맹점명          전화번호                          주소  \\\n",
       "13278   제주시      (사복)한라원장애인직업재활시설  064-799-9225  제주특별자치도 제주시 애월읍 하소로 747-23   \n",
       "4897    제주시               (유)경화산업  064-743-2111       제주특별자치도 제주시 용담이동 2038   \n",
       "5567    제주시                (유)섬이다  064-745-5008        제주특별자치도 제주시 서해안로 452   \n",
       "5744    제주시             (유)아웃백제주점  064-746-1591      제주특별자치도 제주시 노형동 1288-5   \n",
       "4421   서귀포시       (유)케이디에셋 담앤루 밀탑  064-739-6611   제주특별자치도 서귀포시 이어도로343번길 63   \n",
       "...     ...                   ...           ...                         ...   \n",
       "2996   서귀포시  (주)호텔롯데 롯데호텔제주 델리카한스  064-731-1000   제주특별자치도 서귀포시 중문관광로72번길 35   \n",
       "2998   서귀포시       (주)호텔롯데델리카한스/은련  064-731-1000   제주특별자치도 서귀포시 중문관광로72번길 35   \n",
       "6522    제주시                (주)후사부  064-748-6311       제주특별자치도 제주시 신대로14길 35   \n",
       "6523    제주시                (주)후사부  064-748-6311       제주특별자치도 제주시 신대로14길 41   \n",
       "1625    제주시              (파인힐)솔동산  064-722-3023          제주특별자치도 제주시 중앙로 57   \n",
       "\n",
       "          데이터기준일자  \n",
       "13278  2022-03-31  \n",
       "4897   2022-03-31  \n",
       "5567   2022-03-31  \n",
       "5744   2022-03-31  \n",
       "4421   2022-03-31  \n",
       "...           ...  \n",
       "2996   2022-03-31  \n",
       "2998   2022-03-31  \n",
       "6522   2022-03-31  \n",
       "6523   2022-03-31  \n",
       "1625   2022-03-31  \n",
       "\n",
       "[130 rows x 5 columns]"
      ]
     },
     "execution_count": 148,
     "metadata": {},
     "output_type": "execute_result"
    }
   ],
   "source": [
    "df_not_alpha"
   ]
  },
  {
   "cell_type": "code",
   "execution_count": 165,
   "id": "55990beb",
   "metadata": {},
   "outputs": [],
   "source": [
    "def check_spl(x):\n",
    "    if x[0].isalpha():\n",
    "        return False\n",
    "    else:\n",
    "        return not x[0].isdigit()"
   ]
  },
  {
   "cell_type": "code",
   "execution_count": null,
   "id": "0d1f4e13",
   "metadata": {},
   "outputs": [],
   "source": [
    "def check_spl(x):\n",
    "    if x[0].isalpha() or x[0].isdigit():\n",
    "        return False\n",
    "    else:\n",
    "        return True"
   ]
  },
  {
   "cell_type": "code",
   "execution_count": 166,
   "id": "48ba1c3b",
   "metadata": {},
   "outputs": [],
   "source": [
    "m4 = df['가맹점명'].apply(lambda x: check_spl(x))"
   ]
  },
  {
   "cell_type": "code",
   "execution_count": 169,
   "id": "c1de55de",
   "metadata": {},
   "outputs": [
    {
     "data": {
      "text/html": [
       "<div>\n",
       "<style scoped>\n",
       "    .dataframe tbody tr th:only-of-type {\n",
       "        vertical-align: middle;\n",
       "    }\n",
       "\n",
       "    .dataframe tbody tr th {\n",
       "        vertical-align: top;\n",
       "    }\n",
       "\n",
       "    .dataframe thead th {\n",
       "        text-align: right;\n",
       "    }\n",
       "</style>\n",
       "<table border=\"1\" class=\"dataframe\">\n",
       "  <thead>\n",
       "    <tr style=\"text-align: right;\">\n",
       "      <th></th>\n",
       "      <th>행정시</th>\n",
       "      <th>가맹점명</th>\n",
       "      <th>전화번호</th>\n",
       "      <th>주소</th>\n",
       "      <th>데이터기준일자</th>\n",
       "    </tr>\n",
       "  </thead>\n",
       "  <tbody>\n",
       "    <tr>\n",
       "      <th>288</th>\n",
       "      <td>제주시</td>\n",
       "      <td>(주)파리크라상파리바게뜨제주공항점</td>\n",
       "      <td>064-711-0741</td>\n",
       "      <td>제주특별자치도 제주시 공항로 2</td>\n",
       "      <td>2022-03-31</td>\n",
       "    </tr>\n",
       "    <tr>\n",
       "      <th>301</th>\n",
       "      <td>제주시</td>\n",
       "      <td>(주)뚱보네</td>\n",
       "      <td>064-711-0977</td>\n",
       "      <td>제주특별자치도 제주시 정존11길 22</td>\n",
       "      <td>2022-03-31</td>\n",
       "    </tr>\n",
       "    <tr>\n",
       "      <th>452</th>\n",
       "      <td>제주시</td>\n",
       "      <td>(주)뚱보네</td>\n",
       "      <td>064-711-3953</td>\n",
       "      <td>제주특별자치도 제주시 정존11길 22</td>\n",
       "      <td>2022-03-31</td>\n",
       "    </tr>\n",
       "    <tr>\n",
       "      <th>571</th>\n",
       "      <td>제주시</td>\n",
       "      <td>(주)삼다도횟집</td>\n",
       "      <td>064-711-7080</td>\n",
       "      <td>제주특별자치도 제주시 서해안로 572</td>\n",
       "      <td>2022-03-31</td>\n",
       "    </tr>\n",
       "    <tr>\n",
       "      <th>572</th>\n",
       "      <td>제주시</td>\n",
       "      <td>(주)뉴월드마트로연동점</td>\n",
       "      <td>064-711-7151</td>\n",
       "      <td>제주특별자치도 제주시 선반로8길 5-7</td>\n",
       "      <td>2022-03-31</td>\n",
       "    </tr>\n",
       "    <tr>\n",
       "      <th>...</th>\n",
       "      <td>...</td>\n",
       "      <td>...</td>\n",
       "      <td>...</td>\n",
       "      <td>...</td>\n",
       "      <td>...</td>\n",
       "    </tr>\n",
       "    <tr>\n",
       "      <th>17453</th>\n",
       "      <td>제주시</td>\n",
       "      <td>(주)한일고속</td>\n",
       "      <td>NaN</td>\n",
       "      <td>제주특별자치도 제주시 임항로 111</td>\n",
       "      <td>2022-03-31</td>\n",
       "    </tr>\n",
       "    <tr>\n",
       "      <th>17734</th>\n",
       "      <td>제주시</td>\n",
       "      <td>(주)소노인터내셔널 제주지점</td>\n",
       "      <td>NaN</td>\n",
       "      <td>제주특별자치도 제주시 조천읍 함덕리 274</td>\n",
       "      <td>2022-03-31</td>\n",
       "    </tr>\n",
       "    <tr>\n",
       "      <th>17850</th>\n",
       "      <td>제주시</td>\n",
       "      <td>(주)일출축산</td>\n",
       "      <td>NaN</td>\n",
       "      <td>제주특별자치도 제주시 진남로 21</td>\n",
       "      <td>2022-03-31</td>\n",
       "    </tr>\n",
       "    <tr>\n",
       "      <th>17907</th>\n",
       "      <td>제주시</td>\n",
       "      <td>(주)두루두루</td>\n",
       "      <td>NaN</td>\n",
       "      <td>제주특별자치도 제주시 탑동로2길 3</td>\n",
       "      <td>2022-03-31</td>\n",
       "    </tr>\n",
       "    <tr>\n",
       "      <th>18065</th>\n",
       "      <td>제주시</td>\n",
       "      <td>(주)웨일빌리지</td>\n",
       "      <td>NaN</td>\n",
       "      <td>제주특별자치도 제주시 한림읍 귀덕5길 34</td>\n",
       "      <td>2022-03-31</td>\n",
       "    </tr>\n",
       "  </tbody>\n",
       "</table>\n",
       "<p>130 rows × 5 columns</p>\n",
       "</div>"
      ],
      "text/plain": [
       "       행정시                가맹점명          전화번호                       주소  \\\n",
       "288    제주시  (주)파리크라상파리바게뜨제주공항점  064-711-0741        제주특별자치도 제주시 공항로 2   \n",
       "301    제주시              (주)뚱보네  064-711-0977     제주특별자치도 제주시 정존11길 22   \n",
       "452    제주시              (주)뚱보네  064-711-3953     제주특별자치도 제주시 정존11길 22   \n",
       "571    제주시            (주)삼다도횟집  064-711-7080     제주특별자치도 제주시 서해안로 572   \n",
       "572    제주시        (주)뉴월드마트로연동점  064-711-7151    제주특별자치도 제주시 선반로8길 5-7   \n",
       "...    ...                 ...           ...                      ...   \n",
       "17453  제주시             (주)한일고속           NaN      제주특별자치도 제주시 임항로 111   \n",
       "17734  제주시     (주)소노인터내셔널 제주지점           NaN  제주특별자치도 제주시 조천읍 함덕리 274   \n",
       "17850  제주시             (주)일출축산           NaN       제주특별자치도 제주시 진남로 21   \n",
       "17907  제주시             (주)두루두루           NaN      제주특별자치도 제주시 탑동로2길 3   \n",
       "18065  제주시            (주)웨일빌리지           NaN  제주특별자치도 제주시 한림읍 귀덕5길 34   \n",
       "\n",
       "          데이터기준일자  \n",
       "288    2022-03-31  \n",
       "301    2022-03-31  \n",
       "452    2022-03-31  \n",
       "571    2022-03-31  \n",
       "572    2022-03-31  \n",
       "...           ...  \n",
       "17453  2022-03-31  \n",
       "17734  2022-03-31  \n",
       "17850  2022-03-31  \n",
       "17907  2022-03-31  \n",
       "18065  2022-03-31  \n",
       "\n",
       "[130 rows x 5 columns]"
      ]
     },
     "execution_count": 169,
     "metadata": {},
     "output_type": "execute_result"
    }
   ],
   "source": [
    "df[m4]"
   ]
  },
  {
   "cell_type": "code",
   "execution_count": 175,
   "id": "c22580cc",
   "metadata": {},
   "outputs": [],
   "source": [
    "df_spl = df[m4].sort_values('가맹점명')"
   ]
  },
  {
   "cell_type": "code",
   "execution_count": 176,
   "id": "99051128",
   "metadata": {},
   "outputs": [],
   "source": [
    "m5 = df['가맹점명'].apply(lambda x: not x[0].isascii() if x[0].isalpha() else False)"
   ]
  },
  {
   "cell_type": "code",
   "execution_count": 177,
   "id": "1f232754",
   "metadata": {},
   "outputs": [
    {
     "data": {
      "text/html": [
       "<div>\n",
       "<style scoped>\n",
       "    .dataframe tbody tr th:only-of-type {\n",
       "        vertical-align: middle;\n",
       "    }\n",
       "\n",
       "    .dataframe tbody tr th {\n",
       "        vertical-align: top;\n",
       "    }\n",
       "\n",
       "    .dataframe thead th {\n",
       "        text-align: right;\n",
       "    }\n",
       "</style>\n",
       "<table border=\"1\" class=\"dataframe\">\n",
       "  <thead>\n",
       "    <tr style=\"text-align: right;\">\n",
       "      <th></th>\n",
       "      <th>행정시</th>\n",
       "      <th>가맹점명</th>\n",
       "      <th>전화번호</th>\n",
       "      <th>주소</th>\n",
       "      <th>데이터기준일자</th>\n",
       "    </tr>\n",
       "  </thead>\n",
       "  <tbody>\n",
       "    <tr>\n",
       "      <th>0</th>\n",
       "      <td>제주시</td>\n",
       "      <td>인디언썸머</td>\n",
       "      <td>064-678-4208</td>\n",
       "      <td>제주특별자치도 제주시 애월읍 애월로4길 9</td>\n",
       "      <td>2022-03-31</td>\n",
       "    </tr>\n",
       "    <tr>\n",
       "      <th>1</th>\n",
       "      <td>서귀포시</td>\n",
       "      <td>애월연어 안덕점</td>\n",
       "      <td>064-692-6607</td>\n",
       "      <td>제주특별자치도 서귀포시 안덕면 산록남로 684</td>\n",
       "      <td>2022-03-31</td>\n",
       "    </tr>\n",
       "    <tr>\n",
       "      <th>2</th>\n",
       "      <td>제주시</td>\n",
       "      <td>남가네설악추어탕도련점</td>\n",
       "      <td>064-702-0009</td>\n",
       "      <td>제주특별자치도 제주시 삼봉로 134</td>\n",
       "      <td>2022-03-31</td>\n",
       "    </tr>\n",
       "    <tr>\n",
       "      <th>3</th>\n",
       "      <td>제주시</td>\n",
       "      <td>레인원</td>\n",
       "      <td>064-702-0014</td>\n",
       "      <td>제주특별자치도 제주시 무근성7길 6</td>\n",
       "      <td>2022-03-31</td>\n",
       "    </tr>\n",
       "    <tr>\n",
       "      <th>4</th>\n",
       "      <td>제주시</td>\n",
       "      <td>권주가</td>\n",
       "      <td>064-702-0022</td>\n",
       "      <td>제주특별자치도 제주시 천수로 82</td>\n",
       "      <td>2022-03-31</td>\n",
       "    </tr>\n",
       "    <tr>\n",
       "      <th>...</th>\n",
       "      <td>...</td>\n",
       "      <td>...</td>\n",
       "      <td>...</td>\n",
       "      <td>...</td>\n",
       "      <td>...</td>\n",
       "    </tr>\n",
       "    <tr>\n",
       "      <th>18349</th>\n",
       "      <td>제주시</td>\n",
       "      <td>코끼리휴게소점빵</td>\n",
       "      <td>NaN</td>\n",
       "      <td>제주특별자치도 제주시 흥운길 73</td>\n",
       "      <td>2022-03-31</td>\n",
       "    </tr>\n",
       "    <tr>\n",
       "      <th>18350</th>\n",
       "      <td>제주시</td>\n",
       "      <td>화산2020</td>\n",
       "      <td>NaN</td>\n",
       "      <td>제주특별자치도 제주시 흥운길 85</td>\n",
       "      <td>2022-03-31</td>\n",
       "    </tr>\n",
       "    <tr>\n",
       "      <th>18351</th>\n",
       "      <td>제주시</td>\n",
       "      <td>이스방한상</td>\n",
       "      <td>NaN</td>\n",
       "      <td>제주특별자치도 제주시 흥운길 87</td>\n",
       "      <td>2022-03-31</td>\n",
       "    </tr>\n",
       "    <tr>\n",
       "      <th>18352</th>\n",
       "      <td>제주시</td>\n",
       "      <td>무용담</td>\n",
       "      <td>NaN</td>\n",
       "      <td>제주특별자치도 제주시 흥운길 91</td>\n",
       "      <td>2022-03-31</td>\n",
       "    </tr>\n",
       "    <tr>\n",
       "      <th>18353</th>\n",
       "      <td>제주시</td>\n",
       "      <td>예그리나</td>\n",
       "      <td>NaN</td>\n",
       "      <td>제주특별자치도 제주시 흥운길 93</td>\n",
       "      <td>2022-03-31</td>\n",
       "    </tr>\n",
       "  </tbody>\n",
       "</table>\n",
       "<p>18048 rows × 5 columns</p>\n",
       "</div>"
      ],
      "text/plain": [
       "        행정시         가맹점명          전화번호                         주소     데이터기준일자\n",
       "0       제주시        인디언썸머  064-678-4208    제주특별자치도 제주시 애월읍 애월로4길 9  2022-03-31\n",
       "1      서귀포시     애월연어 안덕점  064-692-6607  제주특별자치도 서귀포시 안덕면 산록남로 684  2022-03-31\n",
       "2       제주시  남가네설악추어탕도련점  064-702-0009        제주특별자치도 제주시 삼봉로 134  2022-03-31\n",
       "3       제주시          레인원  064-702-0014        제주특별자치도 제주시 무근성7길 6  2022-03-31\n",
       "4       제주시          권주가  064-702-0022         제주특별자치도 제주시 천수로 82  2022-03-31\n",
       "...     ...          ...           ...                        ...         ...\n",
       "18349   제주시     코끼리휴게소점빵           NaN         제주특별자치도 제주시 흥운길 73  2022-03-31\n",
       "18350   제주시       화산2020           NaN         제주특별자치도 제주시 흥운길 85  2022-03-31\n",
       "18351   제주시        이스방한상           NaN         제주특별자치도 제주시 흥운길 87  2022-03-31\n",
       "18352   제주시          무용담           NaN         제주특별자치도 제주시 흥운길 91  2022-03-31\n",
       "18353   제주시         예그리나           NaN         제주특별자치도 제주시 흥운길 93  2022-03-31\n",
       "\n",
       "[18048 rows x 5 columns]"
      ]
     },
     "execution_count": 177,
     "metadata": {},
     "output_type": "execute_result"
    }
   ],
   "source": [
    "df[m5]"
   ]
  },
  {
   "cell_type": "code",
   "execution_count": 178,
   "id": "fdefc52d",
   "metadata": {},
   "outputs": [],
   "source": [
    "df_kr = df[m5].sort_values('가맹점명')"
   ]
  },
  {
   "cell_type": "code",
   "execution_count": 179,
   "id": "57bf73de",
   "metadata": {},
   "outputs": [],
   "source": [
    "# 한-영-숫자-특문\n",
    "df_res = pd.concat([df_kr, df_alpha, df_num, df_spl])"
   ]
  },
  {
   "cell_type": "code",
   "execution_count": 174,
   "id": "4116275b",
   "metadata": {},
   "outputs": [
    {
     "data": {
      "text/html": [
       "<div>\n",
       "<style scoped>\n",
       "    .dataframe tbody tr th:only-of-type {\n",
       "        vertical-align: middle;\n",
       "    }\n",
       "\n",
       "    .dataframe tbody tr th {\n",
       "        vertical-align: top;\n",
       "    }\n",
       "\n",
       "    .dataframe thead th {\n",
       "        text-align: right;\n",
       "    }\n",
       "</style>\n",
       "<table border=\"1\" class=\"dataframe\">\n",
       "  <thead>\n",
       "    <tr style=\"text-align: right;\">\n",
       "      <th></th>\n",
       "      <th>행정시</th>\n",
       "      <th>가맹점명</th>\n",
       "      <th>전화번호</th>\n",
       "      <th>주소</th>\n",
       "      <th>데이터기준일자</th>\n",
       "    </tr>\n",
       "  </thead>\n",
       "  <tbody>\n",
       "    <tr>\n",
       "      <th>6553</th>\n",
       "      <td>제주시</td>\n",
       "      <td>味s7</td>\n",
       "      <td>064-748-8007</td>\n",
       "      <td>제주특별자치도 제주시 일주서로 7831</td>\n",
       "      <td>2022-03-31</td>\n",
       "    </tr>\n",
       "    <tr>\n",
       "      <th>1641</th>\n",
       "      <td>제주시</td>\n",
       "      <td>美양양</td>\n",
       "      <td>064-722-3332</td>\n",
       "      <td>제주특별자치도 제주시 도남로 62</td>\n",
       "      <td>2022-03-31</td>\n",
       "    </tr>\n",
       "    <tr>\n",
       "      <th>13905</th>\n",
       "      <td>서귀포시</td>\n",
       "      <td>가가멜</td>\n",
       "      <td>070-7798-2360</td>\n",
       "      <td>제주특별자치도 서귀포시 문부로 8</td>\n",
       "      <td>2022-03-31</td>\n",
       "    </tr>\n",
       "    <tr>\n",
       "      <th>14226</th>\n",
       "      <td>서귀포시</td>\n",
       "      <td>가가호호</td>\n",
       "      <td>NaN</td>\n",
       "      <td>제주특별자치도 서귀포시 남원읍 태위로 87</td>\n",
       "      <td>2022-03-31</td>\n",
       "    </tr>\n",
       "    <tr>\n",
       "      <th>9007</th>\n",
       "      <td>서귀포시</td>\n",
       "      <td>가고파</td>\n",
       "      <td>064-762-5331</td>\n",
       "      <td>제주특별자치도 서귀포시 중정로91번길 25-2</td>\n",
       "      <td>2022-03-31</td>\n",
       "    </tr>\n",
       "    <tr>\n",
       "      <th>...</th>\n",
       "      <td>...</td>\n",
       "      <td>...</td>\n",
       "      <td>...</td>\n",
       "      <td>...</td>\n",
       "      <td>...</td>\n",
       "    </tr>\n",
       "    <tr>\n",
       "      <th>2996</th>\n",
       "      <td>서귀포시</td>\n",
       "      <td>(주)호텔롯데 롯데호텔제주 델리카한스</td>\n",
       "      <td>064-731-1000</td>\n",
       "      <td>제주특별자치도 서귀포시 중문관광로72번길 35</td>\n",
       "      <td>2022-03-31</td>\n",
       "    </tr>\n",
       "    <tr>\n",
       "      <th>2998</th>\n",
       "      <td>서귀포시</td>\n",
       "      <td>(주)호텔롯데델리카한스/은련</td>\n",
       "      <td>064-731-1000</td>\n",
       "      <td>제주특별자치도 서귀포시 중문관광로72번길 35</td>\n",
       "      <td>2022-03-31</td>\n",
       "    </tr>\n",
       "    <tr>\n",
       "      <th>6522</th>\n",
       "      <td>제주시</td>\n",
       "      <td>(주)후사부</td>\n",
       "      <td>064-748-6311</td>\n",
       "      <td>제주특별자치도 제주시 신대로14길 35</td>\n",
       "      <td>2022-03-31</td>\n",
       "    </tr>\n",
       "    <tr>\n",
       "      <th>6523</th>\n",
       "      <td>제주시</td>\n",
       "      <td>(주)후사부</td>\n",
       "      <td>064-748-6311</td>\n",
       "      <td>제주특별자치도 제주시 신대로14길 41</td>\n",
       "      <td>2022-03-31</td>\n",
       "    </tr>\n",
       "    <tr>\n",
       "      <th>1625</th>\n",
       "      <td>제주시</td>\n",
       "      <td>(파인힐)솔동산</td>\n",
       "      <td>064-722-3023</td>\n",
       "      <td>제주특별자치도 제주시 중앙로 57</td>\n",
       "      <td>2022-03-31</td>\n",
       "    </tr>\n",
       "  </tbody>\n",
       "</table>\n",
       "<p>18354 rows × 5 columns</p>\n",
       "</div>"
      ],
      "text/plain": [
       "        행정시                  가맹점명           전화번호                         주소  \\\n",
       "6553    제주시                   味s7   064-748-8007      제주특별자치도 제주시 일주서로 7831   \n",
       "1641    제주시                   美양양   064-722-3332         제주특별자치도 제주시 도남로 62   \n",
       "13905  서귀포시                   가가멜  070-7798-2360         제주특별자치도 서귀포시 문부로 8   \n",
       "14226  서귀포시                  가가호호            NaN    제주특별자치도 서귀포시 남원읍 태위로 87   \n",
       "9007   서귀포시                   가고파   064-762-5331  제주특별자치도 서귀포시 중정로91번길 25-2   \n",
       "...     ...                   ...            ...                        ...   \n",
       "2996   서귀포시  (주)호텔롯데 롯데호텔제주 델리카한스   064-731-1000  제주특별자치도 서귀포시 중문관광로72번길 35   \n",
       "2998   서귀포시       (주)호텔롯데델리카한스/은련   064-731-1000  제주특별자치도 서귀포시 중문관광로72번길 35   \n",
       "6522    제주시                (주)후사부   064-748-6311      제주특별자치도 제주시 신대로14길 35   \n",
       "6523    제주시                (주)후사부   064-748-6311      제주특별자치도 제주시 신대로14길 41   \n",
       "1625    제주시              (파인힐)솔동산   064-722-3023         제주특별자치도 제주시 중앙로 57   \n",
       "\n",
       "          데이터기준일자  \n",
       "6553   2022-03-31  \n",
       "1641   2022-03-31  \n",
       "13905  2022-03-31  \n",
       "14226  2022-03-31  \n",
       "9007   2022-03-31  \n",
       "...           ...  \n",
       "2996   2022-03-31  \n",
       "2998   2022-03-31  \n",
       "6522   2022-03-31  \n",
       "6523   2022-03-31  \n",
       "1625   2022-03-31  \n",
       "\n",
       "[18354 rows x 5 columns]"
      ]
     },
     "execution_count": 174,
     "metadata": {},
     "output_type": "execute_result"
    }
   ],
   "source": [
    "df_res"
   ]
  },
  {
   "cell_type": "code",
   "execution_count": null,
   "id": "53356e56",
   "metadata": {},
   "outputs": [],
   "source": []
  }
 ],
 "metadata": {
  "kernelspec": {
   "display_name": "Python 3 (ipykernel)",
   "language": "python",
   "name": "python3"
  },
  "language_info": {
   "codemirror_mode": {
    "name": "ipython",
    "version": 3
   },
   "file_extension": ".py",
   "mimetype": "text/x-python",
   "name": "python",
   "nbconvert_exporter": "python",
   "pygments_lexer": "ipython3",
   "version": "3.9.13"
  }
 },
 "nbformat": 4,
 "nbformat_minor": 5
}
