{
 "cells": [
  {
   "cell_type": "markdown",
   "id": "edfa7382",
   "metadata": {},
   "source": [
    "# Python Formatting Cheat Sheet\n",
    "---"
   ]
  },
  {
   "cell_type": "code",
   "execution_count": 3,
   "id": "da3e1f85",
   "metadata": {},
   "outputs": [
    {
     "data": {
      "text/plain": [
       "'Hello Pete'"
      ]
     },
     "execution_count": 3,
     "metadata": {},
     "output_type": "execute_result"
    }
   ],
   "source": [
    "name = 'Pete'\n",
    "'Hello %s' % name\n",
    "# \"Hello Pete\""
   ]
  },
  {
   "cell_type": "code",
   "execution_count": 2,
   "id": "3dd9076b",
   "metadata": {},
   "outputs": [
    {
     "data": {
      "text/plain": [
       "'I have 5 apples'"
      ]
     },
     "execution_count": 2,
     "metadata": {},
     "output_type": "execute_result"
    }
   ],
   "source": [
    "num = 5\n",
    "'I have %d apples' % num\n",
    "# \"I have 5 apples\""
   ]
  },
  {
   "cell_type": "markdown",
   "id": "ee849910",
   "metadata": {},
   "source": [
    "## str.format\n",
    "파이썬 3은 나중에 파이썬 2.7로 백 포팅 된 문자열 형식을 수행하는 새로운 방법을 도입했습니다. 이렇게 하면 문자열 형식 지정 구문이 더 규칙적으로 만들어집니다."
   ]
  },
  {
   "cell_type": "code",
   "execution_count": 4,
   "id": "e7270019",
   "metadata": {},
   "outputs": [
    {
     "data": {
      "text/plain": [
       "\"Hello I'm John, my age is 20\""
      ]
     },
     "execution_count": 4,
     "metadata": {},
     "output_type": "execute_result"
    }
   ],
   "source": [
    "name = 'John'\n",
    "age = 20\n",
    "\n",
    "\"Hello I'm {}, my age is {}\".format(name, age)\n",
    "# \"Hello I'm John, my age is 20\"\n",
    "\n",
    "\"Hello I'm {0}, my age is {1}\".format(name, age)\n",
    "# \"Hello I'm John, my age is 20\""
   ]
  },
  {
   "cell_type": "markdown",
   "id": "6f2ba3d9",
   "metadata": {},
   "source": [
    "## 형식이 지정된 문자열 리터럴 또는 f-문자열\n",
    "Python 3.6+를 사용하는 경우 문자열 형식을 지정하는 데 권장되는 방법입니다.f-Strings"
   ]
  },
  {
   "cell_type": "code",
   "execution_count": 15,
   "id": "f448c4e4",
   "metadata": {},
   "outputs": [
    {
     "data": {
      "text/plain": [
       "'Hello Elizabeth!'"
      ]
     },
     "execution_count": 15,
     "metadata": {},
     "output_type": "execute_result"
    }
   ],
   "source": [
    "name = 'Elizabeth'\n",
    "f'Hello {name}!'\n",
    "# 'Hello Elizabeth!'"
   ]
  },
  {
   "cell_type": "code",
   "execution_count": 13,
   "id": "35f2f80e",
   "metadata": {},
   "outputs": [
    {
     "data": {
      "text/plain": [
       "'Five plus ten is 15 and not 30.'"
      ]
     },
     "execution_count": 13,
     "metadata": {},
     "output_type": "execute_result"
    }
   ],
   "source": [
    "a = 5\n",
    "b = 10\n",
    "f'Five plus ten is {a + b} and not {2 * (a + b)}.'\n",
    "# 'Five plus ten is 15 and not 30.'"
   ]
  },
  {
   "cell_type": "markdown",
   "id": "3084ca3d",
   "metadata": {},
   "source": [
    "## 여러 줄 f-스트링"
   ]
  },
  {
   "cell_type": "code",
   "execution_count": 12,
   "id": "a5f0aac0",
   "metadata": {},
   "outputs": [
    {
     "data": {
      "text/plain": [
       "'Hi, Robert. You have 12 unread messages'"
      ]
     },
     "execution_count": 12,
     "metadata": {},
     "output_type": "execute_result"
    }
   ],
   "source": [
    "name = 'Robert'\n",
    "messages = 12\n",
    "(\n",
    "f'Hi, {name}. '\n",
    "f'You have {messages} unread messages'\n",
    ")\n",
    "# 'Hi, Robert. You have 12 unread messages'"
   ]
  },
  {
   "cell_type": "markdown",
   "id": "a5de313e",
   "metadata": {},
   "source": [
    "## 지정자'='\n",
    "그러면 표현식과 해당 값이 인쇄됩니다."
   ]
  },
  {
   "cell_type": "code",
   "execution_count": 11,
   "id": "870b6b68",
   "metadata": {},
   "outputs": [
    {
     "data": {
      "text/plain": [
       "\"date and time: now='Dec/16/2022 - 09:39:36'\""
      ]
     },
     "execution_count": 11,
     "metadata": {},
     "output_type": "execute_result"
    }
   ],
   "source": [
    "from datetime import datetime\n",
    "now = datetime.now().strftime(\"%b/%d/%Y - %H:%M:%S\")\n",
    "f'date and time: {now=}'\n",
    "# \"date and time: now='Nov/14/2022 - 20:50:01'\""
   ]
  },
  {
   "cell_type": "markdown",
   "id": "82d2e532",
   "metadata": {},
   "source": [
    "## 공백 또는 문자 추가"
   ]
  },
  {
   "cell_type": "code",
   "execution_count": 10,
   "id": "0eb099d3",
   "metadata": {},
   "outputs": [
    {
     "data": {
      "text/plain": [
       "'name.upper() = ELIZABETH           '"
      ]
     },
     "execution_count": 10,
     "metadata": {},
     "output_type": "execute_result"
    }
   ],
   "source": [
    "f\"{name.upper() = :-^20}\"\n",
    "# 'name.upper() = -------ROBERT-------'\n",
    "\n",
    "f\"{name.upper() = :^20}\"\n",
    "# 'name.upper() =        ROBERT       '\n",
    "\n",
    "f\"{name.upper() = :20}\"\n",
    "# 'name.upper() = ROBERT              '"
   ]
  },
  {
   "cell_type": "markdown",
   "id": "992d302d",
   "metadata": {},
   "source": [
    "## 숫자 서식 지정\n",
    "천 단위 구분 기호 추가"
   ]
  },
  {
   "cell_type": "code",
   "execution_count": 9,
   "id": "ff4a1dc4",
   "metadata": {},
   "outputs": [
    {
     "data": {
      "text/plain": [
       "'10,000,000'"
      ]
     },
     "execution_count": 9,
     "metadata": {},
     "output_type": "execute_result"
    }
   ],
   "source": [
    "a = 10000000\n",
    "f\"{a:,}\"\n",
    "# '10,000,000'"
   ]
  },
  {
   "cell_type": "markdown",
   "id": "0856ccf0",
   "metadata": {},
   "source": [
    "반올림"
   ]
  },
  {
   "cell_type": "code",
   "execution_count": 8,
   "id": "15d7a908",
   "metadata": {},
   "outputs": [
    {
     "data": {
      "text/plain": [
       "'3.14'"
      ]
     },
     "execution_count": 8,
     "metadata": {},
     "output_type": "execute_result"
    }
   ],
   "source": [
    "a = 3.1415926\n",
    "f\"{a:.2f}\"\n",
    "# '3.14'"
   ]
  },
  {
   "cell_type": "markdown",
   "id": "3447f5ea",
   "metadata": {},
   "source": [
    "백분율로 표시"
   ]
  },
  {
   "cell_type": "code",
   "execution_count": 7,
   "id": "934f3cc4",
   "metadata": {},
   "outputs": [
    {
     "data": {
      "text/plain": [
       "'81.66%'"
      ]
     },
     "execution_count": 7,
     "metadata": {},
     "output_type": "execute_result"
    }
   ],
   "source": [
    "a = 0.816562\n",
    "f\"{a:.2%}\"\n",
    "# '81.66%'"
   ]
  },
  {
   "cell_type": "markdown",
   "id": "5b27e1df",
   "metadata": {},
   "source": [
    "## 숫자 서식 표\n",
    "수|판|출력|묘사\n",
    "---:|:---:|:---:|:---\n",
    "3.1415926|{:.2f}|3.14|소수점 이하 2자리 부동 소수점 형식 지정\n",
    "3.1415926|{:+.2f}|+3.14|기호가 있는 소수점 이하 2자리 형식\n",
    "-1|{:+.2f}|-1.00|기호가 있는 소수점 이하 2자리 형식\n",
    "2.71828|{:.0f}|3|소수점 이하 자릿수가 없는 부동 소수점 형식 지정\n",
    "4|{:0>2d}|04|0이 있는 패드 번호(왼쪽 패딩, 너비 2)\n",
    "4|{:x<4d}|4xxx|패드 번호와 x(오른쪽 패딩, 폭 4)\n",
    "10|{:x<4d}|10xx|패드 번호와 x(오른쪽 패딩, 폭 4)\n",
    "1000000|{:,}|1,000,000|쉼표 구분 기호가 있는 숫자 형식\n",
    "0.35|{:.2%}|35.00%|형식 백분율\n",
    "1000000000|{:.2e}|1.00e+09|지수 표기법\n",
    "11|{:11d}|11|오른쪽 맞춤(기본값, 너비 10)\n",
    "11|{:<11d}|11|왼쪽 정렬(너비 10)\n",
    "11|{:^11d}|11|중앙 정렬(너비 10)"
   ]
  },
  {
   "cell_type": "markdown",
   "id": "b75a04a0",
   "metadata": {},
   "source": [
    "## 템플릿 문자열\n",
    "더 간단하고 덜 강력한 메커니즘이지만 사용자가 생성한 문자열을 처리할 때 권장됩니다. 복잡성이 줄어들기 때문에 템플릿 문자열이 더 안전한 선택입니다."
   ]
  },
  {
   "cell_type": "code",
   "execution_count": 6,
   "id": "dbedb289",
   "metadata": {},
   "outputs": [
    {
     "data": {
      "text/plain": [
       "'Hey Elizabeth!'"
      ]
     },
     "execution_count": 6,
     "metadata": {},
     "output_type": "execute_result"
    }
   ],
   "source": [
    "from string import Template\n",
    "name = 'Elizabeth'\n",
    "t = Template('Hey $name!')\n",
    "t.substitute(name=name)\n",
    "# 'Hey Elizabeth!'"
   ]
  },
  {
   "cell_type": "code",
   "execution_count": null,
   "id": "03ce34da",
   "metadata": {},
   "outputs": [],
   "source": []
  }
 ],
 "metadata": {
  "kernelspec": {
   "display_name": "Python 3 (ipykernel)",
   "language": "python",
   "name": "python3"
  },
  "language_info": {
   "codemirror_mode": {
    "name": "ipython",
    "version": 3
   },
   "file_extension": ".py",
   "mimetype": "text/x-python",
   "name": "python",
   "nbconvert_exporter": "python",
   "pygments_lexer": "ipython3",
   "version": "3.9.13"
  }
 },
 "nbformat": 4,
 "nbformat_minor": 5
}
