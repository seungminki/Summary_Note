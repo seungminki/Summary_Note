{
  "nbformat": 4,
  "nbformat_minor": 0,
  "metadata": {
    "colab": {
      "provenance": []
    },
    "kernelspec": {
      "name": "python3",
      "display_name": "Python 3"
    },
    "language_info": {
      "name": "python"
    },
    "widgets": {
      "application/vnd.jupyter.widget-state+json": {
        "15dcd849e59e40cdbfe760c9618a7801": {
          "model_module": "@jupyter-widgets/controls",
          "model_name": "HBoxModel",
          "model_module_version": "1.5.0",
          "state": {
            "_dom_classes": [],
            "_model_module": "@jupyter-widgets/controls",
            "_model_module_version": "1.5.0",
            "_model_name": "HBoxModel",
            "_view_count": null,
            "_view_module": "@jupyter-widgets/controls",
            "_view_module_version": "1.5.0",
            "_view_name": "HBoxView",
            "box_style": "",
            "children": [
              "IPY_MODEL_58d6a59c4fd441bd8fa24cb539664cc1",
              "IPY_MODEL_9cc2c92c75434deca36535697b9668e2",
              "IPY_MODEL_3dabadaa7c294b58954d1686cf209760"
            ],
            "layout": "IPY_MODEL_0eb66f18c8ba49238ffa2e5e0553c1e3"
          }
        },
        "58d6a59c4fd441bd8fa24cb539664cc1": {
          "model_module": "@jupyter-widgets/controls",
          "model_name": "HTMLModel",
          "model_module_version": "1.5.0",
          "state": {
            "_dom_classes": [],
            "_model_module": "@jupyter-widgets/controls",
            "_model_module_version": "1.5.0",
            "_model_name": "HTMLModel",
            "_view_count": null,
            "_view_module": "@jupyter-widgets/controls",
            "_view_module_version": "1.5.0",
            "_view_name": "HTMLView",
            "description": "",
            "description_tooltip": null,
            "layout": "IPY_MODEL_065bb4b3acc24b9bbdd3428de0f12a9a",
            "placeholder": "​",
            "style": "IPY_MODEL_d51f8d08dad54445a9d574062209df4e",
            "value": "100%"
          }
        },
        "9cc2c92c75434deca36535697b9668e2": {
          "model_module": "@jupyter-widgets/controls",
          "model_name": "FloatProgressModel",
          "model_module_version": "1.5.0",
          "state": {
            "_dom_classes": [],
            "_model_module": "@jupyter-widgets/controls",
            "_model_module_version": "1.5.0",
            "_model_name": "FloatProgressModel",
            "_view_count": null,
            "_view_module": "@jupyter-widgets/controls",
            "_view_module_version": "1.5.0",
            "_view_name": "ProgressView",
            "bar_style": "success",
            "description": "",
            "description_tooltip": null,
            "layout": "IPY_MODEL_0a9c63f534e4494eb371fbb420d586bc",
            "max": 1000,
            "min": 0,
            "orientation": "horizontal",
            "style": "IPY_MODEL_a077773ffc6140488acde1c97078e5df",
            "value": 1000
          }
        },
        "3dabadaa7c294b58954d1686cf209760": {
          "model_module": "@jupyter-widgets/controls",
          "model_name": "HTMLModel",
          "model_module_version": "1.5.0",
          "state": {
            "_dom_classes": [],
            "_model_module": "@jupyter-widgets/controls",
            "_model_module_version": "1.5.0",
            "_model_name": "HTMLModel",
            "_view_count": null,
            "_view_module": "@jupyter-widgets/controls",
            "_view_module_version": "1.5.0",
            "_view_name": "HTMLView",
            "description": "",
            "description_tooltip": null,
            "layout": "IPY_MODEL_042630dfcf4c481f82ec1c0b9c4b0de1",
            "placeholder": "​",
            "style": "IPY_MODEL_91fb10b21198452fa6c3fef0390ec47f",
            "value": " 1000/1000 [02:00&lt;00:00,  5.70it/s]"
          }
        },
        "0eb66f18c8ba49238ffa2e5e0553c1e3": {
          "model_module": "@jupyter-widgets/base",
          "model_name": "LayoutModel",
          "model_module_version": "1.2.0",
          "state": {
            "_model_module": "@jupyter-widgets/base",
            "_model_module_version": "1.2.0",
            "_model_name": "LayoutModel",
            "_view_count": null,
            "_view_module": "@jupyter-widgets/base",
            "_view_module_version": "1.2.0",
            "_view_name": "LayoutView",
            "align_content": null,
            "align_items": null,
            "align_self": null,
            "border": null,
            "bottom": null,
            "display": null,
            "flex": null,
            "flex_flow": null,
            "grid_area": null,
            "grid_auto_columns": null,
            "grid_auto_flow": null,
            "grid_auto_rows": null,
            "grid_column": null,
            "grid_gap": null,
            "grid_row": null,
            "grid_template_areas": null,
            "grid_template_columns": null,
            "grid_template_rows": null,
            "height": null,
            "justify_content": null,
            "justify_items": null,
            "left": null,
            "margin": null,
            "max_height": null,
            "max_width": null,
            "min_height": null,
            "min_width": null,
            "object_fit": null,
            "object_position": null,
            "order": null,
            "overflow": null,
            "overflow_x": null,
            "overflow_y": null,
            "padding": null,
            "right": null,
            "top": null,
            "visibility": null,
            "width": null
          }
        },
        "065bb4b3acc24b9bbdd3428de0f12a9a": {
          "model_module": "@jupyter-widgets/base",
          "model_name": "LayoutModel",
          "model_module_version": "1.2.0",
          "state": {
            "_model_module": "@jupyter-widgets/base",
            "_model_module_version": "1.2.0",
            "_model_name": "LayoutModel",
            "_view_count": null,
            "_view_module": "@jupyter-widgets/base",
            "_view_module_version": "1.2.0",
            "_view_name": "LayoutView",
            "align_content": null,
            "align_items": null,
            "align_self": null,
            "border": null,
            "bottom": null,
            "display": null,
            "flex": null,
            "flex_flow": null,
            "grid_area": null,
            "grid_auto_columns": null,
            "grid_auto_flow": null,
            "grid_auto_rows": null,
            "grid_column": null,
            "grid_gap": null,
            "grid_row": null,
            "grid_template_areas": null,
            "grid_template_columns": null,
            "grid_template_rows": null,
            "height": null,
            "justify_content": null,
            "justify_items": null,
            "left": null,
            "margin": null,
            "max_height": null,
            "max_width": null,
            "min_height": null,
            "min_width": null,
            "object_fit": null,
            "object_position": null,
            "order": null,
            "overflow": null,
            "overflow_x": null,
            "overflow_y": null,
            "padding": null,
            "right": null,
            "top": null,
            "visibility": null,
            "width": null
          }
        },
        "d51f8d08dad54445a9d574062209df4e": {
          "model_module": "@jupyter-widgets/controls",
          "model_name": "DescriptionStyleModel",
          "model_module_version": "1.5.0",
          "state": {
            "_model_module": "@jupyter-widgets/controls",
            "_model_module_version": "1.5.0",
            "_model_name": "DescriptionStyleModel",
            "_view_count": null,
            "_view_module": "@jupyter-widgets/base",
            "_view_module_version": "1.2.0",
            "_view_name": "StyleView",
            "description_width": ""
          }
        },
        "0a9c63f534e4494eb371fbb420d586bc": {
          "model_module": "@jupyter-widgets/base",
          "model_name": "LayoutModel",
          "model_module_version": "1.2.0",
          "state": {
            "_model_module": "@jupyter-widgets/base",
            "_model_module_version": "1.2.0",
            "_model_name": "LayoutModel",
            "_view_count": null,
            "_view_module": "@jupyter-widgets/base",
            "_view_module_version": "1.2.0",
            "_view_name": "LayoutView",
            "align_content": null,
            "align_items": null,
            "align_self": null,
            "border": null,
            "bottom": null,
            "display": null,
            "flex": null,
            "flex_flow": null,
            "grid_area": null,
            "grid_auto_columns": null,
            "grid_auto_flow": null,
            "grid_auto_rows": null,
            "grid_column": null,
            "grid_gap": null,
            "grid_row": null,
            "grid_template_areas": null,
            "grid_template_columns": null,
            "grid_template_rows": null,
            "height": null,
            "justify_content": null,
            "justify_items": null,
            "left": null,
            "margin": null,
            "max_height": null,
            "max_width": null,
            "min_height": null,
            "min_width": null,
            "object_fit": null,
            "object_position": null,
            "order": null,
            "overflow": null,
            "overflow_x": null,
            "overflow_y": null,
            "padding": null,
            "right": null,
            "top": null,
            "visibility": null,
            "width": null
          }
        },
        "a077773ffc6140488acde1c97078e5df": {
          "model_module": "@jupyter-widgets/controls",
          "model_name": "ProgressStyleModel",
          "model_module_version": "1.5.0",
          "state": {
            "_model_module": "@jupyter-widgets/controls",
            "_model_module_version": "1.5.0",
            "_model_name": "ProgressStyleModel",
            "_view_count": null,
            "_view_module": "@jupyter-widgets/base",
            "_view_module_version": "1.2.0",
            "_view_name": "StyleView",
            "bar_color": null,
            "description_width": ""
          }
        },
        "042630dfcf4c481f82ec1c0b9c4b0de1": {
          "model_module": "@jupyter-widgets/base",
          "model_name": "LayoutModel",
          "model_module_version": "1.2.0",
          "state": {
            "_model_module": "@jupyter-widgets/base",
            "_model_module_version": "1.2.0",
            "_model_name": "LayoutModel",
            "_view_count": null,
            "_view_module": "@jupyter-widgets/base",
            "_view_module_version": "1.2.0",
            "_view_name": "LayoutView",
            "align_content": null,
            "align_items": null,
            "align_self": null,
            "border": null,
            "bottom": null,
            "display": null,
            "flex": null,
            "flex_flow": null,
            "grid_area": null,
            "grid_auto_columns": null,
            "grid_auto_flow": null,
            "grid_auto_rows": null,
            "grid_column": null,
            "grid_gap": null,
            "grid_row": null,
            "grid_template_areas": null,
            "grid_template_columns": null,
            "grid_template_rows": null,
            "height": null,
            "justify_content": null,
            "justify_items": null,
            "left": null,
            "margin": null,
            "max_height": null,
            "max_width": null,
            "min_height": null,
            "min_width": null,
            "object_fit": null,
            "object_position": null,
            "order": null,
            "overflow": null,
            "overflow_x": null,
            "overflow_y": null,
            "padding": null,
            "right": null,
            "top": null,
            "visibility": null,
            "width": null
          }
        },
        "91fb10b21198452fa6c3fef0390ec47f": {
          "model_module": "@jupyter-widgets/controls",
          "model_name": "DescriptionStyleModel",
          "model_module_version": "1.5.0",
          "state": {
            "_model_module": "@jupyter-widgets/controls",
            "_model_module_version": "1.5.0",
            "_model_name": "DescriptionStyleModel",
            "_view_count": null,
            "_view_module": "@jupyter-widgets/base",
            "_view_module_version": "1.2.0",
            "_view_name": "StyleView",
            "description_width": ""
          }
        }
      }
    }
  },
  "cells": [
    {
      "cell_type": "code",
      "execution_count": 5,
      "metadata": {
        "colab": {
          "base_uri": "https://localhost:8080/",
          "height": 35
        },
        "id": "ejdIFvqPMaJd",
        "outputId": "6243b1ac-3042-4367-d61d-a0cfb20d221b"
      },
      "outputs": [
        {
          "output_type": "execute_result",
          "data": {
            "text/plain": [
              "'1.21.6'"
            ],
            "application/vnd.google.colaboratory.intrinsic+json": {
              "type": "string"
            }
          },
          "metadata": {},
          "execution_count": 5
        }
      ],
      "source": [
        "import numpy as np\n",
        "np.__version__"
      ]
    },
    {
      "cell_type": "markdown",
      "source": [
        "## 1. Perceptron (Logic Circuit)"
      ],
      "metadata": {
        "id": "lLaHx-WZS6_A"
      }
    },
    {
      "cell_type": "code",
      "source": [
        "def AND(x1, x2, b = -.7):\n",
        "  x = np.array([x1, x2])\n",
        "  w = np.array([.5, .5])\n",
        "\n",
        "  # result = x*w # [x1 * w[0], x2 * x[1]]\n",
        "  # result = np.sum(result)\n",
        "  # result = result + b\n",
        "\n",
        "  result = np.sum(x * w) + b\n",
        "\n",
        "  # if result > 0 :\n",
        "  #   return 1\n",
        "  # else:\n",
        "  #   return 0\n",
        "\n",
        "  return 1 if result > 0 else 0"
      ],
      "metadata": {
        "id": "DHFDdoJOMua6"
      },
      "execution_count": 6,
      "outputs": []
    },
    {
      "cell_type": "code",
      "source": [
        "X = [\n",
        "    [0, 0],\n",
        "    [0, 1],\n",
        "    [1, 0],\n",
        "    [1, 1]\n",
        "]\n",
        "\n",
        "# result = list()\n",
        "# for elem in X:\n",
        "#   x1, x2 = elem\n",
        "#   res = AND(x1, x2)\n",
        "#   result.append(res)\n",
        "\n",
        "# result = [AND(x1, x2) for x1, x2 in X]\n",
        "result = [AND(*elem) for elem in X]\n",
        "print(result)\n",
        "# 결과해석: AND gate를 적용하였을 때 마지막만 1값임"
      ],
      "metadata": {
        "colab": {
          "base_uri": "https://localhost:8080/"
        },
        "id": "ktgNTM5xODbN",
        "outputId": "7d9b9924-6793-4ba5-f9d3-7f7c4ce7c5cc"
      },
      "execution_count": 7,
      "outputs": [
        {
          "output_type": "stream",
          "name": "stdout",
          "text": [
            "[0, 0, 0, 1]\n"
          ]
        }
      ]
    },
    {
      "cell_type": "code",
      "source": [
        "def NAND(x1, x2, b = .7):\n",
        "  x = np.array([x1, x2])\n",
        "  w = np.array([-.5, -.5])\n",
        "\n",
        "  result = np.sum(x * w) + b\n",
        "\n",
        "  return 1 if result > 0 else 0"
      ],
      "metadata": {
        "id": "TO_tybG4OrFf"
      },
      "execution_count": 8,
      "outputs": []
    },
    {
      "cell_type": "code",
      "source": [
        "X = [\n",
        "    [0, 0],\n",
        "    [0, 1],\n",
        "    [1, 0],\n",
        "    [1, 1]\n",
        "]\n",
        "\n",
        "result = [NAND(*elem) for elem in X]\n",
        "print(result)"
      ],
      "metadata": {
        "colab": {
          "base_uri": "https://localhost:8080/"
        },
        "id": "tvSzDRaQQX36",
        "outputId": "383b9539-6302-4680-a055-2c39d0b45cc5"
      },
      "execution_count": 9,
      "outputs": [
        {
          "output_type": "stream",
          "name": "stdout",
          "text": [
            "[1, 1, 1, 0]\n"
          ]
        }
      ]
    },
    {
      "cell_type": "code",
      "source": [
        "def OR(x1, x2, b = -.2):\n",
        "  x = np.array([x1, x2])\n",
        "  w = np.array([.5, .5])\n",
        "  result = np.sum(x * w) + b\n",
        "  return 1 if result > 0 else 0"
      ],
      "metadata": {
        "id": "YGh8J-oBQl5f"
      },
      "execution_count": 10,
      "outputs": []
    },
    {
      "cell_type": "code",
      "source": [
        "[OR(*elem) for elem in X]"
      ],
      "metadata": {
        "colab": {
          "base_uri": "https://localhost:8080/"
        },
        "id": "FGwaQ4bjRCZw",
        "outputId": "b4cd92db-9c3e-4aa8-c063-2b333a2cf10b"
      },
      "execution_count": 11,
      "outputs": [
        {
          "output_type": "execute_result",
          "data": {
            "text/plain": [
              "[0, 1, 1, 1]"
            ]
          },
          "metadata": {},
          "execution_count": 11
        }
      ]
    },
    {
      "cell_type": "code",
      "source": [
        "def XOR(x1, x2):\n",
        "  s1 = NAND(x1, x2)\n",
        "  s2 = OR(x1, x2)\n",
        "  return AND(s1, s2)\n",
        "\n",
        "[XOR(*elem) for elem in X]"
      ],
      "metadata": {
        "colab": {
          "base_uri": "https://localhost:8080/"
        },
        "id": "5u_kDy4eDKAu",
        "outputId": "d30f8d36-4fff-4dd9-e51e-f7d0cbff828b"
      },
      "execution_count": 12,
      "outputs": [
        {
          "output_type": "execute_result",
          "data": {
            "text/plain": [
              "[0, 1, 1, 0]"
            ]
          },
          "metadata": {},
          "execution_count": 12
        }
      ]
    },
    {
      "cell_type": "code",
      "source": [
        "def get_x2(x1, w_idx, b_idx):\n",
        "    w_points = np.array([\n",
        "        [0.5, 0.5],\n",
        "        [-0.5, -0.5],\n",
        "        [0.5, 0.5]\n",
        "    ])\n",
        "    b_points = [-0.7, 0.7, -0.2]\n",
        "    return (\n",
        "        -b_points[b_idx] - w_points[w_idx][0] * x1\n",
        "    ) / w_points[w_idx][1]"
      ],
      "metadata": {
        "id": "qLahyDinWCtA"
      },
      "execution_count": 13,
      "outputs": []
    },
    {
      "cell_type": "code",
      "source": [
        "import matplotlib.pyplot as plt\n",
        "fig = plt.figure(figsize=(8, 3), dpi =100)\n",
        "\n",
        "#AND\n",
        "ax1 = fig.add_subplot(1, 4, 1)\n",
        "ax1. scatter([1], [1], s=30, c='r', marker = 'o')\n",
        "ax1. scatter([0, 0, 1], [0, 1, 0], s=30, c='r', marker = 'x')\n",
        "ax1.plot([-2, 2], [get_x2(-2, 0, 0), get_x2(2, 0, 0)])\n",
        "ax1.set_xlim([-2, 2])\n",
        "ax1.set_ylim([-2, 2])\n",
        "ax1.set_title('AND')\n",
        "\n",
        "#NAND\n",
        "ax1 = fig.add_subplot(1, 4, 2)\n",
        "ax1. scatter([1], [1], s=30, c='r', marker = 'x')\n",
        "ax1. scatter([0, 0, 1], [0, 1, 0], s=30, c='r', marker = 'o')\n",
        "ax1.plot([-2, 2], [get_x2(-2, 1, 1), get_x2(2, 1, 1)])\n",
        "ax1.set_xlim([-2, 2])\n",
        "ax1.set_ylim([-2, 2])\n",
        "ax1.set_title('NAND')\n",
        "\n",
        "#OR\n",
        "ax1 = fig.add_subplot(1, 4, 3)\n",
        "ax1. scatter([0], [0], s=30, c='r', marker = 'x')\n",
        "ax1. scatter([1, 0, 1], [0, 1, 1], s=30, c='r', marker = 'o')\n",
        "ax1.plot([-2, 2], [get_x2(-2, 2, 2), get_x2(2, 2, 2)])\n",
        "ax1.set_xlim([-2, 2])\n",
        "ax1.set_ylim([-2, 2])\n",
        "ax1.set_title('OR')\n",
        "\n",
        "#XOR\n",
        "ax4 = fig.add_subplot(1, 4, 4)\n",
        "ax4.scatter([0, 1], [0, 1], s=30, c=\"r\", marker=\"o\")\n",
        "ax4.scatter([0, 1], [1, 0], s=30, c=\"r\", marker=\"x\")\n",
        "ax4.set_xlim([-2, 2])\n",
        "ax4.set_ylim([-2, 2])\n",
        "ax4.set_title(\"XOR\")\n",
        "\n",
        "plt.tight_layout()\n",
        "plt.show()"
      ],
      "metadata": {
        "colab": {
          "base_uri": "https://localhost:8080/",
          "height": 307
        },
        "id": "tsnNIudBREtY",
        "outputId": "795ab810-a057-4eee-a561-a1d97b7a16b1"
      },
      "execution_count": 14,
      "outputs": [
        {
          "output_type": "display_data",
          "data": {
            "text/plain": [
              "<Figure size 800x300 with 4 Axes>"
            ],
            "image/png": "[encoded data removed]"
          },
          "metadata": {
            "needs_background": "light"
          }
        }
      ]
    },
    {
      "cell_type": "markdown",
      "source": [
        "## Activation Function"
      ],
      "metadata": {
        "id": "sKM40XQBEeyf"
      }
    },
    {
      "cell_type": "code",
      "source": [
        "x = np.array([-1, 0, 1])\n",
        "x > 0"
      ],
      "metadata": {
        "colab": {
          "base_uri": "https://localhost:8080/"
        },
        "id": "tBAI8JaKK-dA",
        "outputId": "33ec9335-6dbe-472b-e0a8-5130b2b35c63"
      },
      "execution_count": 15,
      "outputs": [
        {
          "output_type": "execute_result",
          "data": {
            "text/plain": [
              "array([False, False,  True])"
            ]
          },
          "metadata": {},
          "execution_count": 15
        }
      ]
    },
    {
      "cell_type": "code",
      "source": [
        "def step_function(x: np.array):\n",
        "  y = x > 0\n",
        "  return y.astype(np.int32)\n"
      ],
      "metadata": {
        "id": "0za3az0aV2QK"
      },
      "execution_count": 16,
      "outputs": []
    },
    {
      "cell_type": "code",
      "source": [
        "x = np.array([-1, 0, 1])\n",
        "\n",
        "step_function(x)\n",
        "# array([False, False,  True])"
      ],
      "metadata": {
        "id": "-3I0ayQk1F_j",
        "colab": {
          "base_uri": "https://localhost:8080/"
        },
        "outputId": "362895d4-dbd3-4486-89a8-8a4bc7d3a7d8"
      },
      "execution_count": 17,
      "outputs": [
        {
          "output_type": "execute_result",
          "data": {
            "text/plain": [
              "array([0, 0, 1], dtype=int32)"
            ]
          },
          "metadata": {},
          "execution_count": 17
        }
      ]
    },
    {
      "cell_type": "code",
      "source": [
        "import matplotlib.pyplot as plt\n",
        "\n",
        "x = np.arange(-5., 5., .1)\n",
        "y = step_function(x)\n",
        "\n",
        "plt.plot(x, y)\n",
        "plt.ylim(-.1, 1.1)\n",
        "plt.show()\n"
      ],
      "metadata": {
        "id": "GJ_mF-Xk1J_S",
        "colab": {
          "base_uri": "https://localhost:8080/",
          "height": 265
        },
        "outputId": "670faf77-332d-4769-bca8-4cf912472e6f"
      },
      "execution_count": 20,
      "outputs": [
        {
          "output_type": "display_data",
          "data": {
            "text/plain": [
              "<Figure size 432x288 with 1 Axes>"
            ],
            "image/png": "[encoded data removed]"
          },
          "metadata": {
            "needs_background": "light"
          }
        }
      ]
    },
    {
      "cell_type": "code",
      "source": [
        "def sigmoid(x):\n",
        "  # y = (1 / np.exp(-x))\n",
        "  # y = 1 / y\n",
        "  # return y\n",
        "  return 1 / (1 + np.exp(-x))"
      ],
      "metadata": {
        "id": "mFN19vl61ZYi"
      },
      "execution_count": 21,
      "outputs": []
    },
    {
      "cell_type": "code",
      "source": [
        "x = np.array([-1., 1., 2.])\n",
        "sigmoid(x)"
      ],
      "metadata": {
        "colab": {
          "base_uri": "https://localhost:8080/"
        },
        "id": "sxMuu3h41uwy",
        "outputId": "5261c4dd-d66b-4756-9e09-acb98e0d711b"
      },
      "execution_count": 23,
      "outputs": [
        {
          "output_type": "execute_result",
          "data": {
            "text/plain": [
              "array([0.26894142, 0.73105858, 0.88079708])"
            ]
          },
          "metadata": {},
          "execution_count": 23
        }
      ]
    },
    {
      "cell_type": "code",
      "source": [
        "x = np.arange(-10., 10., .1)\n",
        "y = sigmoid(x)\n",
        "y2 = step_function(x)\n",
        "\n",
        "plt.plot(x, y)\n",
        "plt.plot(x, y2)\n",
        "plt.ylim(-.1, 1.1)\n",
        "plt.legend([\"sigmoid\", \"step function\"])\n",
        "plt.show()"
      ],
      "metadata": {
        "colab": {
          "base_uri": "https://localhost:8080/",
          "height": 265
        },
        "id": "jYQxWTgw11iD",
        "outputId": "fe70d117-3c98-4c65-86e7-e1f8a7c7c9b8"
      },
      "execution_count": 24,
      "outputs": [
        {
          "output_type": "display_data",
          "data": {
            "text/plain": [
              "<Figure size 432x288 with 1 Axes>"
            ],
            "image/png": "[encoded data removed]"
          },
          "metadata": {
            "needs_background": "light"
          }
        }
      ]
    },
    {
      "cell_type": "code",
      "source": [
        "def ReLU(X):\n",
        "  # alist = list()\n",
        "  # for elem in X:\n",
        "  #   if elem > 0:\n",
        "  #     alist.append(elem)\n",
        "  #   else:\n",
        "  #     alist.append(0)\n",
        "  # alist = np.array(alist)\n",
        "  # alist = np.array([elem if elem > 0 else 0 for elem in X])\n",
        "  # return alist\n",
        "\n",
        "  return np.array([elem if elem > 0 else 0 for elem in X])\n",
        "\n",
        "def LeakyReLU(X, a=0.1):\n",
        "  return np.array([elem if elem > 0 else (elem * a) for elem in X])"
      ],
      "metadata": {
        "id": "vKLocT-K2M4M"
      },
      "execution_count": 25,
      "outputs": []
    },
    {
      "cell_type": "code",
      "source": [
        "x = np.arange(-10., 10., .1)\n",
        "y = ReLU(x)\n",
        "y2 = LeakyReLU(x)\n",
        "\n",
        "plt.plot(x, y)\n",
        "plt.plot(x, y2)\n",
        "plt.ylim(-2., 10.)\n",
        "plt.legend(['ReLU', 'LeakyReLU'])\n",
        "plt.show()"
      ],
      "metadata": {
        "colab": {
          "base_uri": "https://localhost:8080/",
          "height": 269
        },
        "id": "wUSyfVX33PAV",
        "outputId": "40e526a4-a17e-45f5-e962-cd4767f11e66"
      },
      "execution_count": 27,
      "outputs": [
        {
          "output_type": "display_data",
          "data": {
            "text/plain": [
              "<Figure size 432x288 with 1 Axes>"
            ],
            "image/png": "[encoded data removed]"
          },
          "metadata": {
            "needs_background": "light"
          }
        }
      ]
    },
    {
      "cell_type": "code",
      "source": [
        "def softmax(x):\n",
        "  exp_x: np.array = np.exp(x)\n",
        "  sum_exp_x = np.sum(exp_x)\n",
        "  y = exp_x / sum_exp_x\n",
        "  return y"
      ],
      "metadata": {
        "id": "EnlyaWA-3taN"
      },
      "execution_count": 28,
      "outputs": []
    },
    {
      "cell_type": "code",
      "source": [
        "x = np.array([.1, 2.5, 4.])\n",
        "y = softmax(x)\n",
        "\n",
        "plt.bar(\n",
        "    [str(elem) for elem in x],\n",
        "    y\n",
        ")\n",
        "\n",
        "plt.show()"
      ],
      "metadata": {
        "colab": {
          "base_uri": "https://localhost:8080/",
          "height": 265
        },
        "id": "jwnnkc1q4CJE",
        "outputId": "355e67a1-3cb5-435e-a09d-8d7784f62a94"
      },
      "execution_count": 29,
      "outputs": [
        {
          "output_type": "display_data",
          "data": {
            "text/plain": [
              "<Figure size 432x288 with 1 Axes>"
            ],
            "image/png": "[encoded data removed]"
          },
          "metadata": {
            "needs_background": "light"
          }
        }
      ]
    },
    {
      "cell_type": "code",
      "source": [
        "np.sum(softmax(x))"
      ],
      "metadata": {
        "colab": {
          "base_uri": "https://localhost:8080/"
        },
        "id": "9WyVG6FIRURg",
        "outputId": "6a2234cf-4c1d-431e-cfe0-14ed08246cd8"
      },
      "execution_count": 30,
      "outputs": [
        {
          "output_type": "execute_result",
          "data": {
            "text/plain": [
              "1.0"
            ]
          },
          "metadata": {},
          "execution_count": 30
        }
      ]
    },
    {
      "cell_type": "markdown",
      "source": [
        "## N-d Array"
      ],
      "metadata": {
        "id": "lzY7eenhRagX"
      }
    },
    {
      "cell_type": "code",
      "source": [
        "A = np.array([1, 2, 3])\n",
        "A"
      ],
      "metadata": {
        "colab": {
          "base_uri": "https://localhost:8080/"
        },
        "id": "I1RNvNgsRdB2",
        "outputId": "85e9da4b-1ad0-4ee0-c4fc-18ffb51b222c"
      },
      "execution_count": 31,
      "outputs": [
        {
          "output_type": "execute_result",
          "data": {
            "text/plain": [
              "array([1, 2, 3])"
            ]
          },
          "metadata": {},
          "execution_count": 31
        }
      ]
    },
    {
      "cell_type": "code",
      "source": [
        "A.shape"
      ],
      "metadata": {
        "colab": {
          "base_uri": "https://localhost:8080/"
        },
        "id": "nLBMyYx-RdEm",
        "outputId": "814084cc-8867-49e2-b2af-825dc6f6861d"
      },
      "execution_count": 32,
      "outputs": [
        {
          "output_type": "execute_result",
          "data": {
            "text/plain": [
              "(3,)"
            ]
          },
          "metadata": {},
          "execution_count": 32
        }
      ]
    },
    {
      "cell_type": "code",
      "source": [
        "B = np.array([\n",
        "    [1, 2, 3, 4],\n",
        "    [3, 4, 5, 6],\n",
        "    [5, 6, 7, 8]\n",
        "])\n",
        "\n",
        "B.shape"
      ],
      "metadata": {
        "colab": {
          "base_uri": "https://localhost:8080/"
        },
        "id": "ZDBqYRVxRdHe",
        "outputId": "c01c90f2-9e9c-4859-8a8b-6398a4d6fdf2"
      },
      "execution_count": 33,
      "outputs": [
        {
          "output_type": "execute_result",
          "data": {
            "text/plain": [
              "(3, 4)"
            ]
          },
          "metadata": {},
          "execution_count": 33
        }
      ]
    },
    {
      "cell_type": "code",
      "source": [
        "B[0][1], B[2, 2]"
      ],
      "metadata": {
        "colab": {
          "base_uri": "https://localhost:8080/"
        },
        "id": "a-rqXpVQRdKn",
        "outputId": "d0f07994-e606-4387-f78e-7f04722251ef"
      },
      "execution_count": 35,
      "outputs": [
        {
          "output_type": "execute_result",
          "data": {
            "text/plain": [
              "(2, 7)"
            ]
          },
          "metadata": {},
          "execution_count": 35
        }
      ]
    },
    {
      "cell_type": "code",
      "source": [
        "np.dot(A, B)"
      ],
      "metadata": {
        "colab": {
          "base_uri": "https://localhost:8080/"
        },
        "id": "hr9MS34iRdOA",
        "outputId": "a73c0959-42e8-4983-9c5d-187cf7c5ed97"
      },
      "execution_count": 36,
      "outputs": [
        {
          "output_type": "execute_result",
          "data": {
            "text/plain": [
              "array([22, 28, 34, 40])"
            ]
          },
          "metadata": {},
          "execution_count": 36
        }
      ]
    },
    {
      "cell_type": "code",
      "source": [
        "B.T"
      ],
      "metadata": {
        "colab": {
          "base_uri": "https://localhost:8080/"
        },
        "id": "N-MM04hgSNEm",
        "outputId": "954da5e0-fad5-493b-f709-5f0f6aa3c6cf"
      },
      "execution_count": 37,
      "outputs": [
        {
          "output_type": "execute_result",
          "data": {
            "text/plain": [
              "array([[1, 3, 5],\n",
              "       [2, 4, 6],\n",
              "       [3, 5, 7],\n",
              "       [4, 6, 8]])"
            ]
          },
          "metadata": {},
          "execution_count": 37
        }
      ]
    },
    {
      "cell_type": "code",
      "source": [
        "B"
      ],
      "metadata": {
        "colab": {
          "base_uri": "https://localhost:8080/"
        },
        "id": "fWcr7GGpSixH",
        "outputId": "f64f4123-cfc7-4037-ac3e-3ab35dd6434a"
      },
      "execution_count": 38,
      "outputs": [
        {
          "output_type": "execute_result",
          "data": {
            "text/plain": [
              "array([[1, 2, 3, 4],\n",
              "       [3, 4, 5, 6],\n",
              "       [5, 6, 7, 8]])"
            ]
          },
          "metadata": {},
          "execution_count": 38
        }
      ]
    },
    {
      "cell_type": "code",
      "source": [
        "A = np.array([\n",
        "    [1],\n",
        "    [2],\n",
        "    [3],\n",
        "    [4]\n",
        "])\n",
        "\n",
        "B.T * A"
      ],
      "metadata": {
        "colab": {
          "base_uri": "https://localhost:8080/"
        },
        "id": "iB16NdHBSi4f",
        "outputId": "4041695d-da44-47a9-9e62-8bea38c88875"
      },
      "execution_count": 39,
      "outputs": [
        {
          "output_type": "execute_result",
          "data": {
            "text/plain": [
              "array([[ 1,  3,  5],\n",
              "       [ 4,  8, 12],\n",
              "       [ 9, 15, 21],\n",
              "       [16, 24, 32]])"
            ]
          },
          "metadata": {},
          "execution_count": 39
        }
      ]
    },
    {
      "cell_type": "code",
      "source": [
        "A = np.array([\n",
        "    [1, 2],\n",
        "    [3, 4]\n",
        "])\n",
        "\n",
        "B = np.array([\n",
        "    [5, 6],\n",
        "    [7, 8]\n",
        "])\n",
        "\n",
        "np.dot(A, B)"
      ],
      "metadata": {
        "colab": {
          "base_uri": "https://localhost:8080/"
        },
        "id": "mF4gyg5ZSi9G",
        "outputId": "9fd822ac-4f70-4315-d78e-2d814b7d95fe"
      },
      "execution_count": 40,
      "outputs": [
        {
          "output_type": "execute_result",
          "data": {
            "text/plain": [
              "array([[19, 22],\n",
              "       [43, 50]])"
            ]
          },
          "metadata": {},
          "execution_count": 40
        }
      ]
    },
    {
      "cell_type": "code",
      "source": [
        "A * B"
      ],
      "metadata": {
        "colab": {
          "base_uri": "https://localhost:8080/"
        },
        "id": "LNh9KZSrSjB5",
        "outputId": "8ba25de0-0b50-4511-9e27-36ed4c15add1"
      },
      "execution_count": 41,
      "outputs": [
        {
          "output_type": "execute_result",
          "data": {
            "text/plain": [
              "array([[ 5, 12],\n",
              "       [21, 32]])"
            ]
          },
          "metadata": {},
          "execution_count": 41
        }
      ]
    },
    {
      "cell_type": "markdown",
      "source": [
        "## Neural Network - forward"
      ],
      "metadata": {
        "id": "9T-XyypqTDmn"
      }
    },
    {
      "cell_type": "code",
      "source": [
        "import numpy as np \n",
        "\n",
        "X = np.array([1., .5])\n",
        "\n",
        "W1 = np.array([\n",
        "    [.1, .3, .5],\n",
        "    [.2, .4, .6]\n",
        "])\n",
        "B1 = np.array([.1, .2 ,.3])\n",
        "\n",
        "print(X.shape)\n",
        "print(W1.shape)\n",
        "print(B1.shape)"
      ],
      "metadata": {
        "colab": {
          "base_uri": "https://localhost:8080/"
        },
        "id": "Dbh8Bz2jTIdf",
        "outputId": "20717e8e-ee65-4774-d7a1-2395532d58db"
      },
      "execution_count": 42,
      "outputs": [
        {
          "output_type": "stream",
          "name": "stdout",
          "text": [
            "(2,)\n",
            "(2, 3)\n",
            "(3,)\n"
          ]
        }
      ]
    },
    {
      "cell_type": "code",
      "source": [
        "A1 = np.dot(X, W1) + B1\n",
        "A1"
      ],
      "metadata": {
        "colab": {
          "base_uri": "https://localhost:8080/"
        },
        "id": "VKhAbpAcTIhn",
        "outputId": "0ea75a2d-935a-4a52-9b26-e9342ab1c23c"
      },
      "execution_count": 44,
      "outputs": [
        {
          "output_type": "execute_result",
          "data": {
            "text/plain": [
              "array([0.3, 0.7, 1.1])"
            ]
          },
          "metadata": {},
          "execution_count": 44
        }
      ]
    },
    {
      "cell_type": "code",
      "source": [
        "Z1 = sigmoid(\n",
        "    np.dot(X, W1) + B1\n",
        ")\n",
        "Z1"
      ],
      "metadata": {
        "colab": {
          "base_uri": "https://localhost:8080/"
        },
        "id": "9zA-_6NFTImP",
        "outputId": "ae436413-358b-4263-972a-c75877d6e96c"
      },
      "execution_count": 45,
      "outputs": [
        {
          "output_type": "execute_result",
          "data": {
            "text/plain": [
              "array([0.57444252, 0.66818777, 0.75026011])"
            ]
          },
          "metadata": {},
          "execution_count": 45
        }
      ]
    },
    {
      "cell_type": "code",
      "source": [
        "class VanillaNeuralNetwork(object):\n",
        "  def __init__(self):\n",
        "    self.w1 = np.random.randn(2, 3)\n",
        "    self.b1 = np.random.randn(3)\n",
        "\n",
        "    self.w2 = np.random.randn(3, 2)\n",
        "    self.b2 = np.random.randn(2)\n",
        "\n",
        "    self.w3 = np.random.randn(2, 2)\n",
        "    self.b3 = np.random.randn(2)\n",
        "\n",
        "  def forward(self, x):\n",
        "    a1 = np.dot(x, self.w1) + self.b1\n",
        "    z1 = sigmoid(a1)\n",
        "\n",
        "    a2 = np.dot(z1, self.w2) + self.b2\n",
        "    z2 = sigmoid(a2)\n",
        "    \n",
        "    a3 = np.dot(z2, self.w3) + self.b3\n",
        "    z3 = sigmoid(a3) # 항등 함수\n",
        "    \n",
        "    # y = sigmoid(a3)\n",
        "\n",
        "    return z3\n",
        "\n",
        "network = VanillaNeuralNetwork()\n",
        "\n",
        "x = np.random.randn(2)\n",
        "y = network.forward(x)\n",
        "\n",
        "y\n",
        "\n",
        "    "
      ],
      "metadata": {
        "id": "z-7s0kRR4LQk",
        "colab": {
          "base_uri": "https://localhost:8080/"
        },
        "outputId": "3d561863-3d66-4e28-b9fb-b8de78a93ed1"
      },
      "execution_count": 47,
      "outputs": [
        {
          "output_type": "execute_result",
          "data": {
            "text/plain": [
              "array([0.52881483, 0.76885055])"
            ]
          },
          "metadata": {},
          "execution_count": 47
        }
      ]
    },
    {
      "cell_type": "markdown",
      "source": [
        "## Backpropagation"
      ],
      "metadata": {
        "id": "GNaJe_WnUHnH"
      }
    },
    {
      "cell_type": "code",
      "source": [
        "import tensorflow as tf\n",
        "tf.__version__"
      ],
      "metadata": {
        "colab": {
          "base_uri": "https://localhost:8080/",
          "height": 35
        },
        "id": "FKdsws4DGPid",
        "outputId": "88173459-1703-4adb-adfc-14ce5d8fe7f5"
      },
      "execution_count": 50,
      "outputs": [
        {
          "output_type": "execute_result",
          "data": {
            "text/plain": [
              "'2.9.2'"
            ],
            "application/vnd.google.colaboratory.intrinsic+json": {
              "type": "string"
            }
          },
          "metadata": {},
          "execution_count": 50
        }
      ]
    },
    {
      "cell_type": "code",
      "source": [
        "mnist_data = tf.keras.datasets.mnist\n",
        "(X_train, y_train), (X_test, y_test) = mnist_data.load_data()\n",
        "\n",
        "X_train.shape, y_train.shape, X_test.shape, y_test.shape"
      ],
      "metadata": {
        "colab": {
          "base_uri": "https://localhost:8080/"
        },
        "id": "FQBoASSbPwcF",
        "outputId": "60999b76-82d8-4241-cb12-a5fe122024de"
      },
      "execution_count": 83,
      "outputs": [
        {
          "output_type": "execute_result",
          "data": {
            "text/plain": [
              "((60000, 28, 28), (60000,), (10000, 28, 28), (10000,))"
            ]
          },
          "metadata": {},
          "execution_count": 83
        }
      ]
    },
    {
      "cell_type": "code",
      "source": [
        "for elem in X_train[0]:\n",
        "    print(\"\".join([\"1\" if e > 0 else \"0\" for e in elem]))"
      ],
      "metadata": {
        "colab": {
          "base_uri": "https://localhost:8080/"
        },
        "id": "gCuMkq4uUNwH",
        "outputId": "d6c3c0a0-d6a5-4cb4-ce8f-5d79c0b9bc07"
      },
      "execution_count": 84,
      "outputs": [
        {
          "output_type": "stream",
          "name": "stdout",
          "text": [
            "0000000000000000000000000000\n",
            "0000000000000000000000000000\n",
            "0000000000000000000000000000\n",
            "0000000000000000000000000000\n",
            "0000000000000000000000000000\n",
            "0000000000001111111111110000\n",
            "0000000011111111111111110000\n",
            "0000000111111111111111100000\n",
            "0000000111111111110000000000\n",
            "0000000011111110110000000000\n",
            "0000000001111100000000000000\n",
            "0000000000011110000000000000\n",
            "0000000000011110000000000000\n",
            "0000000000001111110000000000\n",
            "0000000000000111111000000000\n",
            "0000000000000011111100000000\n",
            "0000000000000001111100000000\n",
            "0000000000000000011110000000\n",
            "0000000000000011111110000000\n",
            "0000000000001111111100000000\n",
            "0000000000111111111000000000\n",
            "0000000011111111110000000000\n",
            "0000001111111111000000000000\n",
            "0000111111111100000000000000\n",
            "0000111111110000000000000000\n",
            "0000000000000000000000000000\n",
            "0000000000000000000000000000\n",
            "0000000000000000000000000000\n"
          ]
        }
      ]
    },
    {
      "cell_type": "code",
      "source": [
        "# [0, 255] -> [0, 1]\n",
        "X_train, X_test = X_train / 255., X_test / 255."
      ],
      "metadata": {
        "id": "vQVVnjcmUY_n"
      },
      "execution_count": 85,
      "outputs": []
    },
    {
      "cell_type": "code",
      "source": [
        "from tensorflow.keras.utils import to_categorical\n",
        "\n",
        "y_train_encoded, y_test_encoded = to_categorical(y_train), to_categorical(y_test)\n",
        "y_train_encoded.shape, y_test_encoded.shape"
      ],
      "metadata": {
        "colab": {
          "base_uri": "https://localhost:8080/"
        },
        "id": "G2UUwf-zUZCe",
        "outputId": "413218c3-fe0a-487b-b71d-712d634512bb"
      },
      "execution_count": 86,
      "outputs": [
        {
          "output_type": "execute_result",
          "data": {
            "text/plain": [
              "((60000, 10), (10000, 10))"
            ]
          },
          "metadata": {},
          "execution_count": 86
        }
      ]
    },
    {
      "cell_type": "code",
      "source": [
        "X_train_flatten, X_test_flatten = X_train.reshape([X_train.shape[0], -1]), X_test.reshape([X_test.shape[0], -1])\n",
        "X_train_flatten.shape, X_test_flatten.shape"
      ],
      "metadata": {
        "colab": {
          "base_uri": "https://localhost:8080/"
        },
        "id": "hcqllhYPUZEu",
        "outputId": "cfc1e3d5-553b-4496-e709-133652f0f3ab"
      },
      "execution_count": 87,
      "outputs": [
        {
          "output_type": "execute_result",
          "data": {
            "text/plain": [
              "((60000, 784), (10000, 784))"
            ]
          },
          "metadata": {},
          "execution_count": 87
        }
      ]
    },
    {
      "cell_type": "markdown",
      "source": [
        "## Activation Function"
      ],
      "metadata": {
        "id": "8OiPGfZ0U-hp"
      }
    },
    {
      "cell_type": "code",
      "source": [
        "import numpy as np\n",
        "\n",
        "def softmax(x):\n",
        "    if x.ndim == 2:\n",
        "        x = x.T\n",
        "        x = x - np.max(x, axis=0)\n",
        "        y = np.exp(x) / np.sum(np.exp(x), axis=0)\n",
        "        return y.T\n",
        "    x = x - np.max(x)\n",
        "    return np.exp(x) / np.sum(np.exp(x))\n",
        "\n",
        "def sigmoid(x):\n",
        "    return 1 / (1 + np.exp(-x))\n",
        "\n",
        "def sigmoid_grad(x):\n",
        "    return (1.0 - sigmoid(x)) * sigmoid(x)"
      ],
      "metadata": {
        "id": "KOz3ZZU1UZHP"
      },
      "execution_count": 88,
      "outputs": []
    },
    {
      "cell_type": "markdown",
      "source": [
        "## Loss"
      ],
      "metadata": {
        "id": "93o4RVSUX7Cn"
      }
    },
    {
      "cell_type": "code",
      "source": [
        "def cross_entropy_error(y, t):\n",
        "    if y.ndim == 1:\n",
        "        t = t.reshape(1, t.size)\n",
        "        y = y.reshape(1, y.size)\n",
        "\n",
        "    if t.size == y.size:\n",
        "        t = t.argmax(axis=1)\n",
        "\n",
        "    batch_size = y.shape[0]\n",
        "    return -np.sum(\n",
        "        np.log(y[np.arange(batch_size), t] + 1e-7) / batch_size\n",
        "    )"
      ],
      "metadata": {
        "id": "T0RJK6_FUZJe"
      },
      "execution_count": 89,
      "outputs": []
    },
    {
      "cell_type": "markdown",
      "source": [
        "## Numerical Gradient"
      ],
      "metadata": {
        "id": "gNedZ7IZYAcq"
      }
    },
    {
      "cell_type": "code",
      "source": [
        "def numerical_gradient(f, x):\n",
        "    h = 1e-4\n",
        "    grad = np.zeros_like(x)\n",
        "\n",
        "    for idx in range(x.shape[0]):\n",
        "        tmp_val = x[idx]\n",
        "\n",
        "        # f(x+h)\n",
        "        x[idx] = tmp_val + h\n",
        "        fxh1 = f(x)\n",
        "\n",
        "        # f(x-h)\n",
        "        x[idx] = tmp_val - h\n",
        "        fxh2 = f(x)\n",
        "\n",
        "        grad[idx] = (fxh1 - fxh2) / (2 * h)\n",
        "    return grad"
      ],
      "metadata": {
        "id": "cw2g5-eIUZOa"
      },
      "execution_count": 90,
      "outputs": []
    },
    {
      "cell_type": "markdown",
      "source": [
        "## TwoLayerNet"
      ],
      "metadata": {
        "id": "wD8OOyMdYG9I"
      }
    },
    {
      "cell_type": "code",
      "source": [
        "class TwoLayerNet:\n",
        "    # typing hint\n",
        "    def __init__(self, input_size: int, hidden_size: int, output_size: int, weight_init_std: float = 0.01):\n",
        "        self.params = dict()\n",
        "        self.params[\"W1\"] = np.random.randn(input_size, hidden_size) * weight_init_std\n",
        "        self.params[\"b1\"] = np.zeros(hidden_size)\n",
        "        self.params[\"W2\"] = np.random.randn(hidden_size, output_size) * weight_init_std\n",
        "        self.params[\"b2\"] = np.zeros(output_size)\n",
        "\n",
        "    def predict(self, x):\n",
        "        W1, W2 = self.params[\"W1\"], self.params[\"W2\"]\n",
        "        b1, b2 = self.params[\"b1\"], self.params[\"b2\"]\n",
        "\n",
        "        a1 = np.dot(x, W1) + b1\n",
        "        z1 = sigmoid(a1)\n",
        "\n",
        "        a2 = np.dot(z1, W2) + b2\n",
        "        y = softmax(a2)\n",
        "\n",
        "        return y\n",
        "\n",
        "    # x: 입력 데이터, t: 정답 데이터\n",
        "    def loss(self, x, t):\n",
        "        y = self.predict(x)\n",
        "        return cross_entropy_error(y, t)\n",
        "\n",
        "    def numerical_gradient(self, x: np.array, t) -> dict:\n",
        "        loss_W = lambda W: self.loss(x, t)\n",
        "\n",
        "        # grads = dict()\n",
        "        # grads[\"W1\"] = numerical_gradient(loss_W, self.params[\"W1\"])\n",
        "        # grads[\"b1\"] = numerical_gradient(loss_W, self.params[\"b1\"])\n",
        "        # grads[\"W2\"] = numerical_gradient(loss_W, self.params[\"W2\"])\n",
        "        # grads[\"b2\"] = numerical_gradient(loss_W, self.params[\"b2\"])\n",
        "        return {\n",
        "            _key: numerical_gradient(loss_W, self.params[_key]) for _key in (\n",
        "                \"W1\", \"b1\", \"W2\", \"b2\"\n",
        "            )\n",
        "        }\n",
        "\n",
        "    def gradient(self, x, t):\n",
        "        W1, W2 = self.params[\"W1\"], self.params[\"W2\"]\n",
        "        b1, b2 = self.params[\"b1\"], self.params[\"b2\"]\n",
        "\n",
        "        grads = dict()\n",
        "        batch_num = x.shape[0]\n",
        "\n",
        "        # forward\n",
        "        a1 = np.dot(x, W1) + b1\n",
        "        z1 = sigmoid(a1)\n",
        "        a2 = np.dot(z1, W2) + b2\n",
        "        y = softmax(a2)\n",
        "\n",
        "        # backward\n",
        "        dy = (y - t) / batch_num\n",
        "        grads[\"W2\"] = np.dot(z1.T, dy)\n",
        "        grads[\"b2\"] = np.sum(dy, axis=0)\n",
        "\n",
        "        da1 = np.dot(dy, W2.T)\n",
        "        dz1 = sigmoid_grad(a1) * da1\n",
        "        grads[\"W1\"] = np.dot(x.T, dz1)\n",
        "        grads[\"b1\"] = np.sum(dz1, axis=0)\n",
        "        \n",
        "        return grads\n",
        "\n",
        "    def accuracy(self, x, t):\n",
        "        y = self.predict(x)\n",
        "        y = np.argmax(y, axis=1) # Neural Network가 예측한 0~9 사이의 숫자\n",
        "        t = np.argmax(t, axis=1)\n",
        "\n",
        "        acc = np.sum(y == t) / float(x.shape[0])\n",
        "        return acc"
      ],
      "metadata": {
        "id": "N1MtWNPMGSOr"
      },
      "execution_count": 107,
      "outputs": []
    },
    {
      "cell_type": "code",
      "source": [
        "# one-hot encoding\n",
        "a = np.array([0.1, 0.3, 0.6])\n",
        "np.argmax(a)"
      ],
      "metadata": {
        "colab": {
          "base_uri": "https://localhost:8080/"
        },
        "id": "0nHIt8dW88kk",
        "outputId": "fc76d1e0-01b1-4949-a986-7906058b2f94"
      },
      "execution_count": 65,
      "outputs": [
        {
          "output_type": "execute_result",
          "data": {
            "text/plain": [
              "2"
            ]
          },
          "metadata": {},
          "execution_count": 65
        }
      ]
    },
    {
      "cell_type": "code",
      "source": [
        "a = np.array([1, 2, 3])\n",
        "b = np.array([3, 2, 3])\n",
        "\n",
        "c = a == b\n",
        "c"
      ],
      "metadata": {
        "colab": {
          "base_uri": "https://localhost:8080/"
        },
        "id": "2IYFYqnj9yKD",
        "outputId": "ef1f746b-cb69-4c51-b891-e5035dda81db"
      },
      "execution_count": 69,
      "outputs": [
        {
          "output_type": "execute_result",
          "data": {
            "text/plain": [
              "array([False,  True,  True])"
            ]
          },
          "metadata": {},
          "execution_count": 69
        }
      ]
    },
    {
      "cell_type": "code",
      "source": [
        "np.sum(c)"
      ],
      "metadata": {
        "colab": {
          "base_uri": "https://localhost:8080/"
        },
        "id": "35EfZNeL9_ph",
        "outputId": "12634ce6-b4bf-447d-e3cb-e0a0071a420e"
      },
      "execution_count": 70,
      "outputs": [
        {
          "output_type": "execute_result",
          "data": {
            "text/plain": [
              "2"
            ]
          },
          "metadata": {},
          "execution_count": 70
        }
      ]
    },
    {
      "cell_type": "code",
      "source": [
        "mask = np.random.choice(10, 3)\n",
        "a = np.array([i+1 for i in range(10)])\n",
        "mask, a"
      ],
      "metadata": {
        "colab": {
          "base_uri": "https://localhost:8080/"
        },
        "id": "cUk5Eh3g_NLj",
        "outputId": "8820ce55-01d0-425a-ec37-1d79d9c46e7f"
      },
      "execution_count": 77,
      "outputs": [
        {
          "output_type": "execute_result",
          "data": {
            "text/plain": [
              "(array([4, 3, 9]), array([ 1,  2,  3,  4,  5,  6,  7,  8,  9, 10]))"
            ]
          },
          "metadata": {},
          "execution_count": 77
        }
      ]
    },
    {
      "cell_type": "code",
      "source": [
        "a[mask]"
      ],
      "metadata": {
        "colab": {
          "base_uri": "https://localhost:8080/"
        },
        "id": "XEy1ETNp_vHD",
        "outputId": "b49b3d16-6008-42fc-a982-de8eff19c696"
      },
      "execution_count": 78,
      "outputs": [
        {
          "output_type": "execute_result",
          "data": {
            "text/plain": [
              "array([ 5,  4, 10])"
            ]
          },
          "metadata": {},
          "execution_count": 78
        }
      ]
    },
    {
      "cell_type": "markdown",
      "source": [
        "---"
      ],
      "metadata": {
        "id": "h0DUHugvkJCZ"
      }
    },
    {
      "cell_type": "code",
      "source": [
        "from tqdm.auto import tqdm\n",
        "import time"
      ],
      "metadata": {
        "id": "Dcb5UvTgYMSI"
      },
      "execution_count": 92,
      "outputs": []
    },
    {
      "cell_type": "code",
      "source": [
        "network = TwoLayerNet(input_size=784, hidden_size=50, output_size=10)\n",
        "network"
      ],
      "metadata": {
        "colab": {
          "base_uri": "https://localhost:8080/"
        },
        "id": "TPPL3L5SkRxg",
        "outputId": "49476f28-dcf6-4a4a-e5ab-fc1684d85fc9"
      },
      "execution_count": 108,
      "outputs": [
        {
          "output_type": "execute_result",
          "data": {
            "text/plain": [
              "<__main__.TwoLayerNet at 0x7fc3d9666220>"
            ]
          },
          "metadata": {},
          "execution_count": 108
        }
      ]
    },
    {
      "cell_type": "code",
      "source": [
        "dir(network)"
      ],
      "metadata": {
        "colab": {
          "base_uri": "https://localhost:8080/"
        },
        "id": "5WS3D13Bktr5",
        "outputId": "bb28a55c-e985-48d2-b4ed-87e181af5a38"
      },
      "execution_count": 109,
      "outputs": [
        {
          "output_type": "execute_result",
          "data": {
            "text/plain": [
              "['__class__',\n",
              " '__delattr__',\n",
              " '__dict__',\n",
              " '__dir__',\n",
              " '__doc__',\n",
              " '__eq__',\n",
              " '__format__',\n",
              " '__ge__',\n",
              " '__getattribute__',\n",
              " '__gt__',\n",
              " '__hash__',\n",
              " '__init__',\n",
              " '__init_subclass__',\n",
              " '__le__',\n",
              " '__lt__',\n",
              " '__module__',\n",
              " '__ne__',\n",
              " '__new__',\n",
              " '__reduce__',\n",
              " '__reduce_ex__',\n",
              " '__repr__',\n",
              " '__setattr__',\n",
              " '__sizeof__',\n",
              " '__str__',\n",
              " '__subclasshook__',\n",
              " '__weakref__',\n",
              " 'accuracy',\n",
              " 'gradient',\n",
              " 'loss',\n",
              " 'numerical_gradient',\n",
              " 'params',\n",
              " 'predict']"
            ]
          },
          "metadata": {},
          "execution_count": 109
        }
      ]
    },
    {
      "cell_type": "code",
      "source": [
        "# epoch\n",
        "iters_num = 1000\n",
        "train_size = X_train_flatten.shape[0] # 60000\n",
        "batch_size = 100\n",
        "learning_rate = 0.1\n",
        "\n",
        "network = TwoLayerNet(input_size=784, hidden_size=50, output_size=10)\n",
        "\n",
        "history = dict(\n",
        "    train_acc = list(),\n",
        "    test_acc = list()\n",
        ")\n",
        "\n",
        "start_time = time.time()\n",
        "\n",
        "for i in tqdm(range(iters_num)):\n",
        "  # Batch 데이터 만들기\n",
        "  # SGD(Stochastic Gradient Descent) - Mini Batch\n",
        "  batch_mask = np.random.choice(train_size, batch_size)\n",
        "  X_batch = X_train_flatten[batch_mask]\n",
        "  y_batch = y_train_encoded[batch_mask]\n",
        "\n",
        "  # Train Model\n",
        "  grads = network.gradient(X_batch, y_batch)\n",
        "  # network.params[\"W1\"] = network.params[\"W1\"] -learning_rate * grads[\"W1\"]\n",
        "  # network.params[\"W2\"] = network.params[\"W2\"] -learning_rate * grads[\"W2\"]\n",
        "  # network.params[\"b1\"] = network.params[\"b1\"] -learning_rate * grads[\"b1\"]\n",
        "  # network.params[\"b2\"] = network.params[\"b2\"] -learning_rate * grads[\"b2\"]\n",
        "\n",
        "  for _key in (\"W1\", \"W2\", \"b1\", \"b2\"):\n",
        "    network.params[_key] -= learning_rate * grads[_key]\n",
        "\n",
        "  train_acc = network.accuracy(X_batch, y_batch)\n",
        "  test_acc = network.accuracy(X_test_flatten, y_test_encoded)\n",
        "\n",
        "  # log history\n",
        "  history['train_acc'].append(train_acc)\n",
        "  history['test_acc'].append(test_acc)\n",
        "\n",
        "train_time = \"%.4f\" % (time.time() - start_time)\n",
        "print(\"time occured: \", train_time)\n",
        "\n",
        "\n",
        "\n",
        "\n",
        "# # epoch\n",
        "# iters_num = 1000\n",
        "# train_size = X_train_flatten[0] # 60000\n",
        "# batch_size = 100\n",
        "# learning_rate = 0.1\n",
        "\n",
        "# history = dict(\n",
        "#     train_acc = list(),\n",
        "#     test_acc = list()\n",
        "# )\n",
        "\n",
        "# start_time = time.time()\n",
        "\n",
        "# for i in range(iters_num):\n",
        "\n",
        "#   # Train Model\n",
        "\n",
        "#   # log history\n",
        "#   history['train_acc'].append(0.8)\n",
        "#   history['test_acc'].append(0.7)\n",
        "\n",
        "# train_time = \"%.4f\" % (time.time() - start_time)\n",
        "# print(\"time occured: \", train_time)"
      ],
      "metadata": {
        "colab": {
          "base_uri": "https://localhost:8080/",
          "height": 67,
          "referenced_widgets": [
            "15dcd849e59e40cdbfe760c9618a7801",
            "58d6a59c4fd441bd8fa24cb539664cc1",
            "9cc2c92c75434deca36535697b9668e2",
            "3dabadaa7c294b58954d1686cf209760",
            "0eb66f18c8ba49238ffa2e5e0553c1e3",
            "065bb4b3acc24b9bbdd3428de0f12a9a",
            "d51f8d08dad54445a9d574062209df4e",
            "0a9c63f534e4494eb371fbb420d586bc",
            "a077773ffc6140488acde1c97078e5df",
            "042630dfcf4c481f82ec1c0b9c4b0de1",
            "91fb10b21198452fa6c3fef0390ec47f"
          ]
        },
        "id": "-aUkVkYGkz1g",
        "outputId": "30aa34f7-653c-472a-cc62-5147ccd1b0ae"
      },
      "execution_count": 122,
      "outputs": [
        {
          "output_type": "display_data",
          "data": {
            "text/plain": [
              "  0%|          | 0/1000 [00:00<?, ?it/s]"
            ],
            "application/vnd.jupyter.widget-view+json": {
              "version_major": 2,
              "version_minor": 0,
              "model_id": "15dcd849e59e40cdbfe760c9618a7801"
            }
          },
          "metadata": {}
        },
        {
          "output_type": "stream",
          "name": "stdout",
          "text": [
            "time occured:  120.6452\n"
          ]
        }
      ]
    },
    {
      "cell_type": "code",
      "source": [
        "# plot history\n",
        "import matplotlib.pyplot as plt\n",
        "\n",
        "x = np.arange(len(history[\"train_acc\"]))\n",
        "plt.plot(x, history[\"train_acc\"], label=\"train accuracy\")\n",
        "plt.plot(x, history[\"test_acc\"], label=\"test accuracy\")\n",
        "plt.xlabel(\"epochs\")\n",
        "plt.ylabel(\"accuracy\")\n",
        "plt.ylim(0, 1.1)\n",
        "plt.legend(loc=\"lower right\")\n",
        "\n",
        "plt.show()"
      ],
      "metadata": {
        "colab": {
          "base_uri": "https://localhost:8080/",
          "height": 279
        },
        "id": "QUJx9NUgAmPL",
        "outputId": "fe0d990c-dfdc-40df-8e9e-0505e1f4d01f"
      },
      "execution_count": 124,
      "outputs": [
        {
          "output_type": "display_data",
          "data": {
            "text/plain": [
              "<Figure size 432x288 with 1 Axes>"
            ],
            "image/png": "[encoded data removed]"
          },
          "metadata": {
            "needs_background": "light"
          }
        }
      ]
    },
    {
      "cell_type": "code",
      "source": [
        "history[\"train_acc\"][-1], history[\"test_acc\"][-1]"
      ],
      "metadata": {
        "colab": {
          "base_uri": "https://localhost:8080/"
        },
        "id": "remYGq-SG2VT",
        "outputId": "fe9b747e-0154-4fce-e4c8-6780cd317ddf"
      },
      "execution_count": 123,
      "outputs": [
        {
          "output_type": "execute_result",
          "data": {
            "text/plain": [
              "(0.88, 0.8683)"
            ]
          },
          "metadata": {},
          "execution_count": 123
        }
      ]
    },
    {
      "cell_type": "code",
      "source": [
        "network.accuracy(X_train_flatten, y_train_encoded)"
      ],
      "metadata": {
        "colab": {
          "base_uri": "https://localhost:8080/"
        },
        "id": "lK3hVKzpPWaj",
        "outputId": "27426974-7293-4e52-a57c-1ce9912bdcff"
      },
      "execution_count": 125,
      "outputs": [
        {
          "output_type": "execute_result",
          "data": {
            "text/plain": [
              "0.8612"
            ]
          },
          "metadata": {},
          "execution_count": 125
        }
      ]
    },
    {
      "cell_type": "markdown",
      "source": [
        "## Computational Graph"
      ],
      "metadata": {
        "id": "rFDBCcCxaGZU"
      }
    },
    {
      "cell_type": "code",
      "source": [
        "class AddLayer:\n",
        "  def __init__(self):\n",
        "    pass\n",
        "  def forward(self, x, y):\n",
        "    return x + y\n",
        "\n",
        "  def backward(self, dout):\n",
        "    dx = dout * 1\n",
        "    dy = dout * 1\n",
        "    return dx, dy\n",
        "\n",
        "class MultiLayer:\n",
        "  def __init__(self):\n",
        "    self.x = None\n",
        "    self.y = None\n",
        "  \n",
        "  def forward(self, x, y):\n",
        "    self.x = x\n",
        "    self.y = y\n",
        "    return x * y\n",
        "  def backward(self, dout):\n",
        "    dx = dout * self.y\n",
        "    dy = dout * self.x\n",
        "    return dx, dy"
      ],
      "metadata": {
        "id": "QdxnNC02PZRs"
      },
      "execution_count": 126,
      "outputs": []
    },
    {
      "cell_type": "code",
      "source": [
        "apple = 100\n",
        "apple_num = 2\n",
        "tax = 1.1\n",
        "\n",
        "mul_apple_layer = MultiLayer()\n",
        "mul_tax_layer = MultiLayer()\n",
        "\n",
        "apple_price = mul_apple_layer.forward(apple, apple_num) # apple * apple_num\n",
        "price = mul_tax_layer.forward(apple_price, tax)\n",
        "\n",
        "print(price)"
      ],
      "metadata": {
        "colab": {
          "base_uri": "https://localhost:8080/"
        },
        "id": "kuXL3xvVcs6W",
        "outputId": "00a9a0e2-b889-4dd2-cb76-f33c0c36ef4b"
      },
      "execution_count": 127,
      "outputs": [
        {
          "output_type": "stream",
          "name": "stdout",
          "text": [
            "220.00000000000003\n"
          ]
        }
      ]
    },
    {
      "cell_type": "code",
      "source": [
        "d_price = 1\n",
        "d_apple_price, d_tax = mul_tax_layer.backward(d_price)\n",
        "d_apple, d_apple_num = mul_apple_layer.backward(d_apple_price)\n",
        "\n",
        "print(\"d_apple_price: \", d_apple_price)\n",
        "print(\"d_tax: \", d_tax)\n",
        "print(\"d_apple: \", d_apple)\n",
        "print(\"d_apple_num: \", d_apple_num)"
      ],
      "metadata": {
        "colab": {
          "base_uri": "https://localhost:8080/"
        },
        "id": "Vg4mTuEOcym-",
        "outputId": "d0a61c26-83c6-4ed6-f4b1-b23224a81005"
      },
      "execution_count": 130,
      "outputs": [
        {
          "output_type": "stream",
          "name": "stdout",
          "text": [
            "d_apple_price:  1.1\n",
            "d_tax:  200\n",
            "d_apple:  2.2\n",
            "d_apple_num:  110.00000000000001\n"
          ]
        }
      ]
    },
    {
      "cell_type": "markdown",
      "source": [
        "## Layer Classes"
      ],
      "metadata": {
        "id": "SjxFv8dCjrTm"
      }
    },
    {
      "cell_type": "code",
      "source": [
        "class Affine:\n",
        "  def __init__(self, W, b):\n",
        "    self.W = W\n",
        "    self.b = b\n",
        "\n",
        "    self.x = None\n",
        "    self.dW = None\n",
        "    self.db = None\n",
        "    \n",
        "    def forward(self, x):\n",
        "      self.x = x\n",
        "      out = np.dot(x, self.W) + self.b\n",
        "      return out\n",
        "\n",
        "    def backward(self, dout):\n",
        "      dx = np.dot(dout, self.W.T)\n",
        "      self.dW = np.dot(self.x.T, dout)\n",
        "      self.db = np.sum(dout, axis = 0)\n",
        "      return dx"
      ],
      "metadata": {
        "id": "HrhtFbxMd1bw"
      },
      "execution_count": 131,
      "outputs": []
    },
    {
      "cell_type": "code",
      "source": [
        "x = np.array([-1, 0, 1])\n",
        "chk = (x <= 0)"
      ],
      "metadata": {
        "id": "w6oU8XCU5Nen"
      },
      "execution_count": 139,
      "outputs": []
    },
    {
      "cell_type": "code",
      "source": [
        "class Relu:\n",
        "    def __init__(self):\n",
        "        self.mask = None\n",
        "\n",
        "    def forward(self, x):\n",
        "        self.mask = (x <= 0)\n",
        "        out = x.copy()\n",
        "        out[self.mask] = 0\n",
        "        return out\n",
        "\n",
        "    def backward(self, dout):\n",
        "        dout[self.mask] = 0\n",
        "        dx = dout\n",
        "        return dx\n",
        "\n",
        "class LeakyRelu:\n",
        "    def __init__(self, a=.1):\n",
        "        self.mask = None\n",
        "        self.a = a\n",
        "\n",
        "    def forward(self, x):\n",
        "        self.mask = (x <= 0)\n",
        "        out = np.array([\n",
        "            elem if elem > 0 else elem * self.a for elem in x\n",
        "        ])\n",
        "        return out\n",
        "\n",
        "    def backward(self, dout):\n",
        "        dout[self.mask] = self.a\n",
        "        dx = dout\n",
        "        return dx"
      ],
      "metadata": {
        "id": "-sMwHFG7lRY2"
      },
      "execution_count": 138,
      "outputs": []
    },
    {
      "cell_type": "code",
      "source": [
        "class SoftmaxWithLoss:\n",
        "    def __init__(self):\n",
        "        self.loss = None\n",
        "        self.y = None\n",
        "        self.t = None\n",
        "\n",
        "    def forward(self, x, t):\n",
        "        self.t = t\n",
        "        self.y = softmax(x)\n",
        "        self.loss = cross_entropy_error(self.y, self.t)\n",
        "        return self.loss\n",
        "\n",
        "    def backward(self, dout=1):\n",
        "        batch_size = self.t.shape[0]\n",
        "        dx = (self.y - self.t) / batch_size\n",
        "        return dx"
      ],
      "metadata": {
        "id": "bTlF6RNVm7xO"
      },
      "execution_count": 137,
      "outputs": []
    },
    {
      "cell_type": "markdown",
      "source": [
        "## TwoLayerNet (Backpropagation)"
      ],
      "metadata": {
        "id": "13UrHN-Kw0Em"
      }
    },
    {
      "cell_type": "code",
      "source": [
        "a = dict()\n",
        "a[\"key1\"] = 1\n",
        "a[\"aoegnaeogn\"] = 2\n",
        "a[\"key3\"] = 3\n",
        "a[\"key4\"] = 4\n",
        "a"
      ],
      "metadata": {
        "colab": {
          "base_uri": "https://localhost:8080/"
        },
        "id": "1Gb6LxWx5BQA",
        "outputId": "d2461014-eef0-4c45-bd10-d816a41e07c3"
      },
      "execution_count": 133,
      "outputs": [
        {
          "output_type": "execute_result",
          "data": {
            "text/plain": [
              "{'key1': 1, 'aoegnaeogn': 2, 'key3': 3, 'key4': 4}"
            ]
          },
          "metadata": {},
          "execution_count": 133
        }
      ]
    },
    {
      "cell_type": "code",
      "source": [
        "for elem in a.items():\n",
        "    print(elem)"
      ],
      "metadata": {
        "colab": {
          "base_uri": "https://localhost:8080/"
        },
        "id": "7woSagzm5BSm",
        "outputId": "2dc1adc6-e5e5-4884-a8a8-e29df19e2ff8"
      },
      "execution_count": 134,
      "outputs": [
        {
          "output_type": "stream",
          "name": "stdout",
          "text": [
            "('key1', 1)\n",
            "('aoegnaeogn', 2)\n",
            "('key3', 3)\n",
            "('key4', 4)\n"
          ]
        }
      ]
    },
    {
      "cell_type": "code",
      "source": [
        "alist = [[1, 2], [3, 4]]\n",
        "\n",
        "for _, x2 in alist:\n",
        "    print(x2)"
      ],
      "metadata": {
        "colab": {
          "base_uri": "https://localhost:8080/"
        },
        "id": "QKZa8fyG5BXc",
        "outputId": "6e1eea61-8cc4-4dc9-cd2b-037ee330e5cf"
      },
      "execution_count": 135,
      "outputs": [
        {
          "output_type": "stream",
          "name": "stdout",
          "text": [
            "2\n",
            "4\n"
          ]
        }
      ]
    },
    {
      "cell_type": "code",
      "source": [
        "from collections import OrderedDict\n",
        "\n",
        "class TwoLayerNet:\n",
        "    def __init__(self, input_size: int, hidden_size: int, output_size: int, weight_init_std: float = 0.01):\n",
        "        self.params = dict()\n",
        "        self.params[\"W1\"] = weight_init_std + np.radom.randn(input_size, hidden_size)\n",
        "        self.params[\"W2\"] = weight_init_std + np.radom.randn(hidden_size, output_size)\n",
        "        self.params[\"b1\"] = np.zeros(hidden_size)\n",
        "        self.params[\"b2\"] = np.zeros(output_size)\n",
        "        # self.output_layer = None\n",
        "\n",
        "        self.layers = OrderedDict()\n",
        "        self.layers[\"Affine_1\"] = Affine(self.params[\"W1\"], self.params[\"b1\"])\n",
        "        self.layers[\"Relu_1\"] = Relu()\n",
        "        self.layers[\"Affine_2\"] = Affine(self.params[\"W2\"], self.params[\"b2\"])\n",
        "        self.output_layer = SoftmaxWithLoss()\n",
        "\n",
        "    def predict(self, x):\n",
        "        # x = self.layers[\"Affine_1\"].forward(x)\n",
        "        # x = self.layers[\"Relu_1\"].forward(x)\n",
        "        # x = self.layers[\"Affine_2\"].forward(x)\n",
        "        for layer in self.layers.values():\n",
        "            x = layer.forward(x)\n",
        "        return x\n",
        "    \n",
        "    def loss(self, x, t):\n",
        "        y = self.predict(x)\n",
        "        return self.output_layer.forward(y, t)\n",
        "\n",
        "    def accuracy(self, x, t):\n",
        "        y = self.predict(x)\n",
        "        y = np.argmax(y, axis=1)\n",
        "        t = np.argmax(t, axis=1)\n",
        "        \n",
        "        acc = np.sum(y == t) / float(x.shape[0])\n",
        "        return acc\n",
        "\n",
        "    def gradient(self, x, t):\n",
        "\n",
        "        _ = self.loss(x, t)\n",
        "        d_out = 1\n",
        "        d_out = self.output_layer.backward(d_out)\n",
        "\n",
        "        layers = list(self.layers.values())\n",
        "        for layer in reversed(layers):\n",
        "            d_out = layer.backward(d_out)\n",
        "\n",
        "        grads = dict()\n",
        "        # grads[\"W1\"] = self.layers[\"Affine_1\"].dw\n",
        "        # grads[\"b1\"] = self.layers[\"Affine_1\"].db\n",
        "        # grads[\"W2\"] = self.layers[\"Affine_2\"].dw\n",
        "        # grads[\"b2\"] = self.layers[\"Affine_2\"].db\n",
        "        for i in (1, 2):\n",
        "            for _key in (\"W\", \"b\"):\n",
        "                aff_layer = self.layers[f\"Affine_{i}\"]\n",
        "                grads[f\"{_key}{i}\"] = aff_layer.dw if _key == \"W\" else aff_layer.db\n",
        "        return grads\n",
        "\n"
      ],
      "metadata": {
        "id": "MDrew6rYw5Zm"
      },
      "execution_count": 136,
      "outputs": []
    },
    {
      "cell_type": "code",
      "source": [],
      "metadata": {
        "id": "YIJhsUE35D0e"
      },
      "execution_count": null,
      "outputs": []
    }
  ]
}