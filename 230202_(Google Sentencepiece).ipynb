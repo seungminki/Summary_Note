{
 "cells": [
  {
   "cell_type": "code",
   "execution_count": 1,
   "id": "7efa23f2",
   "metadata": {},
   "outputs": [],
   "source": [
    "import sentencepiece as spm\n",
    "import pandas as pd"
   ]
  },
  {
   "cell_type": "code",
   "execution_count": 10,
   "id": "de6963a3",
   "metadata": {},
   "outputs": [],
   "source": [
    "data = pd.read_csv(\"C:/Users/rltmdals/Desktop/botchan.txt\", sep='\\t', quoting=3)"
   ]
  },
  {
   "cell_type": "code",
   "execution_count": 11,
   "id": "25589e15",
   "metadata": {},
   "outputs": [
    {
     "name": "stdout",
     "output_type": "stream",
     "text": [
      "(4287, 1)\n"
     ]
    },
    {
     "data": {
      "text/html": [
       "<div>\n",
       "<style scoped>\n",
       "    .dataframe tbody tr th:only-of-type {\n",
       "        vertical-align: middle;\n",
       "    }\n",
       "\n",
       "    .dataframe tbody tr th {\n",
       "        vertical-align: top;\n",
       "    }\n",
       "\n",
       "    .dataframe thead th {\n",
       "        text-align: right;\n",
       "    }\n",
       "</style>\n",
       "<table border=\"1\" class=\"dataframe\">\n",
       "  <thead>\n",
       "    <tr style=\"text-align: right;\">\n",
       "      <th></th>\n",
       "      <th>Project Gutenberg's Botchan (Master Darling), by Kin-nosuke Natsume</th>\n",
       "    </tr>\n",
       "  </thead>\n",
       "  <tbody>\n",
       "    <tr>\n",
       "      <th>0</th>\n",
       "      <td>This eBook is for the use of anyone anywhere a...</td>\n",
       "    </tr>\n",
       "    <tr>\n",
       "      <th>1</th>\n",
       "      <td>almost no restrictions whatsoever.  You may co...</td>\n",
       "    </tr>\n",
       "    <tr>\n",
       "      <th>2</th>\n",
       "      <td>re-use it under the terms of the Project Guten...</td>\n",
       "    </tr>\n",
       "    <tr>\n",
       "      <th>3</th>\n",
       "      <td>with this eBook or online at www.gutenberg.org</td>\n",
       "    </tr>\n",
       "    <tr>\n",
       "      <th>4</th>\n",
       "      <td>Title: Botchan (Master Darling)</td>\n",
       "    </tr>\n",
       "  </tbody>\n",
       "</table>\n",
       "</div>"
      ],
      "text/plain": [
       "  Project Gutenberg's Botchan (Master Darling), by Kin-nosuke Natsume\n",
       "0  This eBook is for the use of anyone anywhere a...                 \n",
       "1  almost no restrictions whatsoever.  You may co...                 \n",
       "2  re-use it under the terms of the Project Guten...                 \n",
       "3     with this eBook or online at www.gutenberg.org                 \n",
       "4                    Title: Botchan (Master Darling)                 "
      ]
     },
     "execution_count": 11,
     "metadata": {},
     "output_type": "execute_result"
    }
   ],
   "source": [
    "print(data.shape)\n",
    "data.head()"
   ]
  },
  {
   "cell_type": "code",
   "execution_count": 4,
   "id": "eb744b29",
   "metadata": {},
   "outputs": [],
   "source": [
    "input_file = \"C:/Users/rltmdals/Desktop/botchan.txt\"\n",
    "vocab_size = 2000\n",
    "prefix = './mss'"
   ]
  },
  {
   "cell_type": "code",
   "execution_count": 5,
   "id": "e865c6db",
   "metadata": {},
   "outputs": [],
   "source": [
    "templates = '--input={} --model_prefix={} --vocab_size={}'\n",
    "cmd = templates.format(input_file, prefix, vocab_size)\n",
    "spm.SentencePieceTrainer.Train(cmd)"
   ]
  },
  {
   "cell_type": "code",
   "execution_count": 6,
   "id": "005ed4b6",
   "metadata": {},
   "outputs": [
    {
     "data": {
      "text/plain": [
       "True"
      ]
     },
     "execution_count": 6,
     "metadata": {},
     "output_type": "execute_result"
    }
   ],
   "source": [
    "sp = spm.SentencePieceProcessor()\n",
    "sp.load('m.model')"
   ]
  },
  {
   "cell_type": "code",
   "execution_count": 12,
   "id": "5ecd9d4f",
   "metadata": {},
   "outputs": [
    {
     "name": "stdout",
     "output_type": "stream",
     "text": [
      "['▁This', '▁is', '▁a', '▁t', 'est']\n",
      "[212, 32, 10, 587, 446]\n"
     ]
    }
   ],
   "source": [
    "# 학습이 얼마나 잘됬는지 확인\n",
    "# encode: text => id\n",
    "print(sp.encode_as_pieces('This is a test'))\n",
    "print(sp.encode_as_ids('This is a test'))"
   ]
  },
  {
   "cell_type": "code",
   "execution_count": 20,
   "id": "a43dc77d",
   "metadata": {},
   "outputs": [
    {
     "name": "stdout",
     "output_type": "stream",
     "text": [
      "['▁the', '▁able', 'st', '▁can', '▁do', '▁no', '▁more', ',', '▁and', '▁to', '▁want', '▁more', '▁than', '▁this', '▁will', '▁be', '▁demand', 'ing', '▁something', '▁imp', 'o', 's', 's', 'ible', '.']\n"
     ]
    }
   ],
   "source": [
    "print(sp.encode_as_pieces('The ablest can do no more, and to want more than this will be demanding something impossible.'))"
   ]
  },
  {
   "cell_type": "code",
   "execution_count": 15,
   "id": "c409e0be",
   "metadata": {},
   "outputs": [
    {
     "name": "stdout",
     "output_type": "stream",
     "text": [
      "This is a test\n",
      "okn  k star\n"
     ]
    }
   ],
   "source": [
    "# decode: id => text\n",
    "print(sp.decode_pieces(['▁This', '▁is', '▁a', '▁t', 'est']))\n",
    "print(sp.decode_ids([209, 31, 9, 375, 586]))\n",
    "# print(sp.decode_ids([212, 32, 10, 587, 446]))"
   ]
  },
  {
   "cell_type": "markdown",
   "id": "083c4b61",
   "metadata": {},
   "source": [
    "## Text normalization\n",
    "Sentencepiece provides the following general pre-defined normalization rules. We can change the normalizer with --normaliation_rule_name=<NAME> flag.\n",
    "\n",
    "* nmt_nfkc: NFKC normalization with some additional normalization around spaces. (default)\n",
    "* nfkc: original: NFKC normalization.\n",
    "* nmt_nfkc_cf: nmt_nfkc + Unicode case folding (mostly lower casing)\n",
    "* nfkc_cf: nfkc + Unicode case folding.\n",
    "* identity: no normalization"
   ]
  },
  {
   "cell_type": "code",
   "execution_count": 18,
   "id": "93acf53c",
   "metadata": {},
   "outputs": [
    {
     "name": "stdout",
     "output_type": "stream",
     "text": [
      "['▁', 'hello', '▁world', '.']\n",
      "['▁t', '▁', 'h', '▁i', '▁s', '▁i', '▁s', '▁a', '▁t', '▁e', '▁s', '▁t', '.']\n"
     ]
    }
   ],
   "source": [
    "# NFKC normalization and lower casing.\n",
    "spm.SentencePieceTrainer.train('--input=C:/Users/rltmdals/Desktop/botchan.txt --model_prefix=m --vocab_size=2000 --normalization_rule_name=nfkc_cf')\n",
    "\n",
    "sp = spm.SentencePieceProcessor()\n",
    "sp.load('m.model')\n",
    "print(sp.encode_as_pieces('ＨＥＬＬＯ　ＷＯＲＬＤ.'))  # lower casing and normalization\n",
    "print(sp.encode_as_pieces('T H I S I S A T E S T.'))"
   ]
  },
  {
   "cell_type": "code",
   "execution_count": 21,
   "id": "40c84929",
   "metadata": {},
   "outputs": [],
   "source": [
    "import sentencepiece as spm\n",
    "import pandas as pd\n",
    "import urllib.request\n",
    "import csv"
   ]
  },
  {
   "cell_type": "code",
   "execution_count": 22,
   "id": "95544543",
   "metadata": {},
   "outputs": [
    {
     "data": {
      "text/plain": [
       "('IMDb_Reviews.csv', <http.client.HTTPMessage at 0x189f8aa3220>)"
      ]
     },
     "execution_count": 22,
     "metadata": {},
     "output_type": "execute_result"
    }
   ],
   "source": [
    "urllib.request.urlretrieve(\"https://raw.githubusercontent.com/LawrenceDuan/IMDb-Review-Analysis/master/IMDb_Reviews.csv\", filename=\"IMDb_Reviews.csv\")"
   ]
  },
  {
   "cell_type": "code",
   "execution_count": 23,
   "id": "78803ec5",
   "metadata": {},
   "outputs": [
    {
     "data": {
      "text/plain": [
       "0        My family and I normally do not watch local mo...\n",
       "1        Believe it or not, this was at one time the wo...\n",
       "2        After some internet surfing, I found the \"Home...\n",
       "3        One of the most unheralded great works of anim...\n",
       "4        It was the Sixties, and anyone with long hair ...\n",
       "                               ...                        \n",
       "49995    the people who came up with this are SICK AND ...\n",
       "49996    The script is so so laughable... this in turn,...\n",
       "49997    \"So there's this bride, you see, and she gets ...\n",
       "49998    Your mind will not be satisfied by this nobud...\n",
       "49999    The chaser's war on everything is a weekly sho...\n",
       "Name: review, Length: 50000, dtype: object"
      ]
     },
     "execution_count": 23,
     "metadata": {},
     "output_type": "execute_result"
    }
   ],
   "source": [
    "train_df = pd.read_csv('IMDb_Reviews.csv')\n",
    "train_df['review']"
   ]
  },
  {
   "cell_type": "code",
   "execution_count": 24,
   "id": "87327513",
   "metadata": {},
   "outputs": [
    {
     "data": {
      "text/plain": [
       "(50000, 2)"
      ]
     },
     "execution_count": 24,
     "metadata": {},
     "output_type": "execute_result"
    }
   ],
   "source": [
    "train_df.shape\n",
    "# 리뷰 개수 5만개"
   ]
  },
  {
   "cell_type": "code",
   "execution_count": 25,
   "id": "f0f81486",
   "metadata": {},
   "outputs": [],
   "source": [
    "# 총 5만개의 샘플이 존재합니다. 센텐스피스의 입력으로 사용하기 위해서 데이터프레임을 txt 파일로 저장합니다.\n",
    "with open('imdb_review.txt', 'w', encoding='utf8') as f:\n",
    "    f.write('\\n'.join(train_df['review']))"
   ]
  },
  {
   "cell_type": "code",
   "execution_count": 26,
   "id": "c7ba82dd",
   "metadata": {},
   "outputs": [],
   "source": [
    "spm.SentencePieceTrainer.Train('--input=imdb_review.txt --model_prefix=imdb --vocab_size=5000 --model_type=bpe --max_sentence_length=9999')"
   ]
  },
  {
   "cell_type": "code",
   "execution_count": null,
   "id": "070c23d0",
   "metadata": {},
   "outputs": [],
   "source": []
  }
 ],
 "metadata": {
  "kernelspec": {
   "display_name": "Python 3 (ipykernel)",
   "language": "python",
   "name": "python3"
  },
  "language_info": {
   "codemirror_mode": {
    "name": "ipython",
    "version": 3
   },
   "file_extension": ".py",
   "mimetype": "text/x-python",
   "name": "python",
   "nbconvert_exporter": "python",
   "pygments_lexer": "ipython3",
   "version": "3.9.13"
  }
 },
 "nbformat": 4,
 "nbformat_minor": 5
}
