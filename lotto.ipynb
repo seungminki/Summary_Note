{
 "cells": [
  {
   "cell_type": "markdown",
   "id": "858d813d",
   "metadata": {},
   "source": [
    "1) 5,14,16,25,30,42\n",
    "2) 7,8,17,25,39,44\n",
    "3) 4,17,21,34,41,44\n",
    "4) 2,17,24,29,34,45\n",
    "5) 1,11,15,26,37,39\n",
    "\n",
    "6) 6,8,11,19,26,41\n",
    "7) 10,15,16,22,25,31\n",
    "8) 1,10,24,30,33,37\n",
    "9) 12,21,24,28,31,44\n",
    "10) 5,8,13,29,30,38\n",
    "\n",
    "11) 9,13,18,23,31,35\n",
    "12) 8,10,12,32,36,37\n",
    "13) 4,10,11,24,28,33\n",
    "14) 16,22,24,25,34,39\n",
    "15) 3,6,16,29,31,45\n",
    "\n",
    "16) 1,4,23,33,40,43\n",
    "17) 10,19,21,23,31,37\n",
    "18) 11,23,28,32,34,38\n",
    "19) 2,11,25,38,39,43\n",
    "20) 4,11,16,18,23,38\n"
   ]
  },
  {
   "cell_type": "code",
   "execution_count": 1,
   "id": "0ea59e5e",
   "metadata": {},
   "outputs": [],
   "source": [
    "list18 = [5,14,16,25,30,42,\n",
    "7,8,17,25,39,44,\n",
    "4,17,21,34,41,44,\n",
    "2,17,24,29,34,45,\n",
    "1,11,15,26,37,39,\n",
    "6,8,11,19,26,41,\n",
    "10,15,16,22,25,31,\n",
    "1,10,24,30,33,37,\n",
    "12,21,24,28,31,44,\n",
    "5,8,13,29,30,38,\n",
    "9,13,18,23,31,35,\n",
    "8,10,12,32,36,37,\n",
    "4,10,11,24,28,33,\n",
    "16,22,24,25,34,39,\n",
    "3,6,16,29,31,45,\n",
    "1,4,23,33,40,43,\n",
    "10,19,21,23,31,37,\n",
    "11,23,28,32,34,38,\n",
    "2,11,25,38,39,43,\n",
    "4,11,16,18,23,38]"
   ]
  },
  {
   "cell_type": "code",
   "execution_count": 7,
   "id": "1e898288",
   "metadata": {},
   "outputs": [
    {
     "data": {
      "text/plain": [
       "{1,\n",
       " 2,\n",
       " 3,\n",
       " 4,\n",
       " 5,\n",
       " 6,\n",
       " 7,\n",
       " 8,\n",
       " 9,\n",
       " 10,\n",
       " 11,\n",
       " 12,\n",
       " 13,\n",
       " 14,\n",
       " 15,\n",
       " 16,\n",
       " 17,\n",
       " 18,\n",
       " 19,\n",
       " 21,\n",
       " 22,\n",
       " 23,\n",
       " 24,\n",
       " 25,\n",
       " 26,\n",
       " 28,\n",
       " 29,\n",
       " 30,\n",
       " 31,\n",
       " 32,\n",
       " 33,\n",
       " 34,\n",
       " 35,\n",
       " 36,\n",
       " 37,\n",
       " 38,\n",
       " 39,\n",
       " 40,\n",
       " 41,\n",
       " 42,\n",
       " 43,\n",
       " 44,\n",
       " 45}"
      ]
     },
     "execution_count": 7,
     "metadata": {},
     "output_type": "execute_result"
    }
   ],
   "source": [
    "set(list18)"
   ]
  },
  {
   "cell_type": "code",
   "execution_count": 4,
   "id": "96b7061d",
   "metadata": {},
   "outputs": [],
   "source": [
    "list1 = [5,14,16,25,30,42]\n",
    "list2 = [7,8,17,25,39,44]\n",
    "list3 = [4,17,21,34,41,44]\n",
    "list4 = [2,17,24,29,34,45]\n",
    "list5 = [1,11,15,26,37,39]\n",
    "\n",
    "list6 = [6,8,11,19,26,41]\n",
    "list7 = [10,15,16,22,25,31]\n",
    "list8 = [1,10,24,30,33,37]\n",
    "list9 = [12,21,24,28,31,44]\n",
    "list10 = [5,8,13,29,30,38]\n",
    "\n",
    "list11 = [9,13,18,23,31,35]\n",
    "list12 = [8,10,12,32,36,37]\n",
    "list13 = [4,10,11,24,28,33]\n",
    "list14 = [16,22,24,25,34,39]\n",
    "list15 = [3,6,16,29,31,45]\n",
    "\n",
    "list16 = [1,4,23,33,40,43]\n",
    "list17 = [10,19,21,23,31,37]\n",
    "list18 = [11,23,28,32,34,38]\n",
    "list19 = [2,11,25,38,39,43]\n",
    "list20 = [4,11,16,18,23,38]"
   ]
  },
  {
   "cell_type": "code",
   "execution_count": 17,
   "id": "1a0aa550",
   "metadata": {},
   "outputs": [],
   "source": [
    "import random"
   ]
  },
  {
   "cell_type": "code",
   "execution_count": 27,
   "id": "eb52543b",
   "metadata": {},
   "outputs": [
    {
     "name": "stdout",
     "output_type": "stream",
     "text": [
      "[27, 32, 35, 36, 44, 41]\n"
     ]
    }
   ],
   "source": [
    "num = 0\n",
    "num_list = []\n",
    "\n",
    "for i in range(6):\n",
    "    num = random.randint(1,45)\n",
    "    num_list += [num]\n",
    "    \n",
    "print(num_list)"
   ]
  },
  {
   "cell_type": "code",
   "execution_count": 26,
   "id": "dca98ceb",
   "metadata": {},
   "outputs": [
    {
     "ename": "TypeError",
     "evalue": "Random.random() takes no arguments (3 given)",
     "output_type": "error",
     "traceback": [
      "\u001b[1;31m---------------------------------------------------------------------------\u001b[0m",
      "\u001b[1;31mTypeError\u001b[0m                                 Traceback (most recent call last)",
      "\u001b[1;32m~\\AppData\\Local\\Temp\\ipykernel_22224\\3507963939.py\u001b[0m in \u001b[0;36m<module>\u001b[1;34m\u001b[0m\n\u001b[1;32m----> 1\u001b[1;33m \u001b[0mrandom\u001b[0m\u001b[1;33m.\u001b[0m\u001b[0mrandom\u001b[0m\u001b[1;33m(\u001b[0m\u001b[1;36m1\u001b[0m\u001b[1;33m,\u001b[0m \u001b[1;36m46\u001b[0m\u001b[1;33m,\u001b[0m \u001b[1;36m6\u001b[0m\u001b[1;33m)\u001b[0m\u001b[1;33m\u001b[0m\u001b[1;33m\u001b[0m\u001b[0m\n\u001b[0m",
      "\u001b[1;31mTypeError\u001b[0m: Random.random() takes no arguments (3 given)"
     ]
    }
   ],
   "source": [
    "for i in range(1, 21):\n",
    "    listi"
   ]
  },
  {
   "cell_type": "code",
   "execution_count": null,
   "id": "9bc48c4f",
   "metadata": {},
   "outputs": [],
   "source": []
  },
  {
   "cell_type": "code",
   "execution_count": null,
   "id": "ee7b7cd7",
   "metadata": {},
   "outputs": [],
   "source": []
  }
 ],
 "metadata": {
  "kernelspec": {
   "display_name": "Python 3 (ipykernel)",
   "language": "python",
   "name": "python3"
  },
  "language_info": {
   "codemirror_mode": {
    "name": "ipython",
    "version": 3
   },
   "file_extension": ".py",
   "mimetype": "text/x-python",
   "name": "python",
   "nbconvert_exporter": "python",
   "pygments_lexer": "ipython3",
   "version": "3.9.13"
  }
 },
 "nbformat": 4,
 "nbformat_minor": 5
}
