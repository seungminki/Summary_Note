{
 "cells": [
  {
   "cell_type": "markdown",
   "id": "8c2a1975",
   "metadata": {},
   "source": [
    "# OpenPyXL 패키지\n",
    "* 파이썬을 이용한 엑셀 파일 편집 패키지\n",
    "* 양식, 이미지, 함수 등을 유지할 수 있음\n",
    "!pip install openpyxl  \n",
    "import openpyxl  \n",
    "wb = openpyxl.load_workbook('file.xlsx') # 파일 열기\n",
    "sheet_name = wb.get_sheet_names() # 시트 이름 읽기\n",
    "sheet"
   ]
  },
  {
   "cell_type": "code",
   "execution_count": 1,
   "id": "771309c4",
   "metadata": {},
   "outputs": [
    {
     "name": "stdout",
     "output_type": "stream",
     "text": [
      "Requirement already satisfied: openpyxl in c:\\programdata\\anaconda3\\lib\\site-packages (3.0.10)\n",
      "Requirement already satisfied: et_xmlfile in c:\\programdata\\anaconda3\\lib\\site-packages (from openpyxl) (1.1.0)\n"
     ]
    }
   ],
   "source": [
    "!pip install openpyxl"
   ]
  },
  {
   "cell_type": "code",
   "execution_count": 3,
   "id": "0041449a",
   "metadata": {},
   "outputs": [],
   "source": [
    "import pandas as pd"
   ]
  },
  {
   "cell_type": "code",
   "execution_count": 4,
   "id": "fd4683f0",
   "metadata": {},
   "outputs": [],
   "source": [
    "df = pd.read_excel(\"C:/Users/user/Downloads/미니프로젝트 (1)/미니프로젝트-쇼핑몰 실습데이터.xlsx\")"
   ]
  },
  {
   "cell_type": "code",
   "execution_count": 5,
   "id": "ec8ee00a",
   "metadata": {},
   "outputs": [
    {
     "data": {
      "text/html": [
       "<div>\n",
       "<style scoped>\n",
       "    .dataframe tbody tr th:only-of-type {\n",
       "        vertical-align: middle;\n",
       "    }\n",
       "\n",
       "    .dataframe tbody tr th {\n",
       "        vertical-align: top;\n",
       "    }\n",
       "\n",
       "    .dataframe thead th {\n",
       "        text-align: right;\n",
       "    }\n",
       "</style>\n",
       "<table border=\"1\" class=\"dataframe\">\n",
       "  <thead>\n",
       "    <tr style=\"text-align: right;\">\n",
       "      <th></th>\n",
       "      <th>주문번호</th>\n",
       "      <th>업체명</th>\n",
       "      <th>상품명</th>\n",
       "      <th>제조사</th>\n",
       "      <th>주문수량</th>\n",
       "      <th>판매금액</th>\n",
       "      <th>결제방법</th>\n",
       "      <th>주문일자</th>\n",
       "      <th>처리상태</th>\n",
       "      <th>초도상품</th>\n",
       "      <th>제작문구 내역</th>\n",
       "      <th>할부기간</th>\n",
       "    </tr>\n",
       "  </thead>\n",
       "  <tbody>\n",
       "    <tr>\n",
       "      <th>0</th>\n",
       "      <td>191213170236874</td>\n",
       "      <td>지니</td>\n",
       "      <td>eHBM셀파수학교실 비닐봉투-1세트 100장입</td>\n",
       "      <td>HB</td>\n",
       "      <td>1</td>\n",
       "      <td>5000</td>\n",
       "      <td>신용카드</td>\n",
       "      <td>2019-12-13 17:03:37</td>\n",
       "      <td>구매확정</td>\n",
       "      <td>N</td>\n",
       "      <td>NaN</td>\n",
       "      <td>NaN</td>\n",
       "    </tr>\n",
       "    <tr>\n",
       "      <th>1</th>\n",
       "      <td>191216100347429</td>\n",
       "      <td>지니</td>\n",
       "      <td>eHBM셀파수학교실 비닐봉투-1세트 100장입</td>\n",
       "      <td>HB</td>\n",
       "      <td>1</td>\n",
       "      <td>5000</td>\n",
       "      <td>신용카드</td>\n",
       "      <td>2019-12-16 10:04:50</td>\n",
       "      <td>구매확정</td>\n",
       "      <td>N</td>\n",
       "      <td>NaN</td>\n",
       "      <td>NaN</td>\n",
       "    </tr>\n",
       "    <tr>\n",
       "      <th>2</th>\n",
       "      <td>191216100347429</td>\n",
       "      <td>지니</td>\n",
       "      <td>eHBM셀파수학교실 삼색볼펜-1세트 50개입</td>\n",
       "      <td>HB</td>\n",
       "      <td>3</td>\n",
       "      <td>67500</td>\n",
       "      <td>신용카드</td>\n",
       "      <td>2019-12-16 10:04:50</td>\n",
       "      <td>구매확정</td>\n",
       "      <td>N</td>\n",
       "      <td>NaN</td>\n",
       "      <td>NaN</td>\n",
       "    </tr>\n",
       "    <tr>\n",
       "      <th>3</th>\n",
       "      <td>191216173241622</td>\n",
       "      <td>지니</td>\n",
       "      <td>eHBM셀파수학교실 회원용 리플렛-1세트 50권입</td>\n",
       "      <td>HB</td>\n",
       "      <td>2</td>\n",
       "      <td>30000</td>\n",
       "      <td>신용카드</td>\n",
       "      <td>2019-12-16 17:33:43</td>\n",
       "      <td>구매확정</td>\n",
       "      <td>N</td>\n",
       "      <td>NaN</td>\n",
       "      <td>NaN</td>\n",
       "    </tr>\n",
       "    <tr>\n",
       "      <th>4</th>\n",
       "      <td>191216173241622</td>\n",
       "      <td>지니</td>\n",
       "      <td>eHBM셀파수학교실-학습계통도(중등 5종)</td>\n",
       "      <td>HB</td>\n",
       "      <td>1</td>\n",
       "      <td>750</td>\n",
       "      <td>신용카드</td>\n",
       "      <td>2019-12-16 17:33:43</td>\n",
       "      <td>구매확정</td>\n",
       "      <td>N</td>\n",
       "      <td>NaN</td>\n",
       "      <td>NaN</td>\n",
       "    </tr>\n",
       "    <tr>\n",
       "      <th>...</th>\n",
       "      <td>...</td>\n",
       "      <td>...</td>\n",
       "      <td>...</td>\n",
       "      <td>...</td>\n",
       "      <td>...</td>\n",
       "      <td>...</td>\n",
       "      <td>...</td>\n",
       "      <td>...</td>\n",
       "      <td>...</td>\n",
       "      <td>...</td>\n",
       "      <td>...</td>\n",
       "      <td>...</td>\n",
       "    </tr>\n",
       "    <tr>\n",
       "      <th>218596</th>\n",
       "      <td>221108104041264</td>\n",
       "      <td>에이스디포</td>\n",
       "      <td>[스마트 HBE*초도] 입체 액자형 현판</td>\n",
       "      <td>에이스디포</td>\n",
       "      <td>1</td>\n",
       "      <td>35000</td>\n",
       "      <td>웰컴마일</td>\n",
       "      <td>2022-11-08 10:38:21</td>\n",
       "      <td>결제완료</td>\n",
       "      <td>Y</td>\n",
       "      <td>NaN</td>\n",
       "      <td>NaN</td>\n",
       "    </tr>\n",
       "    <tr>\n",
       "      <th>218597</th>\n",
       "      <td>221108104041264</td>\n",
       "      <td>에이스디포</td>\n",
       "      <td>[스마트 HBE*초도] 아크릴 사인</td>\n",
       "      <td>HB</td>\n",
       "      <td>1</td>\n",
       "      <td>26900</td>\n",
       "      <td>웰컴마일</td>\n",
       "      <td>2022-11-08 10:38:21</td>\n",
       "      <td>결제완료</td>\n",
       "      <td>Y</td>\n",
       "      <td>NaN</td>\n",
       "      <td>NaN</td>\n",
       "    </tr>\n",
       "    <tr>\n",
       "      <th>218598</th>\n",
       "      <td>221108104536307</td>\n",
       "      <td>에이스디포</td>\n",
       "      <td>[스마트 HBM] 아크릴 사인</td>\n",
       "      <td>HB</td>\n",
       "      <td>1</td>\n",
       "      <td>26900</td>\n",
       "      <td>신 + 포</td>\n",
       "      <td>2022-11-08 10:43:15</td>\n",
       "      <td>배송준비</td>\n",
       "      <td>N</td>\n",
       "      <td>NaN</td>\n",
       "      <td>NaN</td>\n",
       "    </tr>\n",
       "    <tr>\n",
       "      <th>218599</th>\n",
       "      <td>221108104735216</td>\n",
       "      <td>다우기술</td>\n",
       "      <td>[스타벅스] 아이스 카페 아메리카노 T</td>\n",
       "      <td>스타벅스</td>\n",
       "      <td>1</td>\n",
       "      <td>4050</td>\n",
       "      <td>포인트</td>\n",
       "      <td>2022-11-08 10:45:14</td>\n",
       "      <td>배송완료</td>\n",
       "      <td>N</td>\n",
       "      <td>NaN</td>\n",
       "      <td>NaN</td>\n",
       "    </tr>\n",
       "    <tr>\n",
       "      <th>218600</th>\n",
       "      <td>221108105148171</td>\n",
       "      <td>다우기술</td>\n",
       "      <td>[특별한 크리스마스] 2차-신세계 상품권 모바일 교환권-1만원권</td>\n",
       "      <td>신세계</td>\n",
       "      <td>17</td>\n",
       "      <td>161500</td>\n",
       "      <td>신용카드</td>\n",
       "      <td>2022-11-08 10:49:28</td>\n",
       "      <td>배송완료</td>\n",
       "      <td>N</td>\n",
       "      <td>NaN</td>\n",
       "      <td>NaN</td>\n",
       "    </tr>\n",
       "  </tbody>\n",
       "</table>\n",
       "<p>218601 rows × 12 columns</p>\n",
       "</div>"
      ],
      "text/plain": [
       "                   주문번호    업체명                                  상품명    제조사  \\\n",
       "0       191213170236874     지니            eHBM셀파수학교실 비닐봉투-1세트 100장입     HB   \n",
       "1       191216100347429     지니            eHBM셀파수학교실 비닐봉투-1세트 100장입     HB   \n",
       "2       191216100347429     지니             eHBM셀파수학교실 삼색볼펜-1세트 50개입     HB   \n",
       "3       191216173241622     지니          eHBM셀파수학교실 회원용 리플렛-1세트 50권입     HB   \n",
       "4       191216173241622     지니              eHBM셀파수학교실-학습계통도(중등 5종)     HB   \n",
       "...                 ...    ...                                  ...    ...   \n",
       "218596  221108104041264  에이스디포               [스마트 HBE*초도] 입체 액자형 현판  에이스디포   \n",
       "218597  221108104041264  에이스디포                  [스마트 HBE*초도] 아크릴 사인     HB   \n",
       "218598  221108104536307  에이스디포                     [스마트 HBM] 아크릴 사인     HB   \n",
       "218599  221108104735216   다우기술                [스타벅스] 아이스 카페 아메리카노 T   스타벅스   \n",
       "218600  221108105148171   다우기술  [특별한 크리스마스] 2차-신세계 상품권 모바일 교환권-1만원권    신세계   \n",
       "\n",
       "        주문수량    판매금액   결제방법                주문일자  처리상태 초도상품 제작문구 내역 할부기간  \n",
       "0          1    5000   신용카드 2019-12-13 17:03:37  구매확정    N     NaN  NaN  \n",
       "1          1    5000   신용카드 2019-12-16 10:04:50  구매확정    N     NaN  NaN  \n",
       "2          3   67500   신용카드 2019-12-16 10:04:50  구매확정    N     NaN  NaN  \n",
       "3          2   30000   신용카드 2019-12-16 17:33:43  구매확정    N     NaN  NaN  \n",
       "4          1     750   신용카드 2019-12-16 17:33:43  구매확정    N     NaN  NaN  \n",
       "...      ...     ...    ...                 ...   ...  ...     ...  ...  \n",
       "218596     1   35000   웰컴마일 2022-11-08 10:38:21  결제완료    Y     NaN  NaN  \n",
       "218597     1   26900   웰컴마일 2022-11-08 10:38:21  결제완료    Y     NaN  NaN  \n",
       "218598     1   26900  신 + 포 2022-11-08 10:43:15  배송준비    N     NaN  NaN  \n",
       "218599     1    4050    포인트 2022-11-08 10:45:14  배송완료    N     NaN  NaN  \n",
       "218600    17  161500   신용카드 2022-11-08 10:49:28  배송완료    N     NaN  NaN  \n",
       "\n",
       "[218601 rows x 12 columns]"
      ]
     },
     "execution_count": 5,
     "metadata": {},
     "output_type": "execute_result"
    }
   ],
   "source": [
    "df"
   ]
  },
  {
   "cell_type": "code",
   "execution_count": 7,
   "id": "459792e7",
   "metadata": {},
   "outputs": [],
   "source": [
    "df = pd.read_excel(\"C:/Users/user/Downloads/미니프로젝트 (1)/미니프로젝트-쇼핑몰 실습데이터.xlsx\", sheet_name = 'Sheet1')"
   ]
  },
  {
   "cell_type": "code",
   "execution_count": 8,
   "id": "577b7f8f",
   "metadata": {},
   "outputs": [
    {
     "data": {
      "text/html": [
       "<div>\n",
       "<style scoped>\n",
       "    .dataframe tbody tr th:only-of-type {\n",
       "        vertical-align: middle;\n",
       "    }\n",
       "\n",
       "    .dataframe tbody tr th {\n",
       "        vertical-align: top;\n",
       "    }\n",
       "\n",
       "    .dataframe thead th {\n",
       "        text-align: right;\n",
       "    }\n",
       "</style>\n",
       "<table border=\"1\" class=\"dataframe\">\n",
       "  <thead>\n",
       "    <tr style=\"text-align: right;\">\n",
       "      <th></th>\n",
       "      <th>hello!</th>\n",
       "    </tr>\n",
       "  </thead>\n",
       "  <tbody>\n",
       "  </tbody>\n",
       "</table>\n",
       "</div>"
      ],
      "text/plain": [
       "Empty DataFrame\n",
       "Columns: [hello!]\n",
       "Index: []"
      ]
     },
     "execution_count": 8,
     "metadata": {},
     "output_type": "execute_result"
    }
   ],
   "source": [
    "df"
   ]
  },
  {
   "cell_type": "code",
   "execution_count": 9,
   "id": "c105cece",
   "metadata": {},
   "outputs": [],
   "source": [
    "df.loc[15] = 'world'"
   ]
  },
  {
   "cell_type": "code",
   "execution_count": 10,
   "id": "1c3eaaeb",
   "metadata": {},
   "outputs": [
    {
     "data": {
      "text/html": [
       "<div>\n",
       "<style scoped>\n",
       "    .dataframe tbody tr th:only-of-type {\n",
       "        vertical-align: middle;\n",
       "    }\n",
       "\n",
       "    .dataframe tbody tr th {\n",
       "        vertical-align: top;\n",
       "    }\n",
       "\n",
       "    .dataframe thead th {\n",
       "        text-align: right;\n",
       "    }\n",
       "</style>\n",
       "<table border=\"1\" class=\"dataframe\">\n",
       "  <thead>\n",
       "    <tr style=\"text-align: right;\">\n",
       "      <th></th>\n",
       "      <th>hello!</th>\n",
       "    </tr>\n",
       "  </thead>\n",
       "  <tbody>\n",
       "    <tr>\n",
       "      <th>15</th>\n",
       "      <td>world</td>\n",
       "    </tr>\n",
       "  </tbody>\n",
       "</table>\n",
       "</div>"
      ],
      "text/plain": [
       "   hello!\n",
       "15  world"
      ]
     },
     "execution_count": 10,
     "metadata": {},
     "output_type": "execute_result"
    }
   ],
   "source": [
    "df"
   ]
  },
  {
   "cell_type": "code",
   "execution_count": 12,
   "id": "4caf7c28",
   "metadata": {},
   "outputs": [],
   "source": [
    "df.to_excel(\"C:/Users/user/Downloads/미니프로젝트 (1)/미니프로젝트-쇼핑몰 실습데이터.xlsx\", sheet_name = 'Sheet1')\n",
    "# 원래 있던 내용이 날아갈 수 있는 위험이 있음"
   ]
  },
  {
   "cell_type": "code",
   "execution_count": 13,
   "id": "bb800ce9",
   "metadata": {},
   "outputs": [],
   "source": [
    "import openpyxl"
   ]
  },
  {
   "cell_type": "code",
   "execution_count": 32,
   "id": "7e319adc",
   "metadata": {},
   "outputs": [],
   "source": [
    "wb = openpyxl.open(\"C:/Users/user/Downloads/미니프로젝트(2)/미니프로젝트-쇼핑몰 실습데이터.xlsx\")"
   ]
  },
  {
   "cell_type": "code",
   "execution_count": 33,
   "id": "c7a0ae68",
   "metadata": {},
   "outputs": [
    {
     "name": "stderr",
     "output_type": "stream",
     "text": [
      "C:\\Users\\user\\AppData\\Local\\Temp\\ipykernel_2352\\1212622292.py:1: DeprecationWarning: Call to deprecated function get_sheet_names (Use wb.sheetnames).\n",
      "  wb.get_sheet_names()\n"
     ]
    },
    {
     "data": {
      "text/plain": [
       "['2019-01-01 ~ 2019-12-31', 'Sheet1']"
      ]
     },
     "execution_count": 33,
     "metadata": {},
     "output_type": "execute_result"
    }
   ],
   "source": [
    "wb.get_sheet_names()"
   ]
  },
  {
   "cell_type": "code",
   "execution_count": 34,
   "id": "f2be2333",
   "metadata": {},
   "outputs": [
    {
     "name": "stderr",
     "output_type": "stream",
     "text": [
      "C:\\Users\\user\\AppData\\Local\\Temp\\ipykernel_2352\\3646580212.py:1: DeprecationWarning: Call to deprecated function get_sheet_names (Use wb.sheetnames).\n",
      "  sheet_name = wb.get_sheet_names()\n"
     ]
    }
   ],
   "source": [
    "sheet_name = wb.get_sheet_names()"
   ]
  },
  {
   "cell_type": "code",
   "execution_count": 35,
   "id": "00e0c017",
   "metadata": {},
   "outputs": [
    {
     "name": "stdout",
     "output_type": "stream",
     "text": [
      "2019-01-01 ~ 2019-12-31\n",
      "Sheet1\n"
     ]
    }
   ],
   "source": [
    "for i in sheet_name:\n",
    "    print(i)"
   ]
  },
  {
   "cell_type": "code",
   "execution_count": 36,
   "id": "47800a12",
   "metadata": {},
   "outputs": [
    {
     "name": "stderr",
     "output_type": "stream",
     "text": [
      "C:\\Users\\user\\AppData\\Local\\Temp\\ipykernel_2352\\785337679.py:1: DeprecationWarning: Call to deprecated function get_sheet_by_name (Use wb[sheetname]).\n",
      "  ws = wb.get_sheet_by_name('Sheet1')\n"
     ]
    }
   ],
   "source": [
    "ws = wb.get_sheet_by_name('Sheet1')"
   ]
  },
  {
   "cell_type": "code",
   "execution_count": 37,
   "id": "55e0ef2c",
   "metadata": {},
   "outputs": [
    {
     "data": {
      "text/plain": [
       "<Worksheet \"Sheet1\">"
      ]
     },
     "execution_count": 37,
     "metadata": {},
     "output_type": "execute_result"
    }
   ],
   "source": [
    "ws"
   ]
  },
  {
   "cell_type": "code",
   "execution_count": 38,
   "id": "289f76c9",
   "metadata": {},
   "outputs": [
    {
     "data": {
      "text/html": [
       "<div>\n",
       "<style scoped>\n",
       "    .dataframe tbody tr th:only-of-type {\n",
       "        vertical-align: middle;\n",
       "    }\n",
       "\n",
       "    .dataframe tbody tr th {\n",
       "        vertical-align: top;\n",
       "    }\n",
       "\n",
       "    .dataframe thead th {\n",
       "        text-align: right;\n",
       "    }\n",
       "</style>\n",
       "<table border=\"1\" class=\"dataframe\">\n",
       "  <thead>\n",
       "    <tr style=\"text-align: right;\">\n",
       "      <th></th>\n",
       "      <th>0</th>\n",
       "    </tr>\n",
       "  </thead>\n",
       "  <tbody>\n",
       "    <tr>\n",
       "      <th>0</th>\n",
       "      <td>hello</td>\n",
       "    </tr>\n",
       "  </tbody>\n",
       "</table>\n",
       "</div>"
      ],
      "text/plain": [
       "       0\n",
       "0  hello"
      ]
     },
     "execution_count": 38,
     "metadata": {},
     "output_type": "execute_result"
    }
   ],
   "source": [
    "pd.DataFrame(ws.values)"
   ]
  },
  {
   "cell_type": "code",
   "execution_count": 39,
   "id": "6297fe30",
   "metadata": {},
   "outputs": [
    {
     "data": {
      "text/plain": [
       "'hello'"
      ]
     },
     "execution_count": 39,
     "metadata": {},
     "output_type": "execute_result"
    }
   ],
   "source": [
    "ws['A1'].value"
   ]
  },
  {
   "cell_type": "code",
   "execution_count": 40,
   "id": "8c086e51",
   "metadata": {},
   "outputs": [],
   "source": [
    "img = openpyxl.drawing.image.Image(\"C:/Users/user/Downloads/다운로드.png\")\n",
    "img.width = 320\n",
    "img.height = 240\n",
    "ws.add_image(img, 'A15') # 이미지 붙여넣기"
   ]
  },
  {
   "cell_type": "code",
   "execution_count": 42,
   "id": "38c6e0fa",
   "metadata": {},
   "outputs": [],
   "source": [
    "wb.save('C:/Users/user/Downloads/output.xlsx') # 엑셀 저장"
   ]
  },
  {
   "cell_type": "code",
   "execution_count": null,
   "id": "2aadfcb7",
   "metadata": {},
   "outputs": [],
   "source": [
    "# ws.close()"
   ]
  },
  {
   "cell_type": "code",
   "execution_count": 43,
   "id": "d890ee0f",
   "metadata": {},
   "outputs": [],
   "source": [
    "ws = wb.active"
   ]
  },
  {
   "cell_type": "code",
   "execution_count": 44,
   "id": "1c55e69d",
   "metadata": {},
   "outputs": [
    {
     "data": {
      "text/plain": [
       "<Worksheet \"2019-01-01 ~ 2019-12-31\">"
      ]
     },
     "execution_count": 44,
     "metadata": {},
     "output_type": "execute_result"
    }
   ],
   "source": [
    "ws # 맨처음 시트가 불러와짐"
   ]
  },
  {
   "cell_type": "code",
   "execution_count": 45,
   "id": "d4fa85c1",
   "metadata": {},
   "outputs": [],
   "source": [
    "import pandas as pd"
   ]
  },
  {
   "cell_type": "code",
   "execution_count": 63,
   "id": "1790693d",
   "metadata": {},
   "outputs": [],
   "source": [
    "df = pd.read_excel(\"C:/Users/user/Downloads/미니프로젝트(2)/미니프로젝트-쇼핑몰 실습데이터.xlsx\")"
   ]
  },
  {
   "cell_type": "code",
   "execution_count": 64,
   "id": "e0e02f2f",
   "metadata": {},
   "outputs": [
    {
     "data": {
      "text/html": [
       "<div>\n",
       "<style scoped>\n",
       "    .dataframe tbody tr th:only-of-type {\n",
       "        vertical-align: middle;\n",
       "    }\n",
       "\n",
       "    .dataframe tbody tr th {\n",
       "        vertical-align: top;\n",
       "    }\n",
       "\n",
       "    .dataframe thead th {\n",
       "        text-align: right;\n",
       "    }\n",
       "</style>\n",
       "<table border=\"1\" class=\"dataframe\">\n",
       "  <thead>\n",
       "    <tr style=\"text-align: right;\">\n",
       "      <th></th>\n",
       "      <th>Unnamed: 0</th>\n",
       "      <th>0</th>\n",
       "      <th>1</th>\n",
       "      <th>2</th>\n",
       "      <th>3</th>\n",
       "      <th>4</th>\n",
       "      <th>5</th>\n",
       "      <th>6</th>\n",
       "      <th>7</th>\n",
       "      <th>8</th>\n",
       "      <th>9</th>\n",
       "    </tr>\n",
       "  </thead>\n",
       "  <tbody>\n",
       "    <tr>\n",
       "      <th>0</th>\n",
       "      <td>0</td>\n",
       "      <td>주문번호</td>\n",
       "      <td>업체명</td>\n",
       "      <td>상품명</td>\n",
       "      <td>제조사</td>\n",
       "      <td>주문수량</td>\n",
       "      <td>판매금액</td>\n",
       "      <td>결제방법</td>\n",
       "      <td>주문일자</td>\n",
       "      <td>처리상태</td>\n",
       "      <td>초도상품</td>\n",
       "    </tr>\n",
       "    <tr>\n",
       "      <th>1</th>\n",
       "      <td>1</td>\n",
       "      <td>200204183750476</td>\n",
       "      <td>지니</td>\n",
       "      <td>HBE메모장(50개)</td>\n",
       "      <td>HB</td>\n",
       "      <td>1</td>\n",
       "      <td>20000</td>\n",
       "      <td>신용카드</td>\n",
       "      <td>2020-02-04 18:39:13</td>\n",
       "      <td>구매확정</td>\n",
       "      <td>N</td>\n",
       "    </tr>\n",
       "    <tr>\n",
       "      <th>2</th>\n",
       "      <td>2</td>\n",
       "      <td>200204183750476</td>\n",
       "      <td>지니</td>\n",
       "      <td>HBE회비봉투-1세트 100장입</td>\n",
       "      <td>HB</td>\n",
       "      <td>1</td>\n",
       "      <td>5000</td>\n",
       "      <td>신용카드</td>\n",
       "      <td>2020-02-04 18:39:13</td>\n",
       "      <td>구매확정</td>\n",
       "      <td>N</td>\n",
       "    </tr>\n",
       "    <tr>\n",
       "      <th>3</th>\n",
       "      <td>3</td>\n",
       "      <td>200204183750476</td>\n",
       "      <td>지니</td>\n",
       "      <td>HBEHB스마터, 다북스~ 8P 브로셔-1세트 100부</td>\n",
       "      <td>HB</td>\n",
       "      <td>1</td>\n",
       "      <td>26000</td>\n",
       "      <td>신용카드</td>\n",
       "      <td>2020-02-04 18:39:13</td>\n",
       "      <td>구매확정</td>\n",
       "      <td>N</td>\n",
       "    </tr>\n",
       "    <tr>\n",
       "      <th>4</th>\n",
       "      <td>4</td>\n",
       "      <td>200204183750476</td>\n",
       "      <td>지니</td>\n",
       "      <td>HBE레벨테스트지(Placement Test)-정밀(10개)</td>\n",
       "      <td>HB</td>\n",
       "      <td>30</td>\n",
       "      <td>81000</td>\n",
       "      <td>신용카드</td>\n",
       "      <td>2020-02-04 18:39:13</td>\n",
       "      <td>구매확정</td>\n",
       "      <td>N</td>\n",
       "    </tr>\n",
       "    <tr>\n",
       "      <th>...</th>\n",
       "      <td>...</td>\n",
       "      <td>...</td>\n",
       "      <td>...</td>\n",
       "      <td>...</td>\n",
       "      <td>...</td>\n",
       "      <td>...</td>\n",
       "      <td>...</td>\n",
       "      <td>...</td>\n",
       "      <td>...</td>\n",
       "      <td>...</td>\n",
       "      <td>...</td>\n",
       "    </tr>\n",
       "    <tr>\n",
       "      <th>156</th>\n",
       "      <td>156</td>\n",
       "      <td>NaN</td>\n",
       "      <td>NaN</td>\n",
       "      <td>NaN</td>\n",
       "      <td>NaN</td>\n",
       "      <td>NaN</td>\n",
       "      <td>NaN</td>\n",
       "      <td>NaN</td>\n",
       "      <td>NaN</td>\n",
       "      <td>NaN</td>\n",
       "      <td>NaN</td>\n",
       "    </tr>\n",
       "    <tr>\n",
       "      <th>157</th>\n",
       "      <td>157</td>\n",
       "      <td>NaN</td>\n",
       "      <td>NaN</td>\n",
       "      <td>NaN</td>\n",
       "      <td>NaN</td>\n",
       "      <td>NaN</td>\n",
       "      <td>NaN</td>\n",
       "      <td>NaN</td>\n",
       "      <td>NaN</td>\n",
       "      <td>NaN</td>\n",
       "      <td>NaN</td>\n",
       "    </tr>\n",
       "    <tr>\n",
       "      <th>158</th>\n",
       "      <td>158</td>\n",
       "      <td>NaN</td>\n",
       "      <td>NaN</td>\n",
       "      <td>NaN</td>\n",
       "      <td>NaN</td>\n",
       "      <td>NaN</td>\n",
       "      <td>NaN</td>\n",
       "      <td>NaN</td>\n",
       "      <td>NaN</td>\n",
       "      <td>NaN</td>\n",
       "      <td>NaN</td>\n",
       "    </tr>\n",
       "    <tr>\n",
       "      <th>159</th>\n",
       "      <td>159</td>\n",
       "      <td>NaN</td>\n",
       "      <td>NaN</td>\n",
       "      <td>NaN</td>\n",
       "      <td>NaN</td>\n",
       "      <td>NaN</td>\n",
       "      <td>NaN</td>\n",
       "      <td>NaN</td>\n",
       "      <td>NaN</td>\n",
       "      <td>NaN</td>\n",
       "      <td>NaN</td>\n",
       "    </tr>\n",
       "    <tr>\n",
       "      <th>160</th>\n",
       "      <td>160</td>\n",
       "      <td>NaN</td>\n",
       "      <td>NaN</td>\n",
       "      <td>NaN</td>\n",
       "      <td>NaN</td>\n",
       "      <td>NaN</td>\n",
       "      <td>NaN</td>\n",
       "      <td>NaN</td>\n",
       "      <td>NaN</td>\n",
       "      <td>NaN</td>\n",
       "      <td>NaN</td>\n",
       "    </tr>\n",
       "  </tbody>\n",
       "</table>\n",
       "<p>161 rows × 11 columns</p>\n",
       "</div>"
      ],
      "text/plain": [
       "     Unnamed: 0                0    1                                  2    3  \\\n",
       "0             0             주문번호  업체명                                상품명  제조사   \n",
       "1             1  200204183750476   지니                        HBE메모장(50개)   HB   \n",
       "2             2  200204183750476   지니                  HBE회비봉투-1세트 100장입   HB   \n",
       "3             3  200204183750476   지니     HBEHB스마터, 다북스~ 8P 브로셔-1세트 100부   HB   \n",
       "4             4  200204183750476   지니  HBE레벨테스트지(Placement Test)-정밀(10개)   HB   \n",
       "..          ...              ...  ...                                ...  ...   \n",
       "156         156              NaN  NaN                                NaN  NaN   \n",
       "157         157              NaN  NaN                                NaN  NaN   \n",
       "158         158              NaN  NaN                                NaN  NaN   \n",
       "159         159              NaN  NaN                                NaN  NaN   \n",
       "160         160              NaN  NaN                                NaN  NaN   \n",
       "\n",
       "        4      5     6                    7     8     9  \n",
       "0    주문수량   판매금액  결제방법                 주문일자  처리상태  초도상품  \n",
       "1       1  20000  신용카드  2020-02-04 18:39:13  구매확정     N  \n",
       "2       1   5000  신용카드  2020-02-04 18:39:13  구매확정     N  \n",
       "3       1  26000  신용카드  2020-02-04 18:39:13  구매확정     N  \n",
       "4      30  81000  신용카드  2020-02-04 18:39:13  구매확정     N  \n",
       "..    ...    ...   ...                  ...   ...   ...  \n",
       "156   NaN    NaN   NaN                  NaN   NaN   NaN  \n",
       "157   NaN    NaN   NaN                  NaN   NaN   NaN  \n",
       "158   NaN    NaN   NaN                  NaN   NaN   NaN  \n",
       "159   NaN    NaN   NaN                  NaN   NaN   NaN  \n",
       "160   NaN    NaN   NaN                  NaN   NaN   NaN  \n",
       "\n",
       "[161 rows x 11 columns]"
      ]
     },
     "execution_count": 64,
     "metadata": {},
     "output_type": "execute_result"
    }
   ],
   "source": [
    "df"
   ]
  },
  {
   "cell_type": "code",
   "execution_count": 65,
   "id": "29d1d4c4",
   "metadata": {},
   "outputs": [],
   "source": [
    "df.to_excel('./output2.xlsx')"
   ]
  },
  {
   "cell_type": "code",
   "execution_count": 66,
   "id": "6783ce4f",
   "metadata": {},
   "outputs": [],
   "source": [
    "ws['A1'].value"
   ]
  },
  {
   "cell_type": "code",
   "execution_count": 67,
   "id": "e4dff09b",
   "metadata": {},
   "outputs": [
    {
     "data": {
      "text/plain": [
       "<Worksheet \"2019-01-01 ~ 2019-12-31\">"
      ]
     },
     "execution_count": 67,
     "metadata": {},
     "output_type": "execute_result"
    }
   ],
   "source": [
    "ws"
   ]
  },
  {
   "cell_type": "code",
   "execution_count": 68,
   "id": "6438cb1c",
   "metadata": {},
   "outputs": [],
   "source": [
    "ws_col = ['A', 'B', 'C', 'D', 'E', 'F', 'G', 'H', 'I', 'J', 'K', 'L']"
   ]
  },
  {
   "cell_type": "code",
   "execution_count": 69,
   "id": "3814aff9",
   "metadata": {},
   "outputs": [],
   "source": [
    "for c in range(len(df.columns)):\n",
    "    for i in range(len(df.index)):\n",
    "        ws[f'{ws_col[c]}{i+1}'] = df.iloc[i, c]"
   ]
  },
  {
   "cell_type": "code",
   "execution_count": 70,
   "id": "2dacfbb6",
   "metadata": {},
   "outputs": [
    {
     "data": {
      "text/html": [
       "<div>\n",
       "<style scoped>\n",
       "    .dataframe tbody tr th:only-of-type {\n",
       "        vertical-align: middle;\n",
       "    }\n",
       "\n",
       "    .dataframe tbody tr th {\n",
       "        vertical-align: top;\n",
       "    }\n",
       "\n",
       "    .dataframe thead th {\n",
       "        text-align: right;\n",
       "    }\n",
       "</style>\n",
       "<table border=\"1\" class=\"dataframe\">\n",
       "  <thead>\n",
       "    <tr style=\"text-align: right;\">\n",
       "      <th></th>\n",
       "      <th>Unnamed: 0</th>\n",
       "      <th>0</th>\n",
       "      <th>1</th>\n",
       "      <th>2</th>\n",
       "      <th>3</th>\n",
       "      <th>4</th>\n",
       "      <th>5</th>\n",
       "      <th>6</th>\n",
       "      <th>7</th>\n",
       "      <th>8</th>\n",
       "      <th>9</th>\n",
       "    </tr>\n",
       "  </thead>\n",
       "  <tbody>\n",
       "    <tr>\n",
       "      <th>0</th>\n",
       "      <td>0</td>\n",
       "      <td>주문번호</td>\n",
       "      <td>업체명</td>\n",
       "      <td>상품명</td>\n",
       "      <td>제조사</td>\n",
       "      <td>주문수량</td>\n",
       "      <td>판매금액</td>\n",
       "      <td>결제방법</td>\n",
       "      <td>주문일자</td>\n",
       "      <td>처리상태</td>\n",
       "      <td>초도상품</td>\n",
       "    </tr>\n",
       "    <tr>\n",
       "      <th>1</th>\n",
       "      <td>1</td>\n",
       "      <td>200204183750476</td>\n",
       "      <td>지니</td>\n",
       "      <td>HBE메모장(50개)</td>\n",
       "      <td>HB</td>\n",
       "      <td>1</td>\n",
       "      <td>20000</td>\n",
       "      <td>신용카드</td>\n",
       "      <td>2020-02-04 18:39:13</td>\n",
       "      <td>구매확정</td>\n",
       "      <td>N</td>\n",
       "    </tr>\n",
       "    <tr>\n",
       "      <th>2</th>\n",
       "      <td>2</td>\n",
       "      <td>200204183750476</td>\n",
       "      <td>지니</td>\n",
       "      <td>HBE회비봉투-1세트 100장입</td>\n",
       "      <td>HB</td>\n",
       "      <td>1</td>\n",
       "      <td>5000</td>\n",
       "      <td>신용카드</td>\n",
       "      <td>2020-02-04 18:39:13</td>\n",
       "      <td>구매확정</td>\n",
       "      <td>N</td>\n",
       "    </tr>\n",
       "    <tr>\n",
       "      <th>3</th>\n",
       "      <td>3</td>\n",
       "      <td>200204183750476</td>\n",
       "      <td>지니</td>\n",
       "      <td>HBEHB스마터, 다북스~ 8P 브로셔-1세트 100부</td>\n",
       "      <td>HB</td>\n",
       "      <td>1</td>\n",
       "      <td>26000</td>\n",
       "      <td>신용카드</td>\n",
       "      <td>2020-02-04 18:39:13</td>\n",
       "      <td>구매확정</td>\n",
       "      <td>N</td>\n",
       "    </tr>\n",
       "    <tr>\n",
       "      <th>4</th>\n",
       "      <td>4</td>\n",
       "      <td>200204183750476</td>\n",
       "      <td>지니</td>\n",
       "      <td>HBE레벨테스트지(Placement Test)-정밀(10개)</td>\n",
       "      <td>HB</td>\n",
       "      <td>30</td>\n",
       "      <td>81000</td>\n",
       "      <td>신용카드</td>\n",
       "      <td>2020-02-04 18:39:13</td>\n",
       "      <td>구매확정</td>\n",
       "      <td>N</td>\n",
       "    </tr>\n",
       "    <tr>\n",
       "      <th>...</th>\n",
       "      <td>...</td>\n",
       "      <td>...</td>\n",
       "      <td>...</td>\n",
       "      <td>...</td>\n",
       "      <td>...</td>\n",
       "      <td>...</td>\n",
       "      <td>...</td>\n",
       "      <td>...</td>\n",
       "      <td>...</td>\n",
       "      <td>...</td>\n",
       "      <td>...</td>\n",
       "    </tr>\n",
       "    <tr>\n",
       "      <th>156</th>\n",
       "      <td>156</td>\n",
       "      <td>NaN</td>\n",
       "      <td>NaN</td>\n",
       "      <td>NaN</td>\n",
       "      <td>NaN</td>\n",
       "      <td>NaN</td>\n",
       "      <td>NaN</td>\n",
       "      <td>NaN</td>\n",
       "      <td>NaN</td>\n",
       "      <td>NaN</td>\n",
       "      <td>NaN</td>\n",
       "    </tr>\n",
       "    <tr>\n",
       "      <th>157</th>\n",
       "      <td>157</td>\n",
       "      <td>NaN</td>\n",
       "      <td>NaN</td>\n",
       "      <td>NaN</td>\n",
       "      <td>NaN</td>\n",
       "      <td>NaN</td>\n",
       "      <td>NaN</td>\n",
       "      <td>NaN</td>\n",
       "      <td>NaN</td>\n",
       "      <td>NaN</td>\n",
       "      <td>NaN</td>\n",
       "    </tr>\n",
       "    <tr>\n",
       "      <th>158</th>\n",
       "      <td>158</td>\n",
       "      <td>NaN</td>\n",
       "      <td>NaN</td>\n",
       "      <td>NaN</td>\n",
       "      <td>NaN</td>\n",
       "      <td>NaN</td>\n",
       "      <td>NaN</td>\n",
       "      <td>NaN</td>\n",
       "      <td>NaN</td>\n",
       "      <td>NaN</td>\n",
       "      <td>NaN</td>\n",
       "    </tr>\n",
       "    <tr>\n",
       "      <th>159</th>\n",
       "      <td>159</td>\n",
       "      <td>NaN</td>\n",
       "      <td>NaN</td>\n",
       "      <td>NaN</td>\n",
       "      <td>NaN</td>\n",
       "      <td>NaN</td>\n",
       "      <td>NaN</td>\n",
       "      <td>NaN</td>\n",
       "      <td>NaN</td>\n",
       "      <td>NaN</td>\n",
       "      <td>NaN</td>\n",
       "    </tr>\n",
       "    <tr>\n",
       "      <th>160</th>\n",
       "      <td>160</td>\n",
       "      <td>NaN</td>\n",
       "      <td>NaN</td>\n",
       "      <td>NaN</td>\n",
       "      <td>NaN</td>\n",
       "      <td>NaN</td>\n",
       "      <td>NaN</td>\n",
       "      <td>NaN</td>\n",
       "      <td>NaN</td>\n",
       "      <td>NaN</td>\n",
       "      <td>NaN</td>\n",
       "    </tr>\n",
       "  </tbody>\n",
       "</table>\n",
       "<p>161 rows × 11 columns</p>\n",
       "</div>"
      ],
      "text/plain": [
       "     Unnamed: 0                0    1                                  2    3  \\\n",
       "0             0             주문번호  업체명                                상품명  제조사   \n",
       "1             1  200204183750476   지니                        HBE메모장(50개)   HB   \n",
       "2             2  200204183750476   지니                  HBE회비봉투-1세트 100장입   HB   \n",
       "3             3  200204183750476   지니     HBEHB스마터, 다북스~ 8P 브로셔-1세트 100부   HB   \n",
       "4             4  200204183750476   지니  HBE레벨테스트지(Placement Test)-정밀(10개)   HB   \n",
       "..          ...              ...  ...                                ...  ...   \n",
       "156         156              NaN  NaN                                NaN  NaN   \n",
       "157         157              NaN  NaN                                NaN  NaN   \n",
       "158         158              NaN  NaN                                NaN  NaN   \n",
       "159         159              NaN  NaN                                NaN  NaN   \n",
       "160         160              NaN  NaN                                NaN  NaN   \n",
       "\n",
       "        4      5     6                    7     8     9  \n",
       "0    주문수량   판매금액  결제방법                 주문일자  처리상태  초도상품  \n",
       "1       1  20000  신용카드  2020-02-04 18:39:13  구매확정     N  \n",
       "2       1   5000  신용카드  2020-02-04 18:39:13  구매확정     N  \n",
       "3       1  26000  신용카드  2020-02-04 18:39:13  구매확정     N  \n",
       "4      30  81000  신용카드  2020-02-04 18:39:13  구매확정     N  \n",
       "..    ...    ...   ...                  ...   ...   ...  \n",
       "156   NaN    NaN   NaN                  NaN   NaN   NaN  \n",
       "157   NaN    NaN   NaN                  NaN   NaN   NaN  \n",
       "158   NaN    NaN   NaN                  NaN   NaN   NaN  \n",
       "159   NaN    NaN   NaN                  NaN   NaN   NaN  \n",
       "160   NaN    NaN   NaN                  NaN   NaN   NaN  \n",
       "\n",
       "[161 rows x 11 columns]"
      ]
     },
     "execution_count": 70,
     "metadata": {},
     "output_type": "execute_result"
    }
   ],
   "source": [
    "df"
   ]
  },
  {
   "cell_type": "markdown",
   "id": "0f6abd5d",
   "metadata": {},
   "source": [
    "# 가상환경 사용하기\n",
    "\n",
    "## conda 가상환경\n",
    "* 가상환경 생성, 활성화, 비활성화, 제거\n",
    "> conda create -n (이름) python=(버전)  \n",
    "> conda active (이름)  \n",
    "> conda deactive (이름)  \n",
    "> conda env remove -n (이름)  \n",
    "\n",
    "패키지 설치시 conda 패키지 관리자를 이용해야 함  \n",
    " \n",
    "## venv 가상환경\n",
    "* 가상환경 생성, 활성화, 비활성화, 제거\n",
    "> python -m venv (이름)  \n",
    "(가상환경 이름)/Scripts 경로로 이동  \n",
    "\n",
    "activate.bat (cmd), Activate.ps1 (powershell) 실행  "
   ]
  },
  {
   "cell_type": "markdown",
   "id": "0e64cdac",
   "metadata": {},
   "source": [
    "tensorflow, 등 다양한 패키지와 충돌하는 아이들은 애초에 가상환경을 만들어서 실행하는 것이 유리함."
   ]
  },
  {
   "cell_type": "code",
   "execution_count": null,
   "id": "841a0b88",
   "metadata": {},
   "outputs": [],
   "source": []
  }
 ],
 "metadata": {
  "kernelspec": {
   "display_name": "Python 3 (ipykernel)",
   "language": "python",
   "name": "python3"
  },
  "language_info": {
   "codemirror_mode": {
    "name": "ipython",
    "version": 3
   },
   "file_extension": ".py",
   "mimetype": "text/x-python",
   "name": "python",
   "nbconvert_exporter": "python",
   "pygments_lexer": "ipython3",
   "version": "3.9.13"
  }
 },
 "nbformat": 4,
 "nbformat_minor": 5
}
